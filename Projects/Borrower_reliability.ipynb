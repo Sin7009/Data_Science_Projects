{
 "cells": [
  {
   "cell_type": "markdown",
   "id": "dadca2cb",
   "metadata": {},
   "source": [
    "<div style=\"border:solid purple 2px; padding: 20px\"> \n",
    "\n",
    "Константин, привет! 👋\n",
    "\n",
    "Меня зовут Рустам Муртазин, и я буду делать ревью проектной работы по предобработке данных (точнее ее части). Давай будем общаться на **«ты»**. Если это неприемлемо, обязательно напиши мне в комментариях — мы перейдем на **«вы»**.\n",
    "\n",
    "В любом деле всегда можно можно что-то улучшить. Моя основная цель — не показать, что где-то совершены какие-либо ошибки, а поделиться своим опытом, который поможет тебе в дальнейших работах. Далее в файле ты сможешь увидеть мои комментарии, постарайся учесть их при выполнении следующих заданий.\n",
    "\n",
    "Обрати внимание в первую очередь на те, что помечаны <span style=\"color:red\">красным цветом</span>. После их доработки проект будет принят. <span style=\"color:green\">Зеленым цветом</span> отмечены удачные и элегантные решения, на которые можно опираться в будущих проектах. <span style=\"color:orange\">Оранжевым цветом</span> выделено то, что в следующий раз можно сделать по-другому. Ты можешь учесть эти комментарии при выполнении будущих заданий или доработать проект сейчас (однако это не обязательно). Также в проекте могут быть небольшие «лайфхаки» по Python, не относящиеся к проекту, их я выделил в фиолетовую рамку)\n",
    "\n",
    "Давай работать над проектом в диалоге: если ты **что-то меняешь** в проекте по моим рекомендациям — **пиши об этом**. Выбери для своих комментариев какой-то заметный цвет, так мне будет легче отследить изменения. Пожалуйста, **не перемещай, не изменяй и не удаляй мои комментарии**. Всё это поможет выполнить повторную проверку твоего проекта оперативнее».\n",
    "\n",
    "Мне понравился твой проект, есть пару замечаний, но их не много, я думаю ты быстро справишься. Жду твою работу на повторное ревью :)\n",
    "\n",
    "![](https://i.gifer.com/7V3.gif)\n",
    "\n",
    "<div>"
   ]
  },
  {
   "cell_type": "markdown",
   "id": "91e56a42",
   "metadata": {},
   "source": [
    "<div class=\"alert alert-success\">\n",
    "<h2> Комментарий ревьюера v2 ✔️ <a class=\"tocSkip\"> </h2>\n",
    "\n",
    "Спасибо тебе, за классный проект! Надеюсь ты учтешь мои комментарии в последующих работах. Благодарю за старания и интерес и желаю успехов в дальнейших проектах 😊\n",
    "\n",
    "</div>"
   ]
  },
  {
   "cell_type": "markdown",
   "id": "8d01ee4f",
   "metadata": {
    "deletable": false,
    "editable": false,
    "id": "c81daeeb"
   },
   "source": [
    "# Исследование надежности заемщиков\n"
   ]
  },
  {
   "cell_type": "markdown",
   "id": "28b3421d",
   "metadata": {
    "deletable": false,
    "editable": false,
    "id": "827c20bf"
   },
   "source": [
    "Во второй части проекта вы выполните шаги 3 и 4. Их вручную проверит ревьюер.\n",
    "Чтобы вам не пришлось писать код заново для шагов 1 и 2, мы добавили авторские решения в ячейки с кодом. \n",
    "\n"
   ]
  },
  {
   "cell_type": "markdown",
   "id": "0b2838e2",
   "metadata": {
    "deletable": false,
    "editable": false,
    "id": "744d7639"
   },
   "source": [
    "## Откройте таблицу и изучите общую информацию о данных"
   ]
  },
  {
   "cell_type": "markdown",
   "id": "f8269185",
   "metadata": {
    "deletable": false,
    "editable": false,
    "id": "e7a14c31"
   },
   "source": [
    "**Задание 1. Импортируйте библиотеку pandas. Считайте данные из csv-файла в датафрейм и сохраните в переменную `data`. Путь к файлу:**\n",
    "\n",
    "`/datasets/data.csv`"
   ]
  },
  {
   "cell_type": "code",
   "execution_count": 1,
   "id": "c4e6db21",
   "metadata": {
    "deletable": false,
    "id": "7bcf75c9"
   },
   "outputs": [],
   "source": [
    "import pandas as pd\n",
    "\n",
    "try:\n",
    "    data = pd.read_csv('/datasets/data.csv')\n",
    "except:\n",
    "    data = pd.read_csv('https://code.s3.yandex.net/datasets/data.csv')"
   ]
  },
  {
   "cell_type": "markdown",
   "id": "2413d378",
   "metadata": {
    "deletable": false,
    "editable": false,
    "id": "b8038fe3"
   },
   "source": [
    "**Задание 2. Выведите первые 20 строчек датафрейма `data` на экран.**"
   ]
  },
  {
   "cell_type": "code",
   "execution_count": 2,
   "id": "5496e0d1",
   "metadata": {
    "deletable": false,
    "id": "2a7cab99",
    "outputId": "1a8f3ef2-d323-4ec2-ddf7-89670b5944c4"
   },
   "outputs": [
    {
     "data": {
      "text/html": [
       "<div>\n",
       "<style scoped>\n",
       "    .dataframe tbody tr th:only-of-type {\n",
       "        vertical-align: middle;\n",
       "    }\n",
       "\n",
       "    .dataframe tbody tr th {\n",
       "        vertical-align: top;\n",
       "    }\n",
       "\n",
       "    .dataframe thead th {\n",
       "        text-align: right;\n",
       "    }\n",
       "</style>\n",
       "<table border=\"1\" class=\"dataframe\">\n",
       "  <thead>\n",
       "    <tr style=\"text-align: right;\">\n",
       "      <th></th>\n",
       "      <th>children</th>\n",
       "      <th>days_employed</th>\n",
       "      <th>dob_years</th>\n",
       "      <th>education</th>\n",
       "      <th>education_id</th>\n",
       "      <th>family_status</th>\n",
       "      <th>family_status_id</th>\n",
       "      <th>gender</th>\n",
       "      <th>income_type</th>\n",
       "      <th>debt</th>\n",
       "      <th>total_income</th>\n",
       "      <th>purpose</th>\n",
       "    </tr>\n",
       "  </thead>\n",
       "  <tbody>\n",
       "    <tr>\n",
       "      <th>0</th>\n",
       "      <td>1</td>\n",
       "      <td>-8437.673028</td>\n",
       "      <td>42</td>\n",
       "      <td>высшее</td>\n",
       "      <td>0</td>\n",
       "      <td>женат / замужем</td>\n",
       "      <td>0</td>\n",
       "      <td>F</td>\n",
       "      <td>сотрудник</td>\n",
       "      <td>0</td>\n",
       "      <td>253875.639453</td>\n",
       "      <td>покупка жилья</td>\n",
       "    </tr>\n",
       "    <tr>\n",
       "      <th>1</th>\n",
       "      <td>1</td>\n",
       "      <td>-4024.803754</td>\n",
       "      <td>36</td>\n",
       "      <td>среднее</td>\n",
       "      <td>1</td>\n",
       "      <td>женат / замужем</td>\n",
       "      <td>0</td>\n",
       "      <td>F</td>\n",
       "      <td>сотрудник</td>\n",
       "      <td>0</td>\n",
       "      <td>112080.014102</td>\n",
       "      <td>приобретение автомобиля</td>\n",
       "    </tr>\n",
       "    <tr>\n",
       "      <th>2</th>\n",
       "      <td>0</td>\n",
       "      <td>-5623.422610</td>\n",
       "      <td>33</td>\n",
       "      <td>Среднее</td>\n",
       "      <td>1</td>\n",
       "      <td>женат / замужем</td>\n",
       "      <td>0</td>\n",
       "      <td>M</td>\n",
       "      <td>сотрудник</td>\n",
       "      <td>0</td>\n",
       "      <td>145885.952297</td>\n",
       "      <td>покупка жилья</td>\n",
       "    </tr>\n",
       "    <tr>\n",
       "      <th>3</th>\n",
       "      <td>3</td>\n",
       "      <td>-4124.747207</td>\n",
       "      <td>32</td>\n",
       "      <td>среднее</td>\n",
       "      <td>1</td>\n",
       "      <td>женат / замужем</td>\n",
       "      <td>0</td>\n",
       "      <td>M</td>\n",
       "      <td>сотрудник</td>\n",
       "      <td>0</td>\n",
       "      <td>267628.550329</td>\n",
       "      <td>дополнительное образование</td>\n",
       "    </tr>\n",
       "    <tr>\n",
       "      <th>4</th>\n",
       "      <td>0</td>\n",
       "      <td>340266.072047</td>\n",
       "      <td>53</td>\n",
       "      <td>среднее</td>\n",
       "      <td>1</td>\n",
       "      <td>гражданский брак</td>\n",
       "      <td>1</td>\n",
       "      <td>F</td>\n",
       "      <td>пенсионер</td>\n",
       "      <td>0</td>\n",
       "      <td>158616.077870</td>\n",
       "      <td>сыграть свадьбу</td>\n",
       "    </tr>\n",
       "    <tr>\n",
       "      <th>5</th>\n",
       "      <td>0</td>\n",
       "      <td>-926.185831</td>\n",
       "      <td>27</td>\n",
       "      <td>высшее</td>\n",
       "      <td>0</td>\n",
       "      <td>гражданский брак</td>\n",
       "      <td>1</td>\n",
       "      <td>M</td>\n",
       "      <td>компаньон</td>\n",
       "      <td>0</td>\n",
       "      <td>255763.565419</td>\n",
       "      <td>покупка жилья</td>\n",
       "    </tr>\n",
       "    <tr>\n",
       "      <th>6</th>\n",
       "      <td>0</td>\n",
       "      <td>-2879.202052</td>\n",
       "      <td>43</td>\n",
       "      <td>высшее</td>\n",
       "      <td>0</td>\n",
       "      <td>женат / замужем</td>\n",
       "      <td>0</td>\n",
       "      <td>F</td>\n",
       "      <td>компаньон</td>\n",
       "      <td>0</td>\n",
       "      <td>240525.971920</td>\n",
       "      <td>операции с жильем</td>\n",
       "    </tr>\n",
       "    <tr>\n",
       "      <th>7</th>\n",
       "      <td>0</td>\n",
       "      <td>-152.779569</td>\n",
       "      <td>50</td>\n",
       "      <td>СРЕДНЕЕ</td>\n",
       "      <td>1</td>\n",
       "      <td>женат / замужем</td>\n",
       "      <td>0</td>\n",
       "      <td>M</td>\n",
       "      <td>сотрудник</td>\n",
       "      <td>0</td>\n",
       "      <td>135823.934197</td>\n",
       "      <td>образование</td>\n",
       "    </tr>\n",
       "    <tr>\n",
       "      <th>8</th>\n",
       "      <td>2</td>\n",
       "      <td>-6929.865299</td>\n",
       "      <td>35</td>\n",
       "      <td>ВЫСШЕЕ</td>\n",
       "      <td>0</td>\n",
       "      <td>гражданский брак</td>\n",
       "      <td>1</td>\n",
       "      <td>F</td>\n",
       "      <td>сотрудник</td>\n",
       "      <td>0</td>\n",
       "      <td>95856.832424</td>\n",
       "      <td>на проведение свадьбы</td>\n",
       "    </tr>\n",
       "    <tr>\n",
       "      <th>9</th>\n",
       "      <td>0</td>\n",
       "      <td>-2188.756445</td>\n",
       "      <td>41</td>\n",
       "      <td>среднее</td>\n",
       "      <td>1</td>\n",
       "      <td>женат / замужем</td>\n",
       "      <td>0</td>\n",
       "      <td>M</td>\n",
       "      <td>сотрудник</td>\n",
       "      <td>0</td>\n",
       "      <td>144425.938277</td>\n",
       "      <td>покупка жилья для семьи</td>\n",
       "    </tr>\n",
       "    <tr>\n",
       "      <th>10</th>\n",
       "      <td>2</td>\n",
       "      <td>-4171.483647</td>\n",
       "      <td>36</td>\n",
       "      <td>высшее</td>\n",
       "      <td>0</td>\n",
       "      <td>женат / замужем</td>\n",
       "      <td>0</td>\n",
       "      <td>M</td>\n",
       "      <td>компаньон</td>\n",
       "      <td>0</td>\n",
       "      <td>113943.491460</td>\n",
       "      <td>покупка недвижимости</td>\n",
       "    </tr>\n",
       "    <tr>\n",
       "      <th>11</th>\n",
       "      <td>0</td>\n",
       "      <td>-792.701887</td>\n",
       "      <td>40</td>\n",
       "      <td>среднее</td>\n",
       "      <td>1</td>\n",
       "      <td>женат / замужем</td>\n",
       "      <td>0</td>\n",
       "      <td>F</td>\n",
       "      <td>сотрудник</td>\n",
       "      <td>0</td>\n",
       "      <td>77069.234271</td>\n",
       "      <td>покупка коммерческой недвижимости</td>\n",
       "    </tr>\n",
       "    <tr>\n",
       "      <th>12</th>\n",
       "      <td>0</td>\n",
       "      <td>NaN</td>\n",
       "      <td>65</td>\n",
       "      <td>среднее</td>\n",
       "      <td>1</td>\n",
       "      <td>гражданский брак</td>\n",
       "      <td>1</td>\n",
       "      <td>M</td>\n",
       "      <td>пенсионер</td>\n",
       "      <td>0</td>\n",
       "      <td>NaN</td>\n",
       "      <td>сыграть свадьбу</td>\n",
       "    </tr>\n",
       "    <tr>\n",
       "      <th>13</th>\n",
       "      <td>0</td>\n",
       "      <td>-1846.641941</td>\n",
       "      <td>54</td>\n",
       "      <td>неоконченное высшее</td>\n",
       "      <td>2</td>\n",
       "      <td>женат / замужем</td>\n",
       "      <td>0</td>\n",
       "      <td>F</td>\n",
       "      <td>сотрудник</td>\n",
       "      <td>0</td>\n",
       "      <td>130458.228857</td>\n",
       "      <td>приобретение автомобиля</td>\n",
       "    </tr>\n",
       "    <tr>\n",
       "      <th>14</th>\n",
       "      <td>0</td>\n",
       "      <td>-1844.956182</td>\n",
       "      <td>56</td>\n",
       "      <td>высшее</td>\n",
       "      <td>0</td>\n",
       "      <td>гражданский брак</td>\n",
       "      <td>1</td>\n",
       "      <td>F</td>\n",
       "      <td>компаньон</td>\n",
       "      <td>1</td>\n",
       "      <td>165127.911772</td>\n",
       "      <td>покупка жилой недвижимости</td>\n",
       "    </tr>\n",
       "    <tr>\n",
       "      <th>15</th>\n",
       "      <td>1</td>\n",
       "      <td>-972.364419</td>\n",
       "      <td>26</td>\n",
       "      <td>среднее</td>\n",
       "      <td>1</td>\n",
       "      <td>женат / замужем</td>\n",
       "      <td>0</td>\n",
       "      <td>F</td>\n",
       "      <td>сотрудник</td>\n",
       "      <td>0</td>\n",
       "      <td>116820.904450</td>\n",
       "      <td>строительство собственной недвижимости</td>\n",
       "    </tr>\n",
       "    <tr>\n",
       "      <th>16</th>\n",
       "      <td>0</td>\n",
       "      <td>-1719.934226</td>\n",
       "      <td>35</td>\n",
       "      <td>среднее</td>\n",
       "      <td>1</td>\n",
       "      <td>женат / замужем</td>\n",
       "      <td>0</td>\n",
       "      <td>F</td>\n",
       "      <td>сотрудник</td>\n",
       "      <td>0</td>\n",
       "      <td>289202.704229</td>\n",
       "      <td>недвижимость</td>\n",
       "    </tr>\n",
       "    <tr>\n",
       "      <th>17</th>\n",
       "      <td>0</td>\n",
       "      <td>-2369.999720</td>\n",
       "      <td>33</td>\n",
       "      <td>высшее</td>\n",
       "      <td>0</td>\n",
       "      <td>гражданский брак</td>\n",
       "      <td>1</td>\n",
       "      <td>M</td>\n",
       "      <td>сотрудник</td>\n",
       "      <td>0</td>\n",
       "      <td>90410.586745</td>\n",
       "      <td>строительство недвижимости</td>\n",
       "    </tr>\n",
       "    <tr>\n",
       "      <th>18</th>\n",
       "      <td>0</td>\n",
       "      <td>400281.136913</td>\n",
       "      <td>53</td>\n",
       "      <td>среднее</td>\n",
       "      <td>1</td>\n",
       "      <td>вдовец / вдова</td>\n",
       "      <td>2</td>\n",
       "      <td>F</td>\n",
       "      <td>пенсионер</td>\n",
       "      <td>0</td>\n",
       "      <td>56823.777243</td>\n",
       "      <td>на покупку подержанного автомобиля</td>\n",
       "    </tr>\n",
       "    <tr>\n",
       "      <th>19</th>\n",
       "      <td>0</td>\n",
       "      <td>-10038.818549</td>\n",
       "      <td>48</td>\n",
       "      <td>СРЕДНЕЕ</td>\n",
       "      <td>1</td>\n",
       "      <td>в разводе</td>\n",
       "      <td>3</td>\n",
       "      <td>F</td>\n",
       "      <td>сотрудник</td>\n",
       "      <td>0</td>\n",
       "      <td>242831.107982</td>\n",
       "      <td>на покупку своего автомобиля</td>\n",
       "    </tr>\n",
       "  </tbody>\n",
       "</table>\n",
       "</div>"
      ],
      "text/plain": [
       "    children  days_employed  dob_years            education  education_id  \\\n",
       "0          1   -8437.673028         42               высшее             0   \n",
       "1          1   -4024.803754         36              среднее             1   \n",
       "2          0   -5623.422610         33              Среднее             1   \n",
       "3          3   -4124.747207         32              среднее             1   \n",
       "4          0  340266.072047         53              среднее             1   \n",
       "5          0    -926.185831         27               высшее             0   \n",
       "6          0   -2879.202052         43               высшее             0   \n",
       "7          0    -152.779569         50              СРЕДНЕЕ             1   \n",
       "8          2   -6929.865299         35               ВЫСШЕЕ             0   \n",
       "9          0   -2188.756445         41              среднее             1   \n",
       "10         2   -4171.483647         36               высшее             0   \n",
       "11         0    -792.701887         40              среднее             1   \n",
       "12         0            NaN         65              среднее             1   \n",
       "13         0   -1846.641941         54  неоконченное высшее             2   \n",
       "14         0   -1844.956182         56               высшее             0   \n",
       "15         1    -972.364419         26              среднее             1   \n",
       "16         0   -1719.934226         35              среднее             1   \n",
       "17         0   -2369.999720         33               высшее             0   \n",
       "18         0  400281.136913         53              среднее             1   \n",
       "19         0  -10038.818549         48              СРЕДНЕЕ             1   \n",
       "\n",
       "       family_status  family_status_id gender income_type  debt  \\\n",
       "0    женат / замужем                 0      F   сотрудник     0   \n",
       "1    женат / замужем                 0      F   сотрудник     0   \n",
       "2    женат / замужем                 0      M   сотрудник     0   \n",
       "3    женат / замужем                 0      M   сотрудник     0   \n",
       "4   гражданский брак                 1      F   пенсионер     0   \n",
       "5   гражданский брак                 1      M   компаньон     0   \n",
       "6    женат / замужем                 0      F   компаньон     0   \n",
       "7    женат / замужем                 0      M   сотрудник     0   \n",
       "8   гражданский брак                 1      F   сотрудник     0   \n",
       "9    женат / замужем                 0      M   сотрудник     0   \n",
       "10   женат / замужем                 0      M   компаньон     0   \n",
       "11   женат / замужем                 0      F   сотрудник     0   \n",
       "12  гражданский брак                 1      M   пенсионер     0   \n",
       "13   женат / замужем                 0      F   сотрудник     0   \n",
       "14  гражданский брак                 1      F   компаньон     1   \n",
       "15   женат / замужем                 0      F   сотрудник     0   \n",
       "16   женат / замужем                 0      F   сотрудник     0   \n",
       "17  гражданский брак                 1      M   сотрудник     0   \n",
       "18    вдовец / вдова                 2      F   пенсионер     0   \n",
       "19         в разводе                 3      F   сотрудник     0   \n",
       "\n",
       "     total_income                                 purpose  \n",
       "0   253875.639453                           покупка жилья  \n",
       "1   112080.014102                 приобретение автомобиля  \n",
       "2   145885.952297                           покупка жилья  \n",
       "3   267628.550329              дополнительное образование  \n",
       "4   158616.077870                         сыграть свадьбу  \n",
       "5   255763.565419                           покупка жилья  \n",
       "6   240525.971920                       операции с жильем  \n",
       "7   135823.934197                             образование  \n",
       "8    95856.832424                   на проведение свадьбы  \n",
       "9   144425.938277                 покупка жилья для семьи  \n",
       "10  113943.491460                    покупка недвижимости  \n",
       "11   77069.234271       покупка коммерческой недвижимости  \n",
       "12            NaN                         сыграть свадьбу  \n",
       "13  130458.228857                 приобретение автомобиля  \n",
       "14  165127.911772              покупка жилой недвижимости  \n",
       "15  116820.904450  строительство собственной недвижимости  \n",
       "16  289202.704229                            недвижимость  \n",
       "17   90410.586745              строительство недвижимости  \n",
       "18   56823.777243      на покупку подержанного автомобиля  \n",
       "19  242831.107982            на покупку своего автомобиля  "
      ]
     },
     "execution_count": 2,
     "metadata": {},
     "output_type": "execute_result"
    }
   ],
   "source": [
    "data.head(20)"
   ]
  },
  {
   "cell_type": "markdown",
   "id": "d90762bc",
   "metadata": {
    "deletable": false,
    "editable": false,
    "id": "1c12e233"
   },
   "source": [
    "**Задание 3. Выведите основную информацию о датафрейме с помощью метода `info()`.**"
   ]
  },
  {
   "cell_type": "code",
   "execution_count": 3,
   "id": "2725d164",
   "metadata": {
    "deletable": false,
    "id": "2b757bca",
    "outputId": "15376089-8dad-46c9-b520-c05248d43158"
   },
   "outputs": [
    {
     "name": "stdout",
     "output_type": "stream",
     "text": [
      "<class 'pandas.core.frame.DataFrame'>\n",
      "RangeIndex: 21525 entries, 0 to 21524\n",
      "Data columns (total 12 columns):\n",
      " #   Column            Non-Null Count  Dtype  \n",
      "---  ------            --------------  -----  \n",
      " 0   children          21525 non-null  int64  \n",
      " 1   days_employed     19351 non-null  float64\n",
      " 2   dob_years         21525 non-null  int64  \n",
      " 3   education         21525 non-null  object \n",
      " 4   education_id      21525 non-null  int64  \n",
      " 5   family_status     21525 non-null  object \n",
      " 6   family_status_id  21525 non-null  int64  \n",
      " 7   gender            21525 non-null  object \n",
      " 8   income_type       21525 non-null  object \n",
      " 9   debt              21525 non-null  int64  \n",
      " 10  total_income      19351 non-null  float64\n",
      " 11  purpose           21525 non-null  object \n",
      "dtypes: float64(2), int64(5), object(5)\n",
      "memory usage: 2.0+ MB\n"
     ]
    }
   ],
   "source": [
    "data.info()"
   ]
  },
  {
   "cell_type": "markdown",
   "id": "9f365472",
   "metadata": {
    "deletable": false,
    "editable": false,
    "id": "333ec665"
   },
   "source": [
    "## Предобработка данных"
   ]
  },
  {
   "cell_type": "markdown",
   "id": "27b256c4",
   "metadata": {
    "deletable": false,
    "editable": false,
    "id": "02d92d53"
   },
   "source": [
    "### Удаление пропусков"
   ]
  },
  {
   "cell_type": "markdown",
   "id": "baa76bb3",
   "metadata": {
    "deletable": false,
    "editable": false,
    "id": "cd84967c"
   },
   "source": [
    "**Задание 4. Выведите количество пропущенных значений для каждого столбца. Используйте комбинацию двух методов.**"
   ]
  },
  {
   "cell_type": "code",
   "execution_count": 4,
   "id": "e6fae412",
   "metadata": {
    "deletable": false,
    "id": "7f9b2309",
    "outputId": "81f4d817-781c-465c-ed15-91ce4446810d"
   },
   "outputs": [
    {
     "data": {
      "text/plain": [
       "children               0\n",
       "days_employed       2174\n",
       "dob_years              0\n",
       "education              0\n",
       "education_id           0\n",
       "family_status          0\n",
       "family_status_id       0\n",
       "gender                 0\n",
       "income_type            0\n",
       "debt                   0\n",
       "total_income        2174\n",
       "purpose                0\n",
       "dtype: int64"
      ]
     },
     "execution_count": 4,
     "metadata": {},
     "output_type": "execute_result"
    }
   ],
   "source": [
    "data.isna().sum()"
   ]
  },
  {
   "cell_type": "markdown",
   "id": "fdd50a15",
   "metadata": {
    "deletable": false,
    "editable": false,
    "id": "db86e27b"
   },
   "source": [
    "**Задание 5. В двух столбцах есть пропущенные значения. Один из них — `days_employed`. Пропуски в этом столбце вы обработаете на следующем этапе. Другой столбец с пропущенными значениями — `total_income` — хранит данные о доходах. На сумму дохода сильнее всего влияет тип занятости, поэтому заполнить пропуски в этом столбце нужно медианным значением по каждому типу из столбца `income_type`. Например, у человека с типом занятости `сотрудник` пропуск в столбце `total_income` должен быть заполнен медианным доходом среди всех записей с тем же типом.**"
   ]
  },
  {
   "cell_type": "code",
   "execution_count": 5,
   "id": "e8dc0d04",
   "metadata": {
    "deletable": false,
    "id": "42006a93"
   },
   "outputs": [],
   "source": [
    "for t in data['income_type'].unique():\n",
    "    data.loc[(data['income_type'] == t) & (data['total_income'].isna()), 'total_income'] = \\\n",
    "    data.loc[(data['income_type'] == t), 'total_income'].median()"
   ]
  },
  {
   "cell_type": "markdown",
   "id": "e1c4f82e",
   "metadata": {
    "deletable": false,
    "editable": false,
    "id": "89da5ece"
   },
   "source": [
    "### Обработка аномальных значений"
   ]
  },
  {
   "cell_type": "markdown",
   "id": "0fdcd755",
   "metadata": {
    "deletable": false,
    "editable": false,
    "id": "57964554"
   },
   "source": [
    "**Задание 6. В данных могут встречаться артефакты (аномалии) — значения, которые не отражают действительность и появились по какой-то ошибке. таким артефактом будет отрицательное количество дней трудового стажа в столбце `days_employed`. Для реальных данных это нормально. Обработайте значения в этом столбце: замените все отрицательные значения положительными с помощью метода `abs()`.**"
   ]
  },
  {
   "cell_type": "code",
   "execution_count": 6,
   "id": "2fa818ab",
   "metadata": {
    "deletable": false,
    "id": "f6f055bf"
   },
   "outputs": [],
   "source": [
    "data['days_employed'] = data['days_employed'].abs()"
   ]
  },
  {
   "cell_type": "markdown",
   "id": "281bd572",
   "metadata": {
    "deletable": false,
    "editable": false,
    "id": "6107dd2f"
   },
   "source": [
    "**Задание 7. Для каждого типа занятости выведите медианное значение трудового стажа `days_employed` в днях.**"
   ]
  },
  {
   "cell_type": "code",
   "execution_count": 7,
   "id": "021d8c2d",
   "metadata": {
    "deletable": false,
    "id": "85a5faf6",
    "outputId": "801ef80e-522b-4668-f34e-565af7432bcf"
   },
   "outputs": [
    {
     "data": {
      "text/plain": [
       "income_type\n",
       "безработный        366413.652744\n",
       "в декрете            3296.759962\n",
       "госслужащий          2689.368353\n",
       "компаньон            1547.382223\n",
       "пенсионер          365213.306266\n",
       "предприниматель       520.848083\n",
       "сотрудник            1574.202821\n",
       "студент               578.751554\n",
       "Name: days_employed, dtype: float64"
      ]
     },
     "execution_count": 7,
     "metadata": {},
     "output_type": "execute_result"
    }
   ],
   "source": [
    "data.groupby('income_type')['days_employed'].agg('median')"
   ]
  },
  {
   "cell_type": "markdown",
   "id": "045f5e46",
   "metadata": {
    "deletable": false,
    "editable": false,
    "id": "38d1a030"
   },
   "source": [
    "У двух типов (безработные и пенсионеры) получатся аномально большие значения. Исправить такие значения сложно, поэтому оставьте их как есть. Тем более этот столбец не понадобится вам для исследования."
   ]
  },
  {
   "cell_type": "markdown",
   "id": "80650910",
   "metadata": {
    "deletable": false,
    "editable": false,
    "id": "d8a9f147"
   },
   "source": [
    "**Задание 8. Выведите перечень уникальных значений столбца `children`.**"
   ]
  },
  {
   "cell_type": "code",
   "execution_count": 8,
   "id": "e0939f21",
   "metadata": {
    "deletable": false,
    "id": "ef5056eb",
    "outputId": "6975b15c-7f95-4697-d16d-a0c79b657b03"
   },
   "outputs": [
    {
     "data": {
      "text/plain": [
       "array([ 1,  0,  3,  2, -1,  4, 20,  5])"
      ]
     },
     "execution_count": 8,
     "metadata": {},
     "output_type": "execute_result"
    }
   ],
   "source": [
    "data['children'].unique()"
   ]
  },
  {
   "cell_type": "markdown",
   "id": "2811122b",
   "metadata": {
    "deletable": false,
    "editable": false,
    "id": "40b9ebf2"
   },
   "source": [
    "**Задание 9. В столбце `children` есть два аномальных значения. Удалите строки, в которых встречаются такие аномальные значения из датафрейма `data`.**"
   ]
  },
  {
   "cell_type": "code",
   "execution_count": 9,
   "id": "5dc7c5e9",
   "metadata": {
    "deletable": false,
    "id": "3ff9801d"
   },
   "outputs": [],
   "source": [
    "data = data[(data['children'] != -1) & (data['children'] != 20)]"
   ]
  },
  {
   "cell_type": "markdown",
   "id": "e01e2648",
   "metadata": {
    "deletable": false,
    "editable": false,
    "id": "bbc4d0ce"
   },
   "source": [
    "**Задание 10. Ещё раз выведите перечень уникальных значений столбца `children`, чтобы убедиться, что артефакты удалены.**"
   ]
  },
  {
   "cell_type": "code",
   "execution_count": 10,
   "id": "71de8d96",
   "metadata": {
    "deletable": false,
    "id": "ad4fa8b7",
    "outputId": "b2097101-d49d-44d9-901b-32a65c9463d1"
   },
   "outputs": [
    {
     "data": {
      "text/plain": [
       "array([1, 0, 3, 2, 4, 5])"
      ]
     },
     "execution_count": 10,
     "metadata": {},
     "output_type": "execute_result"
    }
   ],
   "source": [
    "data['children'].unique()"
   ]
  },
  {
   "cell_type": "markdown",
   "id": "e1bcf5e3",
   "metadata": {
    "deletable": false,
    "editable": false,
    "id": "75440b63"
   },
   "source": [
    "### Удаление пропусков (продолжение)"
   ]
  },
  {
   "cell_type": "markdown",
   "id": "5fe4dc3c",
   "metadata": {
    "deletable": false,
    "editable": false,
    "id": "f4ea573f"
   },
   "source": [
    "**Задание 11. Заполните пропуски в столбце `days_employed` медианными значениями по каждого типа занятости `income_type`.**"
   ]
  },
  {
   "cell_type": "code",
   "execution_count": 11,
   "id": "cecefa73",
   "metadata": {
    "deletable": false,
    "id": "af6b1a7e"
   },
   "outputs": [],
   "source": [
    "for t in data['income_type'].unique():\n",
    "    data.loc[(data['income_type'] == t) & (data['days_employed'].isna()), 'days_employed'] = \\\n",
    "    data.loc[(data['income_type'] == t), 'days_employed'].median()"
   ]
  },
  {
   "cell_type": "markdown",
   "id": "fe8b599f",
   "metadata": {
    "deletable": false,
    "editable": false,
    "id": "2753f40d"
   },
   "source": [
    "**Задание 12. Убедитесь, что все пропуски заполнены. Проверьте себя и ещё раз выведите количество пропущенных значений для каждого столбца с помощью двух методов.**"
   ]
  },
  {
   "cell_type": "code",
   "execution_count": 12,
   "id": "ff7bb9c3",
   "metadata": {
    "deletable": false,
    "id": "55f78bc2",
    "outputId": "8da1e4e1-358e-4e87-98c9-f261bce0a7b2"
   },
   "outputs": [
    {
     "data": {
      "text/plain": [
       "children            0\n",
       "days_employed       0\n",
       "dob_years           0\n",
       "education           0\n",
       "education_id        0\n",
       "family_status       0\n",
       "family_status_id    0\n",
       "gender              0\n",
       "income_type         0\n",
       "debt                0\n",
       "total_income        0\n",
       "purpose             0\n",
       "dtype: int64"
      ]
     },
     "execution_count": 12,
     "metadata": {},
     "output_type": "execute_result"
    }
   ],
   "source": [
    "data.isna().sum()"
   ]
  },
  {
   "cell_type": "markdown",
   "id": "e53a3ad4",
   "metadata": {
    "deletable": false,
    "editable": false,
    "id": "ddc81e43"
   },
   "source": [
    "### Изменение типов данных"
   ]
  },
  {
   "cell_type": "markdown",
   "id": "6c488c0c",
   "metadata": {
    "deletable": false,
    "editable": false,
    "id": "42d19d24"
   },
   "source": [
    "**Задание 13. Замените вещественный тип данных в столбце `total_income` на целочисленный с помощью метода `astype()`.**"
   ]
  },
  {
   "cell_type": "code",
   "execution_count": 13,
   "id": "82e72c3b",
   "metadata": {
    "deletable": false,
    "id": "920b65ad"
   },
   "outputs": [],
   "source": [
    "data['total_income'] = data['total_income'].astype(int)"
   ]
  },
  {
   "cell_type": "markdown",
   "id": "5cfddc8c",
   "metadata": {
    "deletable": false,
    "editable": false,
    "id": "80c420ba"
   },
   "source": [
    "### Обработка дубликатов"
   ]
  },
  {
   "cell_type": "markdown",
   "id": "bc8f57ef",
   "metadata": {
    "deletable": false,
    "editable": false
   },
   "source": [
    "**Задание 14. Обработайте неявные дубликаты в столбце `education`. В этом столбце есть одни и те же значения, но записанные по-разному: с использованием заглавных и строчных букв. Приведите их к нижнему регистру. Проверьте остальные столбцы.**"
   ]
  },
  {
   "cell_type": "code",
   "execution_count": 14,
   "id": "a58cad7e",
   "metadata": {
    "deletable": false
   },
   "outputs": [],
   "source": [
    "data['education'] = data['education'].str.lower()"
   ]
  },
  {
   "cell_type": "markdown",
   "id": "11b5eafa",
   "metadata": {
    "deletable": false,
    "editable": false,
    "id": "dc587695"
   },
   "source": [
    "**Задание 15. Выведите на экран количество строк-дубликатов в данных. Если такие строки присутствуют, удалите их.**"
   ]
  },
  {
   "cell_type": "code",
   "execution_count": 15,
   "id": "674bf221",
   "metadata": {
    "deletable": false,
    "id": "3ee445e4",
    "outputId": "9684deba-1934-42d1-99e1-cda61740f822"
   },
   "outputs": [
    {
     "data": {
      "text/plain": [
       "71"
      ]
     },
     "execution_count": 15,
     "metadata": {},
     "output_type": "execute_result"
    }
   ],
   "source": [
    "data.duplicated().sum()"
   ]
  },
  {
   "cell_type": "code",
   "execution_count": 16,
   "id": "43fb9255",
   "metadata": {
    "deletable": false,
    "id": "8575fe05"
   },
   "outputs": [],
   "source": [
    "data = data.drop_duplicates()"
   ]
  },
  {
   "cell_type": "markdown",
   "id": "a77d5f29",
   "metadata": {
    "deletable": false,
    "editable": false,
    "id": "9904cf55"
   },
   "source": [
    "### Категоризация данных"
   ]
  },
  {
   "cell_type": "markdown",
   "id": "5f8c3014",
   "metadata": {
    "deletable": false,
    "editable": false,
    "id": "72fcc8a2"
   },
   "source": [
    "**Задание 16. На основании диапазонов, указанных ниже, создайте в датафрейме `data` столбец `total_income_category` с категориями:**\n",
    "\n",
    "- 0–30000 — `'E'`;\n",
    "- 30001–50000 — `'D'`;\n",
    "- 50001–200000 — `'C'`;\n",
    "- 200001–1000000 — `'B'`;\n",
    "- 1000001 и выше — `'A'`.\n",
    "\n",
    "\n",
    "**Например, кредитополучателю с доходом 25000 нужно назначить категорию `'E'`, а клиенту, получающему 235000, — `'B'`. Используйте собственную функцию с именем `categorize_income()` и метод `apply()`.**"
   ]
  },
  {
   "cell_type": "code",
   "execution_count": 17,
   "id": "d44c3866",
   "metadata": {
    "deletable": false,
    "id": "e1771346"
   },
   "outputs": [],
   "source": [
    "def categorize_income(income):\n",
    "    try:\n",
    "        if 0 <= income <= 30000:\n",
    "            return 'E'\n",
    "        elif 30001 <= income <= 50000:\n",
    "            return 'D'\n",
    "        elif 50001 <= income <= 200000:\n",
    "            return 'C'\n",
    "        elif 200001 <= income <= 1000000:\n",
    "            return 'B'\n",
    "        elif income >= 1000001:\n",
    "            return 'A'\n",
    "    except:\n",
    "        pass"
   ]
  },
  {
   "cell_type": "code",
   "execution_count": 18,
   "id": "fe1a3c1c",
   "metadata": {
    "deletable": false,
    "id": "d5f3586d"
   },
   "outputs": [],
   "source": [
    "data['total_income_category'] = data['total_income'].apply(categorize_income)"
   ]
  },
  {
   "cell_type": "markdown",
   "id": "56796898",
   "metadata": {
    "deletable": false,
    "editable": false,
    "id": "dde49b5c"
   },
   "source": [
    "**Задание 17. Выведите на экран перечень уникальных целей взятия кредита из столбца `purpose`.**"
   ]
  },
  {
   "cell_type": "code",
   "execution_count": 19,
   "id": "eafb85a6",
   "metadata": {
    "deletable": false,
    "id": "f67ce9b3",
    "outputId": "673c12d9-7d7e-4ae0-9812-c622c89dd244"
   },
   "outputs": [
    {
     "data": {
      "text/plain": [
       "array(['покупка жилья', 'приобретение автомобиля',\n",
       "       'дополнительное образование', 'сыграть свадьбу',\n",
       "       'операции с жильем', 'образование', 'на проведение свадьбы',\n",
       "       'покупка жилья для семьи', 'покупка недвижимости',\n",
       "       'покупка коммерческой недвижимости', 'покупка жилой недвижимости',\n",
       "       'строительство собственной недвижимости', 'недвижимость',\n",
       "       'строительство недвижимости', 'на покупку подержанного автомобиля',\n",
       "       'на покупку своего автомобиля',\n",
       "       'операции с коммерческой недвижимостью',\n",
       "       'строительство жилой недвижимости', 'жилье',\n",
       "       'операции со своей недвижимостью', 'автомобили',\n",
       "       'заняться образованием', 'сделка с подержанным автомобилем',\n",
       "       'получение образования', 'автомобиль', 'свадьба',\n",
       "       'получение дополнительного образования', 'покупка своего жилья',\n",
       "       'операции с недвижимостью', 'получение высшего образования',\n",
       "       'свой автомобиль', 'сделка с автомобилем',\n",
       "       'профильное образование', 'высшее образование',\n",
       "       'покупка жилья для сдачи', 'на покупку автомобиля', 'ремонт жилью',\n",
       "       'заняться высшим образованием'], dtype=object)"
      ]
     },
     "execution_count": 19,
     "metadata": {},
     "output_type": "execute_result"
    }
   ],
   "source": [
    "data['purpose'].unique()"
   ]
  },
  {
   "cell_type": "markdown",
   "id": "792618ce",
   "metadata": {
    "deletable": false,
    "editable": false,
    "id": "85d0aef0"
   },
   "source": [
    "**Задание 18. Создайте функцию, которая на основании данных из столбца `purpose` сформирует новый столбец `purpose_category`, в который войдут следующие категории:**\n",
    "\n",
    "- `'операции с автомобилем'`,\n",
    "- `'операции с недвижимостью'`,\n",
    "- `'проведение свадьбы'`,\n",
    "- `'получение образования'`.\n",
    "\n",
    "**Например, если в столбце `purpose` находится подстрока `'на покупку автомобиля'`, то в столбце `purpose_category` должна появиться строка `'операции с автомобилем'`.**\n",
    "\n",
    "**Используйте собственную функцию с именем `categorize_purpose()` и метод `apply()`. Изучите данные в столбце `purpose` и определите, какие подстроки помогут вам правильно определить категорию.**"
   ]
  },
  {
   "cell_type": "code",
   "execution_count": 20,
   "id": "484da8cf",
   "metadata": {
    "deletable": false,
    "id": "e149fab4"
   },
   "outputs": [],
   "source": [
    "def categorize_purpose(row):\n",
    "    try:\n",
    "        if 'автом' in row:\n",
    "            return 'операции с автомобилем'\n",
    "        elif 'жил' in row or 'недвиж' in row:\n",
    "            return 'операции с недвижимостью'\n",
    "        elif 'свад' in row:\n",
    "            return 'проведение свадьбы'\n",
    "        elif 'образов' in row:\n",
    "            return 'получение образования'\n",
    "    except:\n",
    "        return 'нет категории'"
   ]
  },
  {
   "cell_type": "code",
   "execution_count": 21,
   "id": "92f131df",
   "metadata": {
    "deletable": false,
    "id": "bf36e69b"
   },
   "outputs": [],
   "source": [
    "data['purpose_category'] = data['purpose'].apply(categorize_purpose)"
   ]
  },
  {
   "cell_type": "markdown",
   "id": "220c2a11",
   "metadata": {
    "deletable": false,
    "editable": false,
    "id": "09b242bf"
   },
   "source": [
    "### Шаг 3. Исследуйте данные и ответьте на вопросы"
   ]
  },
  {
   "cell_type": "markdown",
   "id": "fb3f5186",
   "metadata": {
    "deletable": false,
    "editable": false,
    "id": "c5d66278"
   },
   "source": [
    "#### 3.1 Есть ли зависимость между количеством детей и возвратом кредита в срок?"
   ]
  },
  {
   "cell_type": "code",
   "execution_count": 22,
   "id": "d70d63c5",
   "metadata": {
    "deletable": false,
    "id": "2cacfc4a"
   },
   "outputs": [
    {
     "data": {
      "text/html": [
       "<div>\n",
       "<style scoped>\n",
       "    .dataframe tbody tr th:only-of-type {\n",
       "        vertical-align: middle;\n",
       "    }\n",
       "\n",
       "    .dataframe tbody tr th {\n",
       "        vertical-align: top;\n",
       "    }\n",
       "\n",
       "    .dataframe thead tr th {\n",
       "        text-align: left;\n",
       "    }\n",
       "\n",
       "    .dataframe thead tr:last-of-type th {\n",
       "        text-align: right;\n",
       "    }\n",
       "</style>\n",
       "<table border=\"1\" class=\"dataframe\">\n",
       "  <thead>\n",
       "    <tr>\n",
       "      <th></th>\n",
       "      <th colspan=\"2\" halign=\"left\">debt</th>\n",
       "    </tr>\n",
       "    <tr>\n",
       "      <th></th>\n",
       "      <th>count</th>\n",
       "      <th>mean</th>\n",
       "    </tr>\n",
       "    <tr>\n",
       "      <th>children</th>\n",
       "      <th></th>\n",
       "      <th></th>\n",
       "    </tr>\n",
       "  </thead>\n",
       "  <tbody>\n",
       "    <tr>\n",
       "      <th>0</th>\n",
       "      <td>14091</td>\n",
       "      <td>0.075</td>\n",
       "    </tr>\n",
       "    <tr>\n",
       "      <th>1</th>\n",
       "      <td>4808</td>\n",
       "      <td>0.092</td>\n",
       "    </tr>\n",
       "    <tr>\n",
       "      <th>2</th>\n",
       "      <td>2052</td>\n",
       "      <td>0.095</td>\n",
       "    </tr>\n",
       "    <tr>\n",
       "      <th>3</th>\n",
       "      <td>330</td>\n",
       "      <td>0.082</td>\n",
       "    </tr>\n",
       "    <tr>\n",
       "      <th>4</th>\n",
       "      <td>41</td>\n",
       "      <td>0.098</td>\n",
       "    </tr>\n",
       "    <tr>\n",
       "      <th>5</th>\n",
       "      <td>9</td>\n",
       "      <td>0.000</td>\n",
       "    </tr>\n",
       "  </tbody>\n",
       "</table>\n",
       "</div>"
      ],
      "text/plain": [
       "           debt       \n",
       "          count   mean\n",
       "children              \n",
       "0         14091  0.075\n",
       "1          4808  0.092\n",
       "2          2052  0.095\n",
       "3           330  0.082\n",
       "4            41  0.098\n",
       "5             9  0.000"
      ]
     },
     "execution_count": 22,
     "metadata": {},
     "output_type": "execute_result"
    }
   ],
   "source": [
    "data.groupby('children').agg({'debt': ['count', 'mean',]}).round(3)"
   ]
  },
  {
   "cell_type": "markdown",
   "id": "e38434bb",
   "metadata": {},
   "source": [
    "<div class=\"alert alert-success\">\n",
    "<h2> Комментарий ревьюера ✔️ <a class=\"tocSkip\"> </h2>\n",
    "\n",
    "А вот как можно было украсить решение. Обрати внимание на [style](https://pandas.pydata.org/pandas-docs/stable/user_guide/style.html) библиотеки `pandas`. Там много прикольных штук для того, чтобы сделать датафрейм красивее 😊"
   ]
  },
  {
   "cell_type": "code",
   "execution_count": 23,
   "id": "43daa6a8",
   "metadata": {},
   "outputs": [
    {
     "data": {
      "text/html": [
       "<style  type=\"text/css\" >\n",
       "</style><table id=\"T_da38f_\" ><thead>    <tr>        <th class=\"blank level0\" ></th>        <th class=\"col_heading level0 col0\" >Кол-во пользователей</th>        <th class=\"col_heading level0 col1\" >Кол-во должников</th>        <th class=\"col_heading level0 col2\" >% должников</th>        <th class=\"col_heading level0 col3\" >% НЕдолжников</th>    </tr>    <tr>        <th class=\"index_name level0\" >children_group</th>        <th class=\"blank\" ></th>        <th class=\"blank\" ></th>        <th class=\"blank\" ></th>        <th class=\"blank\" ></th>    </tr></thead><tbody>\n",
       "                <tr>\n",
       "                        <th id=\"T_da38f_level0_row0\" class=\"row_heading level0 row0\" >Дети есть</th>\n",
       "                        <td id=\"T_da38f_row0_col0\" class=\"data row0 col0\" >7240</td>\n",
       "                        <td id=\"T_da38f_row0_col1\" class=\"data row0 col1\" >669</td>\n",
       "                        <td id=\"T_da38f_row0_col2\" class=\"data row0 col2\" >9.24%</td>\n",
       "                        <td id=\"T_da38f_row0_col3\" class=\"data row0 col3\" >90.76%</td>\n",
       "            </tr>\n",
       "            <tr>\n",
       "                        <th id=\"T_da38f_level0_row1\" class=\"row_heading level0 row1\" >Нет детей</th>\n",
       "                        <td id=\"T_da38f_row1_col0\" class=\"data row1 col0\" >14091</td>\n",
       "                        <td id=\"T_da38f_row1_col1\" class=\"data row1 col1\" >1063</td>\n",
       "                        <td id=\"T_da38f_row1_col2\" class=\"data row1 col2\" >7.54%</td>\n",
       "                        <td id=\"T_da38f_row1_col3\" class=\"data row1 col3\" >92.46%</td>\n",
       "            </tr>\n",
       "    </tbody></table>"
      ],
      "text/plain": [
       "<pandas.io.formats.style.Styler at 0x7fb63c08dd00>"
      ]
     },
     "execution_count": 23,
     "metadata": {},
     "output_type": "execute_result"
    }
   ],
   "source": [
    "data['children_group'] = data['children'].apply(lambda x: 'Нет детей' if x == 0 else 'Дети есть')\n",
    "\n",
    "df_example = data.groupby('children_group')['debt'].agg(['count', 'sum', 'mean', lambda x: 1 - x.mean()])\n",
    "df_example.columns = ['Кол-во пользователей', 'Кол-во должников', '% должников', '% НЕдолжников']\n",
    "df_example.style.format({'% должников': '{:.2%}', '% НЕдолжников': '{:.2%}'})"
   ]
  },
  {
   "cell_type": "markdown",
   "id": "76bb3736",
   "metadata": {
    "deletable": false,
    "id": "3a6b99ec"
   },
   "source": [
    "**Вывод:** \n",
    "Судя по всему у людей без детей меньше проблем с долгами, чем у людей с детьми.\n",
    "С увеличением количества детей ситуация сильно не меняется, кроме падения проблем с долгами у группы лиц с 3 детьми (мат. капитал?, пособия за многодетность?) \n",
    "9 человек с пятью детьми - маленькая выборка.\n",
    "`Удалил print()\n"
   ]
  },
  {
   "cell_type": "markdown",
   "id": "fa644d47",
   "metadata": {
    "deletable": false,
    "editable": false,
    "id": "97be82ca"
   },
   "source": [
    "#### 3.2 Есть ли зависимость между семейным положением и возвратом кредита в срок?"
   ]
  },
  {
   "cell_type": "code",
   "execution_count": 24,
   "id": "00416bd2",
   "metadata": {
    "deletable": false,
    "id": "dc3f7ee8"
   },
   "outputs": [
    {
     "data": {
      "text/html": [
       "<div>\n",
       "<style scoped>\n",
       "    .dataframe tbody tr th:only-of-type {\n",
       "        vertical-align: middle;\n",
       "    }\n",
       "\n",
       "    .dataframe tbody tr th {\n",
       "        vertical-align: top;\n",
       "    }\n",
       "\n",
       "    .dataframe thead tr th {\n",
       "        text-align: left;\n",
       "    }\n",
       "\n",
       "    .dataframe thead tr:last-of-type th {\n",
       "        text-align: right;\n",
       "    }\n",
       "</style>\n",
       "<table border=\"1\" class=\"dataframe\">\n",
       "  <thead>\n",
       "    <tr>\n",
       "      <th></th>\n",
       "      <th colspan=\"2\" halign=\"left\">debt</th>\n",
       "    </tr>\n",
       "    <tr>\n",
       "      <th></th>\n",
       "      <th>count</th>\n",
       "      <th>mean</th>\n",
       "    </tr>\n",
       "    <tr>\n",
       "      <th>family_status</th>\n",
       "      <th></th>\n",
       "      <th></th>\n",
       "    </tr>\n",
       "  </thead>\n",
       "  <tbody>\n",
       "    <tr>\n",
       "      <th>Не женат / не замужем</th>\n",
       "      <td>2796</td>\n",
       "      <td>0.098</td>\n",
       "    </tr>\n",
       "    <tr>\n",
       "      <th>в разводе</th>\n",
       "      <td>1189</td>\n",
       "      <td>0.071</td>\n",
       "    </tr>\n",
       "    <tr>\n",
       "      <th>вдовец / вдова</th>\n",
       "      <td>951</td>\n",
       "      <td>0.066</td>\n",
       "    </tr>\n",
       "    <tr>\n",
       "      <th>гражданский брак</th>\n",
       "      <td>4134</td>\n",
       "      <td>0.093</td>\n",
       "    </tr>\n",
       "    <tr>\n",
       "      <th>женат / замужем</th>\n",
       "      <td>12261</td>\n",
       "      <td>0.076</td>\n",
       "    </tr>\n",
       "  </tbody>\n",
       "</table>\n",
       "</div>"
      ],
      "text/plain": [
       "                        debt       \n",
       "                       count   mean\n",
       "family_status                      \n",
       "Не женат / не замужем   2796  0.098\n",
       "в разводе               1189  0.071\n",
       "вдовец / вдова           951  0.066\n",
       "гражданский брак        4134  0.093\n",
       "женат / замужем        12261  0.076"
      ]
     },
     "execution_count": 24,
     "metadata": {},
     "output_type": "execute_result"
    }
   ],
   "source": [
    "data.groupby('family_status').agg({'debt': ['count', 'mean',]}).round(3)"
   ]
  },
  {
   "cell_type": "markdown",
   "id": "45ee4108",
   "metadata": {},
   "source": [
    "<div class=\"alert alert-warning\">\n",
    "<h2> Комментарий ревьюера ⚠️ <a class=\"tocSkip\"> </h2>\n",
    "\n",
    "Для отображения таблиц, лучше использовать `display`, либо, если это последняя строка, то можно вообще ничего не применять"
   ]
  },
  {
   "cell_type": "markdown",
   "id": "349c0d1f",
   "metadata": {
    "deletable": false,
    "id": "1cef7837"
   },
   "source": [
    "**Вывод:** Не женатые люди почти все имеют проблемы с долгами (связанно с возрастом?). Вдовцы меньше остальных категорий имеют проблемы с возвратом. В целом складывается впечатление, что с возрастом падает уровень проблем с возвратом долгов(не женат => гражданский брак => женат => (в разводе) => вдовец). То есть зависимости между семейным положением и возвратом кредита в срок скорее всего нет.\n",
    "\n",
    "`Удалил print()"
   ]
  },
  {
   "cell_type": "markdown",
   "id": "d3e74eb0",
   "metadata": {},
   "source": [
    "<div class=\"alert alert-info\">\n",
    "<h2> Комментарий ревьюера v2 <a class=\"tocSkip\"> </h2>\n",
    "\n",
    "Свои комментария и исправления лучше выделять, чтобы мы их не пропустили, например, так. Оставлю еще [ссылку на Medium](https://medium.com/analytics-vidhya/the-ultimate-markdown-guide-for-jupyter-notebook-d5e5abf728fd), там очень круто расписаны Markdown, и еще вот такую [шпаргалку](https://paulradzkov.com/2014/markdown_cheatsheet/), вдруг понадобится 🙂\n",
    "    \n",
    "</div>"
   ]
  },
  {
   "cell_type": "markdown",
   "id": "1ad8ba51",
   "metadata": {},
   "source": [
    "<div class=\"alert alert-warning\">\n",
    "<h2> Комментарий ревьюера ⚠️ <a class=\"tocSkip\"> </h2>\n",
    "\n",
    "На самом деле, 3% зачастую для бизнеса - это существенно много. Если на 3% лучше выбирать, кому выдавать кредит, а кому нет, финансовые показатели заметно станут лучше. Т.е очень редко у нас (аналитиков и датасайнтистов) идет борьба за десятки процентов какого-то показателя, обычно мы пытаемся улучшить что-то на какие-то доли."
   ]
  },
  {
   "cell_type": "markdown",
   "id": "65cda518",
   "metadata": {
    "deletable": false,
    "editable": false,
    "id": "1e8b2fca"
   },
   "source": [
    "#### 3.3 Есть ли зависимость между уровнем дохода и возвратом кредита в срок?"
   ]
  },
  {
   "cell_type": "code",
   "execution_count": 25,
   "id": "06b0cfcc",
   "metadata": {
    "deletable": false,
    "id": "cd7e3720"
   },
   "outputs": [
    {
     "name": "stdout",
     "output_type": "stream",
     "text": [
      "                        debt       \n",
      "                       count   mean\n",
      "total_income_category              \n",
      "A                         25  0.080\n",
      "B                       5014  0.071\n",
      "C                      15921  0.085\n",
      "D                        349  0.060\n",
      "E                         22  0.091\n"
     ]
    }
   ],
   "source": [
    "data.groupby('total_income_category').agg({'debt': ['count', 'mean']}).round(3)"
   ]
  },
  {
   "cell_type": "markdown",
   "id": "fd7a42a0",
   "metadata": {},
   "source": [
    "<div class=\"alert alert-success\">\n",
    "<h2> Комментарий ревьюера ✔️ <a class=\"tocSkip\"> </h2>\n",
    "\n",
    "Здесь, наверное, стоит подумать над другой разбивкой, например, по процентилям. Слишком большая разница в кол-ве пользователей по группам. Тогда можно воспользоваться методами [cut](https://pandas.pydata.org/pandas-docs/stable/reference/api/pandas.cut.html) или [qcut](https://pandas.pydata.org/pandas-docs/stable/reference/api/pandas.qcut.html)(в этом случае деление будет проводиться по проценилям). Обрати внимание, у данного метода есть параметр `labels`, так можно оформить группы красивее 😊"
   ]
  },
  {
   "cell_type": "markdown",
   "id": "a5e90295",
   "metadata": {
    "deletable": false,
    "id": "e8593def"
   },
   "source": [
    "**Вывод:** Кредиты почти не нужны категории А, и почти не выдаются категории Е. Основные проблемы с возвратом кредитов возникают у категории Е и С. Скорее всего связь между уровнем дохода и возвратом кредита в срок не выявлена.\n",
    "`Удалил print()"
   ]
  },
  {
   "cell_type": "markdown",
   "id": "3f7de2d7",
   "metadata": {
    "deletable": false,
    "editable": false,
    "id": "99ecbd1f"
   },
   "source": [
    "#### 3.4 Как разные цели кредита влияют на его возврат в срок?"
   ]
  },
  {
   "cell_type": "code",
   "execution_count": 25,
   "id": "3b13d45d",
   "metadata": {
    "deletable": false,
    "id": "2b687290"
   },
   "outputs": [
    {
     "data": {
      "text/html": [
       "<div>\n",
       "<style scoped>\n",
       "    .dataframe tbody tr th:only-of-type {\n",
       "        vertical-align: middle;\n",
       "    }\n",
       "\n",
       "    .dataframe tbody tr th {\n",
       "        vertical-align: top;\n",
       "    }\n",
       "\n",
       "    .dataframe thead th {\n",
       "        text-align: right;\n",
       "    }\n",
       "</style>\n",
       "<table border=\"1\" class=\"dataframe\">\n",
       "  <thead>\n",
       "    <tr style=\"text-align: right;\">\n",
       "      <th>purpose_category</th>\n",
       "      <th>операции с автомобилем</th>\n",
       "      <th>операции с недвижимостью</th>\n",
       "      <th>получение образования</th>\n",
       "      <th>проведение свадьбы</th>\n",
       "    </tr>\n",
       "  </thead>\n",
       "  <tbody>\n",
       "    <tr>\n",
       "      <th>debt</th>\n",
       "      <td>0.093</td>\n",
       "      <td>0.073</td>\n",
       "      <td>0.093</td>\n",
       "      <td>0.079</td>\n",
       "    </tr>\n",
       "  </tbody>\n",
       "</table>\n",
       "</div>"
      ],
      "text/plain": [
       "purpose_category  операции с автомобилем  операции с недвижимостью  \\\n",
       "debt                               0.093                     0.073   \n",
       "\n",
       "purpose_category  получение образования  проведение свадьбы  \n",
       "debt                              0.093               0.079  "
      ]
     },
     "execution_count": 25,
     "metadata": {},
     "output_type": "execute_result"
    }
   ],
   "source": [
    "data.pivot_table('debt', columns='purpose_category').round(3)"
   ]
  },
  {
   "cell_type": "markdown",
   "id": "9177c1f4",
   "metadata": {},
   "source": [
    "<div class=\"alert alert-danger\">\n",
    "<h2> Комментарий ревьюера ❌ <a class=\"tocSkip\"> </h2>\n",
    "\n",
    "Альтернатива `groupby` - это [pivot_table](https://pandas.pydata.org/pandas-docs/stable/reference/api/pandas.pivot_table.html). Это очень популярный и нужный инструмент, важно иметь его в арсенале, и мне нужно убедиться, что ты умеешь им пользоваться. Реализуй то же самое используя `pivot_table()` и дай комментарии, какой из методов удобнее для тебя."
   ]
  },
  {
   "cell_type": "markdown",
   "id": "292ab501",
   "metadata": {
    "deletable": false,
    "id": "b4bb2ce6"
   },
   "source": [
    "**Вывод:** Люди которые берут кредит на образование и проведение свадьбы чаще возвращают его вовремя. Проблемы с возвратом кредитов за автомобиль и образование встречаются чаще.\n",
    "\n",
    "`Пока мне не удобно ничего из этого :)))Но с groupby мне было проще разобраться, почему то... Я слишком привык к SPSS (я занимаюсь мат.методами в психологии). Я бы с удовольствием почитал бы про этот способ вывода, но пока в интернете одна шляпа, не подскажешь литературу по этому вопрос? Мне сильно не хватает доп. знаний. P.S. Нет ли еще тренажера понабивать руку в создании этих таблиц/groupby?`"
   ]
  },
  {
   "cell_type": "markdown",
   "id": "332a63e0",
   "metadata": {},
   "source": [
    "<div class=\"alert alert-success\">\n",
    "<h2> Комментарий ревьюера v2 ✔️ <a class=\"tocSkip\"> </h2>\n",
    "\n",
    "И по тому и по другому, к сожалению, не подскажу. С SPSS не знаком, а методы, типа groupby и т.д лично я изучал сам, на данных с работы, тыкался, и смотрел, что получится"
   ]
  },
  {
   "cell_type": "markdown",
   "id": "b7e54df3",
   "metadata": {
    "deletable": false,
    "editable": false,
    "id": "09c3ac4c"
   },
   "source": [
    "#### 3.5 Приведите возможные причины появления пропусков в исходных данных."
   ]
  },
  {
   "cell_type": "markdown",
   "id": "92050216",
   "metadata": {
    "deletable": false,
    "id": "9da2ceda"
   },
   "source": [
    "*Ответ:* Чаще всего это человеческий фактор. Либо не вбили данные, либо не захотели сообщать её."
   ]
  },
  {
   "cell_type": "markdown",
   "id": "b4b2128c",
   "metadata": {
    "deletable": false,
    "editable": false,
    "id": "7b0487d6"
   },
   "source": [
    "#### 3.6 Объясните, почему заполнить пропуски медианным значением — лучшее решение для количественных переменных."
   ]
  },
  {
   "cell_type": "markdown",
   "id": "07950a15",
   "metadata": {
    "deletable": false,
    "id": "7ecf2b8e"
   },
   "source": [
    "*Ответ:* Потому что это не нарушает \"среднюю температуру по больнице\". \n",
    "`Считается, что среднее значение является адекватной мерой только в случае того, что выборка подчиняется нормальному распределению (параметрические методы). Если же есть аномалии в данных (\"выбросы\" - 10 человек получают зарплату 100тысяч, у одного задолженность в 500 тысяч, в среднем все получают 40 тысяч.), то они могут существенно влиять на среднее значение, а медиана устойчива к \"выбросам\"."
   ]
  },
  {
   "cell_type": "markdown",
   "id": "098743d0",
   "metadata": {},
   "source": [
    "<div class=\"alert alert-danger\">\n",
    "<h2> Комментарий ревьюера ❌ <a class=\"tocSkip\"> </h2>\n",
    "\n",
    "Здесь немного про другое имели ввиду, почему медиана лучше среднего во время замены"
   ]
  },
  {
   "cell_type": "markdown",
   "id": "d5fdf6c8",
   "metadata": {},
   "source": [
    "<div class=\"alert alert-success\">\n",
    "<h2> Комментарий ревьюера v2 ✔️ <a class=\"tocSkip\"> </h2>\n",
    "\n",
    "Да, все верно"
   ]
  },
  {
   "cell_type": "markdown",
   "id": "21463f70",
   "metadata": {
    "deletable": false,
    "editable": false,
    "id": "6db5255a"
   },
   "source": [
    "### Шаг 4: общий вывод."
   ]
  },
  {
   "cell_type": "markdown",
   "id": "0c516399",
   "metadata": {
    "deletable": false,
    "id": "bad65432"
   },
   "source": [
    "С учетом текущих методов анализа, в соответствии с задачей исследования, можно сделать вывод, что семейное положение и количество детей клиента практически не влияют на факт погашения кредита в срок."
   ]
  },
  {
   "cell_type": "markdown",
   "id": "934ad525",
   "metadata": {},
   "source": [
    "<div class=\"alert alert-warning\">\n",
    "<h2> Комментарий ревьюера ⚠️ <a class=\"tocSkip\"> </h2>\n",
    "\n",
    "Старайся расписывать общий вывод более детально. Это лицо твоего продукта, аналитической деятельности, и от того, насколько хорошо и детально ты его распишешь, будут судить о тебе как о профессионале\n",
    "\n",
    "</div>"
   ]
  },
  {
   "cell_type": "code",
   "execution_count": null,
   "id": "d937434f",
   "metadata": {},
   "outputs": [],
   "source": []
  }
 ],
 "metadata": {
  "ExecuteTimeLog": [
   {
    "duration": 41,
    "start_time": "2022-08-13T06:50:44.980Z"
   },
   {
    "duration": 6,
    "start_time": "2022-08-13T06:51:09.991Z"
   },
   {
    "duration": 6,
    "start_time": "2022-08-13T06:52:04.623Z"
   },
   {
    "duration": 5,
    "start_time": "2022-08-13T06:52:37.506Z"
   },
   {
    "duration": 403,
    "start_time": "2022-08-13T06:52:40.740Z"
   },
   {
    "duration": 20,
    "start_time": "2022-08-13T06:52:43.130Z"
   },
   {
    "duration": 14,
    "start_time": "2022-08-13T06:52:45.697Z"
   },
   {
    "duration": 448,
    "start_time": "2022-08-13T06:52:56.701Z"
   },
   {
    "duration": 20,
    "start_time": "2022-08-13T06:52:57.150Z"
   },
   {
    "duration": 14,
    "start_time": "2022-08-13T06:52:57.172Z"
   },
   {
    "duration": 18,
    "start_time": "2022-08-13T06:52:57.188Z"
   },
   {
    "duration": 30,
    "start_time": "2022-08-13T06:52:57.207Z"
   },
   {
    "duration": 3,
    "start_time": "2022-08-13T06:52:57.238Z"
   },
   {
    "duration": 12,
    "start_time": "2022-08-13T06:52:57.242Z"
   },
   {
    "duration": 6,
    "start_time": "2022-08-13T06:52:57.255Z"
   },
   {
    "duration": 9,
    "start_time": "2022-08-13T06:52:57.262Z"
   },
   {
    "duration": 4,
    "start_time": "2022-08-13T06:52:57.273Z"
   },
   {
    "duration": 50,
    "start_time": "2022-08-13T06:52:57.278Z"
   },
   {
    "duration": 11,
    "start_time": "2022-08-13T06:52:57.330Z"
   },
   {
    "duration": 5,
    "start_time": "2022-08-13T06:52:57.342Z"
   },
   {
    "duration": 20,
    "start_time": "2022-08-13T06:52:57.349Z"
   },
   {
    "duration": 24,
    "start_time": "2022-08-13T06:52:57.370Z"
   },
   {
    "duration": 18,
    "start_time": "2022-08-13T06:52:57.395Z"
   },
   {
    "duration": 3,
    "start_time": "2022-08-13T06:52:57.414Z"
   },
   {
    "duration": 10,
    "start_time": "2022-08-13T06:52:57.419Z"
   },
   {
    "duration": 5,
    "start_time": "2022-08-13T06:52:57.430Z"
   },
   {
    "duration": 4,
    "start_time": "2022-08-13T06:52:57.437Z"
   },
   {
    "duration": 10,
    "start_time": "2022-08-13T06:52:57.442Z"
   },
   {
    "duration": 92,
    "start_time": "2022-08-13T06:52:57.454Z"
   },
   {
    "duration": 0,
    "start_time": "2022-08-13T06:52:57.547Z"
   },
   {
    "duration": 0,
    "start_time": "2022-08-13T06:52:57.548Z"
   },
   {
    "duration": 0,
    "start_time": "2022-08-13T06:52:57.549Z"
   },
   {
    "duration": 19,
    "start_time": "2022-08-13T06:54:34.401Z"
   },
   {
    "duration": 16,
    "start_time": "2022-08-13T06:54:44.704Z"
   },
   {
    "duration": 31,
    "start_time": "2022-08-13T06:55:02.318Z"
   },
   {
    "duration": 6,
    "start_time": "2022-08-13T06:55:25.434Z"
   },
   {
    "duration": 12,
    "start_time": "2022-08-13T06:55:28.197Z"
   },
   {
    "duration": 4,
    "start_time": "2022-08-13T06:57:07.855Z"
   },
   {
    "duration": 3,
    "start_time": "2022-08-13T06:57:19.628Z"
   },
   {
    "duration": 10,
    "start_time": "2022-08-13T06:58:00.905Z"
   },
   {
    "duration": 10,
    "start_time": "2022-08-13T06:59:06.896Z"
   },
   {
    "duration": 8,
    "start_time": "2022-08-13T07:00:07.372Z"
   },
   {
    "duration": 4,
    "start_time": "2022-08-13T07:00:18.948Z"
   },
   {
    "duration": 4,
    "start_time": "2022-08-13T07:01:33.129Z"
   },
   {
    "duration": 421,
    "start_time": "2022-08-13T07:03:58.333Z"
   },
   {
    "duration": 22,
    "start_time": "2022-08-13T07:03:58.757Z"
   },
   {
    "duration": 16,
    "start_time": "2022-08-13T07:03:58.780Z"
   },
   {
    "duration": 9,
    "start_time": "2022-08-13T07:03:58.806Z"
   },
   {
    "duration": 31,
    "start_time": "2022-08-13T07:03:58.816Z"
   },
   {
    "duration": 3,
    "start_time": "2022-08-13T07:03:58.849Z"
   },
   {
    "duration": 10,
    "start_time": "2022-08-13T07:03:58.853Z"
   },
   {
    "duration": 3,
    "start_time": "2022-08-13T07:03:58.865Z"
   },
   {
    "duration": 15,
    "start_time": "2022-08-13T07:03:58.869Z"
   },
   {
    "duration": 25,
    "start_time": "2022-08-13T07:03:58.886Z"
   },
   {
    "duration": 30,
    "start_time": "2022-08-13T07:03:58.912Z"
   },
   {
    "duration": 8,
    "start_time": "2022-08-13T07:03:58.944Z"
   },
   {
    "duration": 3,
    "start_time": "2022-08-13T07:03:58.953Z"
   },
   {
    "duration": 11,
    "start_time": "2022-08-13T07:03:58.958Z"
   },
   {
    "duration": 37,
    "start_time": "2022-08-13T07:03:58.970Z"
   },
   {
    "duration": 16,
    "start_time": "2022-08-13T07:03:59.008Z"
   },
   {
    "duration": 3,
    "start_time": "2022-08-13T07:03:59.025Z"
   },
   {
    "duration": 13,
    "start_time": "2022-08-13T07:03:59.029Z"
   },
   {
    "duration": 12,
    "start_time": "2022-08-13T07:03:59.044Z"
   },
   {
    "duration": 6,
    "start_time": "2022-08-13T07:03:59.057Z"
   },
   {
    "duration": 11,
    "start_time": "2022-08-13T07:03:59.065Z"
   },
   {
    "duration": 5,
    "start_time": "2022-08-13T07:03:59.077Z"
   },
   {
    "duration": 4,
    "start_time": "2022-08-13T07:03:59.083Z"
   },
   {
    "duration": 5,
    "start_time": "2022-08-13T07:03:59.089Z"
   },
   {
    "duration": 2,
    "start_time": "2022-08-13T07:03:59.106Z"
   },
   {
    "duration": 3,
    "start_time": "2022-08-13T07:04:35.629Z"
   },
   {
    "duration": 66,
    "start_time": "2022-08-13T07:05:02.654Z"
   },
   {
    "duration": 6,
    "start_time": "2022-08-13T07:05:08.517Z"
   },
   {
    "duration": 5,
    "start_time": "2022-08-13T07:05:42.250Z"
   },
   {
    "duration": 9,
    "start_time": "2022-08-13T07:07:06.812Z"
   },
   {
    "duration": 8,
    "start_time": "2022-08-13T07:07:20.174Z"
   },
   {
    "duration": 12,
    "start_time": "2022-08-13T07:07:59.112Z"
   },
   {
    "duration": 122,
    "start_time": "2022-08-13T07:21:57.880Z"
   },
   {
    "duration": 5,
    "start_time": "2022-08-13T07:22:03.154Z"
   },
   {
    "duration": 5,
    "start_time": "2022-08-13T08:03:32.120Z"
   },
   {
    "duration": 11,
    "start_time": "2022-08-13T08:03:59.146Z"
   },
   {
    "duration": 6,
    "start_time": "2022-08-13T08:04:03.233Z"
   },
   {
    "duration": 4,
    "start_time": "2022-08-13T08:08:39.087Z"
   },
   {
    "duration": 9,
    "start_time": "2022-08-13T08:09:15.508Z"
   },
   {
    "duration": 5,
    "start_time": "2022-08-13T08:09:42.276Z"
   },
   {
    "duration": 8,
    "start_time": "2022-08-13T08:10:04.268Z"
   },
   {
    "duration": 14,
    "start_time": "2022-08-13T08:15:33.740Z"
   },
   {
    "duration": 9,
    "start_time": "2022-08-13T08:20:27.500Z"
   },
   {
    "duration": 11,
    "start_time": "2022-08-13T08:20:30.034Z"
   },
   {
    "duration": 12,
    "start_time": "2022-08-13T09:16:27.373Z"
   },
   {
    "duration": 103,
    "start_time": "2022-08-13T09:18:38.106Z"
   },
   {
    "duration": 12,
    "start_time": "2022-08-13T09:18:51.361Z"
   },
   {
    "duration": 14,
    "start_time": "2022-08-13T09:19:05.235Z"
   },
   {
    "duration": 13,
    "start_time": "2022-08-13T09:19:13.759Z"
   },
   {
    "duration": 13,
    "start_time": "2022-08-13T09:19:20.808Z"
   },
   {
    "duration": 10,
    "start_time": "2022-08-13T09:19:27.232Z"
   },
   {
    "duration": 17,
    "start_time": "2022-08-13T09:19:37.043Z"
   },
   {
    "duration": 11,
    "start_time": "2022-08-13T09:19:44.357Z"
   },
   {
    "duration": 9,
    "start_time": "2022-08-13T09:22:38.169Z"
   },
   {
    "duration": 13,
    "start_time": "2022-08-13T09:23:28.113Z"
   },
   {
    "duration": 15,
    "start_time": "2022-08-13T09:23:31.017Z"
   },
   {
    "duration": 11,
    "start_time": "2022-08-13T09:23:33.381Z"
   },
   {
    "duration": 10,
    "start_time": "2022-08-13T09:24:55.512Z"
   },
   {
    "duration": 11,
    "start_time": "2022-08-13T09:25:41.445Z"
   },
   {
    "duration": 11,
    "start_time": "2022-08-13T09:25:47.581Z"
   },
   {
    "duration": 12,
    "start_time": "2022-08-13T09:26:04.882Z"
   },
   {
    "duration": 10,
    "start_time": "2022-08-13T09:26:07.728Z"
   },
   {
    "duration": 12,
    "start_time": "2022-08-13T09:26:10.203Z"
   },
   {
    "duration": 718,
    "start_time": "2022-08-14T07:04:35.586Z"
   },
   {
    "duration": 20,
    "start_time": "2022-08-14T07:04:36.306Z"
   },
   {
    "duration": 13,
    "start_time": "2022-08-14T07:04:36.328Z"
   },
   {
    "duration": 8,
    "start_time": "2022-08-14T07:04:36.343Z"
   },
   {
    "duration": 46,
    "start_time": "2022-08-14T07:04:36.352Z"
   },
   {
    "duration": 3,
    "start_time": "2022-08-14T07:04:36.400Z"
   },
   {
    "duration": 11,
    "start_time": "2022-08-14T07:04:36.404Z"
   },
   {
    "duration": 4,
    "start_time": "2022-08-14T07:04:36.417Z"
   },
   {
    "duration": 16,
    "start_time": "2022-08-14T07:04:36.422Z"
   },
   {
    "duration": 10,
    "start_time": "2022-08-14T07:04:36.441Z"
   },
   {
    "duration": 34,
    "start_time": "2022-08-14T07:04:36.452Z"
   },
   {
    "duration": 17,
    "start_time": "2022-08-14T07:04:36.487Z"
   },
   {
    "duration": 10,
    "start_time": "2022-08-14T07:04:36.506Z"
   },
   {
    "duration": 13,
    "start_time": "2022-08-14T07:04:36.517Z"
   },
   {
    "duration": 19,
    "start_time": "2022-08-14T07:04:36.531Z"
   },
   {
    "duration": 16,
    "start_time": "2022-08-14T07:04:36.552Z"
   },
   {
    "duration": 2,
    "start_time": "2022-08-14T07:04:36.570Z"
   },
   {
    "duration": 30,
    "start_time": "2022-08-14T07:04:36.574Z"
   },
   {
    "duration": 5,
    "start_time": "2022-08-14T07:04:36.606Z"
   },
   {
    "duration": 4,
    "start_time": "2022-08-14T07:04:36.612Z"
   },
   {
    "duration": 11,
    "start_time": "2022-08-14T07:04:36.617Z"
   },
   {
    "duration": 15,
    "start_time": "2022-08-14T07:04:36.629Z"
   },
   {
    "duration": 10,
    "start_time": "2022-08-14T07:04:36.646Z"
   },
   {
    "duration": 11,
    "start_time": "2022-08-14T07:04:36.657Z"
   },
   {
    "duration": 38,
    "start_time": "2022-08-14T07:04:36.669Z"
   },
   {
    "duration": 424,
    "start_time": "2022-08-14T07:05:52.185Z"
   },
   {
    "duration": 50,
    "start_time": "2022-08-15T18:19:03.766Z"
   },
   {
    "duration": 8,
    "start_time": "2022-08-15T18:19:21.217Z"
   },
   {
    "duration": 580,
    "start_time": "2022-08-15T18:20:08.907Z"
   },
   {
    "duration": 24,
    "start_time": "2022-08-15T18:20:09.489Z"
   },
   {
    "duration": 16,
    "start_time": "2022-08-15T18:20:09.514Z"
   },
   {
    "duration": 10,
    "start_time": "2022-08-15T18:20:09.532Z"
   },
   {
    "duration": 54,
    "start_time": "2022-08-15T18:20:09.543Z"
   },
   {
    "duration": 3,
    "start_time": "2022-08-15T18:20:09.599Z"
   },
   {
    "duration": 11,
    "start_time": "2022-08-15T18:20:09.604Z"
   },
   {
    "duration": 4,
    "start_time": "2022-08-15T18:20:09.617Z"
   },
   {
    "duration": 9,
    "start_time": "2022-08-15T18:20:09.622Z"
   },
   {
    "duration": 4,
    "start_time": "2022-08-15T18:20:09.636Z"
   },
   {
    "duration": 63,
    "start_time": "2022-08-15T18:20:09.641Z"
   },
   {
    "duration": 10,
    "start_time": "2022-08-15T18:20:09.706Z"
   },
   {
    "duration": 4,
    "start_time": "2022-08-15T18:20:09.718Z"
   },
   {
    "duration": 13,
    "start_time": "2022-08-15T18:20:09.723Z"
   },
   {
    "duration": 31,
    "start_time": "2022-08-15T18:20:09.738Z"
   },
   {
    "duration": 28,
    "start_time": "2022-08-15T18:20:09.793Z"
   },
   {
    "duration": 5,
    "start_time": "2022-08-15T18:20:09.823Z"
   },
   {
    "duration": 16,
    "start_time": "2022-08-15T18:20:09.830Z"
   },
   {
    "duration": 6,
    "start_time": "2022-08-15T18:20:09.848Z"
   },
   {
    "duration": 4,
    "start_time": "2022-08-15T18:20:09.855Z"
   },
   {
    "duration": 34,
    "start_time": "2022-08-15T18:20:09.861Z"
   },
   {
    "duration": 14,
    "start_time": "2022-08-15T18:20:09.897Z"
   },
   {
    "duration": 680,
    "start_time": "2022-08-15T18:20:09.912Z"
   },
   {
    "duration": 14,
    "start_time": "2022-08-15T18:20:10.594Z"
   },
   {
    "duration": 12,
    "start_time": "2022-08-15T18:20:10.610Z"
   },
   {
    "duration": 100,
    "start_time": "2022-08-15T18:20:15.563Z"
   },
   {
    "duration": 21,
    "start_time": "2022-08-15T18:20:34.372Z"
   },
   {
    "duration": 40,
    "start_time": "2022-08-15T18:20:47.392Z"
   },
   {
    "duration": 27,
    "start_time": "2022-08-15T18:25:08.992Z"
   },
   {
    "duration": 19,
    "start_time": "2022-08-15T18:26:04.236Z"
   },
   {
    "duration": 20,
    "start_time": "2022-08-15T18:26:15.089Z"
   },
   {
    "duration": 20,
    "start_time": "2022-08-15T18:26:24.843Z"
   },
   {
    "duration": 24,
    "start_time": "2022-08-15T18:26:28.507Z"
   },
   {
    "duration": 23,
    "start_time": "2022-08-15T18:26:41.398Z"
   },
   {
    "duration": 84,
    "start_time": "2022-08-15T18:27:51.584Z"
   },
   {
    "duration": 82,
    "start_time": "2022-08-15T18:28:00.448Z"
   },
   {
    "duration": 81,
    "start_time": "2022-08-15T18:28:17.446Z"
   },
   {
    "duration": 28,
    "start_time": "2022-08-15T18:31:02.076Z"
   },
   {
    "duration": 25,
    "start_time": "2022-08-15T18:31:50.923Z"
   },
   {
    "duration": 27,
    "start_time": "2022-08-15T18:32:31.698Z"
   },
   {
    "duration": 24,
    "start_time": "2022-08-15T18:32:52.987Z"
   },
   {
    "duration": 27,
    "start_time": "2022-08-15T18:33:21.193Z"
   },
   {
    "duration": 53,
    "start_time": "2022-08-15T18:34:29.672Z"
   },
   {
    "duration": 18,
    "start_time": "2022-08-15T18:35:18.689Z"
   },
   {
    "duration": 1669,
    "start_time": "2022-08-15T18:35:29.495Z"
   },
   {
    "duration": 17,
    "start_time": "2022-08-15T18:35:40.109Z"
   },
   {
    "duration": 53,
    "start_time": "2022-08-15T18:36:02.001Z"
   },
   {
    "duration": 24,
    "start_time": "2022-08-15T18:36:17.489Z"
   },
   {
    "duration": 26,
    "start_time": "2022-08-15T18:36:26.640Z"
   },
   {
    "duration": 3,
    "start_time": "2022-08-15T18:37:17.308Z"
   },
   {
    "duration": 32,
    "start_time": "2022-08-15T18:37:23.911Z"
   },
   {
    "duration": 16,
    "start_time": "2022-08-15T18:37:54.441Z"
   },
   {
    "duration": 33,
    "start_time": "2022-08-15T18:40:17.421Z"
   },
   {
    "duration": 24,
    "start_time": "2022-08-15T18:40:42.772Z"
   },
   {
    "duration": 355,
    "start_time": "2022-08-15T18:41:23.556Z"
   },
   {
    "duration": 152,
    "start_time": "2022-08-15T18:41:59.857Z"
   },
   {
    "duration": 149,
    "start_time": "2022-08-15T18:42:13.055Z"
   },
   {
    "duration": 30,
    "start_time": "2022-08-15T18:43:37.041Z"
   },
   {
    "duration": 499,
    "start_time": "2022-08-15T18:44:01.711Z"
   },
   {
    "duration": 24,
    "start_time": "2022-08-15T18:44:02.212Z"
   },
   {
    "duration": 20,
    "start_time": "2022-08-15T18:44:02.237Z"
   },
   {
    "duration": 10,
    "start_time": "2022-08-15T18:44:02.259Z"
   },
   {
    "duration": 59,
    "start_time": "2022-08-15T18:44:02.270Z"
   },
   {
    "duration": 3,
    "start_time": "2022-08-15T18:44:02.331Z"
   },
   {
    "duration": 12,
    "start_time": "2022-08-15T18:44:02.336Z"
   },
   {
    "duration": 4,
    "start_time": "2022-08-15T18:44:02.349Z"
   },
   {
    "duration": 9,
    "start_time": "2022-08-15T18:44:02.355Z"
   },
   {
    "duration": 9,
    "start_time": "2022-08-15T18:44:02.393Z"
   },
   {
    "duration": 42,
    "start_time": "2022-08-15T18:44:02.405Z"
   },
   {
    "duration": 11,
    "start_time": "2022-08-15T18:44:02.449Z"
   },
   {
    "duration": 5,
    "start_time": "2022-08-15T18:44:02.462Z"
   },
   {
    "duration": 40,
    "start_time": "2022-08-15T18:44:02.468Z"
   },
   {
    "duration": 20,
    "start_time": "2022-08-15T18:44:02.509Z"
   },
   {
    "duration": 19,
    "start_time": "2022-08-15T18:44:02.531Z"
   },
   {
    "duration": 4,
    "start_time": "2022-08-15T18:44:02.551Z"
   },
   {
    "duration": 36,
    "start_time": "2022-08-15T18:44:02.557Z"
   },
   {
    "duration": 20,
    "start_time": "2022-08-15T18:44:02.596Z"
   },
   {
    "duration": 6,
    "start_time": "2022-08-15T18:44:02.618Z"
   },
   {
    "duration": 12,
    "start_time": "2022-08-15T18:44:02.625Z"
   },
   {
    "duration": 13,
    "start_time": "2022-08-15T18:44:02.639Z"
   },
   {
    "duration": 335,
    "start_time": "2022-08-15T18:44:02.654Z"
   },
   {
    "duration": 22,
    "start_time": "2022-08-15T18:44:02.990Z"
   },
   {
    "duration": 35,
    "start_time": "2022-08-15T18:44:40.178Z"
   }
  ],
  "colab": {
   "name": "dpp_template_part2.ipynb",
   "provenance": []
  },
  "kernelspec": {
   "display_name": "Python 3 (ipykernel)",
   "language": "python",
   "name": "python3"
  },
  "language_info": {
   "codemirror_mode": {
    "name": "ipython",
    "version": 3
   },
   "file_extension": ".py",
   "mimetype": "text/x-python",
   "name": "python",
   "nbconvert_exporter": "python",
   "pygments_lexer": "ipython3",
   "version": "3.9.5"
  },
  "toc": {
   "base_numbering": 1,
   "nav_menu": {},
   "number_sections": true,
   "sideBar": true,
   "skip_h1_title": true,
   "title_cell": "Table of Contents",
   "title_sidebar": "Contents",
   "toc_cell": false,
   "toc_position": {},
   "toc_section_display": true,
   "toc_window_display": false
  }
 },
 "nbformat": 4,
 "nbformat_minor": 5
}
