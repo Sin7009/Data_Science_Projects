{
 "cells": [
  {
   "cell_type": "markdown",
   "metadata": {},
   "source": [
    "<h1> Комментарий ревьюера </h1>\n",
    "\n",
    "Привет, Константин!\n",
    "Меня зовут Виктория Ильина, и я буду проверять твой проект. Предлагаю общаться на \"ты\", но если тебе будет не комфортно, обязательно сообщи и мы перейдем на \"вы\". \n",
    "\n",
    "Моя основная цель - не указать на совершённые тобой ошибки, а поделиться своим опытом и помочь тебе стать специалистом по Data Science. Ты уже проделал большую работу над проектом, но давай сделаем его ещё лучше. Ниже ты найдёшь мои комментарии - пожалуйста, не перемещай, не изменяй и не удаляй их. Я буду использовать различные цвета, чтобы было легче воспринимать мои комментарии:\n",
    "\n",
    "<div class=\"alert alert-block alert-danger\">\n",
    "<b>Комментарий ревьюера❌:</b> Так выделены самые важные замечания. Без их отработки проект не будет принят.\n",
    "</div>\n",
    "\n",
    "<div class=\"alert alert-block alert-warning\">\n",
    "<b>Комментарий ревьюера🤔:</b> Так выделены небольшие замечания. Одно-два таких замечания в проекте допустимы, но если их будет больше - тебе будет необходимо внести исправления. Однако, если перед нами стоит цель не просто сдать проект и забыть, а приобрести новые знания и успешно применять их в будущем, я бы всё-таки рекомендовала тебе прорабатывать эти недочёты.\n",
    "</div>\n",
    "    \n",
    "<div class=\"alert alert-block alert-success\">\n",
    "<b>Комментарий ревьюера👍:</b> Так я выделю все остальные комментарии.\n",
    "</div>\n",
    "    \n",
    "Давай работать над проектом в диалоге: если ты что-то меняешь в проекте или отвечаешь на мои комментарии - пиши об этом. Мне будет легче отследить изменения, если ты выделишь свои комментарии:\n",
    "\n",
    "<div class=\"alert alert-block alert-info\">\n",
    "<b>Комментарий студента:</b> Например, вот так.\n",
    "</div>\n",
    "\n",
    "Давай посмотрим, что получилось!"
   ]
  },
  {
   "cell_type": "markdown",
   "metadata": {
    "toc": true
   },
   "source": [
    "<h1>Содержание<span class=\"tocSkip\"></span></h1>\n",
    "<div class=\"toc\"><ul class=\"toc-item\"><li><span><a href=\"#Загрузка-данных\" data-toc-modified-id=\"Загрузка-данных-1\"><span class=\"toc-item-num\">1&nbsp;&nbsp;</span>Загрузка данных</a></span><ul class=\"toc-item\"><li><span><a href=\"#Вывод-по-шагу-1\" data-toc-modified-id=\"Вывод-по-шагу-1-1.1\"><span class=\"toc-item-num\">1.1&nbsp;&nbsp;</span>Вывод по шагу 1</a></span></li></ul></li><li><span><a href=\"#Умножение-матриц\" data-toc-modified-id=\"Умножение-матриц-2\"><span class=\"toc-item-num\">2&nbsp;&nbsp;</span>Умножение матриц</a></span><ul class=\"toc-item\"><li><span><a href=\"#Вывод.\" data-toc-modified-id=\"Вывод.-2.1\"><span class=\"toc-item-num\">2.1&nbsp;&nbsp;</span>Вывод.</a></span></li></ul></li><li><span><a href=\"#Алгоритм-преобразования\" data-toc-modified-id=\"Алгоритм-преобразования-3\"><span class=\"toc-item-num\">3&nbsp;&nbsp;</span>Алгоритм преобразования</a></span><ul class=\"toc-item\"><li><span><a href=\"#Вывод.\" data-toc-modified-id=\"Вывод.-3.1\"><span class=\"toc-item-num\">3.1&nbsp;&nbsp;</span>Вывод.</a></span></li></ul></li><li><span><a href=\"#Проверка-алгоритма\" data-toc-modified-id=\"Проверка-алгоритма-4\"><span class=\"toc-item-num\">4&nbsp;&nbsp;</span>Проверка алгоритма</a></span><ul class=\"toc-item\"><li><span><a href=\"#Сгенерируем-матрицу-без-использования-функции,-проверяющей-обратимость-матрицы\" data-toc-modified-id=\"Сгенерируем-матрицу-без-использования-функции,-проверяющей-обратимость-матрицы-4.1\"><span class=\"toc-item-num\">4.1&nbsp;&nbsp;</span>Сгенерируем матрицу без использования функции, проверяющей обратимость матрицы</a></span></li><li><span><a href=\"#Сгенерируем-матрицу-с-использованием-функции,-проверяющей-обратимость-матрицы\" data-toc-modified-id=\"Сгенерируем-матрицу-с-использованием-функции,-проверяющей-обратимость-матрицы-4.2\"><span class=\"toc-item-num\">4.2&nbsp;&nbsp;</span>Сгенерируем матрицу с использованием функции, проверяющей обратимость матрицы</a></span></li><li><span><a href=\"#Создадим-класс-модели-линейной-регрессии-LinearRegression\" data-toc-modified-id=\"Создадим-класс-модели-линейной-регрессии-LinearRegression-4.3\"><span class=\"toc-item-num\">4.3&nbsp;&nbsp;</span>Создадим класс модели линейной регрессии <em>LinearRegression</em></a></span></li><li><span><a href=\"#Используем-пайплайн-для-получения-метрики-R2\" data-toc-modified-id=\"Используем-пайплайн-для-получения-метрики-R2-4.4\"><span class=\"toc-item-num\">4.4&nbsp;&nbsp;</span>Используем пайплайн для получения метрики <em>R2</em></a></span></li></ul></li><li><span><a href=\"#Общий-вывод\" data-toc-modified-id=\"Общий-вывод-5\"><span class=\"toc-item-num\">5&nbsp;&nbsp;</span>Общий вывод</a></span></li><li><span><a href=\"#Чек-лист-проверки\" data-toc-modified-id=\"Чек-лист-проверки-6\"><span class=\"toc-item-num\">6&nbsp;&nbsp;</span>Чек-лист проверки</a></span></li></ul></div>"
   ]
  },
  {
   "cell_type": "markdown",
   "metadata": {},
   "source": [
    "# Защита персональных данных клиентов"
   ]
  },
  {
   "cell_type": "markdown",
   "metadata": {},
   "source": [
    "Вам нужно защитить данные клиентов страховой компании «Хоть потоп». Разработайте такой метод преобразования данных, чтобы по ним было сложно восстановить персональную информацию. Обоснуйте корректность его работы.\n",
    "\n",
    "Нужно защитить данные, чтобы при преобразовании качество моделей машинного обучения не ухудшилось. Подбирать наилучшую модель не требуется."
   ]
  },
  {
   "cell_type": "markdown",
   "metadata": {},
   "source": [
    "## Загрузка данных"
   ]
  },
  {
   "cell_type": "code",
   "execution_count": 1,
   "metadata": {},
   "outputs": [],
   "source": [
    "import pandas as pd # для загрузки данных\n",
    "import numpy as np # для операций с матрицамиъ\n",
    "import warnings # для отключения предупреждений\n",
    "warnings.simplefilter(action='ignore', category=UserWarning) # для отключения предупреждений\n",
    "import seaborn as sns # для построения тепловой карты (хитмэп)\n",
    "import matplotlib.pyplot as plt # для построения распределений переменных\n",
    "from sklearn.model_selection import train_test_split # для разбиения данных на обучающую и тестовую выборки\n",
    "from sklearn.metrics import r2_score # для расчёта метрики R2\n",
    "from sklearn.pipeline import Pipeline # для построения пайплайн\n",
    "from sklearn.base import BaseEstimator, TransformerMixin # для использования в пайплайн\n",
    "from sklearn.preprocessing import FunctionTransformer # для использования в пайплайн\n",
    "RANDOM_STATE = 12345"
   ]
  },
  {
   "cell_type": "code",
   "execution_count": 2,
   "metadata": {},
   "outputs": [],
   "source": [
    "df = pd.read_csv('/datasets/insurance.csv')"
   ]
  },
  {
   "cell_type": "code",
   "execution_count": 3,
   "metadata": {},
   "outputs": [
    {
     "data": {
      "text/html": [
       "<div>\n",
       "<style scoped>\n",
       "    .dataframe tbody tr th:only-of-type {\n",
       "        vertical-align: middle;\n",
       "    }\n",
       "\n",
       "    .dataframe tbody tr th {\n",
       "        vertical-align: top;\n",
       "    }\n",
       "\n",
       "    .dataframe thead th {\n",
       "        text-align: right;\n",
       "    }\n",
       "</style>\n",
       "<table border=\"1\" class=\"dataframe\">\n",
       "  <thead>\n",
       "    <tr style=\"text-align: right;\">\n",
       "      <th></th>\n",
       "      <th>Пол</th>\n",
       "      <th>Возраст</th>\n",
       "      <th>Зарплата</th>\n",
       "      <th>Члены семьи</th>\n",
       "      <th>Страховые выплаты</th>\n",
       "    </tr>\n",
       "  </thead>\n",
       "  <tbody>\n",
       "    <tr>\n",
       "      <th>0</th>\n",
       "      <td>1</td>\n",
       "      <td>41.0</td>\n",
       "      <td>49600.0</td>\n",
       "      <td>1</td>\n",
       "      <td>0</td>\n",
       "    </tr>\n",
       "    <tr>\n",
       "      <th>1</th>\n",
       "      <td>0</td>\n",
       "      <td>46.0</td>\n",
       "      <td>38000.0</td>\n",
       "      <td>1</td>\n",
       "      <td>1</td>\n",
       "    </tr>\n",
       "    <tr>\n",
       "      <th>2</th>\n",
       "      <td>0</td>\n",
       "      <td>29.0</td>\n",
       "      <td>21000.0</td>\n",
       "      <td>0</td>\n",
       "      <td>0</td>\n",
       "    </tr>\n",
       "    <tr>\n",
       "      <th>3</th>\n",
       "      <td>0</td>\n",
       "      <td>21.0</td>\n",
       "      <td>41700.0</td>\n",
       "      <td>2</td>\n",
       "      <td>0</td>\n",
       "    </tr>\n",
       "    <tr>\n",
       "      <th>4</th>\n",
       "      <td>1</td>\n",
       "      <td>28.0</td>\n",
       "      <td>26100.0</td>\n",
       "      <td>0</td>\n",
       "      <td>0</td>\n",
       "    </tr>\n",
       "  </tbody>\n",
       "</table>\n",
       "</div>"
      ],
      "text/plain": [
       "   Пол  Возраст  Зарплата  Члены семьи  Страховые выплаты\n",
       "0    1     41.0   49600.0            1                  0\n",
       "1    0     46.0   38000.0            1                  1\n",
       "2    0     29.0   21000.0            0                  0\n",
       "3    0     21.0   41700.0            2                  0\n",
       "4    1     28.0   26100.0            0                  0"
      ]
     },
     "execution_count": 3,
     "metadata": {},
     "output_type": "execute_result"
    }
   ],
   "source": [
    "df.head()"
   ]
  },
  {
   "cell_type": "code",
   "execution_count": 4,
   "metadata": {},
   "outputs": [
    {
     "name": "stdout",
     "output_type": "stream",
     "text": [
      "<class 'pandas.core.frame.DataFrame'>\n",
      "RangeIndex: 5000 entries, 0 to 4999\n",
      "Data columns (total 5 columns):\n",
      " #   Column             Non-Null Count  Dtype  \n",
      "---  ------             --------------  -----  \n",
      " 0   Пол                5000 non-null   int64  \n",
      " 1   Возраст            5000 non-null   float64\n",
      " 2   Зарплата           5000 non-null   float64\n",
      " 3   Члены семьи        5000 non-null   int64  \n",
      " 4   Страховые выплаты  5000 non-null   int64  \n",
      "dtypes: float64(2), int64(3)\n",
      "memory usage: 195.4 KB\n"
     ]
    }
   ],
   "source": [
    "df.info()"
   ]
  },
  {
   "cell_type": "markdown",
   "metadata": {},
   "source": [
    "### Вывод по шагу 1\n",
    "* Пропусков нет.\n",
    "* Типы данных приведены.\n",
    "* Используется верхний регистр.\n",
    "* Лишних для модели данных нет."
   ]
  },
  {
   "cell_type": "markdown",
   "metadata": {},
   "source": [
    "    \n",
    "<div class=\"alert alert-block alert-success\">\n",
    "<b>Комментарий ревьюера👍:</b> Хорошо, продолжаем\n",
    "</div>"
   ]
  },
  {
   "cell_type": "markdown",
   "metadata": {},
   "source": [
    "## Умножение матриц"
   ]
  },
  {
   "cell_type": "markdown",
   "metadata": {},
   "source": [
    "В этом задании вы можете записывать формулы в *Jupyter Notebook.*\n",
    "\n",
    "Чтобы записать формулу внутри текста, окружите её символами доллара \\\\$; если снаружи —  двойными символами \\\\$\\\\$. Эти формулы записываются на языке вёрстки *LaTeX.* \n",
    "\n",
    "Для примера мы записали формулы линейной регрессии. Можете их скопировать и отредактировать, чтобы решить задачу.\n",
    "\n",
    "Работать в *LaTeX* необязательно."
   ]
  },
  {
   "cell_type": "markdown",
   "metadata": {},
   "source": [
    "Обозначения:\n",
    "\n",
    "- $X$ — матрица признаков (нулевой столбец состоит из единиц)\n",
    "\n",
    "- $y$ — вектор целевого признака\n",
    "\n",
    "- $P$ — матрица, на которую умножаются признаки\n",
    "\n",
    "- $w$ — вектор весов линейной регрессии (нулевой элемент равен сдвигу)"
   ]
  },
  {
   "cell_type": "markdown",
   "metadata": {},
   "source": [
    "Предсказания:\n",
    "\n",
    "$$\n",
    "a = Xw\n",
    "$$\n",
    "\n",
    "Задача обучения:\n",
    "\n",
    "$$\n",
    "w = \\arg\\min_w MSE(Xw, y)\n",
    "$$\n",
    "\n",
    "Формула обучения:\n",
    "\n",
    "$$\n",
    "w = (X^T X)^{-1} X^T y\n",
    "$$"
   ]
  },
  {
   "cell_type": "markdown",
   "metadata": {},
   "source": [
    "**Ответим на вопрос и обоснуем решение.**\n",
    "\n",
    "   **Умножим признаки на обратимую матрицу. Изменится ли качество линейной регрессии? (Её можно обучить заново.)**\n",
    "\n",
    "   **a. Изменится. Приведём примеры матриц.**\n",
    "\n",
    "   **b. Не изменится. Укажем, как связаны параметры линейной регрессии в исходной задаче и в преобразованной.**"
   ]
  },
  {
   "cell_type": "markdown",
   "metadata": {},
   "source": [
    "**Ответ:** не изменится.\n",
    "\n",
    "**Обоснование:** для обоснования вывода формулы приведём основные свойства матриц."
   ]
  },
  {
   "cell_type": "markdown",
   "metadata": {},
   "source": [
    "**Основные свойства транспонирования матриц:**\n",
    "\n",
    "1. Двойное транспонирование ***возвращает*** исходную матрицу: $(А^{T})^{T}=А$.\n",
    "\n",
    "2. Транспонирование ***суммы*** матриц эквивалентно сумме транспонированных слагаемых: $(А+В)^{T}=А^{T}+В^{T}$.\n",
    "\n",
    "3. Транспонирование ***произведения*** двух матриц эквивалентно произведению транспонированных матриц, взятых ***в обратном порядке***: $(АВ)^{T} = В^{T}А^{T}$.\n",
    "\n",
    "4. Произведение матрицы на свою транспонированную: $А^{T}А$ или $АА^{T}$ всегда имеет результатом ***симметричную*** квадратную матрицу."
   ]
  },
  {
   "cell_type": "markdown",
   "metadata": {},
   "source": [
    "**Основные свойства обратной матрицы:**\n",
    "\n",
    "1. $АА^{-1}=А^{-1}А=E$, где $E$ - единичная матрица.\n",
    "\n",
    "2. $(АВ)^{-1}=В^{-1}А^{-1}$, т.е. при раскрытии скобок порядок сомножителей меняется на обратный.\n",
    "\n",
    "3. $(А^{T})^{-1}=(А^{-1})^{T}$, т.е. операции обращения и транспонирования можно менять местами."
   ]
  },
  {
   "cell_type": "markdown",
   "metadata": {},
   "source": [
    "Умножение матриц ассоциативно:\n",
    "\n",
    "$$\n",
    "(ABC)^{-1} = C^{-1}(AB)^{-1} = (BC)^{-1}A^{-1} = C^{-1}B^{-1}A^{-1}\n",
    "$$\n",
    "\n",
    "НО! Умножение матриц некоммутативно. Это значит, что от перестановки местами матриц в произведении результат меняется."
   ]
  },
  {
   "cell_type": "markdown",
   "metadata": {},
   "source": [
    "Умножим матрицу признаков $X$ в формуле обучения $w(X) = (X^T X)^{-1} X^T y$ на обратимую матрицу $P$:\n",
    "\n",
    "$$\n",
    "w(XP) = [(XP)^T (XP)]^{-1} (XP)^T y = [P^T X^T XP]^{-1} P^T X^T y = P^{-1}[P^T (X^T X)]^{-1} P^T X^T y = P^{-1}(X^T X)^{-1} [(P^T)^{-1} P^T] X^T y = P^{-1}(X^T X)^{-1} X^T y,\n",
    "$$\n",
    "\n",
    "где $[(P^T)^{-1} P^T]=E$.\n",
    "\n",
    "\n",
    "Отсюда укажем, как связаны параметры линейной регрессии в исходной задаче и в преобразованной:\n",
    "\n",
    "$$\n",
    "w(XP) = P^{-1} w(X)\n",
    "$$"
   ]
  },
  {
   "cell_type": "markdown",
   "metadata": {},
   "source": [
    "Подставим $w(XP)$ в формулу предсказания $a = Xw(X)$ (т.е. заменим $X$ на $XP$):\n",
    "\n",
    "$$\n",
    "a = XP w(XP) = XP [P^{-1} w(X)] = Xw(X)\n",
    "$$"
   ]
  },
  {
   "cell_type": "markdown",
   "metadata": {},
   "source": [
    "### Вывод. \n",
    "\n",
    "В результате выполнения задачи этого раздела было выявлено следующее:\n",
    "\n",
    "мы доказали, что при умножении матрицы признаков $X$ на обратимую матрицу $P$ вектор весов $w$ меняется, а вектор целевого признака $a$ нет. Т.е. качество линейной регрессии не изменится."
   ]
  },
  {
   "cell_type": "markdown",
   "metadata": {},
   "source": [
    "<div class=\"alert alert-block alert-success\">\n",
    "<b>Комментарий ревьюера👍:</b> Абсолютно верно, молодец, что не раскрыл $(X^T X)^{-1}$, так как для неквадратных матриц $X$ и $X^T$ обратных матриц не существует. - Это очень частая ошибка в этом проекте\n",
    "</div>\n"
   ]
  },
  {
   "cell_type": "markdown",
   "metadata": {},
   "source": [
    "## Алгоритм преобразования"
   ]
  },
  {
   "cell_type": "markdown",
   "metadata": {},
   "source": [
    "**Предложим алгоритм преобразования данных для решения задачи. Обоснуем, почему качество линейной регрессии не поменяется.**\n",
    "\n",
    "**Алгоритм**\n",
    "\n",
    "1.\tРазобьём исходные данные, выделив целевой признак.\n",
    "2.\tРазделим данные на обучающую и тестовую выборки.\n",
    "3.\tСгенерируем случайную квадратную матрицу *P* с размером, равным количеству признаков в исходном датасете. Нужно генерировать матрицу до тех пор, пока мы не получим обратимую, и наш код гарантированно полностью не отработает. Добиться этого можно с помощью написания специальных для этого функций. Если сгенерированная матрица будет необратимой, то выскочит ошибка, код не исполнится до конца. Нужно генерировать матрицу до тех пор, пока не получим обратимую, и наш код гарантированно полностью не отработает. Добиться этого можно с помощью написания специальных для этого функций.\n",
    "4.\tУмножим признаки обучающей и тестовой  выборок  исходного датасета на сгенерированную случайную квадратную матрицу *P*.\n",
    "5.\tСоздадим класс модели машинного обучения *LinearRegression*.\n",
    "6.\tНапишем функцию для создания модели линейной регрессии и получим её предсказания метрики *R2*.\n",
    "7.\tПолучим *R2* модели для исходной и преобразованной матриц."
   ]
  },
  {
   "cell_type": "markdown",
   "metadata": {},
   "source": [
    "**Обоснование**\n",
    "\n",
    "Обоснование было приведено в разделе 2 \"Умножение матриц\"."
   ]
  },
  {
   "cell_type": "markdown",
   "metadata": {},
   "source": [
    "### Вывод. \n",
    "\n",
    "В результате выполнения задачи этого раздела был предложен алгоритм преобразования данных для решения задачи."
   ]
  },
  {
   "cell_type": "markdown",
   "metadata": {},
   "source": [
    "<div class=\"alert alert-block alert-success\">\n",
    "<b>Комментарий ревьюера👍:</b> Верно\n",
    "</div>\n"
   ]
  },
  {
   "cell_type": "markdown",
   "metadata": {},
   "source": [
    "## Проверка алгоритма"
   ]
  },
  {
   "cell_type": "markdown",
   "metadata": {},
   "source": [
    "**Запрограммируем этот алгоритм, применив матричные операции. Проверим, что качество линейной регрессии из *sklearn* не отличается до и после преобразования. Применим метрику *R2*.**"
   ]
  },
  {
   "cell_type": "code",
   "execution_count": 5,
   "metadata": {},
   "outputs": [],
   "source": [
    "# Разобьём исходные данные, выделив целевой признак:\n",
    "features = df.drop('Страховые выплаты', axis=1)\n",
    "target = df['Страховые выплаты']\n",
    "\n",
    "# Разделим данные на обучающую и тестовую выборки в соотношении 80:20:\n",
    "features_train, features_test, target_train, target_test = train_test_split(\n",
    "    features, target, test_size=0.2, random_state=RANDOM_STATE)"
   ]
  },
  {
   "cell_type": "markdown",
   "metadata": {},
   "source": [
    "### Сгенерируем матрицу без использования функции, проверяющей обратимость матрицы"
   ]
  },
  {
   "cell_type": "markdown",
   "metadata": {},
   "source": [
    "Сначала выполним задание без использования функции, проверяющей обратимость матрицы.\n",
    "Квадратные матрицы, для которых можно найти обратные, называются обратимыми (англ. *invertible matrix*). \n",
    "\n",
    "Необратимые матрицы встречаются редко. Если сгенерировать случайную матрицу функцией *numpy.random.normal()* (англ. «нормальное распределение»), вероятность получить необратимую матрицу близка к нулю."
   ]
  },
  {
   "cell_type": "code",
   "execution_count": 6,
   "metadata": {},
   "outputs": [
    {
     "data": {
      "text/plain": [
       "array([[ 1.94363868, -1.24322566,  1.93794196,  0.88725796],\n",
       "       [ 1.2386124 , -0.56383335,  1.63994805,  0.06063893],\n",
       "       [-0.23532751,  0.06985011, -1.06195639,  1.81215281],\n",
       "       [-0.24032465, -0.82712136, -0.93569977,  0.52726864]])"
      ]
     },
     "metadata": {},
     "output_type": "display_data"
    }
   ],
   "source": [
    "# Сгенерируем случайную квадратную матрицу P с размером, равным количеству признаков в исходном датасете,\n",
    "# (т.к. количество столбцов исходной матрицы датасета должно совпадать с количеством строк матрицы P):\n",
    "P = np.random.normal(size=(df.shape[1] - 1, df.shape[1] - 1))\n",
    "display(P)"
   ]
  },
  {
   "cell_type": "markdown",
   "metadata": {},
   "source": [
    "Чтобы найти обратную матрицу, вызовем функцию *numpy.linalg.inv()* (от англ. *linear algebra*, «линейная алгебра»; *invert*, «обратить»). Также она поможет проверить матрицу на обратимость: если матрица необратима, будет обнаружена ошибка."
   ]
  },
  {
   "cell_type": "code",
   "execution_count": 7,
   "metadata": {},
   "outputs": [
    {
     "data": {
      "text/plain": [
       "array([[ 1.,  0., -0.,  0.],\n",
       "       [-0.,  1.,  0., -0.],\n",
       "       [ 0., -0.,  1., -0.],\n",
       "       [ 0., -0., -0.,  1.]])"
      ]
     },
     "metadata": {},
     "output_type": "display_data"
    }
   ],
   "source": [
    "# Проверим, что эта матрица обратима (умножим её на обратную ей матрицу):\n",
    "display(np.round(P @ np.linalg.inv(P)))"
   ]
  },
  {
   "cell_type": "markdown",
   "metadata": {},
   "source": [
    "<div class=\"alert alert-block alert-success\">\n",
    "<b>Комментарий ревьюера👍:</b> Получена единичная матрица, всё в порядке =)\n",
    "</div>"
   ]
  },
  {
   "cell_type": "markdown",
   "metadata": {},
   "source": [
    "### Сгенерируем матрицу с использованием функции, проверяющей обратимость матрицы"
   ]
  },
  {
   "cell_type": "code",
   "execution_count": 8,
   "metadata": {},
   "outputs": [
    {
     "name": "stdout",
     "output_type": "stream",
     "text": [
      "[[ 1.49726849 -0.22321926 -0.69877825 -0.18459511]\n",
      " [-1.51564661  0.62646139  0.6462998   0.28470039]\n",
      " [ 0.39357495  0.34972308 -0.62689246  0.49992683]\n",
      " [-0.05337907 -1.24745092 -0.20796027 -1.27435663]]\n"
     ]
    }
   ],
   "source": [
    "# Вариант 1:\n",
    "\n",
    "def get_rand_matrix():\n",
    "    det = 0\n",
    "    while det == 0:\n",
    "        matrix = np.random.normal(size=(df.shape[1] - 1, df.shape[1] - 1))\n",
    "        det = np.linalg.det(matrix)\n",
    "    return matrix\n",
    "\n",
    "\n",
    "mat = get_rand_matrix()\n",
    "\n",
    "print(mat)"
   ]
  },
  {
   "cell_type": "code",
   "execution_count": 9,
   "metadata": {},
   "outputs": [
    {
     "name": "stdout",
     "output_type": "stream",
     "text": [
      "[[-2.09201934  0.29246881  0.39894399  1.70986661]\n",
      " [-0.92505679 -1.08283139  0.39860254  1.92608929]\n",
      " [ 1.04042305  0.72848022  1.16475991 -2.22766874]\n",
      " [ 2.01954565  0.98090253 -0.79597915 -1.60244163]]\n"
     ]
    }
   ],
   "source": [
    "# Вариант 2 (с помощью рекурсии):\n",
    "\n",
    "def func(dim):\n",
    "    transform_matrix = np.random.rand(dim, dim)\n",
    "    try: \n",
    "        inv = np.linalg.inv(transform_matrix)\n",
    "        return transform_matrix, inv\n",
    "    except:\n",
    "        func(dim)\n",
    "   \n",
    "\n",
    "features_new, inv_P = func(df.shape[1] - 1)\n",
    "\n",
    "print(inv_P)"
   ]
  },
  {
   "cell_type": "code",
   "execution_count": 10,
   "metadata": {},
   "outputs": [
    {
     "data": {
      "text/plain": [
       "'Сгенерированная квадратная матрица P'"
      ]
     },
     "metadata": {},
     "output_type": "display_data"
    },
    {
     "data": {
      "text/plain": [
       "array([[-1.31136747,  0.3921804 ,  0.18868055, -0.67088287],\n",
       "       [ 1.75872714,  0.14106138, -0.17773045,  0.79787127],\n",
       "       [-0.41702659, -0.22854768,  0.3550602 ,  0.33039819],\n",
       "       [ 0.58912996,  0.19073027, -0.5545481 ,  0.6259302 ]])"
      ]
     },
     "metadata": {},
     "output_type": "display_data"
    },
    {
     "data": {
      "text/plain": [
       "'Преобразованная исходная матрица для обучающей выборки'"
      ]
     },
     "metadata": {},
     "output_type": "display_data"
    },
    {
     "data": {
      "text/html": [
       "<div>\n",
       "<style scoped>\n",
       "    .dataframe tbody tr th:only-of-type {\n",
       "        vertical-align: middle;\n",
       "    }\n",
       "\n",
       "    .dataframe tbody tr th {\n",
       "        vertical-align: top;\n",
       "    }\n",
       "\n",
       "    .dataframe thead th {\n",
       "        text-align: right;\n",
       "    }\n",
       "</style>\n",
       "<table border=\"1\" class=\"dataframe\">\n",
       "  <thead>\n",
       "    <tr style=\"text-align: right;\">\n",
       "      <th></th>\n",
       "      <th>0</th>\n",
       "      <th>1</th>\n",
       "      <th>2</th>\n",
       "      <th>3</th>\n",
       "    </tr>\n",
       "  </thead>\n",
       "  <tbody>\n",
       "    <tr>\n",
       "      <th>317</th>\n",
       "      <td>30646.963786</td>\n",
       "      <td>49636.428451</td>\n",
       "      <td>40090.700423</td>\n",
       "      <td>-51582.192361</td>\n",
       "    </tr>\n",
       "    <tr>\n",
       "      <th>4143</th>\n",
       "      <td>26378.998328</td>\n",
       "      <td>42684.283161</td>\n",
       "      <td>34449.072906</td>\n",
       "      <td>-44320.047816</td>\n",
       "    </tr>\n",
       "    <tr>\n",
       "      <th>4252</th>\n",
       "      <td>39154.876844</td>\n",
       "      <td>63382.295727</td>\n",
       "      <td>51170.233698</td>\n",
       "      <td>-65835.023067</td>\n",
       "    </tr>\n",
       "    <tr>\n",
       "      <th>710</th>\n",
       "      <td>30124.374233</td>\n",
       "      <td>48775.071382</td>\n",
       "      <td>39386.411136</td>\n",
       "      <td>-50672.583615</td>\n",
       "    </tr>\n",
       "    <tr>\n",
       "      <th>148</th>\n",
       "      <td>30047.196985</td>\n",
       "      <td>48650.198995</td>\n",
       "      <td>39284.339283</td>\n",
       "      <td>-50543.847934</td>\n",
       "    </tr>\n",
       "  </tbody>\n",
       "</table>\n",
       "</div>"
      ],
      "text/plain": [
       "                 0             1             2             3\n",
       "317   30646.963786  49636.428451  40090.700423 -51582.192361\n",
       "4143  26378.998328  42684.283161  34449.072906 -44320.047816\n",
       "4252  39154.876844  63382.295727  51170.233698 -65835.023067\n",
       "710   30124.374233  48775.071382  39386.411136 -50672.583615\n",
       "148   30047.196985  48650.198995  39284.339283 -50543.847934"
      ]
     },
     "metadata": {},
     "output_type": "display_data"
    },
    {
     "data": {
      "text/plain": [
       "'Преобразованная исходная матрица для тестовой выборки'"
      ]
     },
     "metadata": {},
     "output_type": "display_data"
    },
    {
     "data": {
      "text/html": [
       "<div>\n",
       "<style scoped>\n",
       "    .dataframe tbody tr th:only-of-type {\n",
       "        vertical-align: middle;\n",
       "    }\n",
       "\n",
       "    .dataframe tbody tr th {\n",
       "        vertical-align: top;\n",
       "    }\n",
       "\n",
       "    .dataframe thead th {\n",
       "        text-align: right;\n",
       "    }\n",
       "</style>\n",
       "<table border=\"1\" class=\"dataframe\">\n",
       "  <thead>\n",
       "    <tr style=\"text-align: right;\">\n",
       "      <th></th>\n",
       "      <th>0</th>\n",
       "      <th>1</th>\n",
       "      <th>2</th>\n",
       "      <th>3</th>\n",
       "    </tr>\n",
       "  </thead>\n",
       "  <tbody>\n",
       "    <tr>\n",
       "      <th>3183</th>\n",
       "      <td>30057.850862</td>\n",
       "      <td>48657.852763</td>\n",
       "      <td>39288.862573</td>\n",
       "      <td>-50539.779915</td>\n",
       "    </tr>\n",
       "    <tr>\n",
       "      <th>1071</th>\n",
       "      <td>33243.711676</td>\n",
       "      <td>53791.465256</td>\n",
       "      <td>43417.212539</td>\n",
       "      <td>-55851.269636</td>\n",
       "    </tr>\n",
       "    <tr>\n",
       "      <th>2640</th>\n",
       "      <td>32452.310831</td>\n",
       "      <td>52529.724173</td>\n",
       "      <td>42405.775923</td>\n",
       "      <td>-54560.476324</td>\n",
       "    </tr>\n",
       "    <tr>\n",
       "      <th>2282</th>\n",
       "      <td>26801.300964</td>\n",
       "      <td>43403.796943</td>\n",
       "      <td>35052.047801</td>\n",
       "      <td>-45102.859674</td>\n",
       "    </tr>\n",
       "    <tr>\n",
       "      <th>1595</th>\n",
       "      <td>30842.599674</td>\n",
       "      <td>49915.434746</td>\n",
       "      <td>40296.795194</td>\n",
       "      <td>-51833.747055</td>\n",
       "    </tr>\n",
       "  </tbody>\n",
       "</table>\n",
       "</div>"
      ],
      "text/plain": [
       "                 0             1             2             3\n",
       "3183  30057.850862  48657.852763  39288.862573 -50539.779915\n",
       "1071  33243.711676  53791.465256  43417.212539 -55851.269636\n",
       "2640  32452.310831  52529.724173  42405.775923 -54560.476324\n",
       "2282  26801.300964  43403.796943  35052.047801 -45102.859674\n",
       "1595  30842.599674  49915.434746  40296.795194 -51833.747055"
      ]
     },
     "metadata": {},
     "output_type": "display_data"
    }
   ],
   "source": [
    "# Вариант 3 (с помощью рекурсии). \n",
    "# В этом варианте мы можем вывести и сгенерированную квадратную матрицу, \n",
    "# и преобразованные матрицы исходного датасета для обучающей и тестовой выборок:\n",
    "\n",
    "def func(X, seed):\n",
    "    try:\n",
    "        state = np.random.RandomState(seed=seed)\n",
    "        rand_matrix = state.normal(size=(X.shape[1], X.shape[1])) \n",
    "        inv = np.linalg.inv(rand_matrix)\n",
    "        return X @ rand_matrix, inv\n",
    "    except np.linalg.LinAlgError:\n",
    "        func(X, seed)\n",
    "        \n",
    "        \n",
    "features_train_P, inv_P = func(features_train, RANDOM_STATE)\n",
    "features_test_P, inv_P = func(features_test, RANDOM_STATE)\n",
    "\n",
    "display('Сгенерированная квадратная матрица P', inv_P)\n",
    "display('Преобразованная исходная матрица для обучающей выборки', features_train_P.head())\n",
    "display('Преобразованная исходная матрица для тестовой выборки', features_test_P.head())"
   ]
  },
  {
   "cell_type": "markdown",
   "metadata": {},
   "source": [
    "### Создадим класс модели линейной регрессии *LinearRegression*"
   ]
  },
  {
   "cell_type": "code",
   "execution_count": 11,
   "metadata": {},
   "outputs": [],
   "source": [
    "class LinearRegression:\n",
    "    def fit(self, train_features, train_target):\n",
    "        X = np.concatenate((np.ones((train_features.shape[0], 1)), train_features), axis=1)\n",
    "        y = train_target\n",
    "        w = ((np.linalg.inv(X.T @ X)) @ X.T) @ y\n",
    "        self.w = w[1:]\n",
    "        self.w0 = w[0]\n",
    "\n",
    "    def predict(self, test_features):\n",
    "        return (test_features @ self.w) + self.w0"
   ]
  },
  {
   "cell_type": "markdown",
   "metadata": {},
   "source": [
    "Здесь мы применили сокращённую запись формулы линейной регрессии: в обучающую выборку добавили единичный столбец (*numpy.ones()*)."
   ]
  },
  {
   "cell_type": "code",
   "execution_count": 12,
   "metadata": {},
   "outputs": [],
   "source": [
    "# Напишем функцию для предсказания метрики R2, применив созданный выше класс модели линейной регрессии:\n",
    "def model(x_train, y_train, x_test, y_test):\n",
    "    model = LinearRegression()\n",
    "    model.fit(x_train, y_train)\n",
    "    predictions = model.predict(x_test)\n",
    "    print('R2 модели:', r2_score(y_test, predictions))\n",
    "    print(f'R2 модели (округлённо): {r2_score(y_test, predictions):.2f}')"
   ]
  },
  {
   "cell_type": "code",
   "execution_count": 13,
   "metadata": {},
   "outputs": [
    {
     "name": "stdout",
     "output_type": "stream",
     "text": [
      "R2 модели: 0.41176839567704737\n",
      "R2 модели (округлённо): 0.41\n"
     ]
    }
   ],
   "source": [
    "# R2 модели для исходной матрицы:\n",
    "model(features_train, target_train, features_test, target_test)"
   ]
  },
  {
   "cell_type": "code",
   "execution_count": 14,
   "metadata": {},
   "outputs": [
    {
     "name": "stdout",
     "output_type": "stream",
     "text": [
      "R2 модели: 0.41176840632669975\n",
      "R2 модели (округлённо): 0.41\n"
     ]
    }
   ],
   "source": [
    "# R2 модели для преобразованной матрицы:\n",
    "model(features_train_P, target_train, features_test_P, target_test)"
   ]
  },
  {
   "cell_type": "markdown",
   "metadata": {},
   "source": [
    "### Используем пайплайн для получения метрики *R2*"
   ]
  },
  {
   "cell_type": "markdown",
   "metadata": {},
   "source": [
    "Для получения метрики *R2* полезно использовать пайплайн.\n",
    "\n",
    "В узком смысле, пайплайн – это модуль `sklearn.pipeline`, который позволяет автоматизировать предварительные преобразования данных перед обучением модели. "
   ]
  },
  {
   "cell_type": "markdown",
   "metadata": {},
   "source": [
    "Построим пайплайн с использованием созданного ранее класса модели линейной регрессии `LinearRegression`."
   ]
  },
  {
   "cell_type": "markdown",
   "metadata": {},
   "source": [
    "<div class=\"alert alert-block alert-success\">\n",
    "<b>Комментарий ревьюера👍:</b> Здорово, что работаешь с пайплайнами, это очень поможет тебе в дальнейшем обучении и работе\n",
    "</div>"
   ]
  },
  {
   "cell_type": "code",
   "execution_count": 15,
   "metadata": {},
   "outputs": [
    {
     "data": {
      "text/plain": [
       "0.4117684339148745"
      ]
     },
     "execution_count": 15,
     "metadata": {},
     "output_type": "execute_result"
    }
   ],
   "source": [
    "# 1. Создаем класс MatrixTransformer:   \n",
    "    \n",
    "class MatrixTransformer(BaseEstimator, TransformerMixin):\n",
    "\n",
    "    def __init__(self, variables):\n",
    "        \"\"\"В конструкторе сохраним имена колонок и сгененрируем матрицу преобразования\"\"\"\n",
    "        self.variables = variables\n",
    "        size = len(variables)\n",
    "        rng = np.random.default_rng(seed=RANDOM_STATE)\n",
    "        self.M = rng.normal(size=(size, size))\n",
    "\n",
    "    def fit(self, X, y):\n",
    "        return self\n",
    "\n",
    "    def transform(self, X):\n",
    "        X_tr = X.drop(self.variables, axis=1)\n",
    "        X_tr[self.variables] = X[self.variables] @ self.M\n",
    "        return X_tr\n",
    "\n",
    "# 2. Иcпользуем Pipeline:\n",
    "\n",
    "pipe = Pipeline([\n",
    "    ('transformer', MatrixTransformer(features.columns)),\n",
    "    ('model', LinearRegression()),\n",
    "])\n",
    "\n",
    "# Обучим модель линейной регрессии на исходных признаках датасета и получим её предсказания метрики R2:\n",
    "pipe.fit(features_train, target_train)\n",
    "predictions = pipe.predict(features_test)\n",
    "r2_score(target_test, predictions)"
   ]
  },
  {
   "cell_type": "code",
   "execution_count": 16,
   "metadata": {},
   "outputs": [
    {
     "data": {
      "text/html": [
       "<div>\n",
       "<style scoped>\n",
       "    .dataframe tbody tr th:only-of-type {\n",
       "        vertical-align: middle;\n",
       "    }\n",
       "\n",
       "    .dataframe tbody tr th {\n",
       "        vertical-align: top;\n",
       "    }\n",
       "\n",
       "    .dataframe thead th {\n",
       "        text-align: right;\n",
       "    }\n",
       "</style>\n",
       "<table border=\"1\" class=\"dataframe\">\n",
       "  <thead>\n",
       "    <tr style=\"text-align: right;\">\n",
       "      <th></th>\n",
       "      <th>0</th>\n",
       "      <th>1</th>\n",
       "      <th>2</th>\n",
       "      <th>3</th>\n",
       "    </tr>\n",
       "  </thead>\n",
       "  <tbody>\n",
       "    <tr>\n",
       "      <th>317</th>\n",
       "      <td>-9341.743110</td>\n",
       "      <td>2767.103321</td>\n",
       "      <td>-42234.936767</td>\n",
       "      <td>72125.949051</td>\n",
       "    </tr>\n",
       "    <tr>\n",
       "      <th>4143</th>\n",
       "      <td>-7996.712545</td>\n",
       "      <td>2365.077076</td>\n",
       "      <td>-36251.372679</td>\n",
       "      <td>61978.938828</td>\n",
       "    </tr>\n",
       "    <tr>\n",
       "      <th>4252</th>\n",
       "      <td>-11897.196394</td>\n",
       "      <td>3520.942553</td>\n",
       "      <td>-53872.584715</td>\n",
       "      <td>92061.505895</td>\n",
       "    </tr>\n",
       "    <tr>\n",
       "      <th>710</th>\n",
       "      <td>-9167.104957</td>\n",
       "      <td>2713.697580</td>\n",
       "      <td>-41478.447709</td>\n",
       "      <td>70857.927197</td>\n",
       "    </tr>\n",
       "    <tr>\n",
       "      <th>148</th>\n",
       "      <td>-9143.331882</td>\n",
       "      <td>2707.539691</td>\n",
       "      <td>-41371.316370</td>\n",
       "      <td>70676.184648</td>\n",
       "    </tr>\n",
       "  </tbody>\n",
       "</table>\n",
       "</div>"
      ],
      "text/plain": [
       "                 0            1             2             3\n",
       "317   -9341.743110  2767.103321 -42234.936767  72125.949051\n",
       "4143  -7996.712545  2365.077076 -36251.372679  61978.938828\n",
       "4252 -11897.196394  3520.942553 -53872.584715  92061.505895\n",
       "710   -9167.104957  2713.697580 -41478.447709  70857.927197\n",
       "148   -9143.331882  2707.539691 -41371.316370  70676.184648"
      ]
     },
     "metadata": {},
     "output_type": "display_data"
    },
    {
     "data": {
      "text/html": [
       "<div>\n",
       "<style scoped>\n",
       "    .dataframe tbody tr th:only-of-type {\n",
       "        vertical-align: middle;\n",
       "    }\n",
       "\n",
       "    .dataframe tbody tr th {\n",
       "        vertical-align: top;\n",
       "    }\n",
       "\n",
       "    .dataframe thead th {\n",
       "        text-align: right;\n",
       "    }\n",
       "</style>\n",
       "<table border=\"1\" class=\"dataframe\">\n",
       "  <thead>\n",
       "    <tr style=\"text-align: right;\">\n",
       "      <th></th>\n",
       "      <th>0</th>\n",
       "      <th>1</th>\n",
       "      <th>2</th>\n",
       "      <th>3</th>\n",
       "    </tr>\n",
       "  </thead>\n",
       "  <tbody>\n",
       "    <tr>\n",
       "      <th>3183</th>\n",
       "      <td>-9137.859794</td>\n",
       "      <td>2702.239160</td>\n",
       "      <td>-41365.923729</td>\n",
       "      <td>70678.069648</td>\n",
       "    </tr>\n",
       "    <tr>\n",
       "      <th>1071</th>\n",
       "      <td>-10081.165505</td>\n",
       "      <td>2980.693672</td>\n",
       "      <td>-45690.194413</td>\n",
       "      <td>78107.872483</td>\n",
       "    </tr>\n",
       "    <tr>\n",
       "      <th>2640</th>\n",
       "      <td>-9857.038449</td>\n",
       "      <td>2917.456749</td>\n",
       "      <td>-44642.468109</td>\n",
       "      <td>76294.885368</td>\n",
       "    </tr>\n",
       "    <tr>\n",
       "      <th>2282</th>\n",
       "      <td>-8164.624934</td>\n",
       "      <td>2419.507033</td>\n",
       "      <td>-36923.283416</td>\n",
       "      <td>63064.130476</td>\n",
       "    </tr>\n",
       "    <tr>\n",
       "      <th>1595</th>\n",
       "      <td>-9363.278400</td>\n",
       "      <td>2767.578600</td>\n",
       "      <td>-42414.760535</td>\n",
       "      <td>72490.707567</td>\n",
       "    </tr>\n",
       "  </tbody>\n",
       "</table>\n",
       "</div>"
      ],
      "text/plain": [
       "                 0            1             2             3\n",
       "3183  -9137.859794  2702.239160 -41365.923729  70678.069648\n",
       "1071 -10081.165505  2980.693672 -45690.194413  78107.872483\n",
       "2640  -9857.038449  2917.456749 -44642.468109  76294.885368\n",
       "2282  -8164.624934  2419.507033 -36923.283416  63064.130476\n",
       "1595  -9363.278400  2767.578600 -42414.760535  72490.707567"
      ]
     },
     "metadata": {},
     "output_type": "display_data"
    }
   ],
   "source": [
    "# Преобразуем датасет: умножим признаки обучающей и тестовой выборок исходного датасета \n",
    "# на сгенерированную случайную квадратную матрицу P:\n",
    "features_train_P = features_train @ P\n",
    "features_test_P = features_test @ P\n",
    "display(features_train_P.head())\n",
    "display(features_test_P.head())"
   ]
  },
  {
   "cell_type": "code",
   "execution_count": 17,
   "metadata": {},
   "outputs": [
    {
     "data": {
      "text/html": [
       "<div>\n",
       "<style scoped>\n",
       "    .dataframe tbody tr th:only-of-type {\n",
       "        vertical-align: middle;\n",
       "    }\n",
       "\n",
       "    .dataframe tbody tr th {\n",
       "        vertical-align: top;\n",
       "    }\n",
       "\n",
       "    .dataframe thead th {\n",
       "        text-align: right;\n",
       "    }\n",
       "</style>\n",
       "<table border=\"1\" class=\"dataframe\">\n",
       "  <thead>\n",
       "    <tr style=\"text-align: right;\">\n",
       "      <th></th>\n",
       "      <th>Пол</th>\n",
       "      <th>Возраст</th>\n",
       "      <th>Зарплата</th>\n",
       "      <th>Члены семьи</th>\n",
       "    </tr>\n",
       "  </thead>\n",
       "  <tbody>\n",
       "    <tr>\n",
       "      <th>317</th>\n",
       "      <td>-9341.743110</td>\n",
       "      <td>2767.103321</td>\n",
       "      <td>-42234.936767</td>\n",
       "      <td>72125.949051</td>\n",
       "    </tr>\n",
       "    <tr>\n",
       "      <th>4143</th>\n",
       "      <td>-7996.712545</td>\n",
       "      <td>2365.077076</td>\n",
       "      <td>-36251.372679</td>\n",
       "      <td>61978.938828</td>\n",
       "    </tr>\n",
       "    <tr>\n",
       "      <th>4252</th>\n",
       "      <td>-11897.196394</td>\n",
       "      <td>3520.942553</td>\n",
       "      <td>-53872.584715</td>\n",
       "      <td>92061.505895</td>\n",
       "    </tr>\n",
       "    <tr>\n",
       "      <th>710</th>\n",
       "      <td>-9167.104957</td>\n",
       "      <td>2713.697580</td>\n",
       "      <td>-41478.447709</td>\n",
       "      <td>70857.927197</td>\n",
       "    </tr>\n",
       "    <tr>\n",
       "      <th>148</th>\n",
       "      <td>-9143.331882</td>\n",
       "      <td>2707.539691</td>\n",
       "      <td>-41371.316370</td>\n",
       "      <td>70676.184648</td>\n",
       "    </tr>\n",
       "  </tbody>\n",
       "</table>\n",
       "</div>"
      ],
      "text/plain": [
       "               Пол      Возраст      Зарплата   Члены семьи\n",
       "317   -9341.743110  2767.103321 -42234.936767  72125.949051\n",
       "4143  -7996.712545  2365.077076 -36251.372679  61978.938828\n",
       "4252 -11897.196394  3520.942553 -53872.584715  92061.505895\n",
       "710   -9167.104957  2713.697580 -41478.447709  70857.927197\n",
       "148   -9143.331882  2707.539691 -41371.316370  70676.184648"
      ]
     },
     "metadata": {},
     "output_type": "display_data"
    },
    {
     "data": {
      "text/html": [
       "<div>\n",
       "<style scoped>\n",
       "    .dataframe tbody tr th:only-of-type {\n",
       "        vertical-align: middle;\n",
       "    }\n",
       "\n",
       "    .dataframe tbody tr th {\n",
       "        vertical-align: top;\n",
       "    }\n",
       "\n",
       "    .dataframe thead th {\n",
       "        text-align: right;\n",
       "    }\n",
       "</style>\n",
       "<table border=\"1\" class=\"dataframe\">\n",
       "  <thead>\n",
       "    <tr style=\"text-align: right;\">\n",
       "      <th></th>\n",
       "      <th>Пол</th>\n",
       "      <th>Возраст</th>\n",
       "      <th>Зарплата</th>\n",
       "      <th>Члены семьи</th>\n",
       "    </tr>\n",
       "  </thead>\n",
       "  <tbody>\n",
       "    <tr>\n",
       "      <th>3183</th>\n",
       "      <td>-9137.859794</td>\n",
       "      <td>2702.239160</td>\n",
       "      <td>-41365.923729</td>\n",
       "      <td>70678.069648</td>\n",
       "    </tr>\n",
       "    <tr>\n",
       "      <th>1071</th>\n",
       "      <td>-10081.165505</td>\n",
       "      <td>2980.693672</td>\n",
       "      <td>-45690.194413</td>\n",
       "      <td>78107.872483</td>\n",
       "    </tr>\n",
       "    <tr>\n",
       "      <th>2640</th>\n",
       "      <td>-9857.038449</td>\n",
       "      <td>2917.456749</td>\n",
       "      <td>-44642.468109</td>\n",
       "      <td>76294.885368</td>\n",
       "    </tr>\n",
       "    <tr>\n",
       "      <th>2282</th>\n",
       "      <td>-8164.624934</td>\n",
       "      <td>2419.507033</td>\n",
       "      <td>-36923.283416</td>\n",
       "      <td>63064.130476</td>\n",
       "    </tr>\n",
       "    <tr>\n",
       "      <th>1595</th>\n",
       "      <td>-9363.278400</td>\n",
       "      <td>2767.578600</td>\n",
       "      <td>-42414.760535</td>\n",
       "      <td>72490.707567</td>\n",
       "    </tr>\n",
       "  </tbody>\n",
       "</table>\n",
       "</div>"
      ],
      "text/plain": [
       "               Пол      Возраст      Зарплата   Члены семьи\n",
       "3183  -9137.859794  2702.239160 -41365.923729  70678.069648\n",
       "1071 -10081.165505  2980.693672 -45690.194413  78107.872483\n",
       "2640  -9857.038449  2917.456749 -44642.468109  76294.885368\n",
       "2282  -8164.624934  2419.507033 -36923.283416  63064.130476\n",
       "1595  -9363.278400  2767.578600 -42414.760535  72490.707567"
      ]
     },
     "metadata": {},
     "output_type": "display_data"
    }
   ],
   "source": [
    "# После преобразования матриц названия признаков были изменены на индексы от 0 до 3.\n",
    "# Восстановим эти названия для того, чтобы сработал наш пайплайн:\n",
    "\n",
    "features_train_P.columns = ['Пол', 'Возраст', 'Зарплата', 'Члены семьи']\n",
    "features_test_P.columns = ['Пол', 'Возраст', 'Зарплата', 'Члены семьи']\n",
    "\n",
    "display(features_train_P.head())\n",
    "display(features_test_P.head())"
   ]
  },
  {
   "cell_type": "code",
   "execution_count": 18,
   "metadata": {},
   "outputs": [
    {
     "data": {
      "text/plain": [
       "0.4117568334215683"
      ]
     },
     "execution_count": 18,
     "metadata": {},
     "output_type": "execute_result"
    }
   ],
   "source": [
    "# Обучим модель линейной регрессии на преобразованных признаках датасета и получим её предсказания метрики R2:\n",
    "pipe.fit(features_train_P, target_train)\n",
    "predictions = pipe.predict(features_test_P)\n",
    "r2_score(target_test, predictions)"
   ]
  },
  {
   "cell_type": "markdown",
   "metadata": {},
   "source": [
    "<div class=\"alert alert-block alert-success\">\n",
    "<b>Комментарий ревьюера👍:</b> Дополнительно можно попробовать декодировать данные обратно\n",
    "</div>"
   ]
  },
  {
   "cell_type": "markdown",
   "metadata": {},
   "source": [
    "## Общий вывод"
   ]
  },
  {
   "cell_type": "markdown",
   "metadata": {},
   "source": [
    "Разработан такой метод преобразования данных, чтобы по ним было сложно восстановить персональную информацию.\n",
    "\n",
    "Входные данные - данные клиентов страховой компании «Хоть потоп».\n",
    "\n",
    "Результаты исследования позволят защитить данные клиентов страховой компании «Хоть потоп».\n",
    "\n",
    "Перед проведением исследования была сформулирована гипотеза:\n",
    "\n",
    "- Гипотеза: при умножении признаков на обратимую матрицу качество линейной регрессии не меняется.\n",
    "\n",
    "В результате удалось получить следующие результаты.\n",
    "\n",
    "Гипотеза подтверждена:\n",
    "- *0.41* - значение метрики *R2* модели для исходной матрицы;\n",
    "- *0.41* - значение метрики *R2* модели для преобразованной матрицы.\n",
    "\n",
    "<b>Общие рекомендации:</b>\n",
    "\n",
    "Специалистам, которые занимаются защитой персональных данных клиентов страховой компании «Хоть потоп», можно применять разработанный метод преобразования данных (умножение матрицы признаков исходного датасета на случайную матрицу), т.к. при преобразовании качество моделей машинного обучения не ухудшается."
   ]
  },
  {
   "cell_type": "markdown",
   "metadata": {},
   "source": [
    "## Чек-лист проверки"
   ]
  },
  {
   "cell_type": "markdown",
   "metadata": {},
   "source": [
    "Поставьте 'x' в выполненных пунктах. Далее нажмите Shift+Enter."
   ]
  },
  {
   "cell_type": "markdown",
   "metadata": {},
   "source": [
    "- [x]  Jupyter Notebook открыт\n",
    "- [x]  Весь код выполняется без ошибок\n",
    "- [x]  Ячейки с кодом расположены в порядке исполнения\n",
    "- [x]  Выполнен шаг 1: данные загружены\n",
    "- [x]  Выполнен шаг 2: получен ответ на вопрос об умножении матриц\n",
    "    - [x]  Указан правильный вариант ответа\n",
    "    - [x]  Вариант обоснован\n",
    "- [x]  Выполнен шаг 3: предложен алгоритм преобразования\n",
    "    - [x]  Алгоритм описан\n",
    "    - [x]  Алгоритм обоснован\n",
    "- [x]  Выполнен шаг 4: алгоритм проверен\n",
    "    - [x]  Алгоритм реализован\n",
    "    - [x]  Проведено сравнение качества моделей до и после преобразования"
   ]
  },
  {
   "cell_type": "markdown",
   "metadata": {},
   "source": [
    "<div class=\"alert alert-block alert-success\">\n",
    "<b>Комментарий ревьюера👍:</b> Спасибо тебе за проделанную работу, ты демонстрируешь отличное владение материалом спринта. Правда очень крепкая работа, достойная быть в портфолио. \n",
    "    \n",
    "Отправляю обратно, чтобы ты мог задать какие-то вопросы, может хочешь какую-то подборку статей.   \n",
    "\n",
    "Обзоры по применению криптографии в машинном обучении: https://arxiv.org/pdf/1902.04109.pdf, https://www.researchgate.net/publication/342746786_Some_Applications_of_Machine_Learning_in_Cryptography\n",
    "\n",
    "Небольшой обзор на Шифр Хилла: https://habr.com/ru/post/595281/\n",
    "    \n",
    "Ещё пара статей на эту тему:\n",
    "    \n",
    "-\thttps://medium.com/intuit-engineering/machine-learning-on-encrypted-data-no-longer-a-fantasy-58e37e9f31d7\n",
    "-\thttps://towardsdatascience.com/cryptography-crash-course-for-the-intimidated-892b7889528a\n",
    "-\thttps://towardsdatascience.com/homomorphic-encryption-machine-learning-new-business-models-2ba6a4f185d\n",
    "\n",
    "   \n",
    "Примеры использования линейной алгебры в машинном обучении:\n",
    "https://machinelearningmastery.com/examples-of-linear-algebra-in-machine-learning/\n",
    "    \n",
    "Для чего нужна математика в машинном обучении?\n",
    "https://proglib.io/p/dlya-chego-nuzhen-matematicheskiy-analiz-v-mashinnom-obuchenii-2021-02-15\n",
    "\n",
    "Большая статья по векторам:\n",
    "https://neptune.ai/blog/understanding-vectors-from-a-machine-learning-perspective  \n",
    "\n",
    "Можно ещё дополнительно посмотреть лекции от МФТИ https://www.youtube.com/playlist?list=PLk4h7dmY2eYHHTyfLyrl7HmP-H3mMAW08\n",
    "    \n",
    "Классная серия роликов по линейной алгебре на английском (можно включить автоматические русские субтитры): https://www.youtube.com/playlist?list=PLRDl2inPrWQW1QSWhBU0ki-jq_uElkh2a</div>\n"
   ]
  },
  {
   "cell_type": "markdown",
   "metadata": {},
   "source": [
    "<div class=\"alert alert-block alert-success\">\n",
    "<b>Комментарий ревьюера V.2👍:</b> Удачи в будущих проектах и работе, всё обязательно получится!\n",
    "</div>"
   ]
  },
  {
   "cell_type": "code",
   "execution_count": null,
   "metadata": {},
   "outputs": [],
   "source": []
  }
 ],
 "metadata": {
  "ExecuteTimeLog": [
   {
    "duration": 1118,
    "start_time": "2023-01-10T11:41:14.253Z"
   },
   {
    "duration": 109,
    "start_time": "2023-01-10T11:41:17.901Z"
   },
   {
    "duration": 15,
    "start_time": "2023-01-10T11:41:46.704Z"
   },
   {
    "duration": 14,
    "start_time": "2023-01-10T11:41:49.148Z"
   },
   {
    "duration": 100,
    "start_time": "2023-01-10T11:50:28.349Z"
   },
   {
    "duration": 96,
    "start_time": "2023-01-10T11:56:37.990Z"
   },
   {
    "duration": 4,
    "start_time": "2023-01-10T11:56:49.452Z"
   },
   {
    "duration": 10,
    "start_time": "2023-01-10T11:57:06.611Z"
   },
   {
    "duration": 493,
    "start_time": "2023-01-10T11:57:36.116Z"
   },
   {
    "duration": 7,
    "start_time": "2023-01-10T11:57:43.122Z"
   },
   {
    "duration": 7,
    "start_time": "2023-01-10T11:59:12.455Z"
   },
   {
    "duration": 4,
    "start_time": "2023-01-10T12:00:29.809Z"
   },
   {
    "duration": 6,
    "start_time": "2023-01-10T12:01:41.757Z"
   },
   {
    "duration": 1459,
    "start_time": "2023-01-10T12:20:16.189Z"
   },
   {
    "duration": 98,
    "start_time": "2023-01-10T12:20:17.650Z"
   },
   {
    "duration": 12,
    "start_time": "2023-01-10T12:20:17.750Z"
   },
   {
    "duration": 12,
    "start_time": "2023-01-10T12:20:17.764Z"
   },
   {
    "duration": 6,
    "start_time": "2023-01-10T12:20:17.778Z"
   },
   {
    "duration": 5,
    "start_time": "2023-01-10T12:20:17.785Z"
   },
   {
    "duration": 38,
    "start_time": "2023-01-10T12:20:17.792Z"
   },
   {
    "duration": 256,
    "start_time": "2023-01-10T12:20:17.832Z"
   },
   {
    "duration": 0,
    "start_time": "2023-01-10T12:20:18.090Z"
   },
   {
    "duration": 0,
    "start_time": "2023-01-10T12:20:18.091Z"
   },
   {
    "duration": 0,
    "start_time": "2023-01-10T12:20:18.092Z"
   },
   {
    "duration": 0,
    "start_time": "2023-01-10T12:20:18.093Z"
   },
   {
    "duration": 0,
    "start_time": "2023-01-10T12:20:18.094Z"
   },
   {
    "duration": 0,
    "start_time": "2023-01-10T12:20:18.095Z"
   },
   {
    "duration": 0,
    "start_time": "2023-01-10T12:20:18.096Z"
   },
   {
    "duration": 0,
    "start_time": "2023-01-10T12:20:18.097Z"
   },
   {
    "duration": 0,
    "start_time": "2023-01-10T12:20:18.098Z"
   },
   {
    "duration": 0,
    "start_time": "2023-01-10T12:20:18.098Z"
   },
   {
    "duration": 13,
    "start_time": "2023-01-10T12:20:55.628Z"
   },
   {
    "duration": 9,
    "start_time": "2023-01-10T12:21:48.799Z"
   },
   {
    "duration": 5,
    "start_time": "2023-01-10T12:21:57.182Z"
   },
   {
    "duration": 6,
    "start_time": "2023-01-10T12:22:00.287Z"
   },
   {
    "duration": 95,
    "start_time": "2023-01-10T12:22:53.239Z"
   },
   {
    "duration": 7,
    "start_time": "2023-01-10T12:23:05.853Z"
   },
   {
    "duration": 3,
    "start_time": "2023-01-10T12:23:07.797Z"
   },
   {
    "duration": 17,
    "start_time": "2023-01-10T12:23:09.701Z"
   },
   {
    "duration": 8,
    "start_time": "2023-01-10T12:23:11.855Z"
   },
   {
    "duration": 20,
    "start_time": "2023-01-10T12:23:17.061Z"
   },
   {
    "duration": 15,
    "start_time": "2023-01-10T12:23:20.187Z"
   },
   {
    "duration": 16,
    "start_time": "2023-01-10T12:23:22.106Z"
   },
   {
    "duration": 12,
    "start_time": "2023-01-10T12:23:24.130Z"
   },
   {
    "duration": 1310,
    "start_time": "2023-01-10T12:27:24.392Z"
   },
   {
    "duration": 29,
    "start_time": "2023-01-10T12:27:25.704Z"
   },
   {
    "duration": 14,
    "start_time": "2023-01-10T12:27:25.735Z"
   },
   {
    "duration": 12,
    "start_time": "2023-01-10T12:27:25.751Z"
   },
   {
    "duration": 7,
    "start_time": "2023-01-10T12:27:25.765Z"
   },
   {
    "duration": 11,
    "start_time": "2023-01-10T12:27:25.773Z"
   },
   {
    "duration": 42,
    "start_time": "2023-01-10T12:27:25.785Z"
   },
   {
    "duration": 22,
    "start_time": "2023-01-10T12:27:25.829Z"
   },
   {
    "duration": 80,
    "start_time": "2023-01-10T12:27:25.853Z"
   },
   {
    "duration": 194,
    "start_time": "2023-01-10T12:27:25.936Z"
   },
   {
    "duration": 5,
    "start_time": "2023-01-10T12:27:26.132Z"
   },
   {
    "duration": 14,
    "start_time": "2023-01-10T12:27:26.139Z"
   },
   {
    "duration": 25,
    "start_time": "2023-01-10T12:27:26.155Z"
   },
   {
    "duration": 147,
    "start_time": "2023-01-10T12:27:26.182Z"
   },
   {
    "duration": 108,
    "start_time": "2023-01-10T12:27:26.331Z"
   },
   {
    "duration": 196,
    "start_time": "2023-01-10T12:27:26.441Z"
   },
   {
    "duration": 16,
    "start_time": "2023-01-10T12:27:26.638Z"
   },
   {
    "duration": 72,
    "start_time": "2023-01-10T12:27:26.655Z"
   }
  ],
  "kernelspec": {
   "display_name": "Python 3 (ipykernel)",
   "language": "python",
   "name": "python3"
  },
  "language_info": {
   "codemirror_mode": {
    "name": "ipython",
    "version": 3
   },
   "file_extension": ".py",
   "mimetype": "text/x-python",
   "name": "python",
   "nbconvert_exporter": "python",
   "pygments_lexer": "ipython3",
   "version": "3.9.5"
  },
  "toc": {
   "base_numbering": 1,
   "nav_menu": {},
   "number_sections": true,
   "sideBar": true,
   "skip_h1_title": true,
   "title_cell": "Содержание",
   "title_sidebar": "Contents",
   "toc_cell": true,
   "toc_position": {},
   "toc_section_display": true,
   "toc_window_display": true
  }
 },
 "nbformat": 4,
 "nbformat_minor": 2
}
