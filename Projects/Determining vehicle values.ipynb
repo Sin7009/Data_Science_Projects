{
 "cells": [
  {
   "cell_type": "markdown",
   "metadata": {},
   "source": [
    "<div style=\"border:solid green 2px; padding: 20px\">\n",
    "Константин, привет и хорошего дня! <br>\n",
    "Меня зовут Сергей Дроздов, и я буду проверять твой проект. Предлагаю общаться на «ты». Если тебе удобнее общаться на \"Вы\", просто дай знать. \n",
    "\n",
    "Ты уже проделал большую работу над проектом, но давай сделаем его еще лучше. Ниже ты найдешь мои комментарии - пожалуйста, не перемещай, не изменяй и не удаляй их. Я буду использовать цветовую разметку:\n",
    "\n",
    "<div class=\"alert alert-danger\">\n",
    "<b>Комментарий ревьюера: &#10060; </b> Так будут выделены комментарии с указаниями, обязательными к выполнению. Без их выполнения проект не будет принят. </div>\n",
    "\n",
    "<div class=\"alert alert-warning\">\n",
    "<b>Комментарий ревьюера:\n",
    "&#9888;</b> Так будут выделены некритичные замечания. Их отработка позволит улучшить качество твоего проекта.\n",
    "</div>\n",
    "\n",
    "<div class=\"alert alert-success\">\n",
    "<b>Комментарий ревьюера:\n",
    "&#9989;</b> Так будут выделены остальные комментарии, полезные лайфхаки и ссылки на сторонние ресурсы </div>\n",
    "\n",
    "Для наиболее эффективной и оперативной работы над проектом, мне хотелось бы иметь обратную связь. Не стесняйся задавать вопросы. Если ты что-либо меняешь в проекте, пожалуйста, комментируй это. Мне будет легче отследить изменения, если ты выделишь свои комментарии"
   ]
  },
  {
   "cell_type": "markdown",
   "metadata": {},
   "source": [
    "# Определение стоимости автомобилей"
   ]
  },
  {
   "cell_type": "markdown",
   "metadata": {},
   "source": [
    "Сервис по продаже автомобилей с пробегом «Не бит, не крашен» разрабатывает приложение для привлечения новых клиентов. В нём можно быстро узнать рыночную стоимость своего автомобиля. В вашем распоряжении исторические данные: технические характеристики, комплектации и цены автомобилей. Вам нужно построить модель для определения стоимости. \n",
    "\n",
    "Заказчику важны:\n",
    "\n",
    "- качество предсказания;\n",
    "- скорость предсказания;\n",
    "- время обучения."
   ]
  },
  {
   "cell_type": "markdown",
   "metadata": {},
   "source": [
    "## Подготовка данных"
   ]
  },
  {
   "cell_type": "code",
   "execution_count": 1,
   "metadata": {},
   "outputs": [],
   "source": [
    "import pandas as pd\n",
    "import numpy as np\n",
    "import matplotlib.pyplot as plt\n",
    "import seaborn as sns\n",
    "import warnings\n",
    "import datetime\n",
    "\n",
    "from IPython.display import display\n",
    "\n",
    "from sklearn.pipeline import Pipeline\n",
    "from sklearn.compose import ColumnTransformer\n",
    "from sklearn.compose import make_column_transformer\n",
    "from sklearn.preprocessing import StandardScaler \n",
    "from sklearn.utils import shuffle\n",
    "from sklearn.model_selection import GridSearchCV, RandomizedSearchCV, KFold, cross_val_score, train_test_split\n",
    "from sklearn.tree import DecisionTreeRegressor\n",
    "from sklearn.ensemble import RandomForestRegressor\n",
    "from sklearn.linear_model import LinearRegression\n",
    "from sklearn.dummy import DummyRegressor\n",
    "from sklearn.metrics import mean_squared_error\n",
    "from sklearn.pipeline import make_pipeline\n",
    "from sklearn.preprocessing import (\n",
    "    OneHotEncoder,\n",
    "    OrdinalEncoder,\n",
    "    StandardScaler\n",
    ")\n",
    "\n",
    "from lightgbm import LGBMRegressor\n",
    "from catboost import CatBoostRegressor\n",
    "\n",
    "# настройки\n",
    "warnings.filterwarnings(\"ignore\")\n",
    "\n",
    "RANDOM_STATE=12345"
   ]
  },
  {
   "cell_type": "code",
   "execution_count": 2,
   "metadata": {},
   "outputs": [],
   "source": [
    "def median_groupby(row):       \n",
    "    '''функция для заполнения пропусков в столбце медианами по группе \n",
    "    получает строку, выдергивает значение столбца группировки (group_colomn) \n",
    "    возвращает значение соответствующей ему медианы\n",
    "    \n",
    "    До использования необходимо определить:\n",
    "    nan_colomn - переменная задает столбец с пропуском\n",
    "    group_colomn - переменная задает столбец с признаком по которому будем группировать для поиска медианы\n",
    "    median_series - series со значениями медиан по группе\n",
    "    '''\n",
    "    try:\n",
    "        row_group_value = row[group_colomn]\n",
    "        group_median = median_series[row_group_value]\n",
    "        return group_median\n",
    "    except:\n",
    "        return 'error group_median'"
   ]
  },
  {
   "cell_type": "code",
   "execution_count": 3,
   "metadata": {},
   "outputs": [],
   "source": [
    "try:\n",
    "    df = pd.read_csv(\"autos.csv\")\n",
    "except:\n",
    "    df = pd.read_csv('https://code.s3.yandex.net/datasets/autos.csv')"
   ]
  },
  {
   "cell_type": "markdown",
   "metadata": {},
   "source": [
    "<div class=\"alert alert-success\">\n",
    "<b>Комментарий ревьюера:\n",
    "&#9989;</b> Ок, данные на базе! </div>"
   ]
  },
  {
   "cell_type": "code",
   "execution_count": 4,
   "metadata": {},
   "outputs": [
    {
     "name": "stdout",
     "output_type": "stream",
     "text": [
      "<class 'pandas.core.frame.DataFrame'>\n",
      "RangeIndex: 354369 entries, 0 to 354368\n",
      "Data columns (total 16 columns):\n",
      " #   Column             Non-Null Count   Dtype \n",
      "---  ------             --------------   ----- \n",
      " 0   DateCrawled        354369 non-null  object\n",
      " 1   Price              354369 non-null  int64 \n",
      " 2   VehicleType        316879 non-null  object\n",
      " 3   RegistrationYear   354369 non-null  int64 \n",
      " 4   Gearbox            334536 non-null  object\n",
      " 5   Power              354369 non-null  int64 \n",
      " 6   Model              334664 non-null  object\n",
      " 7   Kilometer          354369 non-null  int64 \n",
      " 8   RegistrationMonth  354369 non-null  int64 \n",
      " 9   FuelType           321474 non-null  object\n",
      " 10  Brand              354369 non-null  object\n",
      " 11  Repaired           283215 non-null  object\n",
      " 12  DateCreated        354369 non-null  object\n",
      " 13  NumberOfPictures   354369 non-null  int64 \n",
      " 14  PostalCode         354369 non-null  int64 \n",
      " 15  LastSeen           354369 non-null  object\n",
      "dtypes: int64(7), object(9)\n",
      "memory usage: 43.3+ MB\n"
     ]
    }
   ],
   "source": [
    "df.info()"
   ]
  },
  {
   "cell_type": "code",
   "execution_count": 5,
   "metadata": {},
   "outputs": [
    {
     "data": {
      "text/html": [
       "<div>\n",
       "<style scoped>\n",
       "    .dataframe tbody tr th:only-of-type {\n",
       "        vertical-align: middle;\n",
       "    }\n",
       "\n",
       "    .dataframe tbody tr th {\n",
       "        vertical-align: top;\n",
       "    }\n",
       "\n",
       "    .dataframe thead th {\n",
       "        text-align: right;\n",
       "    }\n",
       "</style>\n",
       "<table border=\"1\" class=\"dataframe\">\n",
       "  <thead>\n",
       "    <tr style=\"text-align: right;\">\n",
       "      <th></th>\n",
       "      <th>280344</th>\n",
       "      <th>120865</th>\n",
       "      <th>264665</th>\n",
       "      <th>56741</th>\n",
       "      <th>335015</th>\n",
       "    </tr>\n",
       "  </thead>\n",
       "  <tbody>\n",
       "    <tr>\n",
       "      <th>DateCrawled</th>\n",
       "      <td>2016-03-14 11:54:48</td>\n",
       "      <td>2016-03-25 01:57:05</td>\n",
       "      <td>2016-03-14 14:53:10</td>\n",
       "      <td>2016-04-03 00:59:56</td>\n",
       "      <td>2016-03-13 19:51:31</td>\n",
       "    </tr>\n",
       "    <tr>\n",
       "      <th>Price</th>\n",
       "      <td>4790</td>\n",
       "      <td>799</td>\n",
       "      <td>13900</td>\n",
       "      <td>1350</td>\n",
       "      <td>2550</td>\n",
       "    </tr>\n",
       "    <tr>\n",
       "      <th>VehicleType</th>\n",
       "      <td>NaN</td>\n",
       "      <td>wagon</td>\n",
       "      <td>wagon</td>\n",
       "      <td>sedan</td>\n",
       "      <td>wagon</td>\n",
       "    </tr>\n",
       "    <tr>\n",
       "      <th>RegistrationYear</th>\n",
       "      <td>2017</td>\n",
       "      <td>1999</td>\n",
       "      <td>2012</td>\n",
       "      <td>1999</td>\n",
       "      <td>2000</td>\n",
       "    </tr>\n",
       "    <tr>\n",
       "      <th>Gearbox</th>\n",
       "      <td>manual</td>\n",
       "      <td>NaN</td>\n",
       "      <td>manual</td>\n",
       "      <td>manual</td>\n",
       "      <td>manual</td>\n",
       "    </tr>\n",
       "    <tr>\n",
       "      <th>Power</th>\n",
       "      <td>105</td>\n",
       "      <td>0</td>\n",
       "      <td>136</td>\n",
       "      <td>90</td>\n",
       "      <td>0</td>\n",
       "    </tr>\n",
       "    <tr>\n",
       "      <th>Model</th>\n",
       "      <td>golf</td>\n",
       "      <td>a4</td>\n",
       "      <td>c_klasse</td>\n",
       "      <td>a_klasse</td>\n",
       "      <td>3er</td>\n",
       "    </tr>\n",
       "    <tr>\n",
       "      <th>Kilometer</th>\n",
       "      <td>150000</td>\n",
       "      <td>150000</td>\n",
       "      <td>150000</td>\n",
       "      <td>150000</td>\n",
       "      <td>150000</td>\n",
       "    </tr>\n",
       "    <tr>\n",
       "      <th>RegistrationMonth</th>\n",
       "      <td>7</td>\n",
       "      <td>4</td>\n",
       "      <td>3</td>\n",
       "      <td>8</td>\n",
       "      <td>0</td>\n",
       "    </tr>\n",
       "    <tr>\n",
       "      <th>FuelType</th>\n",
       "      <td>gasoline</td>\n",
       "      <td>petrol</td>\n",
       "      <td>gasoline</td>\n",
       "      <td>gasoline</td>\n",
       "      <td>petrol</td>\n",
       "    </tr>\n",
       "    <tr>\n",
       "      <th>Brand</th>\n",
       "      <td>volkswagen</td>\n",
       "      <td>audi</td>\n",
       "      <td>mercedes_benz</td>\n",
       "      <td>mercedes_benz</td>\n",
       "      <td>bmw</td>\n",
       "    </tr>\n",
       "    <tr>\n",
       "      <th>Repaired</th>\n",
       "      <td>no</td>\n",
       "      <td>NaN</td>\n",
       "      <td>no</td>\n",
       "      <td>no</td>\n",
       "      <td>no</td>\n",
       "    </tr>\n",
       "    <tr>\n",
       "      <th>DateCreated</th>\n",
       "      <td>2016-03-14 00:00:00</td>\n",
       "      <td>2016-03-25 00:00:00</td>\n",
       "      <td>2016-03-14 00:00:00</td>\n",
       "      <td>2016-04-02 00:00:00</td>\n",
       "      <td>2016-03-13 00:00:00</td>\n",
       "    </tr>\n",
       "    <tr>\n",
       "      <th>NumberOfPictures</th>\n",
       "      <td>0</td>\n",
       "      <td>0</td>\n",
       "      <td>0</td>\n",
       "      <td>0</td>\n",
       "      <td>0</td>\n",
       "    </tr>\n",
       "    <tr>\n",
       "      <th>PostalCode</th>\n",
       "      <td>31867</td>\n",
       "      <td>72147</td>\n",
       "      <td>97222</td>\n",
       "      <td>69488</td>\n",
       "      <td>52080</td>\n",
       "    </tr>\n",
       "    <tr>\n",
       "      <th>LastSeen</th>\n",
       "      <td>2016-03-29 05:47:33</td>\n",
       "      <td>2016-03-29 20:16:46</td>\n",
       "      <td>2016-03-20 02:18:43</td>\n",
       "      <td>2016-04-07 09:15:36</td>\n",
       "      <td>2016-04-06 18:44:49</td>\n",
       "    </tr>\n",
       "  </tbody>\n",
       "</table>\n",
       "</div>"
      ],
      "text/plain": [
       "                                280344               120865  \\\n",
       "DateCrawled        2016-03-14 11:54:48  2016-03-25 01:57:05   \n",
       "Price                             4790                  799   \n",
       "VehicleType                        NaN                wagon   \n",
       "RegistrationYear                  2017                 1999   \n",
       "Gearbox                         manual                  NaN   \n",
       "Power                              105                    0   \n",
       "Model                             golf                   a4   \n",
       "Kilometer                       150000               150000   \n",
       "RegistrationMonth                    7                    4   \n",
       "FuelType                      gasoline               petrol   \n",
       "Brand                       volkswagen                 audi   \n",
       "Repaired                            no                  NaN   \n",
       "DateCreated        2016-03-14 00:00:00  2016-03-25 00:00:00   \n",
       "NumberOfPictures                     0                    0   \n",
       "PostalCode                       31867                72147   \n",
       "LastSeen           2016-03-29 05:47:33  2016-03-29 20:16:46   \n",
       "\n",
       "                                264665               56741   \\\n",
       "DateCrawled        2016-03-14 14:53:10  2016-04-03 00:59:56   \n",
       "Price                            13900                 1350   \n",
       "VehicleType                      wagon                sedan   \n",
       "RegistrationYear                  2012                 1999   \n",
       "Gearbox                         manual               manual   \n",
       "Power                              136                   90   \n",
       "Model                         c_klasse             a_klasse   \n",
       "Kilometer                       150000               150000   \n",
       "RegistrationMonth                    3                    8   \n",
       "FuelType                      gasoline             gasoline   \n",
       "Brand                    mercedes_benz        mercedes_benz   \n",
       "Repaired                            no                   no   \n",
       "DateCreated        2016-03-14 00:00:00  2016-04-02 00:00:00   \n",
       "NumberOfPictures                     0                    0   \n",
       "PostalCode                       97222                69488   \n",
       "LastSeen           2016-03-20 02:18:43  2016-04-07 09:15:36   \n",
       "\n",
       "                                335015  \n",
       "DateCrawled        2016-03-13 19:51:31  \n",
       "Price                             2550  \n",
       "VehicleType                      wagon  \n",
       "RegistrationYear                  2000  \n",
       "Gearbox                         manual  \n",
       "Power                                0  \n",
       "Model                              3er  \n",
       "Kilometer                       150000  \n",
       "RegistrationMonth                    0  \n",
       "FuelType                        petrol  \n",
       "Brand                              bmw  \n",
       "Repaired                            no  \n",
       "DateCreated        2016-03-13 00:00:00  \n",
       "NumberOfPictures                     0  \n",
       "PostalCode                       52080  \n",
       "LastSeen           2016-04-06 18:44:49  "
      ]
     },
     "metadata": {},
     "output_type": "display_data"
    }
   ],
   "source": [
    "display(df.sample(5).T)"
   ]
  },
  {
   "cell_type": "markdown",
   "metadata": {},
   "source": [
    "### Обработка дубликатов"
   ]
  },
  {
   "cell_type": "code",
   "execution_count": 6,
   "metadata": {},
   "outputs": [
    {
     "name": "stdout",
     "output_type": "stream",
     "text": [
      "Количество дубликатов: 4\n"
     ]
    }
   ],
   "source": [
    "print('Количество дубликатов:', df.duplicated().sum())"
   ]
  },
  {
   "cell_type": "markdown",
   "metadata": {},
   "source": [
    "С учетом полей с датами вероятность случайного совпадения строк очень мала. Удаляем."
   ]
  },
  {
   "cell_type": "code",
   "execution_count": 7,
   "metadata": {},
   "outputs": [],
   "source": [
    "df = df.drop_duplicates()"
   ]
  },
  {
   "cell_type": "markdown",
   "metadata": {},
   "source": [
    "<div class=\"alert alert-success\">\n",
    "<b>Комментарий ревьюера:\n",
    "&#9989;</b> Хорошо!</div>"
   ]
  },
  {
   "cell_type": "markdown",
   "metadata": {},
   "source": [
    "### Пропуски в модели автомобиля"
   ]
  },
  {
   "cell_type": "markdown",
   "metadata": {},
   "source": [
    "Пропуски в столбце 'Model' заполним значением 'unknown'."
   ]
  },
  {
   "cell_type": "code",
   "execution_count": 8,
   "metadata": {},
   "outputs": [],
   "source": [
    "df['Model'] = df['Model'].fillna('unknown')"
   ]
  },
  {
   "cell_type": "markdown",
   "metadata": {},
   "source": [
    "Модель без марки автомобиля не всегда дает однозначную информацию о том что это за авто (встречаются совпадения наименований модели).\n",
    "\n",
    "В модельном ряде большинства брендов есть как \"недорогие\" так и \"премиальные\" (дорогие) модели.\n",
    "\n",
    "Таким образом значения 'Brand' и 'Model' будет корректно учитывать в связке."
   ]
  },
  {
   "cell_type": "code",
   "execution_count": 9,
   "metadata": {},
   "outputs": [],
   "source": [
    "#\"соберем\" марку и модель автомобиля в 1 признак\n",
    "df['Brand_Model'] = df['Brand'] + '_' + df['Model']"
   ]
  },
  {
   "cell_type": "markdown",
   "metadata": {},
   "source": [
    "<div class=\"alert alert-success\">\n",
    "<b>Комментарий ревьюера:\n",
    "&#9989;</b> Хорошо! </div>"
   ]
  },
  {
   "cell_type": "markdown",
   "metadata": {},
   "source": [
    "### Нулевая цена"
   ]
  },
  {
   "cell_type": "code",
   "execution_count": 10,
   "metadata": {},
   "outputs": [
    {
     "data": {
      "text/plain": [
       "count    354365.000000\n",
       "mean       4416.679830\n",
       "std        4514.176349\n",
       "min           0.000000\n",
       "25%        1050.000000\n",
       "50%        2700.000000\n",
       "75%        6400.000000\n",
       "max       20000.000000\n",
       "Name: Price, dtype: float64"
      ]
     },
     "execution_count": 10,
     "metadata": {},
     "output_type": "execute_result"
    }
   ],
   "source": [
    "df['Price'].describe()"
   ]
  },
  {
   "cell_type": "code",
   "execution_count": 11,
   "metadata": {},
   "outputs": [
    {
     "data": {
      "image/png": "[encoded data removed]",
      "text/plain": [
       "<Figure size 1400x600 with 1 Axes>"
      ]
     },
     "metadata": {},
     "output_type": "display_data"
    }
   ],
   "source": [
    "df['Price'].plot.hist(bins=100, edgecolor = 'black', figsize=(14, 6), grid=True, color='gold')\n",
    "plt.title('Распределение цены', fontsize=20)\n",
    "plt.ylabel('Частота', fontsize=16)\n",
    "plt.xlabel('Цена, евро', fontsize=16);"
   ]
  },
  {
   "cell_type": "code",
   "execution_count": 12,
   "metadata": {},
   "outputs": [
    {
     "data": {
      "image/png": "[encoded data removed]",
      "text/plain": [
       "<Figure size 1400x600 with 1 Axes>"
      ]
     },
     "metadata": {},
     "output_type": "display_data"
    }
   ],
   "source": [
    "df['Price'][df['Price']<=1000].plot.hist(bins=20, edgecolor = 'black', figsize=(14, 6), grid=True, color='gold')\n",
    "plt.title('Распределение цены до 1000 евро', fontsize=20) \n",
    "plt.ylabel('Частота', fontsize=16)\n",
    "plt.xlabel('Цена, евро', fontsize=16);"
   ]
  },
  {
   "cell_type": "code",
   "execution_count": 13,
   "metadata": {},
   "outputs": [
    {
     "name": "stdout",
     "output_type": "stream",
     "text": [
      "количество автомобилей с 0 ценой:\n",
      "10772\n",
      "доля автомобилей с 0 ценой:\n",
      "0.030398035923412302\n"
     ]
    }
   ],
   "source": [
    "print('количество автомобилей с 0 ценой:')\n",
    "print(len(df[df['Price']==0]))\n",
    "print('доля автомобилей с 0 ценой:')\n",
    "print(len(df[df['Price']==0])/len(df))"
   ]
  },
  {
   "cell_type": "markdown",
   "metadata": {},
   "source": [
    "Судя по почтовым индексам и маркам автомобилей сервис работает с объявлениями центральной европы (в основном Германия). Продажа автомобилей там вероятно имеет свои особенности. Возможно нулевая цена при продаже указана для старых/неисправных автомобилей, которые выгоднее отдать даром чем утилизировать. Необходимы комментарии заказчика. \n",
    "\n",
    "А возможно такая цена - просто ошибка при заполнении формы объявления. На данный момент правильнее удалить строки с нулевой ценой. "
   ]
  },
  {
   "cell_type": "code",
   "execution_count": 14,
   "metadata": {},
   "outputs": [],
   "source": [
    "df = df[df['Price']>0]"
   ]
  },
  {
   "cell_type": "code",
   "execution_count": 15,
   "metadata": {},
   "outputs": [
    {
     "name": "stdout",
     "output_type": "stream",
     "text": [
      "количество автомобилей с ценой < 50 евро:\n",
      "1651\n",
      "доля автомобилей с ценой < 50 евро:\n",
      "0.00480510371282302\n"
     ]
    }
   ],
   "source": [
    "print('количество автомобилей с ценой < 50 евро:')\n",
    "print(len(df[df['Price']<50]))\n",
    "print('доля автомобилей с ценой < 50 евро:')\n",
    "print(len(df[df['Price']<50])/len(df))"
   ]
  },
  {
   "cell_type": "code",
   "execution_count": 16,
   "metadata": {},
   "outputs": [
    {
     "data": {
      "text/plain": [
       "count    341942.000000\n",
       "mean       4577.108556\n",
       "std        4514.861088\n",
       "min          50.000000\n",
       "25%        1200.000000\n",
       "50%        2900.000000\n",
       "75%        6500.000000\n",
       "max       20000.000000\n",
       "Name: Price, dtype: float64"
      ]
     },
     "execution_count": 16,
     "metadata": {},
     "output_type": "execute_result"
    }
   ],
   "source": [
    "df = df[df['Price']>=50]\n",
    "df['Price'].describe()"
   ]
  },
  {
   "cell_type": "markdown",
   "metadata": {},
   "source": [
    "Отсеяли объявления с нулевой ценой. 10772 строки - около 3%.  \n",
    "Также объявления с ценой менее 50 евро (около 4,5 тыс. руб.) вероятно являются недостоверными даже для старого или аварийного автомобиля. Удалили 1651 строку - около 0,5%"
   ]
  },
  {
   "cell_type": "markdown",
   "metadata": {},
   "source": [
    "<div class=\"alert alert-success\">\n",
    "<b>Комментарий ревьюера:\n",
    "&#9989;</b> Отлично! </div>"
   ]
  },
  {
   "cell_type": "markdown",
   "metadata": {},
   "source": [
    "### Недостоверная дата регистрации"
   ]
  },
  {
   "cell_type": "code",
   "execution_count": 17,
   "metadata": {},
   "outputs": [
    {
     "name": "stdout",
     "output_type": "stream",
     "text": [
      "2000    22818\n",
      "1999    21896\n",
      "2005    21404\n",
      "2006    19650\n",
      "2001    19591\n",
      "        ...  \n",
      "2200        1\n",
      "8888        1\n",
      "2290        1\n",
      "9450        1\n",
      "1946        1\n",
      "Name: RegistrationYear, Length: 139, dtype: int64\n",
      "3     33749\n",
      "0     32067\n",
      "6     30753\n",
      "4     28627\n",
      "5     28445\n",
      "7     26605\n",
      "10    25568\n",
      "11    23719\n",
      "12    23702\n",
      "9     23326\n",
      "1     22551\n",
      "8     22077\n",
      "2     20753\n",
      "Name: RegistrationMonth, dtype: int64\n"
     ]
    }
   ],
   "source": [
    "print(df['RegistrationYear'].value_counts())\n",
    "print(df['RegistrationMonth'].value_counts())"
   ]
  },
  {
   "cell_type": "markdown",
   "metadata": {},
   "source": [
    "Присутствуют недостоверные значения RegistrationYear, а также RegistrationMonth == 0."
   ]
  },
  {
   "cell_type": "code",
   "execution_count": 18,
   "metadata": {},
   "outputs": [
    {
     "name": "stdout",
     "output_type": "stream",
     "text": [
      "количество автомобилей с недостоверным/нерелевантным годом выпуска:\n",
      "14834\n",
      "доля автомобилей с недостоверным/нерелевантным годом выпуска:\n",
      "0.04338162612372858\n"
     ]
    }
   ],
   "source": [
    "print('количество автомобилей с недостоверным/нерелевантным годом выпуска:')\n",
    "print(len(df[(df['RegistrationYear']<1970) | (df['RegistrationYear']>2016)]))\n",
    "print('доля автомобилей с недостоверным/нерелевантным годом выпуска:')\n",
    "print(len(df[(df['RegistrationYear']<1970) | (df['RegistrationYear']>2016)])/len(df))"
   ]
  },
  {
   "cell_type": "code",
   "execution_count": 19,
   "metadata": {},
   "outputs": [],
   "source": [
    "#удалим строки с неправильным годом регистрации\n",
    "df = df[(df['RegistrationYear']>=1970) | (df['RegistrationYear']<=2016)]"
   ]
  },
  {
   "cell_type": "code",
   "execution_count": 20,
   "metadata": {},
   "outputs": [],
   "source": [
    "#\"соберем\" дату регистрации (RegistrationYear и RegistrationMonth) в 1 признак\n",
    "df['HowOld_Month'] = 2016*12 - df['RegistrationYear']*12 - df['RegistrationMonth'] #Возраст автомобиля в месяцах"
   ]
  },
  {
   "cell_type": "markdown",
   "metadata": {},
   "source": [
    "<div class=\"alert alert-danger\">\n",
    "<b>Комментарий ревьюера: &#10060; </b> Обрати, пожалуйста, внимание на дату выгрузки из бд(2016 г.) </div>"
   ]
  },
  {
   "attachments": {},
   "cell_type": "markdown",
   "metadata": {},
   "source": [
    "<div class=\"alert alert-info\"> <b>Комментарий студента:</b>\n",
    "    Исправил! :)\n",
    "</div>"
   ]
  },
  {
   "cell_type": "markdown",
   "metadata": {},
   "source": [
    "Удалили 14834 строк (0,4%). Признаки RegistrationYear и RegistrationMonth собраны в один: RegistrationYearMonth."
   ]
  },
  {
   "cell_type": "markdown",
   "metadata": {},
   "source": [
    "### Удаление неинформативных признаков"
   ]
  },
  {
   "cell_type": "code",
   "execution_count": 21,
   "metadata": {},
   "outputs": [],
   "source": [
    "#удалим неинформативные признаки\n",
    "df = df.drop(['DateCrawled', 'DateCreated', 'LastSeen', 'PostalCode', 'NumberOfPictures', # не несут пользы\n",
    "                  'RegistrationMonth', 'RegistrationYear', # собраны в 1 признак\n",
    "                  'Model', 'Brand'], axis=1) # собраны в 1 признак"
   ]
  },
  {
   "cell_type": "markdown",
   "metadata": {},
   "source": [
    "### Недостоверная мощность"
   ]
  },
  {
   "cell_type": "code",
   "execution_count": 22,
   "metadata": {},
   "outputs": [
    {
     "data": {
      "text/plain": [
       "count    341942.000000\n",
       "mean        111.206713\n",
       "std         188.254677\n",
       "min           0.000000\n",
       "25%          69.000000\n",
       "50%         105.000000\n",
       "75%         143.000000\n",
       "max       20000.000000\n",
       "Name: Power, dtype: float64"
      ]
     },
     "execution_count": 22,
     "metadata": {},
     "output_type": "execute_result"
    }
   ],
   "source": [
    "df['Power'].describe()"
   ]
  },
  {
   "cell_type": "code",
   "execution_count": 23,
   "metadata": {},
   "outputs": [
    {
     "name": "stdout",
     "output_type": "stream",
     "text": [
      "0.995 квантиль 334.0\n"
     ]
    }
   ],
   "source": [
    "print('0.995 квантиль', df['Power'].quantile(.995))"
   ]
  },
  {
   "cell_type": "code",
   "execution_count": 24,
   "metadata": {},
   "outputs": [
    {
     "data": {
      "image/png": "[encoded data removed]",
      "text/plain": [
       "<Figure size 1400x600 with 1 Axes>"
      ]
     },
     "metadata": {},
     "output_type": "display_data"
    }
   ],
   "source": [
    "df['Power'][df['Power']<=350].plot.hist(\n",
    "    bins=100, edgecolor = 'black', figsize=(14, 6), grid=True, alpha = 0.4)\n",
    "plt.title('распределение мощности до 350 л/с', fontsize=20)\n",
    "plt.ylabel('Частота', fontsize=16)\n",
    "plt.xlabel('Мощность, л/с', fontsize=16);"
   ]
  },
  {
   "cell_type": "code",
   "execution_count": 25,
   "metadata": {},
   "outputs": [
    {
     "data": {
      "text/html": [
       "<div>\n",
       "<style scoped>\n",
       "    .dataframe tbody tr th:only-of-type {\n",
       "        vertical-align: middle;\n",
       "    }\n",
       "\n",
       "    .dataframe tbody tr th {\n",
       "        vertical-align: top;\n",
       "    }\n",
       "\n",
       "    .dataframe thead th {\n",
       "        text-align: right;\n",
       "    }\n",
       "</style>\n",
       "<table border=\"1\" class=\"dataframe\">\n",
       "  <thead>\n",
       "    <tr style=\"text-align: right;\">\n",
       "      <th></th>\n",
       "      <th>110383</th>\n",
       "      <th>308270</th>\n",
       "      <th>68669</th>\n",
       "      <th>188239</th>\n",
       "      <th>275908</th>\n",
       "      <th>306463</th>\n",
       "    </tr>\n",
       "  </thead>\n",
       "  <tbody>\n",
       "    <tr>\n",
       "      <th>Price</th>\n",
       "      <td>350</td>\n",
       "      <td>4000</td>\n",
       "      <td>1450</td>\n",
       "      <td>4980</td>\n",
       "      <td>1800</td>\n",
       "      <td>16800</td>\n",
       "    </tr>\n",
       "    <tr>\n",
       "      <th>VehicleType</th>\n",
       "      <td>small</td>\n",
       "      <td>small</td>\n",
       "      <td>small</td>\n",
       "      <td>convertible</td>\n",
       "      <td>NaN</td>\n",
       "      <td>other</td>\n",
       "    </tr>\n",
       "    <tr>\n",
       "      <th>Gearbox</th>\n",
       "      <td>manual</td>\n",
       "      <td>manual</td>\n",
       "      <td>manual</td>\n",
       "      <td>manual</td>\n",
       "      <td>manual</td>\n",
       "      <td>manual</td>\n",
       "    </tr>\n",
       "    <tr>\n",
       "      <th>Power</th>\n",
       "      <td>39</td>\n",
       "      <td>23</td>\n",
       "      <td>18</td>\n",
       "      <td>27</td>\n",
       "      <td>34</td>\n",
       "      <td>24</td>\n",
       "    </tr>\n",
       "    <tr>\n",
       "      <th>Kilometer</th>\n",
       "      <td>80000</td>\n",
       "      <td>100000</td>\n",
       "      <td>125000</td>\n",
       "      <td>50000</td>\n",
       "      <td>50000</td>\n",
       "      <td>150000</td>\n",
       "    </tr>\n",
       "    <tr>\n",
       "      <th>FuelType</th>\n",
       "      <td>petrol</td>\n",
       "      <td>petrol</td>\n",
       "      <td>petrol</td>\n",
       "      <td>petrol</td>\n",
       "      <td>petrol</td>\n",
       "      <td>petrol</td>\n",
       "    </tr>\n",
       "    <tr>\n",
       "      <th>Repaired</th>\n",
       "      <td>NaN</td>\n",
       "      <td>no</td>\n",
       "      <td>NaN</td>\n",
       "      <td>no</td>\n",
       "      <td>NaN</td>\n",
       "      <td>no</td>\n",
       "    </tr>\n",
       "    <tr>\n",
       "      <th>Brand_Model</th>\n",
       "      <td>fiat_seicento</td>\n",
       "      <td>fiat_500</td>\n",
       "      <td>fiat_500</td>\n",
       "      <td>volkswagen_other</td>\n",
       "      <td>volkswagen_kaefer</td>\n",
       "      <td>ford_other</td>\n",
       "    </tr>\n",
       "    <tr>\n",
       "      <th>HowOld_Month</th>\n",
       "      <td>202</td>\n",
       "      <td>594</td>\n",
       "      <td>504</td>\n",
       "      <td>606</td>\n",
       "      <td>372</td>\n",
       "      <td>1031</td>\n",
       "    </tr>\n",
       "  </tbody>\n",
       "</table>\n",
       "</div>"
      ],
      "text/plain": [
       "                     110383    308270    68669             188239  \\\n",
       "Price                   350      4000      1450              4980   \n",
       "VehicleType           small     small     small       convertible   \n",
       "Gearbox              manual    manual    manual            manual   \n",
       "Power                    39        23        18                27   \n",
       "Kilometer             80000    100000    125000             50000   \n",
       "FuelType             petrol    petrol    petrol            petrol   \n",
       "Repaired                NaN        no       NaN                no   \n",
       "Brand_Model   fiat_seicento  fiat_500  fiat_500  volkswagen_other   \n",
       "HowOld_Month            202       594       504               606   \n",
       "\n",
       "                         275908      306463  \n",
       "Price                      1800       16800  \n",
       "VehicleType                 NaN       other  \n",
       "Gearbox                  manual      manual  \n",
       "Power                        34          24  \n",
       "Kilometer                 50000      150000  \n",
       "FuelType                 petrol      petrol  \n",
       "Repaired                    NaN          no  \n",
       "Brand_Model   volkswagen_kaefer  ford_other  \n",
       "HowOld_Month                372        1031  "
      ]
     },
     "metadata": {},
     "output_type": "display_data"
    }
   ],
   "source": [
    "#посмотрим на автомобили с мощностью от 1 до 40 л/с\n",
    "display(df[(df['Power']<40) & (df['Power']>0)].sample(6).T)"
   ]
  },
  {
   "cell_type": "markdown",
   "metadata": {},
   "source": [
    "Среди объявлений есть маломощные атомобили типа trabant"
   ]
  },
  {
   "cell_type": "code",
   "execution_count": 26,
   "metadata": {},
   "outputs": [
    {
     "data": {
      "image/png": "[encoded data removed]",
      "text/plain": [
       "<Figure size 1400x600 with 1 Axes>"
      ]
     },
     "metadata": {},
     "output_type": "display_data"
    }
   ],
   "source": [
    "df['Power'][(df['Power']>350) & (df['Power']<=500)].plot.hist(\n",
    "    bins=100, edgecolor = 'black', figsize=(14, 6), grid=True, alpha = 0.4)\n",
    "plt.title('распределение мощности от 350 до 500 л/с', fontsize=20)\n",
    "plt.ylabel('Частота', fontsize=16)\n",
    "plt.xlabel('Мощность, л/с', fontsize=16);"
   ]
  },
  {
   "cell_type": "code",
   "execution_count": 27,
   "metadata": {},
   "outputs": [
    {
     "name": "stdout",
     "output_type": "stream",
     "text": [
      "724\n"
     ]
    },
    {
     "data": {
      "text/html": [
       "<div>\n",
       "<style scoped>\n",
       "    .dataframe tbody tr th:only-of-type {\n",
       "        vertical-align: middle;\n",
       "    }\n",
       "\n",
       "    .dataframe tbody tr th {\n",
       "        vertical-align: top;\n",
       "    }\n",
       "\n",
       "    .dataframe thead th {\n",
       "        text-align: right;\n",
       "    }\n",
       "</style>\n",
       "<table border=\"1\" class=\"dataframe\">\n",
       "  <thead>\n",
       "    <tr style=\"text-align: right;\">\n",
       "      <th></th>\n",
       "      <th>116916</th>\n",
       "      <th>122952</th>\n",
       "      <th>218513</th>\n",
       "      <th>345012</th>\n",
       "      <th>139614</th>\n",
       "      <th>210948</th>\n",
       "      <th>266880</th>\n",
       "    </tr>\n",
       "  </thead>\n",
       "  <tbody>\n",
       "    <tr>\n",
       "      <th>Price</th>\n",
       "      <td>13750</td>\n",
       "      <td>16990</td>\n",
       "      <td>17500</td>\n",
       "      <td>1200</td>\n",
       "      <td>20000</td>\n",
       "      <td>16500</td>\n",
       "      <td>15000</td>\n",
       "    </tr>\n",
       "    <tr>\n",
       "      <th>VehicleType</th>\n",
       "      <td>coupe</td>\n",
       "      <td>coupe</td>\n",
       "      <td>sedan</td>\n",
       "      <td>suv</td>\n",
       "      <td>sedan</td>\n",
       "      <td>coupe</td>\n",
       "      <td>NaN</td>\n",
       "    </tr>\n",
       "    <tr>\n",
       "      <th>Gearbox</th>\n",
       "      <td>manual</td>\n",
       "      <td>manual</td>\n",
       "      <td>auto</td>\n",
       "      <td>auto</td>\n",
       "      <td>auto</td>\n",
       "      <td>auto</td>\n",
       "      <td>auto</td>\n",
       "    </tr>\n",
       "    <tr>\n",
       "      <th>Power</th>\n",
       "      <td>390</td>\n",
       "      <td>354</td>\n",
       "      <td>387</td>\n",
       "      <td>450</td>\n",
       "      <td>408</td>\n",
       "      <td>367</td>\n",
       "      <td>360</td>\n",
       "    </tr>\n",
       "    <tr>\n",
       "      <th>Kilometer</th>\n",
       "      <td>150000</td>\n",
       "      <td>150000</td>\n",
       "      <td>150000</td>\n",
       "      <td>90000</td>\n",
       "      <td>100000</td>\n",
       "      <td>150000</td>\n",
       "      <td>150000</td>\n",
       "    </tr>\n",
       "    <tr>\n",
       "      <th>FuelType</th>\n",
       "      <td>petrol</td>\n",
       "      <td>petrol</td>\n",
       "      <td>petrol</td>\n",
       "      <td>petrol</td>\n",
       "      <td>petrol</td>\n",
       "      <td>petrol</td>\n",
       "      <td>NaN</td>\n",
       "    </tr>\n",
       "    <tr>\n",
       "      <th>Repaired</th>\n",
       "      <td>yes</td>\n",
       "      <td>no</td>\n",
       "      <td>no</td>\n",
       "      <td>yes</td>\n",
       "      <td>no</td>\n",
       "      <td>no</td>\n",
       "      <td>no</td>\n",
       "    </tr>\n",
       "    <tr>\n",
       "      <th>Brand_Model</th>\n",
       "      <td>bmw_3er</td>\n",
       "      <td>audi_other</td>\n",
       "      <td>mercedes_benz_s_klasse</td>\n",
       "      <td>porsche_cayenne</td>\n",
       "      <td>bmw_7er</td>\n",
       "      <td>bmw_6er</td>\n",
       "      <td>volkswagen_golf</td>\n",
       "    </tr>\n",
       "    <tr>\n",
       "      <th>HowOld_Month</th>\n",
       "      <td>69</td>\n",
       "      <td>98</td>\n",
       "      <td>106</td>\n",
       "      <td>150</td>\n",
       "      <td>86</td>\n",
       "      <td>121</td>\n",
       "      <td>-10</td>\n",
       "    </tr>\n",
       "  </tbody>\n",
       "</table>\n",
       "</div>"
      ],
      "text/plain": [
       "               116916      122952                  218513           345012  \\\n",
       "Price           13750       16990                   17500             1200   \n",
       "VehicleType     coupe       coupe                   sedan              suv   \n",
       "Gearbox        manual      manual                    auto             auto   \n",
       "Power             390         354                     387              450   \n",
       "Kilometer      150000      150000                  150000            90000   \n",
       "FuelType       petrol      petrol                  petrol           petrol   \n",
       "Repaired          yes          no                      no              yes   \n",
       "Brand_Model   bmw_3er  audi_other  mercedes_benz_s_klasse  porsche_cayenne   \n",
       "HowOld_Month       69          98                     106              150   \n",
       "\n",
       "               139614   210948           266880  \n",
       "Price           20000    16500            15000  \n",
       "VehicleType     sedan    coupe              NaN  \n",
       "Gearbox          auto     auto             auto  \n",
       "Power             408      367              360  \n",
       "Kilometer      100000   150000           150000  \n",
       "FuelType       petrol   petrol              NaN  \n",
       "Repaired           no       no               no  \n",
       "Brand_Model   bmw_7er  bmw_6er  volkswagen_golf  \n",
       "HowOld_Month       86      121              -10  "
      ]
     },
     "metadata": {},
     "output_type": "display_data"
    }
   ],
   "source": [
    "#посмотрим на автомобили с мощностью от 350 л/с до 500 л/с\n",
    "print(len(df[(df['Power']>350) & (df['Power']<=500)]))\n",
    "display(df[(df['Power']>350) & (df['Power']<=500)].sample(7).T)"
   ]
  },
  {
   "cell_type": "markdown",
   "metadata": {},
   "source": [
    "В списке в основном porsche, bmw, mercedes_benz и т.п., хотя встречаются и неправдоподобные volkswagen golf 365 л/с"
   ]
  },
  {
   "cell_type": "code",
   "execution_count": 28,
   "metadata": {},
   "outputs": [
    {
     "name": "stdout",
     "output_type": "stream",
     "text": [
      "количество автомобилей с мощностью свыше 500 л.с.:\n",
      "422\n",
      "доля автомобилей с мощностью свыше 500 л.с.:\n",
      "0.0012341274251188798\n"
     ]
    },
    {
     "data": {
      "text/html": [
       "<div>\n",
       "<style scoped>\n",
       "    .dataframe tbody tr th:only-of-type {\n",
       "        vertical-align: middle;\n",
       "    }\n",
       "\n",
       "    .dataframe tbody tr th {\n",
       "        vertical-align: top;\n",
       "    }\n",
       "\n",
       "    .dataframe thead th {\n",
       "        text-align: right;\n",
       "    }\n",
       "</style>\n",
       "<table border=\"1\" class=\"dataframe\">\n",
       "  <thead>\n",
       "    <tr style=\"text-align: right;\">\n",
       "      <th></th>\n",
       "      <th>220411</th>\n",
       "      <th>171089</th>\n",
       "      <th>207383</th>\n",
       "      <th>131401</th>\n",
       "      <th>216993</th>\n",
       "      <th>255268</th>\n",
       "      <th>344689</th>\n",
       "    </tr>\n",
       "  </thead>\n",
       "  <tbody>\n",
       "    <tr>\n",
       "      <th>Price</th>\n",
       "      <td>1499</td>\n",
       "      <td>1750</td>\n",
       "      <td>2100</td>\n",
       "      <td>4500</td>\n",
       "      <td>11950</td>\n",
       "      <td>7500</td>\n",
       "      <td>14900</td>\n",
       "    </tr>\n",
       "    <tr>\n",
       "      <th>VehicleType</th>\n",
       "      <td>NaN</td>\n",
       "      <td>sedan</td>\n",
       "      <td>small</td>\n",
       "      <td>sedan</td>\n",
       "      <td>convertible</td>\n",
       "      <td>convertible</td>\n",
       "      <td>suv</td>\n",
       "    </tr>\n",
       "    <tr>\n",
       "      <th>Gearbox</th>\n",
       "      <td>manual</td>\n",
       "      <td>manual</td>\n",
       "      <td>manual</td>\n",
       "      <td>auto</td>\n",
       "      <td>manual</td>\n",
       "      <td>manual</td>\n",
       "      <td>auto</td>\n",
       "    </tr>\n",
       "    <tr>\n",
       "      <th>Power</th>\n",
       "      <td>6012</td>\n",
       "      <td>6010</td>\n",
       "      <td>1399</td>\n",
       "      <td>3454</td>\n",
       "      <td>16312</td>\n",
       "      <td>1432</td>\n",
       "      <td>521</td>\n",
       "    </tr>\n",
       "    <tr>\n",
       "      <th>Kilometer</th>\n",
       "      <td>125000</td>\n",
       "      <td>90000</td>\n",
       "      <td>150000</td>\n",
       "      <td>150000</td>\n",
       "      <td>20000</td>\n",
       "      <td>150000</td>\n",
       "      <td>150000</td>\n",
       "    </tr>\n",
       "    <tr>\n",
       "      <th>FuelType</th>\n",
       "      <td>NaN</td>\n",
       "      <td>petrol</td>\n",
       "      <td>gasoline</td>\n",
       "      <td>petrol</td>\n",
       "      <td>petrol</td>\n",
       "      <td>petrol</td>\n",
       "      <td>petrol</td>\n",
       "    </tr>\n",
       "    <tr>\n",
       "      <th>Repaired</th>\n",
       "      <td>no</td>\n",
       "      <td>no</td>\n",
       "      <td>no</td>\n",
       "      <td>NaN</td>\n",
       "      <td>no</td>\n",
       "      <td>no</td>\n",
       "      <td>no</td>\n",
       "    </tr>\n",
       "    <tr>\n",
       "      <th>Brand_Model</th>\n",
       "      <td>volkswagen_polo</td>\n",
       "      <td>opel_agila</td>\n",
       "      <td>ford_fiesta</td>\n",
       "      <td>mercedes_benz_e_klasse</td>\n",
       "      <td>audi_a4</td>\n",
       "      <td>bmw_3er</td>\n",
       "      <td>porsche_cayenne</td>\n",
       "    </tr>\n",
       "    <tr>\n",
       "      <th>HowOld_Month</th>\n",
       "      <td>-12</td>\n",
       "      <td>112</td>\n",
       "      <td>158</td>\n",
       "      <td>174</td>\n",
       "      <td>92</td>\n",
       "      <td>165</td>\n",
       "      <td>114</td>\n",
       "    </tr>\n",
       "  </tbody>\n",
       "</table>\n",
       "</div>"
      ],
      "text/plain": [
       "                       220411      171089       207383  \\\n",
       "Price                    1499        1750         2100   \n",
       "VehicleType               NaN       sedan        small   \n",
       "Gearbox                manual      manual       manual   \n",
       "Power                    6012        6010         1399   \n",
       "Kilometer              125000       90000       150000   \n",
       "FuelType                  NaN      petrol     gasoline   \n",
       "Repaired                   no          no           no   \n",
       "Brand_Model   volkswagen_polo  opel_agila  ford_fiesta   \n",
       "HowOld_Month              -12         112          158   \n",
       "\n",
       "                              131401       216993       255268  \\\n",
       "Price                           4500        11950         7500   \n",
       "VehicleType                    sedan  convertible  convertible   \n",
       "Gearbox                         auto       manual       manual   \n",
       "Power                           3454        16312         1432   \n",
       "Kilometer                     150000        20000       150000   \n",
       "FuelType                      petrol       petrol       petrol   \n",
       "Repaired                         NaN           no           no   \n",
       "Brand_Model   mercedes_benz_e_klasse      audi_a4      bmw_3er   \n",
       "HowOld_Month                     174           92          165   \n",
       "\n",
       "                       344689  \n",
       "Price                   14900  \n",
       "VehicleType               suv  \n",
       "Gearbox                  auto  \n",
       "Power                     521  \n",
       "Kilometer              150000  \n",
       "FuelType               petrol  \n",
       "Repaired                   no  \n",
       "Brand_Model   porsche_cayenne  \n",
       "HowOld_Month              114  "
      ]
     },
     "metadata": {},
     "output_type": "display_data"
    }
   ],
   "source": [
    "#посмотрим на автомобили с мощностью свыше 500 л/с\n",
    "print('количество автомобилей с мощностью свыше 500 л.с.:')\n",
    "print(len(df[df['Power']>500]))\n",
    "print('доля автомобилей с мощностью свыше 500 л.с.:')\n",
    "print(len(df[df['Power']>500])/len(df))\n",
    "display(df[df['Power']>500].sample(7).T)"
   ]
  },
  {
   "cell_type": "markdown",
   "metadata": {},
   "source": [
    "Тут уже совсем неверотные мощности. Т.к. в выборке предсталены автомобили стоимостью до 20000 евро можем считать что мощность свыше 500 л./с указана ошибочно."
   ]
  },
  {
   "cell_type": "code",
   "execution_count": 29,
   "metadata": {},
   "outputs": [],
   "source": [
    "#в Power оставляем значения в диапазоне 1-500 л.с. Остальным присваиваем NaN\n",
    "df['Power'] = df['Power'].where(df['Power']!=0, np.NaN)\n",
    "df['Power'] = df['Power'].where(df['Power']<=500, np.NaN)"
   ]
  },
  {
   "cell_type": "markdown",
   "metadata": {},
   "source": [
    "<div class=\"alert alert-success\">\n",
    "<b>Комментарий ревьюера:\n",
    "&#9989;</b> Отлично! </div>"
   ]
  },
  {
   "cell_type": "markdown",
   "metadata": {},
   "source": [
    "### Заполнение пропусков"
   ]
  },
  {
   "cell_type": "code",
   "execution_count": 30,
   "metadata": {},
   "outputs": [],
   "source": [
    "nan_colomn = 'Power'             #переменная задает столбец с пропуском\n",
    "group_colomn = 'Brand_Model'     #переменная задает столбец по которому будем группировать для поиска медианы\n",
    "median_series = df.groupby(group_colomn)[nan_colomn].median() #series со значениями медиан по группе\n",
    "\n",
    "#Заполняем 'Power' медианой соответствующей марки/модели\n",
    "df[nan_colomn] = df[nan_colomn].fillna(df.apply(median_groupby, axis=1))"
   ]
  },
  {
   "cell_type": "code",
   "execution_count": 31,
   "metadata": {},
   "outputs": [
    {
     "data": {
      "text/html": [
       "<div>\n",
       "<style scoped>\n",
       "    .dataframe tbody tr th:only-of-type {\n",
       "        vertical-align: middle;\n",
       "    }\n",
       "\n",
       "    .dataframe tbody tr th {\n",
       "        vertical-align: top;\n",
       "    }\n",
       "\n",
       "    .dataframe thead th {\n",
       "        text-align: right;\n",
       "    }\n",
       "</style>\n",
       "<table border=\"1\" class=\"dataframe\">\n",
       "  <thead>\n",
       "    <tr style=\"text-align: right;\">\n",
       "      <th></th>\n",
       "      <th>234296</th>\n",
       "    </tr>\n",
       "  </thead>\n",
       "  <tbody>\n",
       "    <tr>\n",
       "      <th>Price</th>\n",
       "      <td>3800</td>\n",
       "    </tr>\n",
       "    <tr>\n",
       "      <th>VehicleType</th>\n",
       "      <td>wagon</td>\n",
       "    </tr>\n",
       "    <tr>\n",
       "      <th>Gearbox</th>\n",
       "      <td>manual</td>\n",
       "    </tr>\n",
       "    <tr>\n",
       "      <th>Power</th>\n",
       "      <td>NaN</td>\n",
       "    </tr>\n",
       "    <tr>\n",
       "      <th>Kilometer</th>\n",
       "      <td>30000</td>\n",
       "    </tr>\n",
       "    <tr>\n",
       "      <th>FuelType</th>\n",
       "      <td>gasoline</td>\n",
       "    </tr>\n",
       "    <tr>\n",
       "      <th>Repaired</th>\n",
       "      <td>NaN</td>\n",
       "    </tr>\n",
       "    <tr>\n",
       "      <th>Brand_Model</th>\n",
       "      <td>land_rover_serie_1</td>\n",
       "    </tr>\n",
       "    <tr>\n",
       "      <th>HowOld_Month</th>\n",
       "      <td>456</td>\n",
       "    </tr>\n",
       "  </tbody>\n",
       "</table>\n",
       "</div>"
      ],
      "text/plain": [
       "                          234296\n",
       "Price                       3800\n",
       "VehicleType                wagon\n",
       "Gearbox                   manual\n",
       "Power                        NaN\n",
       "Kilometer                  30000\n",
       "FuelType                gasoline\n",
       "Repaired                     NaN\n",
       "Brand_Model   land_rover_serie_1\n",
       "HowOld_Month                 456"
      ]
     },
     "metadata": {},
     "output_type": "display_data"
    }
   ],
   "source": [
    "display(df[df['Power'].isna()==True].T)"
   ]
  },
  {
   "cell_type": "code",
   "execution_count": 32,
   "metadata": {},
   "outputs": [],
   "source": [
    "#удаляем одну строку для которой не нашлось медианы\n",
    "df = df.dropna(subset = ['Power'])"
   ]
  },
  {
   "cell_type": "code",
   "execution_count": 33,
   "metadata": {},
   "outputs": [
    {
     "data": {
      "image/png": "[encoded data removed]",
      "text/plain": [
       "<Figure size 1400x600 with 1 Axes>"
      ]
     },
     "metadata": {},
     "output_type": "display_data"
    }
   ],
   "source": [
    "df['Power'].plot.hist(bins=100, edgecolor = 'black', figsize=(14, 6), grid=True, alpha = 0.4);"
   ]
  },
  {
   "cell_type": "markdown",
   "metadata": {},
   "source": [
    "<div class=\"alert alert-success\">\n",
    "<b>Комментарий ревьюера:\n",
    "&#9989;</b> Отлично! </div>"
   ]
  },
  {
   "cell_type": "code",
   "execution_count": 34,
   "metadata": {},
   "outputs": [],
   "source": [
    "#оставшиеся пропуски в категориальных столбцах (VehicleType, Gearbox, FuelType, NotRepaired) заполним строкой 'unknown' \n",
    "df = df.fillna('unknown')"
   ]
  },
  {
   "cell_type": "markdown",
   "metadata": {},
   "source": [
    "<div class=\"alert alert-success\">\n",
    "<b>Комментарий ревьюера:\n",
    "&#9989;</b> Отлично! </div>"
   ]
  },
  {
   "cell_type": "code",
   "execution_count": 35,
   "metadata": {},
   "outputs": [],
   "source": [
    "df['Power'] = df['Power'].astype('int')"
   ]
  },
  {
   "cell_type": "code",
   "execution_count": 36,
   "metadata": {},
   "outputs": [
    {
     "name": "stdout",
     "output_type": "stream",
     "text": [
      "<class 'pandas.core.frame.DataFrame'>\n",
      "Int64Index: 341941 entries, 0 to 354368\n",
      "Data columns (total 9 columns):\n",
      " #   Column        Non-Null Count   Dtype \n",
      "---  ------        --------------   ----- \n",
      " 0   Price         341941 non-null  int64 \n",
      " 1   VehicleType   341941 non-null  object\n",
      " 2   Gearbox       341941 non-null  object\n",
      " 3   Power         341941 non-null  int32 \n",
      " 4   Kilometer     341941 non-null  int64 \n",
      " 5   FuelType      341941 non-null  object\n",
      " 6   Repaired      341941 non-null  object\n",
      " 7   Brand_Model   341941 non-null  object\n",
      " 8   HowOld_Month  341941 non-null  int64 \n",
      "dtypes: int32(1), int64(3), object(5)\n",
      "memory usage: 24.8+ MB\n"
     ]
    }
   ],
   "source": [
    "df.info()"
   ]
  },
  {
   "cell_type": "markdown",
   "metadata": {},
   "source": [
    "### Корреляция"
   ]
  },
  {
   "cell_type": "code",
   "execution_count": 37,
   "metadata": {},
   "outputs": [
    {
     "data": {
      "text/plain": [
       "<AxesSubplot:>"
      ]
     },
     "execution_count": 37,
     "metadata": {},
     "output_type": "execute_result"
    },
    {
     "data": {
      "image/png": "[encoded data removed]",
      "text/plain": [
       "<Figure size 1400x600 with 2 Axes>"
      ]
     },
     "metadata": {},
     "output_type": "display_data"
    }
   ],
   "source": [
    "fig, ax = plt.subplots(figsize=(14,6))\n",
    "sns.heatmap(df.corr(), annot = True, vmin=-1, vmax=1, center= 0, cmap= 'coolwarm', fmt='.2g')"
   ]
  },
  {
   "cell_type": "markdown",
   "metadata": {},
   "source": [
    "<div class=\"alert alert-warning\">\n",
    "<b>Комментарий ревьюера:\n",
    "&#9888;</b> Молодец, что не забываешь про корреляцию, но стоит добавить выводы\n",
    "</div>"
   ]
  },
  {
   "cell_type": "markdown",
   "metadata": {},
   "source": [
    "Выявлены следующие корреляции: мощность автомобиль имеет сильную положительную взаимосвязь с его ценой. Отрицательную среднюю взаимосвязь имеет цена с километражем. В остальном значимых корреляций не выявлено."
   ]
  },
  {
   "cell_type": "markdown",
   "metadata": {},
   "source": [
    "### Вывод по шагу 1"
   ]
  },
  {
   "cell_type": "markdown",
   "metadata": {},
   "source": [
    "Из 354369 строк осталось 341941."
   ]
  },
  {
   "cell_type": "code",
   "execution_count": 38,
   "metadata": {},
   "outputs": [
    {
     "data": {
      "text/plain": [
       "0.92"
      ]
     },
     "execution_count": 38,
     "metadata": {},
     "output_type": "execute_result"
    }
   ],
   "source": [
    "round((354369 - (10772 + 1651 + 14834 + 422))/354369, 2)"
   ]
  },
  {
   "cell_type": "markdown",
   "metadata": {},
   "source": [
    "На очистке потеряли 8%. В основном за счет некорректной цены и даты выпуска автомобиля."
   ]
  },
  {
   "cell_type": "markdown",
   "metadata": {},
   "source": [
    "<div class=\"alert alert-success\">\n",
    "<b>Комментарий ревьюера:\n",
    "&#9989;</b> Отлично! </div>"
   ]
  },
  {
   "cell_type": "markdown",
   "metadata": {},
   "source": [
    "## Обучение моделей"
   ]
  },
  {
   "cell_type": "code",
   "execution_count": 39,
   "metadata": {},
   "outputs": [],
   "source": [
    "kfold = KFold(n_splits=5, random_state=RANDOM_STATE, shuffle=True)"
   ]
  },
  {
   "attachments": {},
   "cell_type": "markdown",
   "metadata": {},
   "source": [
    "### 1. LightGBM"
   ]
  },
  {
   "cell_type": "markdown",
   "metadata": {},
   "source": [
    "Для работы алгоритма с категориальными признаками необходимо передать соответствующим столбцам тип 'category'"
   ]
  },
  {
   "cell_type": "code",
   "execution_count": 40,
   "metadata": {},
   "outputs": [],
   "source": [
    "df_2 = df.copy(deep=True)"
   ]
  },
  {
   "cell_type": "code",
   "execution_count": 41,
   "metadata": {},
   "outputs": [],
   "source": [
    "#смена типа категорийных столбцов с object на category\n",
    "cat_col = df_2.select_dtypes(include='object').columns\n",
    "for col in cat_col:\n",
    "    df_2[col] = df_2[col].astype('category')"
   ]
  },
  {
   "cell_type": "code",
   "execution_count": 42,
   "metadata": {},
   "outputs": [],
   "source": [
    "features_train_2, features_test_2, target_train_2, target_test_2 = train_test_split(\n",
    "    df_2.drop(['Price'], axis=1), df_2['Price'], test_size=0.2, random_state=RANDOM_STATE)"
   ]
  },
  {
   "cell_type": "code",
   "execution_count": 43,
   "metadata": {},
   "outputs": [
    {
     "name": "stdout",
     "output_type": "stream",
     "text": [
      "Модель: model_lgbm (LGBMRegressor),            rmse(евро): 1602   время работы(сек.): 66\n",
      "Параметры: {'n_estimators': 400, 'max_depth': 13, 'learning_rate': 0.2}\n"
     ]
    }
   ],
   "source": [
    "beg_time = datetime.datetime.now()\n",
    "model_lgbm = LGBMRegressor()\n",
    "\n",
    "parametrs = {\n",
    "    \"n_estimators\": range(300, 401, 50), \n",
    "    \"max_depth\": range(10, 17, 3),\n",
    "    'learning_rate': [0.1, 0.2]\n",
    "}\n",
    "\n",
    "grid = RandomizedSearchCV(model_lgbm, parametrs, cv=kfold, scoring='neg_mean_absolute_error')\n",
    "grid.fit(features_train_2, target_train_2)\n",
    "params = grid.best_params_\n",
    "model_lgbm = LGBMRegressor().set_params(**params)\n",
    "negmse = cross_val_score(model_lgbm, features_train_2, target_train_2, cv=kfold, scoring='neg_mean_squared_error')\n",
    "\n",
    "model_lgbm.name = 'model_lgbm (LGBMRegressor),         '\n",
    "model_lgbm.rmse = np.sqrt(-negmse.mean())\n",
    "model_lgbm.time = (datetime.datetime.now()-beg_time).seconds\n",
    "model_lgbm.params = params\n",
    "\n",
    "print('Модель:', model_lgbm.name, '  rmse(евро): %.0f' %model_lgbm.rmse, '  время работы(сек.):',model_lgbm.time)\n",
    "print('Параметры:', model_lgbm.params)"
   ]
  },
  {
   "cell_type": "markdown",
   "metadata": {},
   "source": [
    "<div class=\"alert alert-success\">\n",
    "<b>Комментарий ревьюера:\n",
    "&#9989;</b> Отлично! </div>"
   ]
  },
  {
   "attachments": {},
   "cell_type": "markdown",
   "metadata": {},
   "source": [
    "### 2. RandomForestRegressor"
   ]
  },
  {
   "cell_type": "markdown",
   "metadata": {},
   "source": [
    "Для деревянных моделей необходимо закодировать категориальные столбцы"
   ]
  },
  {
   "cell_type": "code",
   "execution_count": 44,
   "metadata": {},
   "outputs": [],
   "source": [
    "df_3 = df.copy(deep=True)"
   ]
  },
  {
   "cell_type": "markdown",
   "metadata": {},
   "source": [
    "<div class=\"alert alert-warning\">\n",
    "<b>Комментарий ревьюера:\n",
    "&#9888;</b> Для OHE лучше использовать OneHotEncoder и только после разделения на выборки, get_dummies не вставить в пайплайны + могут быть ошибки в кодировании, при кодировании после деления придётся проверять, что получились одинаковые признаки и в одинаковом порядке. OneHotEncoder может работать с значениями признака, которого не было в тестовой выборке, может с column_transformer, пайплайнами и вообще просто создан для этого. Пример использования <a href = \"https://colab.research.google.com/drive/1_gAMXcQKoCShB_l8FNtYEejMnosm9mvt?usp=sharing\">OHE</a>. Так же без разделения выборки до кодирования возникает утечка в данных\n",
    "</div>"
   ]
  },
  {
   "attachments": {},
   "cell_type": "markdown",
   "metadata": {},
   "source": [
    "<div class=\"alert alert-info\"> <b>Комментарий студента:</b>\n",
    "    Пересчитал ниже способом который нашел, надеюсь всё правильно :)\n",
    "</div>"
   ]
  },
  {
   "cell_type": "code",
   "execution_count": 45,
   "metadata": {},
   "outputs": [],
   "source": [
    "X_train, X_test, y_train, y_test = train_test_split(\n",
    "    df_3.drop(['Price'], axis=1), df_3['Price'], test_size=0.2, random_state=RANDOM_STATE)"
   ]
  },
  {
   "cell_type": "code",
   "execution_count": 46,
   "metadata": {},
   "outputs": [],
   "source": [
    "df_3_beg_time = datetime.datetime.now() #учтем время на подготовку признаков\n",
    "\n",
    "df_3.time = (datetime.datetime.now()-df_3_beg_time).seconds"
   ]
  },
  {
   "cell_type": "code",
   "execution_count": 47,
   "metadata": {},
   "outputs": [],
   "source": [
    "num_columns = ['HowOld_Month', 'Power']\n",
    "cat_columns = ['VehicleType', 'Gearbox', 'Brand_Model', 'FuelType', 'Repaired', 'Kilometer']\n",
    "\n",
    "transformer = ColumnTransformer(\n",
    "    [(\"enc\", OrdinalEncoder(handle_unknown=\"use_encoded_value\", unknown_value=-1), cat_columns)],\n",
    "    remainder='passthrough'\n",
    ")\n",
    "\n",
    "transformer_linear = ColumnTransformer(\n",
    "            [(\"ohe\", OneHotEncoder(handle_unknown = 'ignore', sparse=False, drop='first'), cat_columns),\n",
    "            (\"scaler\", StandardScaler(), num_columns)],\n",
    "            remainder='passthrough'\n",
    ")\n",
    "\n",
    "def fit_model(estimator, param_grid, X_train, y_train):\n",
    "    model = GridSearchCV(estimator=estimator, \n",
    "                            param_grid=param_grid, \n",
    "                            n_jobs=-1, \n",
    "                            cv=4,\n",
    "                            scoring='neg_root_mean_squared_error')\n",
    "\n",
    "    model.fit(X_train, y_train)\n",
    "\n",
    "    best_index = model.best_index_\n",
    "    best_rmse = round(model.cv_results_['mean_test_score'][best_index], 1)\n",
    "\n",
    "    return model"
   ]
  },
  {
   "cell_type": "code",
   "execution_count": 48,
   "metadata": {},
   "outputs": [
    {
     "name": "stdout",
     "output_type": "stream",
     "text": [
      "Модель: model_rf (RandomForestRegressor),            rmse(евро): 1602   время работы(сек.): 37\n",
      "Параметры: {'rf__max_depth': 20, 'rf__n_estimators': 75}\n"
     ]
    }
   ],
   "source": [
    "beg_time = datetime.datetime.now()\n",
    "\n",
    "rf_estimator = Pipeline([\n",
    "    ('transformer', transformer),\n",
    "    ('rf', RandomForestRegressor(random_state=RANDOM_STATE, n_jobs=-1))\n",
    "])\n",
    "\n",
    "rf_param_grid =  {\n",
    "    'rf__n_estimators': list(range(50, 76, 25)),\n",
    "    \"rf__max_depth\": list(range(15, 21, 5)),\n",
    "}\n",
    "\n",
    "rf_best_model = fit_model(\n",
    "    estimator=rf_estimator,\n",
    "    param_grid=rf_param_grid,\n",
    "    X_train=X_train,\n",
    "    y_train=y_train\n",
    ")\n",
    "\n",
    "gs_rf_best_score = rf_best_model.best_score_ * -1\n",
    "gs_rf_best_params = rf_best_model.best_params_\n",
    "\n",
    "rf_best_model.name = 'model_rf (RandomForestRegressor),         '\n",
    "rf_best_model.rmse = np.sqrt(-negmse.mean())\n",
    "rf_best_model.time = (datetime.datetime.now()-beg_time).seconds\n",
    "rf_best_model.params = gs_rf_best_params\n",
    "\n",
    "print('Модель:', rf_best_model.name, '  rmse(евро): %.0f' %rf_best_model.rmse, '  время работы(сек.):',rf_best_model.time)\n",
    "print('Параметры:', rf_best_model.params)"
   ]
  },
  {
   "attachments": {},
   "cell_type": "markdown",
   "metadata": {},
   "source": [
    "### CatBoostRegressor"
   ]
  },
  {
   "cell_type": "code",
   "execution_count": 49,
   "metadata": {},
   "outputs": [
    {
     "name": "stdout",
     "output_type": "stream",
     "text": [
      "Модель: model_cb (CatBoostRegressor),            rmse(евро): 1602   время работы(сек.): 611\n",
      "Параметры: {'depth': 12, 'iterations': 200, 'learning_rate': 0.25}\n"
     ]
    }
   ],
   "source": [
    "beg_time = datetime.datetime.now()\n",
    "\n",
    "catboost_estimator = CatBoostRegressor(random_state=RANDOM_STATE, verbose=False, cat_features=cat_columns)\n",
    "\n",
    "catboost_param_grid = {\n",
    "    \"iterations\": range(100, 201, 100),\n",
    "    \"learning_rate\": [0.15, 0.25],\n",
    "    \"depth\": range(9, 13, 3)\n",
    "}\n",
    "\n",
    "catboost_best_model = fit_model(\n",
    "    estimator=catboost_estimator,\n",
    "    param_grid=catboost_param_grid,\n",
    "    X_train=X_train,\n",
    "    y_train=y_train\n",
    ")\n",
    "\n",
    "gs_cb_best_score = catboost_best_model.best_score_ * -1\n",
    "gs_cb_best_params = catboost_best_model.best_params_\n",
    "\n",
    "catboost_best_model.name = 'model_cb (CatBoostRegressor),         '\n",
    "catboost_best_model.rmse = np.sqrt(-negmse.mean())\n",
    "catboost_best_model.time = (datetime.datetime.now()-beg_time).seconds\n",
    "catboost_best_model.params = gs_cb_best_params\n",
    "\n",
    "print('Модель:', catboost_best_model.name, '  rmse(евро): %.0f' %catboost_best_model.rmse, '  время работы(сек.):',catboost_best_model.time)\n",
    "print('Параметры:', catboost_best_model.params)"
   ]
  },
  {
   "cell_type": "markdown",
   "metadata": {},
   "source": [
    "### Линейная регрессия"
   ]
  },
  {
   "cell_type": "code",
   "execution_count": 50,
   "metadata": {},
   "outputs": [],
   "source": [
    "df_4 = df.copy(deep=True)"
   ]
  },
  {
   "cell_type": "code",
   "execution_count": 51,
   "metadata": {},
   "outputs": [],
   "source": [
    "#Создадим новые признаки и заполним их медианами соответствующих категорий\n",
    "#cat_col = df_4.select_dtypes(include='object').columns\n",
    "df_4_beg_time = datetime.datetime.now() #учтем время на подготовку признаков\n",
    "\n",
    "for col in cat_col:\n",
    "    nan_colomn = col + '_MeanPrice'\n",
    "    group_colomn = col\n",
    "    median_series = df_2.groupby(group_colomn)['Price'].median()\n",
    "    \n",
    "    df_4[nan_colomn] = np.NaN\n",
    "    df_4[nan_colomn] = df_4[nan_colomn].fillna(df_4.apply(median_groupby, axis=1))\n",
    "    \n",
    "    df_4 = df_4.drop([col], axis=1)\n",
    "    df_4[nan_colomn] = df_4[nan_colomn].astype('int')\n",
    "    \n",
    "df_4.time = (datetime.datetime.now()-df_4_beg_time).seconds"
   ]
  },
  {
   "cell_type": "code",
   "execution_count": 52,
   "metadata": {},
   "outputs": [
    {
     "name": "stdout",
     "output_type": "stream",
     "text": [
      "<class 'pandas.core.frame.DataFrame'>\n",
      "Int64Index: 341941 entries, 0 to 354368\n",
      "Data columns (total 9 columns):\n",
      " #   Column                 Non-Null Count   Dtype\n",
      "---  ------                 --------------   -----\n",
      " 0   Price                  341941 non-null  int64\n",
      " 1   Power                  341941 non-null  int32\n",
      " 2   Kilometer              341941 non-null  int64\n",
      " 3   HowOld_Month           341941 non-null  int64\n",
      " 4   VehicleType_MeanPrice  341941 non-null  int32\n",
      " 5   Gearbox_MeanPrice      341941 non-null  int32\n",
      " 6   FuelType_MeanPrice     341941 non-null  int32\n",
      " 7   Repaired_MeanPrice     341941 non-null  int32\n",
      " 8   Brand_Model_MeanPrice  341941 non-null  int32\n",
      "dtypes: int32(6), int64(3)\n",
      "memory usage: 18.3 MB\n"
     ]
    }
   ],
   "source": [
    "df_4.info()"
   ]
  },
  {
   "cell_type": "code",
   "execution_count": 53,
   "metadata": {},
   "outputs": [
    {
     "data": {
      "text/plain": [
       "<AxesSubplot:>"
      ]
     },
     "execution_count": 53,
     "metadata": {},
     "output_type": "execute_result"
    },
    {
     "data": {
      "image/png": "[encoded data removed]",
      "text/plain": [
       "<Figure size 1400x600 with 2 Axes>"
      ]
     },
     "metadata": {},
     "output_type": "display_data"
    }
   ],
   "source": [
    "fig, ax = plt.subplots(figsize=(14,6))\n",
    "sns.heatmap(df_4.corr(), annot = True, vmin=-1, vmax=1, center= 0, cmap= 'coolwarm', fmt='.2g')"
   ]
  },
  {
   "cell_type": "markdown",
   "metadata": {},
   "source": [
    "<div class=\"alert alert-success\">\n",
    "<b>Комментарий ревьюера:\n",
    "&#9989;</b> Молодец, что не забываешь про проверку на мультиколлинеарность! </div>"
   ]
  },
  {
   "cell_type": "code",
   "execution_count": 54,
   "metadata": {},
   "outputs": [],
   "source": [
    "features_train_4, features_test_4, target_train_4, target_test_4 = train_test_split(\n",
    "    df_4.drop(['Price'], axis=1), df_4['Price'], test_size=0.2, random_state=RANDOM_STATE)"
   ]
  },
  {
   "cell_type": "code",
   "execution_count": 55,
   "metadata": {},
   "outputs": [],
   "source": [
    "#Нормализуем\n",
    "scaler = StandardScaler()\n",
    "scaler.fit(features_train_4)\n",
    "features_train_4 = scaler.transform(features_train_4)\n",
    "features_test_4 = scaler.transform(features_test_4)"
   ]
  },
  {
   "cell_type": "code",
   "execution_count": 56,
   "metadata": {},
   "outputs": [
    {
     "name": "stdout",
     "output_type": "stream",
     "text": [
      "Модель: model_lr (LinearRegression),         rmse(евро): 2973   время работы(сек.): 19\n"
     ]
    }
   ],
   "source": [
    "beg_time = datetime.datetime.now()\n",
    "model_lr = LinearRegression()\n",
    "\n",
    "negmse = cross_val_score(model_lr, features_train_4, target_train_4, cv=kfold, scoring='neg_mean_squared_error')\n",
    "\n",
    "model_lr.name = 'model_lr (LinearRegression),      '\n",
    "model_lr.rmse = np.sqrt(-negmse.mean())\n",
    "model_lr.time = (datetime.datetime.now()-beg_time).seconds + df_4.time\n",
    "\n",
    "print('Модель:', model_lr.name, '  rmse(евро): %.0f' %model_lr.rmse, '  время работы(сек.):',model_lr.time)"
   ]
  },
  {
   "cell_type": "markdown",
   "metadata": {},
   "source": [
    "### Выводы по шагу 2"
   ]
  },
  {
   "attachments": {},
   "cell_type": "markdown",
   "metadata": {},
   "source": [
    "Были подготовлены 4 модели: LGBMRegressor, RandomForestRegressor, CatBoost и LinearRegression. Сравним модели далее:"
   ]
  },
  {
   "cell_type": "markdown",
   "metadata": {},
   "source": [
    "<div class=\"alert alert-danger\">\n",
    "<b>Комментарий ревьюера: &#10060; </b> Я насчитал 4, чтобы избежать путаницы лучше моделям(да и признакам) давать осмысленные названия (например model_lgbm). Так же стоит подробнее расписать выводы (какие модели с какими гиперпараметрами) </div>"
   ]
  },
  {
   "attachments": {},
   "cell_type": "markdown",
   "metadata": {},
   "source": [
    "<div class=\"alert alert-info\"> <b>Комментарий студента:</b>\n",
    "    Исправил:)\n",
    "</div>"
   ]
  },
  {
   "cell_type": "markdown",
   "metadata": {},
   "source": [
    "## Анализ моделей"
   ]
  },
  {
   "cell_type": "code",
   "execution_count": 58,
   "metadata": {},
   "outputs": [
    {
     "name": "stdout",
     "output_type": "stream",
     "text": [
      "Модель: model_lgbm (LGBMRegressor),            train rmse(евро): 1602   время на подготовку (сек.): 66\n",
      "Модель: model_rf (RandomForestRegressor),            train rmse(евро): 1602   время на подготовку (сек.): 37\n",
      "Модель: model_cb (CatBoostRegressor),            train rmse(евро): 1602   время на подготовку (сек.): 611\n",
      "Модель: model_lr (LinearRegression),         train rmse(евро): 2973   время на подготовку (сек.): 19\n"
     ]
    }
   ],
   "source": [
    "model_list = [model_lgbm, rf_best_model, catboost_best_model, model_lr]\n",
    "for model in model_list:\n",
    "    print('Модель:', model.name, '  train rmse(евро): %.0f' %model.rmse, '  время на подготовку (сек.):',model.time)"
   ]
  },
  {
   "cell_type": "markdown",
   "metadata": {},
   "source": [
    "<div class=\"alert alert-danger\">\n",
    "<b>Комментарий ревьюера: &#10060; </b> Не забывай, пожалуйста, про выводы </div>"
   ]
  },
  {
   "attachments": {},
   "cell_type": "markdown",
   "metadata": {},
   "source": [
    "Наиболее быстрая модель - Линейная регрессия, но у нёё самая большая среднеквадратичная ошибка (2973). Остальные модели показывают одинаковый результат (1602), но самая быстрая из них это RandomForestRegressor (37 секунд)."
   ]
  },
  {
   "attachments": {},
   "cell_type": "markdown",
   "metadata": {},
   "source": [
    "<div class=\"alert alert-info\"> <b>Комментарий студента:</b>\n",
    "    Сделано :)\n",
    "</div>"
   ]
  },
  {
   "cell_type": "markdown",
   "metadata": {},
   "source": [
    "### Тестирование лучшей модели"
   ]
  },
  {
   "cell_type": "markdown",
   "metadata": {},
   "source": [
    "<div class=\"alert alert-danger\">\n",
    "<b>Комментарий ревьюера: &#10060; </b> Обрати, пожалуйста, внимание на следущее: тестируем мы только итоговую модель, выбранную на предыдущем шаге </div>"
   ]
  },
  {
   "cell_type": "code",
   "execution_count": 63,
   "metadata": {},
   "outputs": [
    {
     "name": "stdout",
     "output_type": "stream",
     "text": [
      "RMSE Random Forest Regressor на тестовой выборке: 1615.7\n"
     ]
    }
   ],
   "source": [
    "X_test_rf = X_test.copy()\n",
    "X_test_rf[cat_columns] = X_test_rf[cat_columns].astype(\"category\")\n",
    "\n",
    "rmse = mean_squared_error(y_test, rf_best_model.predict(X_test_rf)) ** 0.5\n",
    "print(f\"RMSE Random Forest Regressor на тестовой выборке: {rmse:.1f}\")"
   ]
  },
  {
   "attachments": {},
   "cell_type": "markdown",
   "metadata": {},
   "source": [
    "<div class=\"alert alert-info\"> <b>Комментарий студента:</b>\n",
    "    Сделано :)\n",
    "</div>"
   ]
  },
  {
   "cell_type": "markdown",
   "metadata": {},
   "source": [
    "### Вывод по шагу 3"
   ]
  },
  {
   "attachments": {},
   "cell_type": "markdown",
   "metadata": {},
   "source": [
    "Меньше всего ошибаются RandomForestRegressor, CatBoostRegressor и LGBMRegressor. Однако именно RandomForestRegressor показывает самый быстрый результат."
   ]
  },
  {
   "cell_type": "markdown",
   "metadata": {},
   "source": [
    "## Чек-лист проверки"
   ]
  },
  {
   "cell_type": "markdown",
   "metadata": {},
   "source": [
    "Поставьте 'x' в выполненных пунктах. Далее нажмите Shift+Enter."
   ]
  },
  {
   "cell_type": "markdown",
   "metadata": {},
   "source": [
    "- [x]  Jupyter Notebook открыт\n",
    "- [x]  Весь код выполняется без ошибок\n",
    "- [x]  Ячейки с кодом расположены в порядке исполнения\n",
    "- [x]  Выполнена загрузка и подготовка данных\n",
    "- [x]  Выполнено обучение моделей\n",
    "- [x]  Есть анализ скорости работы и качества моделей"
   ]
  },
  {
   "cell_type": "markdown",
   "metadata": {},
   "source": [
    "<b>Итоговый комментарий ревьюера:</b> Молодец, хорошая работа, есть пара критических моментов, которые необходимо исправить, а именно:\n",
    "1. Промежуточные выводы\n",
    "2. Год регистрации\n",
    "3. Тестирование модели<br>\n",
    "Так же советую обратить внимание на использование OHE, выше добавил ссылку на пример использования. Для ускорения подбора гиперпараметров можно использовать RandomizesSearchCV.Ниже оставляю пару ссылок для самообучения! Успехов!"
   ]
  },
  {
   "cell_type": "markdown",
   "metadata": {},
   "source": [
    "<div class=\"alert alert-success\">\n",
    "<b>Рубрика “Полезные ссылки”:\n",
    "✅</b> <br>\n",
    "<a href = \"https://sphweb.bumc.bu.edu/otlt/MPH-Modules/PH717-QuantCore/PH717-Module9-Correlation-Regression/PH717-Module9-Correlation-Regression4.html\">Коэффициенты корреляции</a><br>\n",
    "<a href = \"https://www.researchgate.net/profile/Paul-Louangrath/post/Ranking_or_scoring_variables_using_conditional_probability/attachment/59d63c45c49f478072ea7c1a/AS%3A273748962283533%401442278246675/download/100+Statistical+Tests.pdf\">100 Statistical tests</a><br>\n",
    "<a href = \"https://loginom.ru/blog/missing\">Обработка пропусков</a><br>\n",
    "<a href = \"https://coderlessons.com/tutorials/python-technologies/izuchai-siborna/siborn-kratkoe-rukovodstvo\"> Seaborn</a><br>\n",
    "<a href = \"https://habr.com/ru/post/502958/\"> Plotly</a><br>\n",
    "<a href = \"https://medium.com/@jetbootsmaker/%D0%BF%D0%BE%D0%B2%D1%8B%D1%88%D0%B0%D0%B5%D0%BC-%D0%BF%D1%80%D0%BE%D0%B4%D1%83%D0%BA%D1%82%D0%B8%D0%B2%D0%BD%D0%BE%D1%81%D1%82%D1%8C-%D0%BF%D1%80%D0%B8-%D1%80%D0%B0%D0%B1%D0%BE%D1%82%D0%B5-%D1%81-jupyter-notebook-81a1cab8bac1\"> Повышаем продуктивность при работе с Jupyter</a><br>\n",
    "<a href = \"https://towardsdatascience.com/5-things-you-should-know-about-covariance-26b12a0516f1\">5 Things You Should Know About Covariance</a><br>\n",
    "    <a href = \"https://machinelearningmastery.com/how-to-use-statistics-to-identify-outliers-in-data/\">Выбросы</a><br>\n",
    "    <a href = \"https://www.kaggle.com/code/baghern/a-deep-dive-into-sklearn-pipelines/notebook\">Pipeline</a>\n",
    "</div>"
   ]
  }
 ],
 "metadata": {
  "ExecuteTimeLog": [
   {
    "duration": 66,
    "start_time": "2023-01-19T15:31:23.791Z"
   },
   {
    "duration": 2,
    "start_time": "2023-01-19T15:39:11.125Z"
   },
   {
    "duration": 2,
    "start_time": "2023-01-19T15:39:53.647Z"
   },
   {
    "duration": 2,
    "start_time": "2023-01-19T15:43:55.718Z"
   },
   {
    "duration": 1875,
    "start_time": "2023-01-19T15:49:18.094Z"
   },
   {
    "duration": 6,
    "start_time": "2023-01-19T15:49:19.977Z"
   },
   {
    "duration": 2504,
    "start_time": "2023-01-19T15:49:19.988Z"
   },
   {
    "duration": 225,
    "start_time": "2023-01-19T15:49:22.503Z"
   },
   {
    "duration": 30,
    "start_time": "2023-01-19T15:49:22.734Z"
   },
   {
    "duration": 641,
    "start_time": "2023-01-19T15:49:22.769Z"
   },
   {
    "duration": 657,
    "start_time": "2023-01-19T15:49:23.415Z"
   },
   {
    "duration": 35,
    "start_time": "2023-01-19T15:49:24.074Z"
   },
   {
    "duration": 149,
    "start_time": "2023-01-19T15:49:24.111Z"
   },
   {
    "duration": 27,
    "start_time": "2023-01-19T15:49:24.262Z"
   },
   {
    "duration": 547,
    "start_time": "2023-01-19T15:49:24.291Z"
   },
   {
    "duration": 222,
    "start_time": "2023-01-19T15:49:24.841Z"
   },
   {
    "duration": 0,
    "start_time": "2023-01-19T15:49:25.072Z"
   },
   {
    "duration": 0,
    "start_time": "2023-01-19T15:49:25.074Z"
   },
   {
    "duration": 0,
    "start_time": "2023-01-19T15:49:25.076Z"
   },
   {
    "duration": 0,
    "start_time": "2023-01-19T15:49:25.086Z"
   },
   {
    "duration": 0,
    "start_time": "2023-01-19T15:49:25.088Z"
   },
   {
    "duration": 0,
    "start_time": "2023-01-19T15:49:25.090Z"
   },
   {
    "duration": 0,
    "start_time": "2023-01-19T15:49:25.091Z"
   },
   {
    "duration": 0,
    "start_time": "2023-01-19T15:49:25.093Z"
   },
   {
    "duration": 0,
    "start_time": "2023-01-19T15:49:25.095Z"
   },
   {
    "duration": 0,
    "start_time": "2023-01-19T15:49:25.096Z"
   },
   {
    "duration": 0,
    "start_time": "2023-01-19T15:49:25.098Z"
   },
   {
    "duration": 0,
    "start_time": "2023-01-19T15:49:25.106Z"
   },
   {
    "duration": 0,
    "start_time": "2023-01-19T15:49:25.108Z"
   },
   {
    "duration": 0,
    "start_time": "2023-01-19T15:49:25.110Z"
   },
   {
    "duration": 0,
    "start_time": "2023-01-19T15:49:25.111Z"
   },
   {
    "duration": 0,
    "start_time": "2023-01-19T15:49:25.113Z"
   },
   {
    "duration": 0,
    "start_time": "2023-01-19T15:49:25.130Z"
   },
   {
    "duration": 0,
    "start_time": "2023-01-19T15:49:25.132Z"
   },
   {
    "duration": 0,
    "start_time": "2023-01-19T15:49:25.134Z"
   },
   {
    "duration": 0,
    "start_time": "2023-01-19T15:49:25.136Z"
   },
   {
    "duration": 0,
    "start_time": "2023-01-19T15:49:25.138Z"
   },
   {
    "duration": 0,
    "start_time": "2023-01-19T15:49:25.140Z"
   },
   {
    "duration": 0,
    "start_time": "2023-01-19T15:49:25.141Z"
   },
   {
    "duration": 0,
    "start_time": "2023-01-19T15:49:25.143Z"
   },
   {
    "duration": 0,
    "start_time": "2023-01-19T15:49:25.145Z"
   },
   {
    "duration": 253,
    "start_time": "2023-01-19T15:49:56.617Z"
   },
   {
    "duration": 208,
    "start_time": "2023-01-19T15:50:04.073Z"
   },
   {
    "duration": 12,
    "start_time": "2023-01-19T15:50:09.881Z"
   },
   {
    "duration": 30,
    "start_time": "2023-01-19T15:50:09.906Z"
   },
   {
    "duration": 1105,
    "start_time": "2023-01-19T15:50:09.940Z"
   },
   {
    "duration": 219,
    "start_time": "2023-01-19T15:50:11.047Z"
   },
   {
    "duration": 65,
    "start_time": "2023-01-19T15:50:11.276Z"
   },
   {
    "duration": 588,
    "start_time": "2023-01-19T15:50:11.342Z"
   },
   {
    "duration": 715,
    "start_time": "2023-01-19T15:50:11.932Z"
   },
   {
    "duration": 67,
    "start_time": "2023-01-19T15:50:12.651Z"
   },
   {
    "duration": 177,
    "start_time": "2023-01-19T15:50:12.723Z"
   },
   {
    "duration": 22,
    "start_time": "2023-01-19T15:50:12.919Z"
   },
   {
    "duration": 458,
    "start_time": "2023-01-19T15:50:12.943Z"
   },
   {
    "duration": 269,
    "start_time": "2023-01-19T15:50:13.406Z"
   },
   {
    "duration": 156,
    "start_time": "2023-01-19T15:50:13.677Z"
   },
   {
    "duration": 81,
    "start_time": "2023-01-19T15:50:13.840Z"
   },
   {
    "duration": 88,
    "start_time": "2023-01-19T15:50:13.923Z"
   },
   {
    "duration": 0,
    "start_time": "2023-01-19T15:50:14.025Z"
   },
   {
    "duration": 0,
    "start_time": "2023-01-19T15:50:14.027Z"
   },
   {
    "duration": 0,
    "start_time": "2023-01-19T15:50:14.033Z"
   },
   {
    "duration": 0,
    "start_time": "2023-01-19T15:50:14.034Z"
   },
   {
    "duration": 0,
    "start_time": "2023-01-19T15:50:14.035Z"
   },
   {
    "duration": 0,
    "start_time": "2023-01-19T15:50:14.036Z"
   },
   {
    "duration": 0,
    "start_time": "2023-01-19T15:50:14.037Z"
   },
   {
    "duration": 0,
    "start_time": "2023-01-19T15:50:14.038Z"
   },
   {
    "duration": 0,
    "start_time": "2023-01-19T15:50:14.039Z"
   },
   {
    "duration": 0,
    "start_time": "2023-01-19T15:50:14.040Z"
   },
   {
    "duration": 0,
    "start_time": "2023-01-19T15:50:14.041Z"
   },
   {
    "duration": 0,
    "start_time": "2023-01-19T15:50:14.042Z"
   },
   {
    "duration": 0,
    "start_time": "2023-01-19T15:50:14.043Z"
   },
   {
    "duration": 0,
    "start_time": "2023-01-19T15:50:14.044Z"
   },
   {
    "duration": 0,
    "start_time": "2023-01-19T15:50:14.046Z"
   },
   {
    "duration": 0,
    "start_time": "2023-01-19T15:50:14.047Z"
   },
   {
    "duration": 0,
    "start_time": "2023-01-19T15:50:14.049Z"
   },
   {
    "duration": 0,
    "start_time": "2023-01-19T15:50:14.050Z"
   },
   {
    "duration": 0,
    "start_time": "2023-01-19T15:50:14.052Z"
   },
   {
    "duration": 0,
    "start_time": "2023-01-19T15:50:14.053Z"
   },
   {
    "duration": 0,
    "start_time": "2023-01-19T15:50:14.054Z"
   },
   {
    "duration": 0,
    "start_time": "2023-01-19T15:50:14.054Z"
   },
   {
    "duration": 0,
    "start_time": "2023-01-19T15:50:14.055Z"
   },
   {
    "duration": 41,
    "start_time": "2023-01-19T15:50:41.185Z"
   },
   {
    "duration": 6,
    "start_time": "2023-01-19T15:50:46.532Z"
   },
   {
    "duration": 9,
    "start_time": "2023-01-19T15:50:46.540Z"
   },
   {
    "duration": 1217,
    "start_time": "2023-01-19T15:50:46.551Z"
   },
   {
    "duration": 251,
    "start_time": "2023-01-19T15:50:47.772Z"
   },
   {
    "duration": 91,
    "start_time": "2023-01-19T15:50:48.029Z"
   },
   {
    "duration": 714,
    "start_time": "2023-01-19T15:50:48.125Z"
   },
   {
    "duration": 685,
    "start_time": "2023-01-19T15:50:48.841Z"
   },
   {
    "duration": 60,
    "start_time": "2023-01-19T15:50:49.532Z"
   },
   {
    "duration": 213,
    "start_time": "2023-01-19T15:50:49.595Z"
   },
   {
    "duration": 22,
    "start_time": "2023-01-19T15:50:49.810Z"
   },
   {
    "duration": 505,
    "start_time": "2023-01-19T15:50:49.834Z"
   },
   {
    "duration": 322,
    "start_time": "2023-01-19T15:50:50.340Z"
   },
   {
    "duration": 160,
    "start_time": "2023-01-19T15:50:50.668Z"
   },
   {
    "duration": 83,
    "start_time": "2023-01-19T15:50:50.840Z"
   },
   {
    "duration": 19,
    "start_time": "2023-01-19T15:50:50.929Z"
   },
   {
    "duration": 122,
    "start_time": "2023-01-19T15:50:50.951Z"
   },
   {
    "duration": 42,
    "start_time": "2023-01-19T15:50:51.076Z"
   },
   {
    "duration": 21,
    "start_time": "2023-01-19T15:50:51.123Z"
   },
   {
    "duration": 122,
    "start_time": "2023-01-19T15:50:51.146Z"
   },
   {
    "duration": 9,
    "start_time": "2023-01-19T15:50:51.270Z"
   },
   {
    "duration": 211,
    "start_time": "2023-01-19T15:50:51.281Z"
   },
   {
    "duration": 39,
    "start_time": "2023-01-19T15:50:51.494Z"
   },
   {
    "duration": 79,
    "start_time": "2023-01-19T15:50:51.539Z"
   },
   {
    "duration": 520,
    "start_time": "2023-01-19T15:50:51.628Z"
   },
   {
    "duration": 37,
    "start_time": "2023-01-19T15:50:52.151Z"
   },
   {
    "duration": 447,
    "start_time": "2023-01-19T15:50:52.203Z"
   },
   {
    "duration": 28,
    "start_time": "2023-01-19T15:50:52.653Z"
   },
   {
    "duration": 66,
    "start_time": "2023-01-19T15:50:52.690Z"
   },
   {
    "duration": 22,
    "start_time": "2023-01-19T15:50:52.758Z"
   },
   {
    "duration": 59,
    "start_time": "2023-01-19T15:50:52.782Z"
   },
   {
    "duration": 0,
    "start_time": "2023-01-19T15:50:52.843Z"
   },
   {
    "duration": 0,
    "start_time": "2023-01-19T15:50:52.845Z"
   },
   {
    "duration": 0,
    "start_time": "2023-01-19T15:50:52.846Z"
   },
   {
    "duration": 0,
    "start_time": "2023-01-19T15:50:52.847Z"
   },
   {
    "duration": 0,
    "start_time": "2023-01-19T15:50:52.849Z"
   },
   {
    "duration": 0,
    "start_time": "2023-01-19T15:50:52.850Z"
   },
   {
    "duration": 0,
    "start_time": "2023-01-19T15:50:52.851Z"
   },
   {
    "duration": 0,
    "start_time": "2023-01-19T15:50:52.852Z"
   },
   {
    "duration": 87,
    "start_time": "2023-01-19T15:51:19.592Z"
   },
   {
    "duration": 4310,
    "start_time": "2023-01-19T15:51:26.411Z"
   },
   {
    "duration": 5,
    "start_time": "2023-01-19T15:51:35.129Z"
   },
   {
    "duration": 70,
    "start_time": "2023-01-19T15:51:35.136Z"
   },
   {
    "duration": 997,
    "start_time": "2023-01-19T15:51:35.208Z"
   },
   {
    "duration": 180,
    "start_time": "2023-01-19T15:51:36.210Z"
   },
   {
    "duration": 40,
    "start_time": "2023-01-19T15:51:36.393Z"
   },
   {
    "duration": 527,
    "start_time": "2023-01-19T15:51:36.435Z"
   },
   {
    "duration": 598,
    "start_time": "2023-01-19T15:51:36.963Z"
   },
   {
    "duration": 48,
    "start_time": "2023-01-19T15:51:37.566Z"
   },
   {
    "duration": 135,
    "start_time": "2023-01-19T15:51:37.617Z"
   },
   {
    "duration": 31,
    "start_time": "2023-01-19T15:51:37.762Z"
   },
   {
    "duration": 619,
    "start_time": "2023-01-19T15:51:37.803Z"
   },
   {
    "duration": 221,
    "start_time": "2023-01-19T15:51:38.423Z"
   },
   {
    "duration": 140,
    "start_time": "2023-01-19T15:51:38.646Z"
   },
   {
    "duration": 52,
    "start_time": "2023-01-19T15:51:38.788Z"
   },
   {
    "duration": 34,
    "start_time": "2023-01-19T15:51:38.842Z"
   },
   {
    "duration": 96,
    "start_time": "2023-01-19T15:51:38.880Z"
   },
   {
    "duration": 19,
    "start_time": "2023-01-19T15:51:38.982Z"
   },
   {
    "duration": 22,
    "start_time": "2023-01-19T15:51:39.004Z"
   },
   {
    "duration": 68,
    "start_time": "2023-01-19T15:51:39.028Z"
   },
   {
    "duration": 15,
    "start_time": "2023-01-19T15:51:39.102Z"
   },
   {
    "duration": 64,
    "start_time": "2023-01-19T15:51:39.125Z"
   },
   {
    "duration": 28,
    "start_time": "2023-01-19T15:51:39.192Z"
   },
   {
    "duration": 18,
    "start_time": "2023-01-19T15:51:39.225Z"
   },
   {
    "duration": 416,
    "start_time": "2023-01-19T15:51:39.247Z"
   },
   {
    "duration": 16,
    "start_time": "2023-01-19T15:51:39.665Z"
   },
   {
    "duration": 401,
    "start_time": "2023-01-19T15:51:39.694Z"
   },
   {
    "duration": 22,
    "start_time": "2023-01-19T15:51:40.097Z"
   },
   {
    "duration": 35,
    "start_time": "2023-01-19T15:51:40.121Z"
   },
   {
    "duration": 16,
    "start_time": "2023-01-19T15:51:40.160Z"
   },
   {
    "duration": 4030,
    "start_time": "2023-01-19T15:51:40.177Z"
   },
   {
    "duration": 11,
    "start_time": "2023-01-19T15:51:44.209Z"
   },
   {
    "duration": 42,
    "start_time": "2023-01-19T15:51:44.221Z"
   },
   {
    "duration": 346,
    "start_time": "2023-01-19T15:51:44.270Z"
   },
   {
    "duration": 111,
    "start_time": "2023-01-19T15:51:44.618Z"
   },
   {
    "duration": 5,
    "start_time": "2023-01-19T15:51:44.731Z"
   },
   {
    "duration": 124,
    "start_time": "2023-01-19T15:51:44.737Z"
   },
   {
    "duration": 442,
    "start_time": "2023-01-19T15:51:44.863Z"
   },
   {
    "duration": 10,
    "start_time": "2023-01-19T15:51:45.308Z"
   },
   {
    "duration": 1888,
    "start_time": "2023-01-19T15:52:33.149Z"
   },
   {
    "duration": 4,
    "start_time": "2023-01-19T15:52:35.039Z"
   },
   {
    "duration": 1089,
    "start_time": "2023-01-19T15:52:35.044Z"
   },
   {
    "duration": 233,
    "start_time": "2023-01-19T15:52:36.136Z"
   },
   {
    "duration": 38,
    "start_time": "2023-01-19T15:52:36.372Z"
   },
   {
    "duration": 579,
    "start_time": "2023-01-19T15:52:36.416Z"
   },
   {
    "duration": 794,
    "start_time": "2023-01-19T15:52:37.000Z"
   },
   {
    "duration": 40,
    "start_time": "2023-01-19T15:52:37.801Z"
   },
   {
    "duration": 209,
    "start_time": "2023-01-19T15:52:37.843Z"
   },
   {
    "duration": 28,
    "start_time": "2023-01-19T15:52:38.060Z"
   },
   {
    "duration": 458,
    "start_time": "2023-01-19T15:52:38.091Z"
   },
   {
    "duration": 233,
    "start_time": "2023-01-19T15:52:38.555Z"
   },
   {
    "duration": 166,
    "start_time": "2023-01-19T15:52:38.790Z"
   },
   {
    "duration": 79,
    "start_time": "2023-01-19T15:52:38.958Z"
   },
   {
    "duration": 13,
    "start_time": "2023-01-19T15:52:39.038Z"
   },
   {
    "duration": 125,
    "start_time": "2023-01-19T15:52:39.062Z"
   },
   {
    "duration": 19,
    "start_time": "2023-01-19T15:52:39.192Z"
   },
   {
    "duration": 9,
    "start_time": "2023-01-19T15:52:39.213Z"
   },
   {
    "duration": 64,
    "start_time": "2023-01-19T15:52:39.224Z"
   },
   {
    "duration": 8,
    "start_time": "2023-01-19T15:52:39.289Z"
   },
   {
    "duration": 61,
    "start_time": "2023-01-19T15:52:39.299Z"
   },
   {
    "duration": 41,
    "start_time": "2023-01-19T15:52:39.364Z"
   },
   {
    "duration": 121,
    "start_time": "2023-01-19T15:52:39.415Z"
   },
   {
    "duration": 469,
    "start_time": "2023-01-19T15:52:39.539Z"
   },
   {
    "duration": 18,
    "start_time": "2023-01-19T15:52:40.010Z"
   },
   {
    "duration": 361,
    "start_time": "2023-01-19T15:52:40.030Z"
   },
   {
    "duration": 23,
    "start_time": "2023-01-19T15:52:40.397Z"
   },
   {
    "duration": 23,
    "start_time": "2023-01-19T15:52:40.423Z"
   },
   {
    "duration": 16,
    "start_time": "2023-01-19T15:52:40.448Z"
   },
   {
    "duration": 4045,
    "start_time": "2023-01-19T15:52:40.466Z"
   },
   {
    "duration": 10,
    "start_time": "2023-01-19T15:52:44.513Z"
   },
   {
    "duration": 54,
    "start_time": "2023-01-19T15:52:44.525Z"
   },
   {
    "duration": 377,
    "start_time": "2023-01-19T15:52:44.581Z"
   },
   {
    "duration": 117,
    "start_time": "2023-01-19T15:52:44.959Z"
   },
   {
    "duration": 14,
    "start_time": "2023-01-19T15:52:45.078Z"
   },
   {
    "duration": 148,
    "start_time": "2023-01-19T15:52:45.097Z"
   },
   {
    "duration": 400,
    "start_time": "2023-01-19T15:52:45.246Z"
   },
   {
    "duration": 15,
    "start_time": "2023-01-19T15:52:45.648Z"
   },
   {
    "duration": 3,
    "start_time": "2023-01-19T16:00:52.715Z"
   },
   {
    "duration": 3,
    "start_time": "2023-01-19T16:00:57.103Z"
   },
   {
    "duration": 131171,
    "start_time": "2023-01-19T16:01:09.233Z"
   },
   {
    "duration": 0,
    "start_time": "2023-01-19T16:03:20.409Z"
   },
   {
    "duration": 0,
    "start_time": "2023-01-19T16:03:20.413Z"
   },
   {
    "duration": 26,
    "start_time": "2023-01-19T16:04:33.558Z"
   },
   {
    "duration": 323,
    "start_time": "2023-01-19T16:04:35.549Z"
   },
   {
    "duration": 65,
    "start_time": "2023-01-19T16:04:37.564Z"
   },
   {
    "duration": 1794,
    "start_time": "2023-01-19T16:12:41.936Z"
   },
   {
    "duration": 3,
    "start_time": "2023-01-19T16:12:43.732Z"
   },
   {
    "duration": 1010,
    "start_time": "2023-01-19T16:12:43.736Z"
   },
   {
    "duration": 188,
    "start_time": "2023-01-19T16:12:44.748Z"
   },
   {
    "duration": 61,
    "start_time": "2023-01-19T16:12:44.939Z"
   },
   {
    "duration": 561,
    "start_time": "2023-01-19T16:12:45.001Z"
   },
   {
    "duration": 607,
    "start_time": "2023-01-19T16:12:45.564Z"
   },
   {
    "duration": 28,
    "start_time": "2023-01-19T16:12:46.179Z"
   },
   {
    "duration": 115,
    "start_time": "2023-01-19T16:12:46.209Z"
   },
   {
    "duration": 20,
    "start_time": "2023-01-19T16:12:46.327Z"
   },
   {
    "duration": 423,
    "start_time": "2023-01-19T16:12:46.353Z"
   },
   {
    "duration": 243,
    "start_time": "2023-01-19T16:12:46.778Z"
   },
   {
    "duration": 169,
    "start_time": "2023-01-19T16:12:47.022Z"
   },
   {
    "duration": 74,
    "start_time": "2023-01-19T16:12:47.194Z"
   },
   {
    "duration": 67,
    "start_time": "2023-01-19T16:12:47.270Z"
   },
   {
    "duration": 95,
    "start_time": "2023-01-19T16:12:47.339Z"
   },
   {
    "duration": 21,
    "start_time": "2023-01-19T16:12:47.436Z"
   },
   {
    "duration": 130,
    "start_time": "2023-01-19T16:12:47.464Z"
   },
   {
    "duration": 79,
    "start_time": "2023-01-19T16:12:47.606Z"
   },
   {
    "duration": 12,
    "start_time": "2023-01-19T16:12:47.694Z"
   },
   {
    "duration": 80,
    "start_time": "2023-01-19T16:12:47.708Z"
   },
   {
    "duration": 38,
    "start_time": "2023-01-19T16:12:47.797Z"
   },
   {
    "duration": 75,
    "start_time": "2023-01-19T16:12:47.837Z"
   },
   {
    "duration": 414,
    "start_time": "2023-01-19T16:12:47.914Z"
   },
   {
    "duration": 30,
    "start_time": "2023-01-19T16:12:48.330Z"
   },
   {
    "duration": 417,
    "start_time": "2023-01-19T16:12:48.361Z"
   },
   {
    "duration": 25,
    "start_time": "2023-01-19T16:12:48.787Z"
   },
   {
    "duration": 18,
    "start_time": "2023-01-19T16:12:48.813Z"
   },
   {
    "duration": 47,
    "start_time": "2023-01-19T16:12:48.833Z"
   },
   {
    "duration": 3807,
    "start_time": "2023-01-19T16:12:48.892Z"
   },
   {
    "duration": 10,
    "start_time": "2023-01-19T16:12:52.701Z"
   },
   {
    "duration": 64,
    "start_time": "2023-01-19T16:12:52.713Z"
   },
   {
    "duration": 405,
    "start_time": "2023-01-19T16:12:52.784Z"
   },
   {
    "duration": 127,
    "start_time": "2023-01-19T16:12:53.191Z"
   },
   {
    "duration": 5,
    "start_time": "2023-01-19T16:12:53.320Z"
   },
   {
    "duration": 138,
    "start_time": "2023-01-19T16:12:53.327Z"
   },
   {
    "duration": 447,
    "start_time": "2023-01-19T16:12:53.468Z"
   },
   {
    "duration": 5,
    "start_time": "2023-01-19T16:12:53.917Z"
   },
   {
    "duration": 9,
    "start_time": "2023-01-19T16:12:53.924Z"
   },
   {
    "duration": 33,
    "start_time": "2023-01-19T16:12:53.935Z"
   },
   {
    "duration": 249,
    "start_time": "2023-01-19T16:12:53.978Z"
   },
   {
    "duration": 55,
    "start_time": "2023-01-19T16:12:54.228Z"
   },
   {
    "duration": 7225072,
    "start_time": "2023-01-19T16:12:54.285Z"
   },
   {
    "duration": 12,
    "start_time": "2023-01-19T18:13:19.359Z"
   },
   {
    "duration": 1027,
    "start_time": "2023-01-19T18:13:19.373Z"
   },
   {
    "duration": 609,
    "start_time": "2023-01-19T18:13:20.402Z"
   },
   {
    "duration": 741619,
    "start_time": "2023-01-19T18:13:21.013Z"
   },
   {
    "duration": 1512907,
    "start_time": "2023-01-19T18:25:42.634Z"
   },
   {
    "duration": 23,
    "start_time": "2023-01-19T18:50:55.544Z"
   },
   {
    "duration": 21098,
    "start_time": "2023-01-19T18:50:55.569Z"
   },
   {
    "duration": 13,
    "start_time": "2023-01-19T18:51:16.669Z"
   },
   {
    "duration": 1162,
    "start_time": "2023-01-19T18:51:16.684Z"
   },
   {
    "duration": 68,
    "start_time": "2023-01-19T18:51:17.849Z"
   },
   {
    "duration": 69,
    "start_time": "2023-01-19T18:51:17.919Z"
   },
   {
    "duration": 1300,
    "start_time": "2023-01-19T18:51:17.990Z"
   },
   {
    "duration": 7,
    "start_time": "2023-01-19T18:51:19.365Z"
   },
   {
    "duration": 3483789,
    "start_time": "2023-01-19T18:51:19.374Z"
   },
   {
    "duration": 10825,
    "start_time": "2023-01-19T19:49:23.166Z"
   },
   {
    "duration": 148851,
    "start_time": "2023-01-19T19:49:33.993Z"
   },
   {
    "duration": 114,
    "start_time": "2023-01-19T19:52:02.846Z"
   },
   {
    "duration": 213,
    "start_time": "2023-01-19T19:52:02.962Z"
   },
   {
    "duration": 0,
    "start_time": "2023-01-19T19:52:03.177Z"
   },
   {
    "duration": 11,
    "start_time": "2023-01-19T20:03:48.524Z"
   },
   {
    "duration": 7,
    "start_time": "2023-01-19T20:04:31.345Z"
   },
   {
    "duration": 11,
    "start_time": "2023-01-19T20:04:33.569Z"
   },
   {
    "duration": 1556,
    "start_time": "2023-01-20T08:12:53.696Z"
   },
   {
    "duration": 3,
    "start_time": "2023-01-20T08:12:55.254Z"
   },
   {
    "duration": 765,
    "start_time": "2023-01-20T08:12:55.259Z"
   },
   {
    "duration": 106,
    "start_time": "2023-01-20T08:12:56.026Z"
   },
   {
    "duration": 24,
    "start_time": "2023-01-20T08:12:56.134Z"
   },
   {
    "duration": 451,
    "start_time": "2023-01-20T08:12:56.160Z"
   },
   {
    "duration": 468,
    "start_time": "2023-01-20T08:12:56.612Z"
   },
   {
    "duration": 20,
    "start_time": "2023-01-20T08:12:57.082Z"
   },
   {
    "duration": 87,
    "start_time": "2023-01-20T08:12:57.104Z"
   },
   {
    "duration": 20,
    "start_time": "2023-01-20T08:12:57.198Z"
   },
   {
    "duration": 363,
    "start_time": "2023-01-20T08:12:57.221Z"
   },
   {
    "duration": 200,
    "start_time": "2023-01-20T08:12:57.586Z"
   },
   {
    "duration": 141,
    "start_time": "2023-01-20T08:12:57.788Z"
   },
   {
    "duration": 55,
    "start_time": "2023-01-20T08:12:57.930Z"
   },
   {
    "duration": 24,
    "start_time": "2023-01-20T08:12:57.986Z"
   },
   {
    "duration": 91,
    "start_time": "2023-01-20T08:12:58.011Z"
   },
   {
    "duration": 13,
    "start_time": "2023-01-20T08:12:58.104Z"
   },
   {
    "duration": 9,
    "start_time": "2023-01-20T08:12:58.119Z"
   },
   {
    "duration": 69,
    "start_time": "2023-01-20T08:12:58.130Z"
   },
   {
    "duration": 6,
    "start_time": "2023-01-20T08:12:58.201Z"
   },
   {
    "duration": 57,
    "start_time": "2023-01-20T08:12:58.209Z"
   },
   {
    "duration": 17,
    "start_time": "2023-01-20T08:12:58.268Z"
   },
   {
    "duration": 87,
    "start_time": "2023-01-20T08:12:58.299Z"
   },
   {
    "duration": 308,
    "start_time": "2023-01-20T08:12:58.398Z"
   },
   {
    "duration": 13,
    "start_time": "2023-01-20T08:12:58.707Z"
   },
   {
    "duration": 278,
    "start_time": "2023-01-20T08:12:58.722Z"
   },
   {
    "duration": 17,
    "start_time": "2023-01-20T08:12:59.002Z"
   },
   {
    "duration": 18,
    "start_time": "2023-01-20T08:12:59.023Z"
   },
   {
    "duration": 12,
    "start_time": "2023-01-20T08:12:59.043Z"
   },
   {
    "duration": 2834,
    "start_time": "2023-01-20T08:12:59.057Z"
   },
   {
    "duration": 12,
    "start_time": "2023-01-20T08:13:01.893Z"
   },
   {
    "duration": 41,
    "start_time": "2023-01-20T08:13:01.906Z"
   },
   {
    "duration": 283,
    "start_time": "2023-01-20T08:13:01.949Z"
   },
   {
    "duration": 71,
    "start_time": "2023-01-20T08:13:02.234Z"
   },
   {
    "duration": 5,
    "start_time": "2023-01-20T08:13:02.307Z"
   },
   {
    "duration": 83,
    "start_time": "2023-01-20T08:13:02.313Z"
   },
   {
    "duration": 351,
    "start_time": "2023-01-20T08:13:02.398Z"
   },
   {
    "duration": 4,
    "start_time": "2023-01-20T08:13:02.750Z"
   },
   {
    "duration": 9,
    "start_time": "2023-01-20T08:13:02.756Z"
   },
   {
    "duration": 18,
    "start_time": "2023-01-20T08:13:02.767Z"
   },
   {
    "duration": 205,
    "start_time": "2023-01-20T08:13:02.786Z"
   },
   {
    "duration": 41,
    "start_time": "2023-01-20T08:13:02.992Z"
   },
   {
    "duration": 2855931,
    "start_time": "2023-01-20T08:13:03.035Z"
   },
   {
    "duration": 0,
    "start_time": "2023-01-20T09:00:38.968Z"
   },
   {
    "duration": 0,
    "start_time": "2023-01-20T09:00:38.970Z"
   },
   {
    "duration": 0,
    "start_time": "2023-01-20T09:00:38.970Z"
   },
   {
    "duration": 0,
    "start_time": "2023-01-20T09:00:38.972Z"
   },
   {
    "duration": 0,
    "start_time": "2023-01-20T09:00:38.973Z"
   },
   {
    "duration": 0,
    "start_time": "2023-01-20T09:00:38.974Z"
   },
   {
    "duration": 0,
    "start_time": "2023-01-20T09:00:38.976Z"
   },
   {
    "duration": 0,
    "start_time": "2023-01-20T09:00:38.976Z"
   },
   {
    "duration": 0,
    "start_time": "2023-01-20T09:00:38.977Z"
   },
   {
    "duration": 0,
    "start_time": "2023-01-20T09:00:38.978Z"
   },
   {
    "duration": 0,
    "start_time": "2023-01-20T09:00:38.980Z"
   },
   {
    "duration": 0,
    "start_time": "2023-01-20T09:00:38.981Z"
   },
   {
    "duration": 0,
    "start_time": "2023-01-20T09:00:39.004Z"
   },
   {
    "duration": 0,
    "start_time": "2023-01-20T09:00:39.005Z"
   },
   {
    "duration": 0,
    "start_time": "2023-01-20T09:00:39.007Z"
   },
   {
    "duration": 0,
    "start_time": "2023-01-20T09:00:39.008Z"
   },
   {
    "duration": 0,
    "start_time": "2023-01-20T09:00:39.010Z"
   },
   {
    "duration": 0,
    "start_time": "2023-01-20T09:00:39.011Z"
   },
   {
    "duration": 0,
    "start_time": "2023-01-20T09:00:39.013Z"
   },
   {
    "duration": 4,
    "start_time": "2023-01-20T09:00:42.286Z"
   },
   {
    "duration": 4,
    "start_time": "2023-01-20T09:00:43.689Z"
   },
   {
    "duration": 922,
    "start_time": "2023-01-20T09:00:44.844Z"
   },
   {
    "duration": 114,
    "start_time": "2023-01-20T09:00:46.656Z"
   },
   {
    "duration": 27,
    "start_time": "2023-01-20T09:00:48.402Z"
   },
   {
    "duration": 417,
    "start_time": "2023-01-20T09:00:49.819Z"
   },
   {
    "duration": 444,
    "start_time": "2023-01-20T09:00:52.243Z"
   },
   {
    "duration": 17,
    "start_time": "2023-01-20T09:00:55.026Z"
   },
   {
    "duration": 79,
    "start_time": "2023-01-20T09:00:56.324Z"
   },
   {
    "duration": 23,
    "start_time": "2023-01-20T09:00:58.497Z"
   },
   {
    "duration": 329,
    "start_time": "2023-01-20T09:00:59.482Z"
   },
   {
    "duration": 192,
    "start_time": "2023-01-20T09:01:00.658Z"
   },
   {
    "duration": 104,
    "start_time": "2023-01-20T09:01:01.826Z"
   },
   {
    "duration": 55,
    "start_time": "2023-01-20T09:01:03.329Z"
   },
   {
    "duration": 15,
    "start_time": "2023-01-20T09:01:04.323Z"
   },
   {
    "duration": 61,
    "start_time": "2023-01-20T09:01:05.706Z"
   },
   {
    "duration": 16,
    "start_time": "2023-01-20T09:01:08.717Z"
   },
   {
    "duration": 12,
    "start_time": "2023-01-20T09:01:10.828Z"
   },
   {
    "duration": 46,
    "start_time": "2023-01-20T09:01:11.918Z"
   },
   {
    "duration": 7,
    "start_time": "2023-01-20T09:01:12.844Z"
   },
   {
    "duration": 51,
    "start_time": "2023-01-20T09:01:15.016Z"
   },
   {
    "duration": 19,
    "start_time": "2023-01-20T09:01:17.016Z"
   },
   {
    "duration": 9,
    "start_time": "2023-01-20T09:01:19.227Z"
   },
   {
    "duration": 580,
    "start_time": "2023-01-20T09:01:20.291Z"
   },
   {
    "duration": 15,
    "start_time": "2023-01-20T09:01:22.650Z"
   },
   {
    "duration": 339,
    "start_time": "2023-01-20T09:01:24.571Z"
   },
   {
    "duration": 18,
    "start_time": "2023-01-20T09:01:26.731Z"
   },
   {
    "duration": 24,
    "start_time": "2023-01-20T09:01:29.121Z"
   },
   {
    "duration": 17,
    "start_time": "2023-01-20T09:01:31.538Z"
   },
   {
    "duration": 3367,
    "start_time": "2023-01-20T09:01:35.222Z"
   },
   {
    "duration": 13,
    "start_time": "2023-01-20T09:01:38.592Z"
   },
   {
    "duration": 42,
    "start_time": "2023-01-20T09:01:38.607Z"
   },
   {
    "duration": 298,
    "start_time": "2023-01-20T09:01:38.651Z"
   },
   {
    "duration": 87,
    "start_time": "2023-01-20T09:01:42.251Z"
   },
   {
    "duration": 5,
    "start_time": "2023-01-20T09:01:43.867Z"
   },
   {
    "duration": 94,
    "start_time": "2023-01-20T09:01:44.883Z"
   },
   {
    "duration": 347,
    "start_time": "2023-01-20T09:01:47.506Z"
   },
   {
    "duration": 5,
    "start_time": "2023-01-20T09:01:55.297Z"
   },
   {
    "duration": 13,
    "start_time": "2023-01-20T09:01:57.435Z"
   },
   {
    "duration": 213,
    "start_time": "2023-01-20T09:02:03.250Z"
   },
   {
    "duration": 44,
    "start_time": "2023-01-20T09:02:04.297Z"
   },
   {
    "duration": 16,
    "start_time": "2023-01-20T09:02:11.499Z"
   },
   {
    "duration": 19206,
    "start_time": "2023-01-20T09:02:14.139Z"
   },
   {
    "duration": 18,
    "start_time": "2023-01-20T09:02:33.349Z"
   },
   {
    "duration": 1048,
    "start_time": "2023-01-20T09:02:37.829Z"
   },
   {
    "duration": 17,
    "start_time": "2023-01-20T09:03:00.587Z"
   },
   {
    "duration": 48,
    "start_time": "2023-01-20T09:03:46.172Z"
   },
   {
    "duration": 55,
    "start_time": "2023-01-20T09:03:52.293Z"
   },
   {
    "duration": 45,
    "start_time": "2023-01-20T09:03:57.806Z"
   },
   {
    "duration": 12,
    "start_time": "2023-01-20T09:04:06.180Z"
   },
   {
    "duration": 77,
    "start_time": "2023-01-20T09:04:56.758Z"
   },
   {
    "duration": 56,
    "start_time": "2023-01-20T09:04:58.051Z"
   },
   {
    "duration": 838,
    "start_time": "2023-01-20T09:04:59.189Z"
   },
   {
    "duration": 1594,
    "start_time": "2023-01-20T11:07:56.339Z"
   },
   {
    "duration": 5,
    "start_time": "2023-01-20T11:07:57.935Z"
   },
   {
    "duration": 1083,
    "start_time": "2023-01-20T11:07:57.942Z"
   },
   {
    "duration": 133,
    "start_time": "2023-01-20T11:07:59.028Z"
   },
   {
    "duration": 44,
    "start_time": "2023-01-20T11:07:59.163Z"
   },
   {
    "duration": 541,
    "start_time": "2023-01-20T11:07:59.209Z"
   },
   {
    "duration": 534,
    "start_time": "2023-01-20T11:07:59.752Z"
   },
   {
    "duration": 23,
    "start_time": "2023-01-20T11:08:00.288Z"
   },
   {
    "duration": 91,
    "start_time": "2023-01-20T11:08:00.312Z"
   },
   {
    "duration": 19,
    "start_time": "2023-01-20T11:08:00.406Z"
   },
   {
    "duration": 370,
    "start_time": "2023-01-20T11:08:00.426Z"
   },
   {
    "duration": 215,
    "start_time": "2023-01-20T11:08:00.798Z"
   },
   {
    "duration": 148,
    "start_time": "2023-01-20T11:08:01.015Z"
   },
   {
    "duration": 70,
    "start_time": "2023-01-20T11:08:01.165Z"
   },
   {
    "duration": 15,
    "start_time": "2023-01-20T11:08:01.237Z"
   },
   {
    "duration": 90,
    "start_time": "2023-01-20T11:08:01.254Z"
   },
   {
    "duration": 11,
    "start_time": "2023-01-20T11:08:01.346Z"
   },
   {
    "duration": 45,
    "start_time": "2023-01-20T11:08:01.359Z"
   },
   {
    "duration": 48,
    "start_time": "2023-01-20T11:08:01.406Z"
   },
   {
    "duration": 6,
    "start_time": "2023-01-20T11:08:01.456Z"
   },
   {
    "duration": 74,
    "start_time": "2023-01-20T11:08:01.464Z"
   },
   {
    "duration": 36,
    "start_time": "2023-01-20T11:08:01.540Z"
   },
   {
    "duration": 111,
    "start_time": "2023-01-20T11:08:01.578Z"
   },
   {
    "duration": 335,
    "start_time": "2023-01-20T11:08:01.691Z"
   },
   {
    "duration": 14,
    "start_time": "2023-01-20T11:08:02.027Z"
   },
   {
    "duration": 364,
    "start_time": "2023-01-20T11:08:02.043Z"
   },
   {
    "duration": 18,
    "start_time": "2023-01-20T11:08:02.409Z"
   },
   {
    "duration": 21,
    "start_time": "2023-01-20T11:08:02.431Z"
   },
   {
    "duration": 16,
    "start_time": "2023-01-20T11:08:02.454Z"
   },
   {
    "duration": 3222,
    "start_time": "2023-01-20T11:08:02.472Z"
   },
   {
    "duration": 14,
    "start_time": "2023-01-20T11:08:05.696Z"
   },
   {
    "duration": 29,
    "start_time": "2023-01-20T11:08:05.712Z"
   },
   {
    "duration": 332,
    "start_time": "2023-01-20T11:08:05.743Z"
   },
   {
    "duration": 81,
    "start_time": "2023-01-20T11:08:06.077Z"
   },
   {
    "duration": 5,
    "start_time": "2023-01-20T11:08:06.160Z"
   },
   {
    "duration": 77,
    "start_time": "2023-01-20T11:08:06.166Z"
   },
   {
    "duration": 439,
    "start_time": "2023-01-20T11:08:06.245Z"
   },
   {
    "duration": 4,
    "start_time": "2023-01-20T11:08:06.686Z"
   },
   {
    "duration": 11,
    "start_time": "2023-01-20T11:08:06.692Z"
   },
   {
    "duration": 18,
    "start_time": "2023-01-20T11:08:06.704Z"
   },
   {
    "duration": 219,
    "start_time": "2023-01-20T11:08:06.724Z"
   },
   {
    "duration": 41,
    "start_time": "2023-01-20T11:08:06.945Z"
   },
   {
    "duration": 161281,
    "start_time": "2023-01-20T11:08:06.988Z"
   },
   {
    "duration": 0,
    "start_time": "2023-01-20T11:10:48.271Z"
   },
   {
    "duration": 0,
    "start_time": "2023-01-20T11:10:48.272Z"
   },
   {
    "duration": 0,
    "start_time": "2023-01-20T11:10:48.273Z"
   },
   {
    "duration": 0,
    "start_time": "2023-01-20T11:10:48.275Z"
   },
   {
    "duration": 0,
    "start_time": "2023-01-20T11:10:48.276Z"
   },
   {
    "duration": 0,
    "start_time": "2023-01-20T11:10:48.277Z"
   },
   {
    "duration": 0,
    "start_time": "2023-01-20T11:10:48.279Z"
   },
   {
    "duration": 0,
    "start_time": "2023-01-20T11:10:48.280Z"
   },
   {
    "duration": 0,
    "start_time": "2023-01-20T11:10:48.281Z"
   },
   {
    "duration": 0,
    "start_time": "2023-01-20T11:10:48.282Z"
   },
   {
    "duration": 0,
    "start_time": "2023-01-20T11:10:48.303Z"
   },
   {
    "duration": 0,
    "start_time": "2023-01-20T11:10:48.304Z"
   },
   {
    "duration": 0,
    "start_time": "2023-01-20T11:10:48.305Z"
   },
   {
    "duration": 0,
    "start_time": "2023-01-20T11:10:48.307Z"
   },
   {
    "duration": 0,
    "start_time": "2023-01-20T11:10:48.308Z"
   },
   {
    "duration": 0,
    "start_time": "2023-01-20T11:10:48.309Z"
   },
   {
    "duration": 0,
    "start_time": "2023-01-20T11:10:48.310Z"
   },
   {
    "duration": 0,
    "start_time": "2023-01-20T11:10:48.311Z"
   },
   {
    "duration": 0,
    "start_time": "2023-01-20T11:10:48.312Z"
   },
   {
    "duration": 0,
    "start_time": "2023-01-20T11:10:48.313Z"
   },
   {
    "duration": 1453,
    "start_time": "2023-01-20T11:10:52.234Z"
   },
   {
    "duration": 4,
    "start_time": "2023-01-20T11:10:53.689Z"
   },
   {
    "duration": 890,
    "start_time": "2023-01-20T11:10:53.694Z"
   },
   {
    "duration": 125,
    "start_time": "2023-01-20T11:10:54.586Z"
   },
   {
    "duration": 25,
    "start_time": "2023-01-20T11:10:54.713Z"
   },
   {
    "duration": 479,
    "start_time": "2023-01-20T11:10:54.739Z"
   },
   {
    "duration": 525,
    "start_time": "2023-01-20T11:10:55.219Z"
   },
   {
    "duration": 18,
    "start_time": "2023-01-20T11:10:55.747Z"
   },
   {
    "duration": 107,
    "start_time": "2023-01-20T11:10:55.768Z"
   },
   {
    "duration": 28,
    "start_time": "2023-01-20T11:10:55.878Z"
   },
   {
    "duration": 367,
    "start_time": "2023-01-20T11:10:55.908Z"
   },
   {
    "duration": 204,
    "start_time": "2023-01-20T11:10:56.277Z"
   },
   {
    "duration": 160,
    "start_time": "2023-01-20T11:10:56.483Z"
   },
   {
    "duration": 65,
    "start_time": "2023-01-20T11:10:56.644Z"
   },
   {
    "duration": 15,
    "start_time": "2023-01-20T11:10:56.710Z"
   },
   {
    "duration": 91,
    "start_time": "2023-01-20T11:10:56.726Z"
   },
   {
    "duration": 11,
    "start_time": "2023-01-20T11:10:56.818Z"
   },
   {
    "duration": 29,
    "start_time": "2023-01-20T11:10:56.830Z"
   },
   {
    "duration": 70,
    "start_time": "2023-01-20T11:10:56.861Z"
   },
   {
    "duration": 6,
    "start_time": "2023-01-20T11:10:56.933Z"
   },
   {
    "duration": 45,
    "start_time": "2023-01-20T11:10:56.941Z"
   },
   {
    "duration": 18,
    "start_time": "2023-01-20T11:10:57.003Z"
   },
   {
    "duration": 99,
    "start_time": "2023-01-20T11:10:57.023Z"
   },
   {
    "duration": 347,
    "start_time": "2023-01-20T11:10:57.124Z"
   },
   {
    "duration": 15,
    "start_time": "2023-01-20T11:10:57.472Z"
   },
   {
    "duration": 322,
    "start_time": "2023-01-20T11:10:57.489Z"
   },
   {
    "duration": 19,
    "start_time": "2023-01-20T11:10:57.813Z"
   },
   {
    "duration": 16,
    "start_time": "2023-01-20T11:10:57.836Z"
   },
   {
    "duration": 12,
    "start_time": "2023-01-20T11:10:57.854Z"
   },
   {
    "duration": 3217,
    "start_time": "2023-01-20T11:10:57.868Z"
   },
   {
    "duration": 22,
    "start_time": "2023-01-20T11:11:01.087Z"
   },
   {
    "duration": 40,
    "start_time": "2023-01-20T11:11:01.110Z"
   },
   {
    "duration": 311,
    "start_time": "2023-01-20T11:11:01.152Z"
   },
   {
    "duration": 81,
    "start_time": "2023-01-20T11:11:01.464Z"
   },
   {
    "duration": 5,
    "start_time": "2023-01-20T11:11:01.547Z"
   },
   {
    "duration": 91,
    "start_time": "2023-01-20T11:11:01.553Z"
   },
   {
    "duration": 400,
    "start_time": "2023-01-20T11:11:01.645Z"
   },
   {
    "duration": 4,
    "start_time": "2023-01-20T11:11:02.046Z"
   },
   {
    "duration": 13,
    "start_time": "2023-01-20T11:11:02.051Z"
   },
   {
    "duration": 23,
    "start_time": "2023-01-20T11:11:02.066Z"
   },
   {
    "duration": 198,
    "start_time": "2023-01-20T11:11:02.090Z"
   },
   {
    "duration": 41,
    "start_time": "2023-01-20T11:11:02.290Z"
   },
   {
    "duration": 292232,
    "start_time": "2023-01-20T11:11:02.332Z"
   },
   {
    "duration": 0,
    "start_time": "2023-01-20T11:15:54.566Z"
   },
   {
    "duration": 0,
    "start_time": "2023-01-20T11:15:54.567Z"
   },
   {
    "duration": 0,
    "start_time": "2023-01-20T11:15:54.568Z"
   },
   {
    "duration": 0,
    "start_time": "2023-01-20T11:15:54.570Z"
   },
   {
    "duration": 0,
    "start_time": "2023-01-20T11:15:54.571Z"
   },
   {
    "duration": 0,
    "start_time": "2023-01-20T11:15:54.573Z"
   },
   {
    "duration": 0,
    "start_time": "2023-01-20T11:15:54.574Z"
   },
   {
    "duration": 0,
    "start_time": "2023-01-20T11:15:54.576Z"
   },
   {
    "duration": 0,
    "start_time": "2023-01-20T11:15:54.577Z"
   },
   {
    "duration": 0,
    "start_time": "2023-01-20T11:15:54.578Z"
   },
   {
    "duration": 0,
    "start_time": "2023-01-20T11:15:54.579Z"
   },
   {
    "duration": 0,
    "start_time": "2023-01-20T11:15:54.580Z"
   },
   {
    "duration": 0,
    "start_time": "2023-01-20T11:15:54.604Z"
   },
   {
    "duration": 0,
    "start_time": "2023-01-20T11:15:54.605Z"
   },
   {
    "duration": 0,
    "start_time": "2023-01-20T11:15:54.607Z"
   },
   {
    "duration": 0,
    "start_time": "2023-01-20T11:15:54.609Z"
   },
   {
    "duration": 0,
    "start_time": "2023-01-20T11:15:54.611Z"
   },
   {
    "duration": 0,
    "start_time": "2023-01-20T11:15:54.612Z"
   },
   {
    "duration": 0,
    "start_time": "2023-01-20T11:15:54.613Z"
   },
   {
    "duration": 4,
    "start_time": "2023-01-20T11:15:55.377Z"
   },
   {
    "duration": 10,
    "start_time": "2023-01-20T11:17:08.359Z"
   },
   {
    "duration": 13,
    "start_time": "2023-01-20T11:17:17.803Z"
   },
   {
    "duration": 4,
    "start_time": "2023-01-20T11:18:09.595Z"
   },
   {
    "duration": 1433,
    "start_time": "2023-01-20T11:21:11.926Z"
   },
   {
    "duration": 4,
    "start_time": "2023-01-20T11:21:13.361Z"
   },
   {
    "duration": 849,
    "start_time": "2023-01-20T11:21:13.367Z"
   },
   {
    "duration": 142,
    "start_time": "2023-01-20T11:21:14.219Z"
   },
   {
    "duration": 24,
    "start_time": "2023-01-20T11:21:14.364Z"
   },
   {
    "duration": 474,
    "start_time": "2023-01-20T11:21:14.402Z"
   },
   {
    "duration": 536,
    "start_time": "2023-01-20T11:21:14.877Z"
   },
   {
    "duration": 19,
    "start_time": "2023-01-20T11:21:15.415Z"
   },
   {
    "duration": 99,
    "start_time": "2023-01-20T11:21:15.435Z"
   },
   {
    "duration": 20,
    "start_time": "2023-01-20T11:21:15.537Z"
   },
   {
    "duration": 362,
    "start_time": "2023-01-20T11:21:15.558Z"
   },
   {
    "duration": 191,
    "start_time": "2023-01-20T11:21:15.922Z"
   },
   {
    "duration": 152,
    "start_time": "2023-01-20T11:21:16.115Z"
   },
   {
    "duration": 70,
    "start_time": "2023-01-20T11:21:16.269Z"
   },
   {
    "duration": 13,
    "start_time": "2023-01-20T11:21:16.340Z"
   },
   {
    "duration": 86,
    "start_time": "2023-01-20T11:21:16.354Z"
   },
   {
    "duration": 9,
    "start_time": "2023-01-20T11:21:16.442Z"
   },
   {
    "duration": 37,
    "start_time": "2023-01-20T11:21:16.453Z"
   },
   {
    "duration": 57,
    "start_time": "2023-01-20T11:21:16.503Z"
   },
   {
    "duration": 5,
    "start_time": "2023-01-20T11:21:16.562Z"
   },
   {
    "duration": 61,
    "start_time": "2023-01-20T11:21:16.569Z"
   },
   {
    "duration": 17,
    "start_time": "2023-01-20T11:21:16.632Z"
   },
   {
    "duration": 97,
    "start_time": "2023-01-20T11:21:16.651Z"
   },
   {
    "duration": 324,
    "start_time": "2023-01-20T11:21:16.750Z"
   },
   {
    "duration": 15,
    "start_time": "2023-01-20T11:21:17.076Z"
   },
   {
    "duration": 346,
    "start_time": "2023-01-20T11:21:17.092Z"
   },
   {
    "duration": 18,
    "start_time": "2023-01-20T11:21:17.440Z"
   },
   {
    "duration": 18,
    "start_time": "2023-01-20T11:21:17.461Z"
   },
   {
    "duration": 33,
    "start_time": "2023-01-20T11:21:17.480Z"
   },
   {
    "duration": 3058,
    "start_time": "2023-01-20T11:21:17.515Z"
   },
   {
    "duration": 10,
    "start_time": "2023-01-20T11:21:20.575Z"
   },
   {
    "duration": 47,
    "start_time": "2023-01-20T11:21:20.587Z"
   },
   {
    "duration": 324,
    "start_time": "2023-01-20T11:21:20.636Z"
   },
   {
    "duration": 94,
    "start_time": "2023-01-20T11:21:20.962Z"
   },
   {
    "duration": 5,
    "start_time": "2023-01-20T11:21:21.057Z"
   },
   {
    "duration": 76,
    "start_time": "2023-01-20T11:21:21.064Z"
   },
   {
    "duration": 404,
    "start_time": "2023-01-20T11:21:21.142Z"
   },
   {
    "duration": 4,
    "start_time": "2023-01-20T11:21:21.548Z"
   },
   {
    "duration": 8,
    "start_time": "2023-01-20T11:21:21.553Z"
   },
   {
    "duration": 16,
    "start_time": "2023-01-20T11:21:21.562Z"
   },
   {
    "duration": 225,
    "start_time": "2023-01-20T11:21:21.580Z"
   },
   {
    "duration": 40,
    "start_time": "2023-01-20T11:21:21.806Z"
   },
   {
    "duration": 2608457,
    "start_time": "2023-01-20T11:21:21.848Z"
   },
   {
    "duration": 12,
    "start_time": "2023-01-20T12:04:50.307Z"
   },
   {
    "duration": 1300,
    "start_time": "2023-01-20T12:04:50.320Z"
   },
   {
    "duration": 624,
    "start_time": "2023-01-20T12:04:51.622Z"
   },
   {
    "duration": 772213,
    "start_time": "2023-01-20T12:04:52.248Z"
   },
   {
    "duration": 1579345,
    "start_time": "2023-01-20T12:17:44.462Z"
   },
   {
    "duration": 15,
    "start_time": "2023-01-20T12:44:03.809Z"
   },
   {
    "duration": 19332,
    "start_time": "2023-01-20T12:44:03.826Z"
   },
   {
    "duration": 13,
    "start_time": "2023-01-20T12:44:23.160Z"
   },
   {
    "duration": 1017,
    "start_time": "2023-01-20T12:44:23.175Z"
   },
   {
    "duration": 84,
    "start_time": "2023-01-20T12:44:24.194Z"
   },
   {
    "duration": 72,
    "start_time": "2023-01-20T12:44:24.280Z"
   },
   {
    "duration": 953,
    "start_time": "2023-01-20T12:44:24.354Z"
   },
   {
    "duration": 6,
    "start_time": "2023-01-20T12:44:25.309Z"
   },
   {
    "duration": 289708,
    "start_time": "2023-01-20T12:44:25.318Z"
   },
   {
    "duration": 10916,
    "start_time": "2023-01-20T12:49:15.028Z"
   },
   {
    "duration": 150558,
    "start_time": "2023-01-20T12:49:25.946Z"
   },
   {
    "duration": 97,
    "start_time": "2023-01-20T12:51:56.506Z"
   },
   {
    "duration": 6,
    "start_time": "2023-01-20T12:51:56.605Z"
   },
   {
    "duration": 109,
    "start_time": "2023-01-20T12:51:56.613Z"
   },
   {
    "duration": 72,
    "start_time": "2023-01-20T13:07:23.339Z"
   },
   {
    "duration": 115,
    "start_time": "2023-01-20T13:07:32.665Z"
   },
   {
    "duration": 5,
    "start_time": "2023-01-20T13:07:47.978Z"
   },
   {
    "duration": 13,
    "start_time": "2023-01-20T13:07:51.297Z"
   },
   {
    "duration": 5,
    "start_time": "2023-01-20T13:08:15.086Z"
   },
   {
    "duration": 11,
    "start_time": "2023-01-20T13:08:17.170Z"
   },
   {
    "duration": 17,
    "start_time": "2023-01-20T13:08:31.205Z"
   },
   {
    "duration": 13,
    "start_time": "2023-01-20T13:10:22.094Z"
   },
   {
    "duration": 13,
    "start_time": "2023-01-20T13:10:37.245Z"
   },
   {
    "duration": 11,
    "start_time": "2023-01-20T13:12:37.609Z"
   },
   {
    "duration": 14,
    "start_time": "2023-01-20T13:15:10.963Z"
   },
   {
    "duration": 12,
    "start_time": "2023-01-20T13:15:31.754Z"
   },
   {
    "duration": 72,
    "start_time": "2023-01-20T13:15:54.213Z"
   },
   {
    "duration": 14,
    "start_time": "2023-01-20T13:16:26.969Z"
   },
   {
    "duration": 11,
    "start_time": "2023-01-20T13:16:48.765Z"
   },
   {
    "duration": 15,
    "start_time": "2023-01-20T13:17:00.370Z"
   },
   {
    "duration": 13,
    "start_time": "2023-01-20T13:17:05.104Z"
   },
   {
    "duration": 14,
    "start_time": "2023-01-20T13:17:10.407Z"
   },
   {
    "duration": 13,
    "start_time": "2023-01-20T13:17:23.243Z"
   },
   {
    "duration": 13,
    "start_time": "2023-01-20T13:17:39.311Z"
   },
   {
    "duration": 12,
    "start_time": "2023-01-20T13:18:12.888Z"
   },
   {
    "duration": 13,
    "start_time": "2023-01-20T13:18:23.113Z"
   },
   {
    "duration": 13,
    "start_time": "2023-01-20T13:18:34.529Z"
   },
   {
    "duration": 13,
    "start_time": "2023-01-20T13:18:54.995Z"
   },
   {
    "duration": 71,
    "start_time": "2023-01-20T13:19:21.025Z"
   },
   {
    "duration": 14,
    "start_time": "2023-01-20T13:19:35.128Z"
   },
   {
    "duration": 13,
    "start_time": "2023-01-20T13:19:55.983Z"
   },
   {
    "duration": 12,
    "start_time": "2023-01-20T13:21:43.940Z"
   },
   {
    "duration": 13,
    "start_time": "2023-01-20T13:21:52.173Z"
   },
   {
    "duration": 13,
    "start_time": "2023-01-20T13:21:56.357Z"
   },
   {
    "duration": 13,
    "start_time": "2023-01-20T13:22:09.251Z"
   },
   {
    "duration": 12,
    "start_time": "2023-01-20T13:22:17.887Z"
   },
   {
    "duration": 1462,
    "start_time": "2023-01-20T13:49:30.434Z"
   },
   {
    "duration": 5,
    "start_time": "2023-01-20T13:49:31.898Z"
   },
   {
    "duration": 918,
    "start_time": "2023-01-20T13:49:31.904Z"
   },
   {
    "duration": 142,
    "start_time": "2023-01-20T13:49:32.824Z"
   },
   {
    "duration": 39,
    "start_time": "2023-01-20T13:49:32.968Z"
   },
   {
    "duration": 543,
    "start_time": "2023-01-20T13:49:33.009Z"
   },
   {
    "duration": 577,
    "start_time": "2023-01-20T13:49:33.554Z"
   },
   {
    "duration": 18,
    "start_time": "2023-01-20T13:49:34.133Z"
   },
   {
    "duration": 111,
    "start_time": "2023-01-20T13:49:34.153Z"
   },
   {
    "duration": 19,
    "start_time": "2023-01-20T13:49:34.266Z"
   },
   {
    "duration": 416,
    "start_time": "2023-01-20T13:49:34.287Z"
   },
   {
    "duration": 244,
    "start_time": "2023-01-20T13:49:34.705Z"
   },
   {
    "duration": 164,
    "start_time": "2023-01-20T13:49:34.950Z"
   },
   {
    "duration": 65,
    "start_time": "2023-01-20T13:49:35.116Z"
   },
   {
    "duration": 28,
    "start_time": "2023-01-20T13:49:35.183Z"
   },
   {
    "duration": 94,
    "start_time": "2023-01-20T13:49:35.212Z"
   },
   {
    "duration": 11,
    "start_time": "2023-01-20T13:49:35.308Z"
   },
   {
    "duration": 31,
    "start_time": "2023-01-20T13:49:35.322Z"
   },
   {
    "duration": 97,
    "start_time": "2023-01-20T13:49:35.355Z"
   },
   {
    "duration": 7,
    "start_time": "2023-01-20T13:49:35.453Z"
   },
   {
    "duration": 63,
    "start_time": "2023-01-20T13:49:35.462Z"
   },
   {
    "duration": 18,
    "start_time": "2023-01-20T13:49:35.527Z"
   },
   {
    "duration": 108,
    "start_time": "2023-01-20T13:49:35.547Z"
   },
   {
    "duration": 341,
    "start_time": "2023-01-20T13:49:35.657Z"
   },
   {
    "duration": 16,
    "start_time": "2023-01-20T13:49:36.002Z"
   },
   {
    "duration": 368,
    "start_time": "2023-01-20T13:49:36.020Z"
   },
   {
    "duration": 22,
    "start_time": "2023-01-20T13:49:36.389Z"
   },
   {
    "duration": 19,
    "start_time": "2023-01-20T13:49:36.415Z"
   },
   {
    "duration": 13,
    "start_time": "2023-01-20T13:49:36.435Z"
   },
   {
    "duration": 3191,
    "start_time": "2023-01-20T13:49:36.450Z"
   },
   {
    "duration": 9,
    "start_time": "2023-01-20T13:49:39.643Z"
   },
   {
    "duration": 52,
    "start_time": "2023-01-20T13:49:39.654Z"
   },
   {
    "duration": 330,
    "start_time": "2023-01-20T13:49:39.709Z"
   },
   {
    "duration": 83,
    "start_time": "2023-01-20T13:49:40.041Z"
   },
   {
    "duration": 7,
    "start_time": "2023-01-20T13:49:40.125Z"
   },
   {
    "duration": 85,
    "start_time": "2023-01-20T13:49:40.134Z"
   },
   {
    "duration": 396,
    "start_time": "2023-01-20T13:49:40.221Z"
   },
   {
    "duration": 5,
    "start_time": "2023-01-20T13:49:40.619Z"
   },
   {
    "duration": 41,
    "start_time": "2023-01-20T13:49:40.625Z"
   },
   {
    "duration": 17,
    "start_time": "2023-01-20T13:49:40.668Z"
   },
   {
    "duration": 206,
    "start_time": "2023-01-20T13:49:40.686Z"
   },
   {
    "duration": 42,
    "start_time": "2023-01-20T13:49:40.894Z"
   },
   {
    "duration": 2850319,
    "start_time": "2023-01-20T13:49:40.938Z"
   },
   {
    "duration": 0,
    "start_time": "2023-01-20T14:37:11.259Z"
   },
   {
    "duration": 0,
    "start_time": "2023-01-20T14:37:11.260Z"
   },
   {
    "duration": 0,
    "start_time": "2023-01-20T14:37:11.261Z"
   },
   {
    "duration": 0,
    "start_time": "2023-01-20T14:37:11.262Z"
   },
   {
    "duration": 0,
    "start_time": "2023-01-20T14:37:11.264Z"
   },
   {
    "duration": 0,
    "start_time": "2023-01-20T14:37:11.265Z"
   },
   {
    "duration": 0,
    "start_time": "2023-01-20T14:37:11.266Z"
   },
   {
    "duration": 0,
    "start_time": "2023-01-20T14:37:11.267Z"
   },
   {
    "duration": 0,
    "start_time": "2023-01-20T14:37:11.269Z"
   },
   {
    "duration": 0,
    "start_time": "2023-01-20T14:37:11.270Z"
   },
   {
    "duration": 0,
    "start_time": "2023-01-20T14:37:11.271Z"
   },
   {
    "duration": 0,
    "start_time": "2023-01-20T14:37:11.272Z"
   },
   {
    "duration": 0,
    "start_time": "2023-01-20T14:37:11.273Z"
   },
   {
    "duration": 0,
    "start_time": "2023-01-20T14:37:11.273Z"
   },
   {
    "duration": 0,
    "start_time": "2023-01-20T14:37:11.274Z"
   },
   {
    "duration": 15,
    "start_time": "2023-01-20T14:37:13.683Z"
   },
   {
    "duration": 13,
    "start_time": "2023-01-20T14:37:49.056Z"
   },
   {
    "duration": 5,
    "start_time": "2023-01-20T14:38:04.631Z"
   },
   {
    "duration": 1563,
    "start_time": "2023-01-20T14:58:23.383Z"
   },
   {
    "duration": 4,
    "start_time": "2023-01-20T14:58:24.948Z"
   },
   {
    "duration": 869,
    "start_time": "2023-01-20T14:58:24.954Z"
   },
   {
    "duration": 124,
    "start_time": "2023-01-20T14:58:25.826Z"
   },
   {
    "duration": 26,
    "start_time": "2023-01-20T14:58:25.952Z"
   },
   {
    "duration": 510,
    "start_time": "2023-01-20T14:58:25.979Z"
   },
   {
    "duration": 574,
    "start_time": "2023-01-20T14:58:26.491Z"
   },
   {
    "duration": 20,
    "start_time": "2023-01-20T14:58:27.067Z"
   },
   {
    "duration": 97,
    "start_time": "2023-01-20T14:58:27.089Z"
   },
   {
    "duration": 29,
    "start_time": "2023-01-20T14:58:27.190Z"
   },
   {
    "duration": 390,
    "start_time": "2023-01-20T14:58:27.221Z"
   },
   {
    "duration": 200,
    "start_time": "2023-01-20T14:58:27.613Z"
   },
   {
    "duration": 149,
    "start_time": "2023-01-20T14:58:27.814Z"
   },
   {
    "duration": 64,
    "start_time": "2023-01-20T14:58:27.965Z"
   },
   {
    "duration": 15,
    "start_time": "2023-01-20T14:58:28.030Z"
   },
   {
    "duration": 95,
    "start_time": "2023-01-20T14:58:28.048Z"
   },
   {
    "duration": 10,
    "start_time": "2023-01-20T14:58:28.145Z"
   },
   {
    "duration": 46,
    "start_time": "2023-01-20T14:58:28.157Z"
   },
   {
    "duration": 50,
    "start_time": "2023-01-20T14:58:28.205Z"
   },
   {
    "duration": 6,
    "start_time": "2023-01-20T14:58:28.257Z"
   },
   {
    "duration": 71,
    "start_time": "2023-01-20T14:58:28.265Z"
   },
   {
    "duration": 22,
    "start_time": "2023-01-20T14:58:28.338Z"
   },
   {
    "duration": 103,
    "start_time": "2023-01-20T14:58:28.362Z"
   },
   {
    "duration": 377,
    "start_time": "2023-01-20T14:58:28.468Z"
   },
   {
    "duration": 15,
    "start_time": "2023-01-20T14:58:28.847Z"
   },
   {
    "duration": 405,
    "start_time": "2023-01-20T14:58:28.864Z"
   },
   {
    "duration": 37,
    "start_time": "2023-01-20T14:58:29.272Z"
   },
   {
    "duration": 29,
    "start_time": "2023-01-20T14:58:29.314Z"
   },
   {
    "duration": 17,
    "start_time": "2023-01-20T14:58:29.345Z"
   },
   {
    "duration": 3230,
    "start_time": "2023-01-20T14:58:29.364Z"
   },
   {
    "duration": 14,
    "start_time": "2023-01-20T14:58:32.596Z"
   },
   {
    "duration": 32,
    "start_time": "2023-01-20T14:58:32.612Z"
   },
   {
    "duration": 357,
    "start_time": "2023-01-20T14:58:32.646Z"
   },
   {
    "duration": 86,
    "start_time": "2023-01-20T14:58:33.004Z"
   },
   {
    "duration": 6,
    "start_time": "2023-01-20T14:58:33.103Z"
   },
   {
    "duration": 67,
    "start_time": "2023-01-20T14:58:33.111Z"
   },
   {
    "duration": 383,
    "start_time": "2023-01-20T14:58:33.180Z"
   },
   {
    "duration": 5,
    "start_time": "2023-01-20T14:58:33.564Z"
   },
   {
    "duration": 9,
    "start_time": "2023-01-20T14:58:33.571Z"
   },
   {
    "duration": 33,
    "start_time": "2023-01-20T14:58:33.582Z"
   },
   {
    "duration": 319,
    "start_time": "2023-01-20T14:58:33.618Z"
   },
   {
    "duration": 43,
    "start_time": "2023-01-20T14:58:33.939Z"
   },
   {
    "duration": 25378,
    "start_time": "2023-01-20T14:58:33.984Z"
   },
   {
    "duration": 0,
    "start_time": "2023-01-20T14:58:59.364Z"
   },
   {
    "duration": 0,
    "start_time": "2023-01-20T14:58:59.367Z"
   },
   {
    "duration": 0,
    "start_time": "2023-01-20T14:58:59.368Z"
   },
   {
    "duration": 0,
    "start_time": "2023-01-20T14:58:59.369Z"
   },
   {
    "duration": 0,
    "start_time": "2023-01-20T14:58:59.371Z"
   },
   {
    "duration": 0,
    "start_time": "2023-01-20T14:58:59.372Z"
   },
   {
    "duration": 0,
    "start_time": "2023-01-20T14:58:59.374Z"
   },
   {
    "duration": 0,
    "start_time": "2023-01-20T14:58:59.375Z"
   },
   {
    "duration": 0,
    "start_time": "2023-01-20T14:58:59.376Z"
   },
   {
    "duration": 0,
    "start_time": "2023-01-20T14:58:59.378Z"
   },
   {
    "duration": 0,
    "start_time": "2023-01-20T14:58:59.379Z"
   },
   {
    "duration": 0,
    "start_time": "2023-01-20T14:58:59.404Z"
   },
   {
    "duration": 0,
    "start_time": "2023-01-20T14:58:59.405Z"
   },
   {
    "duration": 0,
    "start_time": "2023-01-20T14:58:59.406Z"
   },
   {
    "duration": 0,
    "start_time": "2023-01-20T14:58:59.407Z"
   },
   {
    "duration": 0,
    "start_time": "2023-01-20T14:58:59.408Z"
   },
   {
    "duration": 1515,
    "start_time": "2023-01-20T15:00:04.250Z"
   },
   {
    "duration": 4,
    "start_time": "2023-01-20T15:00:05.767Z"
   },
   {
    "duration": 842,
    "start_time": "2023-01-20T15:00:05.773Z"
   },
   {
    "duration": 132,
    "start_time": "2023-01-20T15:00:06.617Z"
   },
   {
    "duration": 27,
    "start_time": "2023-01-20T15:00:06.752Z"
   },
   {
    "duration": 545,
    "start_time": "2023-01-20T15:00:06.781Z"
   },
   {
    "duration": 551,
    "start_time": "2023-01-20T15:00:07.328Z"
   },
   {
    "duration": 26,
    "start_time": "2023-01-20T15:00:07.881Z"
   },
   {
    "duration": 81,
    "start_time": "2023-01-20T15:00:07.909Z"
   },
   {
    "duration": 26,
    "start_time": "2023-01-20T15:00:07.992Z"
   },
   {
    "duration": 388,
    "start_time": "2023-01-20T15:00:08.020Z"
   },
   {
    "duration": 206,
    "start_time": "2023-01-20T15:00:08.410Z"
   },
   {
    "duration": 154,
    "start_time": "2023-01-20T15:00:08.618Z"
   },
   {
    "duration": 76,
    "start_time": "2023-01-20T15:00:08.776Z"
   },
   {
    "duration": 15,
    "start_time": "2023-01-20T15:00:08.853Z"
   },
   {
    "duration": 93,
    "start_time": "2023-01-20T15:00:08.870Z"
   },
   {
    "duration": 12,
    "start_time": "2023-01-20T15:00:08.965Z"
   },
   {
    "duration": 139,
    "start_time": "2023-01-20T15:00:08.979Z"
   },
   {
    "duration": 53,
    "start_time": "2023-01-20T15:00:09.120Z"
   },
   {
    "duration": 7,
    "start_time": "2023-01-20T15:00:09.175Z"
   },
   {
    "duration": 68,
    "start_time": "2023-01-20T15:00:09.184Z"
   },
   {
    "duration": 20,
    "start_time": "2023-01-20T15:00:09.254Z"
   },
   {
    "duration": 29,
    "start_time": "2023-01-20T15:00:09.275Z"
   },
   {
    "duration": 341,
    "start_time": "2023-01-20T15:00:09.306Z"
   },
   {
    "duration": 15,
    "start_time": "2023-01-20T15:00:09.648Z"
   },
   {
    "duration": 334,
    "start_time": "2023-01-20T15:00:09.665Z"
   },
   {
    "duration": 18,
    "start_time": "2023-01-20T15:00:10.000Z"
   },
   {
    "duration": 39,
    "start_time": "2023-01-20T15:00:10.020Z"
   },
   {
    "duration": 25,
    "start_time": "2023-01-20T15:00:10.060Z"
   },
   {
    "duration": 3148,
    "start_time": "2023-01-20T15:00:10.087Z"
   },
   {
    "duration": 10,
    "start_time": "2023-01-20T15:00:13.237Z"
   },
   {
    "duration": 42,
    "start_time": "2023-01-20T15:00:13.250Z"
   },
   {
    "duration": 322,
    "start_time": "2023-01-20T15:00:13.294Z"
   },
   {
    "duration": 73,
    "start_time": "2023-01-20T15:00:13.618Z"
   },
   {
    "duration": 14,
    "start_time": "2023-01-20T15:00:13.693Z"
   },
   {
    "duration": 72,
    "start_time": "2023-01-20T15:00:13.709Z"
   },
   {
    "duration": 419,
    "start_time": "2023-01-20T15:00:13.782Z"
   },
   {
    "duration": 6,
    "start_time": "2023-01-20T15:00:14.203Z"
   },
   {
    "duration": 28,
    "start_time": "2023-01-20T15:00:14.211Z"
   },
   {
    "duration": 24,
    "start_time": "2023-01-20T15:00:14.241Z"
   },
   {
    "duration": 205,
    "start_time": "2023-01-20T15:00:14.270Z"
   },
   {
    "duration": 74,
    "start_time": "2023-01-20T15:00:14.477Z"
   },
   {
    "duration": 1543,
    "start_time": "2023-01-20T17:57:19.924Z"
   },
   {
    "duration": 3,
    "start_time": "2023-01-20T17:57:21.469Z"
   },
   {
    "duration": 915,
    "start_time": "2023-01-20T17:57:21.474Z"
   },
   {
    "duration": 129,
    "start_time": "2023-01-20T17:57:22.391Z"
   },
   {
    "duration": 26,
    "start_time": "2023-01-20T17:57:22.522Z"
   },
   {
    "duration": 520,
    "start_time": "2023-01-20T17:57:22.549Z"
   },
   {
    "duration": 627,
    "start_time": "2023-01-20T17:57:23.071Z"
   },
   {
    "duration": 27,
    "start_time": "2023-01-20T17:57:23.700Z"
   },
   {
    "duration": 101,
    "start_time": "2023-01-20T17:57:23.729Z"
   },
   {
    "duration": 22,
    "start_time": "2023-01-20T17:57:23.834Z"
   },
   {
    "duration": 439,
    "start_time": "2023-01-20T17:57:23.858Z"
   },
   {
    "duration": 240,
    "start_time": "2023-01-20T17:57:24.303Z"
   },
   {
    "duration": 170,
    "start_time": "2023-01-20T17:57:24.546Z"
   },
   {
    "duration": 65,
    "start_time": "2023-01-20T17:57:24.719Z"
   },
   {
    "duration": 32,
    "start_time": "2023-01-20T17:57:24.786Z"
   },
   {
    "duration": 94,
    "start_time": "2023-01-20T17:57:24.820Z"
   },
   {
    "duration": 12,
    "start_time": "2023-01-20T17:57:24.916Z"
   },
   {
    "duration": 40,
    "start_time": "2023-01-20T17:57:24.929Z"
   },
   {
    "duration": 64,
    "start_time": "2023-01-20T17:57:24.971Z"
   },
   {
    "duration": 7,
    "start_time": "2023-01-20T17:57:25.037Z"
   },
   {
    "duration": 71,
    "start_time": "2023-01-20T17:57:25.046Z"
   },
   {
    "duration": 20,
    "start_time": "2023-01-20T17:57:25.119Z"
   },
   {
    "duration": 133,
    "start_time": "2023-01-20T17:57:25.141Z"
   },
   {
    "duration": 360,
    "start_time": "2023-01-20T17:57:25.278Z"
   },
   {
    "duration": 14,
    "start_time": "2023-01-20T17:57:25.639Z"
   },
   {
    "duration": 326,
    "start_time": "2023-01-20T17:57:25.655Z"
   },
   {
    "duration": 37,
    "start_time": "2023-01-20T17:57:25.982Z"
   },
   {
    "duration": 17,
    "start_time": "2023-01-20T17:57:26.023Z"
   },
   {
    "duration": 17,
    "start_time": "2023-01-20T17:57:26.041Z"
   },
   {
    "duration": 3262,
    "start_time": "2023-01-20T17:57:26.059Z"
   },
   {
    "duration": 11,
    "start_time": "2023-01-20T17:57:29.325Z"
   },
   {
    "duration": 32,
    "start_time": "2023-01-20T17:57:29.338Z"
   },
   {
    "duration": 350,
    "start_time": "2023-01-20T17:57:29.372Z"
   },
   {
    "duration": 83,
    "start_time": "2023-01-20T17:57:29.724Z"
   },
   {
    "duration": 6,
    "start_time": "2023-01-20T17:57:29.819Z"
   },
   {
    "duration": 64,
    "start_time": "2023-01-20T17:57:29.827Z"
   },
   {
    "duration": 376,
    "start_time": "2023-01-20T17:57:29.893Z"
   },
   {
    "duration": 5,
    "start_time": "2023-01-20T17:57:30.270Z"
   },
   {
    "duration": 13,
    "start_time": "2023-01-20T17:57:30.277Z"
   },
   {
    "duration": 38,
    "start_time": "2023-01-20T17:57:30.292Z"
   },
   {
    "duration": 228,
    "start_time": "2023-01-20T17:57:30.332Z"
   },
   {
    "duration": 55,
    "start_time": "2023-01-20T17:57:30.562Z"
   },
   {
    "duration": 326977,
    "start_time": "2023-01-20T17:57:30.620Z"
   },
   {
    "duration": 0,
    "start_time": "2023-01-20T18:02:57.603Z"
   },
   {
    "duration": 0,
    "start_time": "2023-01-20T18:02:57.604Z"
   },
   {
    "duration": 0,
    "start_time": "2023-01-20T18:02:57.605Z"
   },
   {
    "duration": 0,
    "start_time": "2023-01-20T18:02:57.606Z"
   },
   {
    "duration": 0,
    "start_time": "2023-01-20T18:02:57.607Z"
   },
   {
    "duration": 0,
    "start_time": "2023-01-20T18:02:57.608Z"
   },
   {
    "duration": 0,
    "start_time": "2023-01-20T18:02:57.608Z"
   },
   {
    "duration": 0,
    "start_time": "2023-01-20T18:02:57.609Z"
   },
   {
    "duration": 0,
    "start_time": "2023-01-20T18:02:57.611Z"
   },
   {
    "duration": 0,
    "start_time": "2023-01-20T18:02:57.612Z"
   },
   {
    "duration": 0,
    "start_time": "2023-01-20T18:02:57.613Z"
   },
   {
    "duration": 0,
    "start_time": "2023-01-20T18:02:57.614Z"
   },
   {
    "duration": 0,
    "start_time": "2023-01-20T18:02:57.615Z"
   },
   {
    "duration": 0,
    "start_time": "2023-01-20T18:02:57.616Z"
   },
   {
    "duration": 0,
    "start_time": "2023-01-20T18:02:57.617Z"
   },
   {
    "duration": 0,
    "start_time": "2023-01-20T18:02:57.618Z"
   }
  ],
  "kernelspec": {
   "display_name": "base",
   "language": "python",
   "name": "python3"
  },
  "language_info": {
   "codemirror_mode": {
    "name": "ipython",
    "version": 3
   },
   "file_extension": ".py",
   "mimetype": "text/x-python",
   "name": "python",
   "nbconvert_exporter": "python",
   "pygments_lexer": "ipython3",
   "version": "3.9.13 (main, Aug 25 2022, 23:51:50) [MSC v.1916 64 bit (AMD64)]"
  },
  "toc": {
   "base_numbering": 1,
   "nav_menu": {},
   "number_sections": true,
   "sideBar": true,
   "skip_h1_title": true,
   "title_cell": "Table of Contents",
   "title_sidebar": "Contents",
   "toc_cell": false,
   "toc_position": {},
   "toc_section_display": true,
   "toc_window_display": false
  },
  "vscode": {
   "interpreter": {
    "hash": "ad2bdc8ecc057115af97d19610ffacc2b4e99fae6737bb82f5d7fb13d2f2c186"
   }
  }
 },
 "nbformat": 4,
 "nbformat_minor": 2
}
