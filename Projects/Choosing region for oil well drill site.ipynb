{
 "cells": [
  {
   "cell_type": "markdown",
   "metadata": {},
   "source": [
    "Привет, меня зовут Артем Хуршудов. Сегодня я проверю твой проект.\n",
    "<br> Дальнейшее общение будет происходить на \"ты\" если это не вызывает никаких проблем.\n",
    "<br> Желательно реагировать на каждый мой комментарий ('исправил', 'не понятно как исправить ошибку', ...)\n",
    "<br> Пожалуйста, не удаляй комментарии ревьюера, так как они повышают качество повторного ревью.\n",
    "\n",
    "Комментарии будут в <font color='green'>зеленой</font>, <font color='blue'>синей</font> или <font color='red'>красной</font> рамках:\n",
    "\n",
    "<div class=\"alert alert-block alert-success\">\n",
    "<b>Успех:</b> Если все сделано отлично\n",
    "</div>\n",
    "\n",
    "<div class=\"alert alert-block alert-info\">\n",
    "<b>Совет: </b> Если можно немного улучшить\n",
    "</div>\n",
    "\n",
    "<div class=\"alert alert-block alert-danger\">\n",
    "<b>Ошибка:</b> Если требуются исправления. Работа не может быть принята с красными комментариями.\n",
    "</div>\n",
    "\n",
    "-------------------\n",
    "\n",
    "Будет очень хорошо, если ты будешь помечать свои действия следующим образом:\n",
    "<div class=\"alert alert-block alert-warning\">\n",
    "<b>Комментарий студента:</b> ...\n",
    "</div>\n",
    "\n",
    "<div class=\"alert alert-block alert-warning\">\n",
    "<b>Изменения:</b> Были внесены следующие изменения ...\n",
    "</div>\n",
    "\n",
    "### <font color='orange'>Общее впечатление</font>\n",
    "* Большое спасибо за проделанную работу. Видно, что приложено много усилий.\n",
    "* Выводы и рассуждения получились содержательными, их было интересно читать.\n",
    "* Радует, что тебе удалось разобраться с техникой бутстрапа.\n",
    "* Отлично, что доверительный интервал и риск убытков посчитаны верно.\n",
    "* Редко, кто сдает эту работу с первого раза, молодец!\n",
    "* Проект может быть зачтен, но я его отправлю назад, чтобы у тебя была возможность задать вопросы и внести правки, при желании. Однако, ты можешь просто вернуть проект в таком же виде и я его зачту."
   ]
  },
  {
   "cell_type": "markdown",
   "metadata": {},
   "source": [
    "### <font color='orange'>Общее впечатление (ревью 2)</font>\n",
    "* Проект зачтен!\n",
    "* Удачи в дальнейшем обучении и следующих работах!"
   ]
  },
  {
   "cell_type": "markdown",
   "metadata": {},
   "source": [
    "# Выбор локации для скважины"
   ]
  },
  {
   "cell_type": "markdown",
   "metadata": {},
   "source": [
    "Допустим, вы работаете в добывающей компании «ГлавРосГосНефть». Нужно решить, где бурить новую скважину.\n",
    "\n",
    "Вам предоставлены пробы нефти в трёх регионах: в каждом 10 000 месторождений, где измерили качество нефти и объём её запасов. Постройте модель машинного обучения, которая поможет определить регион, где добыча принесёт наибольшую прибыль. Проанализируйте возможную прибыль и риски техникой *Bootstrap.*\n",
    "\n",
    "Шаги для выбора локации:\n",
    "\n",
    "- В избранном регионе ищут месторождения, для каждого определяют значения признаков;\n",
    "- Строят модель и оценивают объём запасов;\n",
    "- Выбирают месторождения с самым высокими оценками значений. Количество месторождений зависит от бюджета компании и стоимости разработки одной скважины;\n",
    "- Прибыль равна суммарной прибыли отобранных месторождений."
   ]
  },
  {
   "cell_type": "markdown",
   "metadata": {},
   "source": [
    "## Загрузка и подготовка данных"
   ]
  },
  {
   "cell_type": "code",
   "execution_count": 1,
   "metadata": {},
   "outputs": [],
   "source": [
    "import pandas as pd\n",
    "import numpy as np\n",
    "import scipy.stats as st\n",
    "\n",
    "from sklearn.linear_model import LinearRegression\n",
    "\n",
    "from sklearn.metrics import mean_squared_error\n",
    "from sklearn.model_selection import train_test_split\n",
    "from sklearn.preprocessing import MinMaxScaler\n",
    "\n",
    "import matplotlib.pyplot as plt\n",
    "\n",
    "import warnings\n",
    "warnings.filterwarnings(\"ignore\")"
   ]
  },
  {
   "cell_type": "markdown",
   "metadata": {},
   "source": [
    "<div class=\"alert alert-block alert-success\">\n",
    "<b>Успех:</b> Отлично, что все импорты собраны в первой ячейке ноутбука! Если у того, кто будет запускать твой ноутбук будут отсутствовать некоторые библиотеки, то он это увидит сразу, а не в процессе!\n",
    "</div>"
   ]
  },
  {
   "cell_type": "code",
   "execution_count": 2,
   "metadata": {},
   "outputs": [],
   "source": [
    "df1 = pd.read_csv('/datasets/geo_data_0.csv')\n",
    "df2 = pd.read_csv('/datasets/geo_data_1.csv')\n",
    "df3 = pd.read_csv('/datasets/geo_data_2.csv')"
   ]
  },
  {
   "cell_type": "code",
   "execution_count": 3,
   "metadata": {},
   "outputs": [],
   "source": [
    "def exploratory(data):\n",
    "    print(f\"Shape:    {data.shape}\")\n",
    "    print(\"Na's:         \", data.isna().sum().sum())\n",
    "    print(\"duplicates:   \", data.duplicated().sum())\n",
    "    print(\"\\nРаспределение признаков:\")\n",
    "    data[[\"f0\",\"f1\",\"f2\"]].hist()\n",
    "    plt.show()"
   ]
  },
  {
   "cell_type": "code",
   "execution_count": 4,
   "metadata": {},
   "outputs": [
    {
     "name": "stdout",
     "output_type": "stream",
     "text": [
      "Shape:    (100000, 5)\n",
      "Na's:          0\n",
      "duplicates:    0\n",
      "\n",
      "Распределение признаков:\n"
     ]
    },
    {
     "data": {
      "image/png": "[encoded data removed]",
      "text/plain": [
       "<Figure size 432x288 with 4 Axes>"
      ]
     },
     "metadata": {
      "needs_background": "light"
     },
     "output_type": "display_data"
    }
   ],
   "source": [
    "exploratory(df1)"
   ]
  },
  {
   "cell_type": "code",
   "execution_count": 5,
   "metadata": {},
   "outputs": [
    {
     "name": "stdout",
     "output_type": "stream",
     "text": [
      "Shape:    (100000, 5)\n",
      "Na's:          0\n",
      "duplicates:    0\n",
      "\n",
      "Распределение признаков:\n"
     ]
    },
    {
     "data": {
      "image/png": "[encoded data removed]",
      "text/plain": [
       "<Figure size 432x288 with 4 Axes>"
      ]
     },
     "metadata": {
      "needs_background": "light"
     },
     "output_type": "display_data"
    }
   ],
   "source": [
    "exploratory(df2)"
   ]
  },
  {
   "cell_type": "code",
   "execution_count": 6,
   "metadata": {},
   "outputs": [
    {
     "name": "stdout",
     "output_type": "stream",
     "text": [
      "Shape:    (100000, 5)\n",
      "Na's:          0\n",
      "duplicates:    0\n",
      "\n",
      "Распределение признаков:\n"
     ]
    },
    {
     "data": {
      "image/png": "[encoded data removed]",
      "text/plain": [
       "<Figure size 432x288 with 4 Axes>"
      ]
     },
     "metadata": {
      "needs_background": "light"
     },
     "output_type": "display_data"
    }
   ],
   "source": [
    "exploratory(df3)"
   ]
  },
  {
   "cell_type": "markdown",
   "metadata": {},
   "source": [
    "### Вывод по шагу 1.\n",
    "Проведён исследовательский анализ данных, проверены датасеты на наличие пропусков, дупликатов, а также посмотренны на распределения признаков, которые, в общем, оказались распределены нормально (кроме f2 во втором регионе)."
   ]
  },
  {
   "cell_type": "markdown",
   "metadata": {},
   "source": [
    "<div class=\"alert alert-block alert-success\">\n",
    "<b>Успех:</b> Данные загружены и осмотрены корректно.\n",
    "</div>"
   ]
  },
  {
   "cell_type": "markdown",
   "metadata": {},
   "source": [
    "## Обучение и проверка модели"
   ]
  },
  {
   "cell_type": "code",
   "execution_count": 7,
   "metadata": {},
   "outputs": [],
   "source": [
    "def split_and_train(data):\n",
    "    features = data.drop([\"product\",\"id\"], axis=1)\n",
    "    target = data[\"product\"]\n",
    "    features_train, features_valid, target_train, target_valid = train_test_split(features, \n",
    "                                                                                  target, \n",
    "                                                                                  test_size=0.25, \n",
    "                                                                                  random_state=1)\n",
    "    scaler = MinMaxScaler()\n",
    "    features_train = scaler.fit_transform(features_train)\n",
    "    features_valid = scaler.transform(features_valid)\n",
    "    \n",
    "    lr = LinearRegression(normalize=False)\n",
    "    lr.fit(features_train, target_train)\n",
    "    predictions = lr.predict(features_valid)\n",
    "    predictions = pd.Series(predictions)\n",
    "    rmse = (mean_squared_error(predictions, target_valid))**(0.5)\n",
    "    average_product = sum(predictions) / len(predictions)\n",
    "    \n",
    "    print(\"RMSE: {0:.2f}\".format(rmse))\n",
    "    print(\"Average product: {0:.2f}\".format(average_product))\n",
    "    \n",
    "    return (predictions, target_valid.reset_index(drop=True), rmse)"
   ]
  },
  {
   "cell_type": "markdown",
   "metadata": {},
   "source": [
    "<div class=\"alert alert-block alert-success\">\n",
    "<b>Успех:</b> Отлично, что scaler был обучен только на треине!\n",
    "</div>"
   ]
  },
  {
   "cell_type": "code",
   "execution_count": 8,
   "metadata": {},
   "outputs": [
    {
     "name": "stdout",
     "output_type": "stream",
     "text": [
      "Регион 1:\n",
      "\n",
      "---------\n",
      "RMSE: 37.74\n",
      "Average product: 92.49\n",
      "-----------------------\n",
      "\n",
      "\n",
      "Регион 2:\n",
      "\n",
      "---------\n",
      "RMSE: 0.89\n",
      "Average product: 69.12\n",
      "-----------------------\n",
      "\n",
      "\n",
      "Регион 3:\n",
      "\n",
      "---------\n",
      "RMSE: 39.87\n",
      "Average product: 94.96\n",
      "-----------------------\n",
      "\n",
      "\n"
     ]
    }
   ],
   "source": [
    "i = 1\n",
    "for region in [df1, df2, df3]:\n",
    "    print(f\"Регион {i}:\")\n",
    "    print(\"\\n---------\")\n",
    "    split_and_train(region)\n",
    "    print(\"-----------------------\\n\\n\")\n",
    "    i+=1"
   ]
  },
  {
   "cell_type": "code",
   "execution_count": 9,
   "metadata": {},
   "outputs": [
    {
     "name": "stdout",
     "output_type": "stream",
     "text": [
      "RMSE: 37.74\n",
      "Average product: 92.49\n",
      "RMSE: 0.89\n",
      "Average product: 69.12\n",
      "RMSE: 39.87\n",
      "Average product: 94.96\n"
     ]
    }
   ],
   "source": [
    "# Save predictions, true values and RMSE\n",
    "predictions_1, validation_1, rmse_1 = split_and_train(df1)\n",
    "predictions_2, validation_2, rmse_2 = split_and_train(df2)\n",
    "predictions_3, validation_3, rmse_3 = split_and_train(df3)"
   ]
  },
  {
   "cell_type": "markdown",
   "metadata": {},
   "source": [
    "<div class=\"alert alert-block alert-success\">\n",
    "<b>Успех:</b> Модели обучены корректно. Радует, что ты активно используешь функции. Это помогает избежать дублирования кода, а значит уменьшает вероятность совершить ошибку/опечатку!\n",
    "</div>"
   ]
  },
  {
   "cell_type": "markdown",
   "metadata": {},
   "source": [
    "### Вывод по шагу 2.\n",
    "Данные предсказаний о количестве нефти по сумме примерно совпадают по сумме с предсказанными значениями. Лучше всего модель предсказала запасы во втором регионе (RMSE - 0.88), далее в первом и третьем соотвественно.\n",
    "\n",
    "Возможно утеряные данные из второго региона сказались на модели и она достаточно сильно переобучилась.\n",
    "\n",
    "Но из-за утери данных и малого запаса в среднем на меторождение не имеет смысла рассматривать второе месторождение как прибыльное.\n",
    "\n",
    "Изучим все регионы на риски и прибыль, но в конечном итоге будем выбирать между 1 и 3 регионом."
   ]
  },
  {
   "cell_type": "markdown",
   "metadata": {},
   "source": [
    "## Подготовка к расчёту прибыли"
   ]
  },
  {
   "cell_type": "code",
   "execution_count": 10,
   "metadata": {},
   "outputs": [],
   "source": [
    "budget = 10**10\n",
    "chosen_points = 500\n",
    "best_points = 200\n",
    "price_per_barrel = 450"
   ]
  },
  {
   "cell_type": "code",
   "execution_count": 11,
   "metadata": {},
   "outputs": [
    {
     "name": "stdout",
     "output_type": "stream",
     "text": [
      "Средняя прибыль на лучшую точку - 50000000.0 тыс.руб.\n",
      "Средний объем нефти на точку - 111111.11111111111 тыс. барелей\n",
      "Средний объем нефти на регион - 22222222.222222224 тыс. барелей\n"
     ]
    }
   ],
   "source": [
    "average_profit_per_point = budget / best_points\n",
    "print('Средняя прибыль на лучшую точку -', average_profit_per_point, 'тыс.руб.')\n",
    "\n",
    "average_barrels_per_point = average_profit_per_point  / price_per_barrel\n",
    "print('Средний объем нефти на точку -',average_barrels_per_point, 'тыс. барелей')\n",
    "\n",
    "average_barrels = budget / price_per_barrel\n",
    "print('Средний объем нефти на регион -',average_barrels, 'тыс. барелей')"
   ]
  },
  {
   "cell_type": "code",
   "execution_count": 12,
   "metadata": {},
   "outputs": [
    {
     "name": "stdout",
     "output_type": "stream",
     "text": [
      "Средний запас фактичеcкой нефти на скважину в регионе 1: 92.50000000000001\n",
      "Средний запас фактичеcкой нефти на скважину в регионе 2: 68.82500000000002\n",
      "Средний запас фактичеcкой нефти на скважину в регионе 3: 95.00000000000004\n"
     ]
    }
   ],
   "source": [
    "print('Средний запас фактичеcкой нефти на скважину в регионе 1:', df1['product'].mean())\n",
    "print('Средний запас фактичеcкой нефти на скважину в регионе 2:', df2['product'].mean())\n",
    "print('Средний запас фактичеcкой нефти на скважину в регионе 3:', df3['product'].mean())"
   ]
  },
  {
   "cell_type": "markdown",
   "metadata": {},
   "source": [
    "### Вывод по шагу 3.\n",
    "Была подготовлена средняя оценка прибили за скважину и средний объем на скважину. И создана функция по расчету прибыли.\n",
    "\n",
    "Анализ средних объемов на скважину для каждого региона следующий.\n",
    "\n",
    "Изучены средние фактические запасы. Для первого и третьего - высокая вероятность окупить затраты. Разброс значений вокруг среднего 92.5 и 95 говорит нам о том, что существует достаточно много скважин, где запасы больше необходимого среднего."
   ]
  },
  {
   "cell_type": "markdown",
   "metadata": {},
   "source": [
    "<div class=\"alert alert-block alert-info\">\n",
    "\n",
    "<b>Совет: </b> В названиях константных переменных лучше использовать только БОЛЬШИЕ буквы. Это соглашение между программистами: https://pythonworld.ru/osnovy/pep-8-rukovodstvo-po-napisaniyu-koda-na-python.html#id29 .\n",
    "</div>\n",
    "\n",
    "<div class=\"alert alert-block alert-success\">\n",
    "<b>Успех:</b> Точка безубыточности найдена верно, сравнение проведено!\n",
    "</div>"
   ]
  },
  {
   "cell_type": "markdown",
   "metadata": {},
   "source": [
    "## Расчёт прибыли и рисков "
   ]
  },
  {
   "cell_type": "code",
   "execution_count": 13,
   "metadata": {},
   "outputs": [],
   "source": [
    "def profit_1(predictions, target):\n",
    "    top_preds = predictions.sort_values(ascending=False)\n",
    "    top_target = target[top_preds.index][:200]\n",
    "    revenue = top_target.sum() * (price_per_barrel * 10**3 )\n",
    "    return revenue - budget"
   ]
  },
  {
   "cell_type": "code",
   "execution_count": 14,
   "metadata": {},
   "outputs": [],
   "source": [
    "state = np.random.RandomState(12345)"
   ]
  },
  {
   "cell_type": "code",
   "execution_count": 15,
   "metadata": {},
   "outputs": [],
   "source": [
    "def find_conf_interval_and_loss_risk(predictions, target):\n",
    "    revenue = []\n",
    "    for _ in range(1000):\n",
    "        target_sample = target.sample(500, replace=True, random_state=state)\n",
    "        predictions_sample = predictions[target_sample.index]\n",
    "        revenue.append(profit_1(predictions_sample, target_sample))\n",
    "        \n",
    "    lower = int(np.percentile(revenue, 2.5))\n",
    "    higher = int(np.percentile(revenue, 97.5))\n",
    "    mean_revenue = int(sum(revenue) / len(revenue))\n",
    "    risk = st.percentileofscore(revenue, 0)\n",
    "\n",
    "    return ((lower, higher), mean_revenue, risk)"
   ]
  },
  {
   "cell_type": "markdown",
   "metadata": {},
   "source": [
    "<div class=\"alert alert-block alert-success\">\n",
    "<b>Успех:</b> Отлично, что для подсчета доверительного интервала использовался именно метод квантилей!\n",
    "</div>"
   ]
  },
  {
   "cell_type": "code",
   "execution_count": 16,
   "metadata": {},
   "outputs": [
    {
     "name": "stdout",
     "output_type": "stream",
     "text": [
      "Регион 1:\n",
      "\n",
      "-----------------------------------------\n",
      "Среднее: 458100401\n",
      "95% доверительный интервал: (-91938453, 1015824888)\n",
      "Риск потерь: 4.6000000000000005\n",
      "-----------------------------------------\n",
      "\n",
      "\n",
      "Регион 2:\n",
      "\n",
      "-----------------------------------------\n",
      "Среднее: 533056709\n",
      "95% доверительный интервал: (99430448, 973064424)\n",
      "Риск потерь: 0.6000000000000001\n",
      "-----------------------------------------\n",
      "\n",
      "\n",
      "Регион 3:\n",
      "\n",
      "-----------------------------------------\n",
      "Среднее: 411076672\n",
      "95% доверительный интервал: (-138944979, 959378918)\n",
      "Риск потерь: 7.2\n",
      "-----------------------------------------\n",
      "\n",
      "\n"
     ]
    }
   ],
   "source": [
    "i = 1\n",
    "for preds, target in zip([predictions_1, predictions_2, predictions_3], \n",
    "                         [validation_1, validation_2, validation_3]):\n",
    "    interval, mean_revenue, risk = find_conf_interval_and_loss_risk(preds, target)\n",
    "    print(f\"Регион {i}:\")\n",
    "    print(\"\\n-----------------------------------------\")\n",
    "    print(f\"Среднее: {mean_revenue}\")\n",
    "    print(f\"95% доверительный интервал: {interval}\")\n",
    "    print(f\"Риск потерь: {risk}\")\n",
    "    print(\"-----------------------------------------\\n\\n\")\n",
    "    i+=1"
   ]
  },
  {
   "cell_type": "markdown",
   "metadata": {},
   "source": [
    "### Вывод по шагу 4.\n",
    "Была проведена процедура бутстрэпа и найден 95% доверительный интервал для среднего объема нефти в скважинах. \n",
    "\n",
    "Наиболее перспективным для разработки представляется регион № 2, поскольку риски убытков наименьшие, а средняя прибыль наибольшая."
   ]
  },
  {
   "cell_type": "markdown",
   "metadata": {},
   "source": [
    "<div class=\"alert alert-block alert-success\">\n",
    "<b>Успех:</b> Все статистики посчитаны корректно. С выбором региона согласен.\n",
    "</div>"
   ]
  },
  {
   "cell_type": "markdown",
   "metadata": {},
   "source": [
    "## Чек-лист готовности проекта"
   ]
  },
  {
   "cell_type": "markdown",
   "metadata": {},
   "source": [
    "Поставьте 'x' в выполненных пунктах. Далее нажмите Shift+Enter."
   ]
  },
  {
   "cell_type": "markdown",
   "metadata": {},
   "source": [
    "- [x]  Jupyter Notebook открыт\n",
    "- [x]  Весь код выполняется без ошибок\n",
    "- [x]  Ячейки с кодом расположены в порядке исполнения\n",
    "- [x]  Выполнен шаг 1: данные подготовлены\n",
    "- [x]  Выполнен шаг 2: модели обучены и проверены\n",
    "    - [x]  Данные корректно разбиты на обучающую и валидационную выборки\n",
    "    - [x]  Модели обучены, предсказания сделаны\n",
    "    - [x]  Предсказания и правильные ответы на валидационной выборке сохранены\n",
    "    - [x]  На экране напечатаны результаты\n",
    "    - [x]  Сделаны выводы\n",
    "- [x]  Выполнен шаг 3: проведена подготовка к расчёту прибыли\n",
    "    - [x]  Для всех ключевых значений созданы константы Python\n",
    "    - [x]  Посчитано минимальное среднее количество продукта в месторождениях региона, достаточное для разработки\n",
    "    - [x]  По предыдущему пункту сделаны выводы\n",
    "    - [x]  Написана функция расчёта прибыли\n",
    "- [x]  Выполнен шаг 4: посчитаны риски и прибыль\n",
    "    - [x]  Проведена процедура *Bootstrap*\n",
    "    - [x]  Все параметры бутстрепа соответствуют условию\n",
    "    - [x]  Найдены все нужные величины\n",
    "    - [x]  Предложен регион для разработки месторождения\n",
    "    - [x]  Выбор региона обоснован"
   ]
  },
  {
   "cell_type": "code",
   "execution_count": null,
   "metadata": {},
   "outputs": [],
   "source": []
  }
 ],
 "metadata": {
  "ExecuteTimeLog": [
   {
    "duration": 1577,
    "start_time": "2022-11-16T08:35:55.067Z"
   },
   {
    "duration": 1646,
    "start_time": "2022-11-16T08:35:56.646Z"
   },
   {
    "duration": 3,
    "start_time": "2022-11-16T08:35:58.294Z"
   },
   {
    "duration": 338,
    "start_time": "2022-11-16T08:35:58.299Z"
   },
   {
    "duration": 328,
    "start_time": "2022-11-16T08:35:58.639Z"
   },
   {
    "duration": 399,
    "start_time": "2022-11-16T08:35:58.968Z"
   },
   {
    "duration": 5,
    "start_time": "2022-11-16T08:35:59.369Z"
   },
   {
    "duration": 431,
    "start_time": "2022-11-16T08:35:59.375Z"
   },
   {
    "duration": 600,
    "start_time": "2022-11-16T08:35:59.808Z"
   },
   {
    "duration": 88,
    "start_time": "2022-11-16T08:36:00.410Z"
   },
   {
    "duration": 117,
    "start_time": "2022-11-16T08:36:00.499Z"
   },
   {
    "duration": 25,
    "start_time": "2022-11-16T08:36:00.618Z"
   },
   {
    "duration": 24,
    "start_time": "2022-11-16T08:36:00.645Z"
   },
   {
    "duration": 23,
    "start_time": "2022-11-16T08:36:00.671Z"
   },
   {
    "duration": 17,
    "start_time": "2022-11-16T08:36:00.696Z"
   },
   {
    "duration": 4050,
    "start_time": "2022-11-16T08:36:00.715Z"
   },
   {
    "duration": 1294,
    "start_time": "2022-11-16T08:37:23.095Z"
   },
   {
    "duration": 345,
    "start_time": "2022-11-16T08:37:24.391Z"
   },
   {
    "duration": 4,
    "start_time": "2022-11-16T08:37:24.738Z"
   },
   {
    "duration": 355,
    "start_time": "2022-11-16T08:37:24.743Z"
   },
   {
    "duration": 334,
    "start_time": "2022-11-16T08:37:25.100Z"
   },
   {
    "duration": 316,
    "start_time": "2022-11-16T08:37:25.435Z"
   },
   {
    "duration": 6,
    "start_time": "2022-11-16T08:37:25.752Z"
   },
   {
    "duration": 540,
    "start_time": "2022-11-16T08:37:25.760Z"
   },
   {
    "duration": 507,
    "start_time": "2022-11-16T08:37:26.304Z"
   },
   {
    "duration": 83,
    "start_time": "2022-11-16T08:37:26.813Z"
   },
   {
    "duration": 97,
    "start_time": "2022-11-16T08:37:26.900Z"
   },
   {
    "duration": 6,
    "start_time": "2022-11-16T08:37:26.999Z"
   },
   {
    "duration": 6,
    "start_time": "2022-11-16T08:37:27.007Z"
   },
   {
    "duration": 8,
    "start_time": "2022-11-16T08:37:27.015Z"
   },
   {
    "duration": 7,
    "start_time": "2022-11-16T08:37:27.025Z"
   },
   {
    "duration": 3918,
    "start_time": "2022-11-16T08:37:27.033Z"
   },
   {
    "duration": 3,
    "start_time": "2022-11-16T09:01:51.070Z"
   },
   {
    "duration": 4,
    "start_time": "2022-11-16T09:01:52.498Z"
   },
   {
    "duration": 7,
    "start_time": "2022-11-16T09:01:54.473Z"
   },
   {
    "duration": 8,
    "start_time": "2022-11-16T09:02:05.124Z"
   },
   {
    "duration": 3,
    "start_time": "2022-11-16T09:02:21.998Z"
   },
   {
    "duration": 1348,
    "start_time": "2022-11-16T09:04:38.870Z"
   },
   {
    "duration": 353,
    "start_time": "2022-11-16T09:04:40.219Z"
   },
   {
    "duration": 3,
    "start_time": "2022-11-16T09:04:40.574Z"
   },
   {
    "duration": 341,
    "start_time": "2022-11-16T09:04:40.578Z"
   },
   {
    "duration": 343,
    "start_time": "2022-11-16T09:04:40.921Z"
   },
   {
    "duration": 335,
    "start_time": "2022-11-16T09:04:41.266Z"
   },
   {
    "duration": 5,
    "start_time": "2022-11-16T09:04:41.602Z"
   },
   {
    "duration": 495,
    "start_time": "2022-11-16T09:04:41.609Z"
   },
   {
    "duration": 499,
    "start_time": "2022-11-16T09:04:42.106Z"
   },
   {
    "duration": 2,
    "start_time": "2022-11-16T09:04:42.607Z"
   },
   {
    "duration": 104,
    "start_time": "2022-11-16T09:04:42.698Z"
   },
   {
    "duration": 5,
    "start_time": "2022-11-16T09:04:42.805Z"
   },
   {
    "duration": 3,
    "start_time": "2022-11-16T09:04:42.812Z"
   },
   {
    "duration": 4,
    "start_time": "2022-11-16T09:04:42.818Z"
   },
   {
    "duration": 6,
    "start_time": "2022-11-16T09:04:42.823Z"
   },
   {
    "duration": 128,
    "start_time": "2022-11-16T09:04:42.830Z"
   },
   {
    "duration": 4,
    "start_time": "2022-11-16T09:07:04.713Z"
   },
   {
    "duration": 3,
    "start_time": "2022-11-16T09:07:06.528Z"
   },
   {
    "duration": 6,
    "start_time": "2022-11-16T09:07:07.991Z"
   },
   {
    "duration": 22,
    "start_time": "2022-11-16T09:07:15.395Z"
   },
   {
    "duration": 3,
    "start_time": "2022-11-16T09:09:34.642Z"
   },
   {
    "duration": 3,
    "start_time": "2022-11-16T09:09:36.067Z"
   },
   {
    "duration": 4,
    "start_time": "2022-11-16T09:09:37.270Z"
   },
   {
    "duration": 3953,
    "start_time": "2022-11-16T09:09:39.604Z"
   },
   {
    "duration": 3,
    "start_time": "2022-11-16T09:11:17.482Z"
   },
   {
    "duration": 3,
    "start_time": "2022-11-16T09:11:19.005Z"
   },
   {
    "duration": 4,
    "start_time": "2022-11-16T09:11:20.219Z"
   },
   {
    "duration": 4036,
    "start_time": "2022-11-16T09:11:22.683Z"
   },
   {
    "duration": 4042,
    "start_time": "2022-11-16T09:11:49.051Z"
   },
   {
    "duration": 4267,
    "start_time": "2022-11-16T09:12:02.523Z"
   },
   {
    "duration": 3,
    "start_time": "2022-11-16T09:12:22.148Z"
   },
   {
    "duration": 4,
    "start_time": "2022-11-16T09:12:23.399Z"
   },
   {
    "duration": 5,
    "start_time": "2022-11-16T09:12:24.493Z"
   },
   {
    "duration": 4193,
    "start_time": "2022-11-16T09:12:25.937Z"
   },
   {
    "duration": 3,
    "start_time": "2022-11-16T09:14:06.058Z"
   },
   {
    "duration": 5,
    "start_time": "2022-11-16T09:14:07.702Z"
   },
   {
    "duration": 6,
    "start_time": "2022-11-16T09:14:09.806Z"
   },
   {
    "duration": 3,
    "start_time": "2022-11-16T09:14:12.210Z"
   },
   {
    "duration": 3,
    "start_time": "2022-11-16T09:14:14.104Z"
   },
   {
    "duration": 4063,
    "start_time": "2022-11-16T09:14:18.234Z"
   },
   {
    "duration": 4,
    "start_time": "2022-11-16T09:14:45.010Z"
   },
   {
    "duration": 4,
    "start_time": "2022-11-16T09:14:46.624Z"
   },
   {
    "duration": 3995,
    "start_time": "2022-11-16T09:14:49.638Z"
   },
   {
    "duration": 5,
    "start_time": "2022-11-16T09:15:00.721Z"
   },
   {
    "duration": 3,
    "start_time": "2022-11-16T09:15:32.675Z"
   },
   {
    "duration": 3,
    "start_time": "2022-11-16T09:15:34.099Z"
   },
   {
    "duration": 6,
    "start_time": "2022-11-16T09:15:35.993Z"
   },
   {
    "duration": 3958,
    "start_time": "2022-11-16T09:15:38.517Z"
   },
   {
    "duration": 1341,
    "start_time": "2022-11-16T09:16:47.398Z"
   },
   {
    "duration": 360,
    "start_time": "2022-11-16T09:16:48.741Z"
   },
   {
    "duration": 4,
    "start_time": "2022-11-16T09:16:49.103Z"
   },
   {
    "duration": 375,
    "start_time": "2022-11-16T09:16:49.109Z"
   },
   {
    "duration": 346,
    "start_time": "2022-11-16T09:16:49.486Z"
   },
   {
    "duration": 352,
    "start_time": "2022-11-16T09:16:49.834Z"
   },
   {
    "duration": 9,
    "start_time": "2022-11-16T09:16:50.188Z"
   },
   {
    "duration": 498,
    "start_time": "2022-11-16T09:16:50.199Z"
   },
   {
    "duration": 508,
    "start_time": "2022-11-16T09:16:50.699Z"
   },
   {
    "duration": 89,
    "start_time": "2022-11-16T09:16:51.209Z"
   },
   {
    "duration": 102,
    "start_time": "2022-11-16T09:16:51.300Z"
   },
   {
    "duration": 20,
    "start_time": "2022-11-16T09:16:51.403Z"
   },
   {
    "duration": 7,
    "start_time": "2022-11-16T09:16:51.424Z"
   },
   {
    "duration": 4,
    "start_time": "2022-11-16T09:16:51.434Z"
   },
   {
    "duration": 4,
    "start_time": "2022-11-16T09:16:51.440Z"
   },
   {
    "duration": 4056,
    "start_time": "2022-11-16T09:16:51.446Z"
   },
   {
    "duration": 1310,
    "start_time": "2022-11-16T09:23:17.803Z"
   },
   {
    "duration": 354,
    "start_time": "2022-11-16T09:23:19.115Z"
   },
   {
    "duration": 4,
    "start_time": "2022-11-16T09:23:19.471Z"
   },
   {
    "duration": 356,
    "start_time": "2022-11-16T09:23:19.476Z"
   },
   {
    "duration": 328,
    "start_time": "2022-11-16T09:23:19.835Z"
   },
   {
    "duration": 350,
    "start_time": "2022-11-16T09:23:20.164Z"
   },
   {
    "duration": 5,
    "start_time": "2022-11-16T09:23:20.516Z"
   },
   {
    "duration": 480,
    "start_time": "2022-11-16T09:23:20.523Z"
   },
   {
    "duration": 600,
    "start_time": "2022-11-16T09:23:21.005Z"
   },
   {
    "duration": 90,
    "start_time": "2022-11-16T09:23:21.607Z"
   },
   {
    "duration": 101,
    "start_time": "2022-11-16T09:23:21.703Z"
   },
   {
    "duration": 12,
    "start_time": "2022-11-16T09:23:21.806Z"
   },
   {
    "duration": 5,
    "start_time": "2022-11-16T09:23:21.820Z"
   },
   {
    "duration": 4,
    "start_time": "2022-11-16T09:23:21.827Z"
   },
   {
    "duration": 6,
    "start_time": "2022-11-16T09:23:21.832Z"
   },
   {
    "duration": 4024,
    "start_time": "2022-11-16T09:23:21.840Z"
   }
  ],
  "kernelspec": {
   "display_name": "Python 3 (ipykernel)",
   "language": "python",
   "name": "python3"
  },
  "language_info": {
   "codemirror_mode": {
    "name": "ipython",
    "version": 3
   },
   "file_extension": ".py",
   "mimetype": "text/x-python",
   "name": "python",
   "nbconvert_exporter": "python",
   "pygments_lexer": "ipython3",
   "version": "3.9.5"
  },
  "toc": {
   "base_numbering": 1,
   "nav_menu": {},
   "number_sections": true,
   "sideBar": true,
   "skip_h1_title": true,
   "title_cell": "Table of Contents",
   "title_sidebar": "Contents",
   "toc_cell": false,
   "toc_position": {},
   "toc_section_display": true,
   "toc_window_display": false
  }
 },
 "nbformat": 4,
 "nbformat_minor": 2
}
