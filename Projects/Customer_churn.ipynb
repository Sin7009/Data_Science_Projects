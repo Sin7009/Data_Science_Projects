{
 "cells": [
  {
   "cell_type": "markdown",
   "metadata": {},
   "source": [
    "Привет! меня зовут Люман Аблаев. Сегодня я проверю твой проект.\n",
    "<br> Дальнейшее общение будет происходить на \"ты\" если это не вызывает никаких проблем.\n",
    "<br> Желательно реагировать на каждый мой комментарий ('исправил', 'не понятно как исправить ошибку', ...)\n",
    "<br> Пожалуйста, не удаляй комментарии ревьюера, так как они повышают качество повторного ревью.\n",
    "\n",
    "Комментарии будут в <font color='green'>зеленой</font>, <font color='blue'>синей</font> или <font color='red'>красной</font> рамках:чйв\n",
    "\n",
    "\n",
    "<div class=\"alert alert-block alert-success\">\n",
    "<b>Успех:</b> Если все сделано отлично\n",
    "</div>\n",
    "\n",
    "<div class=\"alert alert-block alert-info\">\n",
    "<b>Совет: </b> Если можно немного улучшить\n",
    "</div>\n",
    "\n",
    "<div class=\"alert alert-block alert-danger\">\n",
    "<b>Ошибка:</b> Если требуются исправления. Работа не может быть принята с красными комментариями.\n",
    "</div>\n",
    "\n",
    "-------------------\n",
    "\n",
    "Будет очень хорошо, если ты будешь помечать свои действия следующим образом:\n",
    "<div class=\"alert alert-block alert-warning\">\n",
    "<b>Комментарий студента:</b> ..\n",
    "</div>\n",
    "<div class=\"alert alert-block alert-warning\">\n",
    "<b>Изменения:</b> Были внесены следующие изменения ...\n",
    "</div>\n",
    "\n",
    "<font color='orange' style='font-size:24px; font-weight:bold'>Полезные ссылки</font>\n",
    "* Очень интересная и полезная статья: https://dyakonov.org/2021/05/27/imbalance/\n",
    "\n",
    "<font color='orange' style='font-size:24px; font-weight:bold'>Общее впечатление</font>\n",
    "* Спасибо за  качественную работу, мне она очень понравилась\n",
    "- Я оставил некоторые советы, надеюсь они будут полезными или интересными.\n",
    "- Особенно советую обратить внимание, на то, что проект имеет большое количество повторяющегося кода, которое лаконично можно было бы избежать\n",
    "- Тебе удалось справиться с задачей дисбаланса классов, поздравляю!\n",
    "- Отправляю проект назад, чтобы у тебя была возможность задать вопросы, если они у тебя есть. Если их нет, то можешь просто отправить проект еще раз и я его зачту"
   ]
  },
  {
   "cell_type": "markdown",
   "metadata": {
    "toc": true
   },
   "source": [
    "<h1>Содержание<span class=\"tocSkip\"></span></h1>\n",
    "<div class=\"toc\"><ul class=\"toc-item\"><li><span><a href=\"#Подготовка-данных\" data-toc-modified-id=\"Подготовка-данных-1\"><span class=\"toc-item-num\">1&nbsp;&nbsp;</span>Подготовка данных</a></span><ul class=\"toc-item\"><li><span><a href=\"#Вывод-по-шагу-1\" data-toc-modified-id=\"Вывод-по-шагу-1-1.1\"><span class=\"toc-item-num\">1.1&nbsp;&nbsp;</span>Вывод по шагу 1</a></span></li></ul></li><li><span><a href=\"#Исследование-задачи\" data-toc-modified-id=\"Исследование-задачи-2\"><span class=\"toc-item-num\">2&nbsp;&nbsp;</span>Исследование задачи</a></span><ul class=\"toc-item\"><li><span><a href=\"#Вывод-по-шагу-2\" data-toc-modified-id=\"Вывод-по-шагу-2-2.1\"><span class=\"toc-item-num\">2.1&nbsp;&nbsp;</span>Вывод по шагу 2</a></span></li></ul></li><li><span><a href=\"#Борьба-с-дисбалансом\" data-toc-modified-id=\"Борьба-с-дисбалансом-3\"><span class=\"toc-item-num\">3&nbsp;&nbsp;</span>Борьба с дисбалансом</a></span><ul class=\"toc-item\"><li><span><a href=\"#Вывод-по-шагу-3\" data-toc-modified-id=\"Вывод-по-шагу-3-3.1\"><span class=\"toc-item-num\">3.1&nbsp;&nbsp;</span>Вывод по шагу 3</a></span></li></ul></li><li><span><a href=\"#Тестирование-модели\" data-toc-modified-id=\"Тестирование-модели-4\"><span class=\"toc-item-num\">4&nbsp;&nbsp;</span>Тестирование модели</a></span><ul class=\"toc-item\"><li><span><a href=\"#Вывод-по-шагу-4\" data-toc-modified-id=\"Вывод-по-шагу-4-4.1\"><span class=\"toc-item-num\">4.1&nbsp;&nbsp;</span>Вывод по шагу 4</a></span></li></ul></li><li><span><a href=\"#Итоговый-вывод\" data-toc-modified-id=\"Итоговый-вывод-5\"><span class=\"toc-item-num\">5&nbsp;&nbsp;</span>Итоговый вывод</a></span></li><li><span><a href=\"#Чек-лист-готовности-проекта\" data-toc-modified-id=\"Чек-лист-готовности-проекта-6\"><span class=\"toc-item-num\">6&nbsp;&nbsp;</span>Чек-лист готовности проекта</a></span></li></ul></div>"
   ]
  },
  {
   "cell_type": "markdown",
   "metadata": {},
   "source": [
    "# Отток клиентов"
   ]
  },
  {
   "cell_type": "markdown",
   "metadata": {},
   "source": [
    "Из «Бета-Банка» стали уходить клиенты. Каждый месяц. Немного, но заметно. Банковские маркетологи посчитали: сохранять текущих клиентов дешевле, чем привлекать новых.\n",
    "\n",
    "Нужно спрогнозировать, уйдёт клиент из банка в ближайшее время или нет. Вам предоставлены исторические данные о поведении клиентов и расторжении договоров с банком. \n",
    "\n",
    "Постройте модель с предельно большим значением *F1*-меры. Чтобы сдать проект успешно, нужно довести метрику до 0.59. Проверьте *F1*-меру на тестовой выборке самостоятельно.\n",
    "\n",
    "Дополнительно измеряйте *AUC-ROC*, сравнивайте её значение с *F1*-мерой.\n",
    "\n",
    "Источник данных: [https://www.kaggle.com/barelydedicated/bank-customer-churn-modeling](https://www.kaggle.com/barelydedicated/bank-customer-churn-modeling)"
   ]
  },
  {
   "cell_type": "markdown",
   "metadata": {},
   "source": [
    "## Подготовка данных"
   ]
  },
  {
   "cell_type": "code",
   "execution_count": null,
   "metadata": {},
   "outputs": [],
   "source": [
    "import matplotlib.pyplot as plt\n",
    "import numpy as np\n",
    "import pandas as pd\n",
    "from sklearn.model_selection import train_test_split\n",
    "from sklearn.linear_model import LogisticRegression\n",
    "from sklearn.tree import DecisionTreeClassifier\n",
    "from sklearn.ensemble import RandomForestClassifier\n",
    "from sklearn.metrics import f1_score, precision_score, recall_score, accuracy_score, roc_auc_score, roc_curve\n",
    "from sklearn.utils import shuffle"
   ]
  },
  {
   "cell_type": "markdown",
   "metadata": {},
   "source": [
    "<div class=\"alert alert-block alert-success\">\n",
    "<b>Успех:</b> Импорты на месте\n",
    "</div>\n"
   ]
  },
  {
   "cell_type": "code",
   "execution_count": null,
   "metadata": {},
   "outputs": [],
   "source": [
    "df = pd.read_csv('/datasets/Churn.csv')\n",
    "df.info()\n",
    "df.head(10)"
   ]
  },
  {
   "cell_type": "code",
   "execution_count": null,
   "metadata": {},
   "outputs": [],
   "source": [
    "df['Tenure'] = df['Tenure'].fillna(0)\n",
    "df.isna().mean()"
   ]
  },
  {
   "cell_type": "markdown",
   "metadata": {},
   "source": [
    "\n",
    "<div class=\"alert alert-block alert-info\"><b>Совет:</b> Решение обработать их таким образом - допустимое, но почему оно было принято не понятно, где анализ и аргументы?  Мне кажется, что так как природа пропусков неизвестна можно заполнить их случайными числами, чтобы не влиять на распределение\n"
   ]
  },
  {
   "cell_type": "code",
   "execution_count": null,
   "metadata": {},
   "outputs": [],
   "source": [
    "df['Tenure'].value_counts()"
   ]
  },
  {
   "cell_type": "markdown",
   "metadata": {},
   "source": [
    "Удалим столбцы RowNumber, CustomerId и Surname. Они не нужны при исследовании модели.\n",
    "\n",
    "RowNumber повторяет индекс датафрейма, CustomerId - случайный или последовательный номер, который никак не зависит от действий пользователя. Surname - фамилия, которая отличается от человека к человеку, но это не гарант того, что клиент останется или уйдет."
   ]
  },
  {
   "cell_type": "code",
   "execution_count": null,
   "metadata": {},
   "outputs": [],
   "source": [
    "df = df.drop(['RowNumber','CustomerId','Surname'], axis=1)\n",
    "df.shape"
   ]
  },
  {
   "cell_type": "markdown",
   "metadata": {},
   "source": [
    "<div class=\"alert alert-block alert-success\">\n",
    "<b>Успех:</b> Удалить неинформативные признаки - хорошее решение. \n",
    "</div>\n"
   ]
  },
  {
   "cell_type": "code",
   "execution_count": null,
   "metadata": {},
   "outputs": [],
   "source": [
    "ohe_df = pd.get_dummies(df, drop_first=True)\n",
    "ohe_df.info()"
   ]
  },
  {
   "cell_type": "markdown",
   "metadata": {},
   "source": [
    "<div class=\"alert alert-block alert-success\">\n",
    "<b>Успех:</b>  OHE - хороший выбор, применен корректно. Но лучше использовать инструмент OneHotEncoder от sklearn\n",
    "</div>\n"
   ]
  },
  {
   "cell_type": "markdown",
   "metadata": {},
   "source": [
    "### Вывод по шагу 1\n",
    "Данные готовы к исследованию.\n",
    "\n",
    "Были удалены не влияющие на конечный фактор данные. Мы создаем модель классификации, который нужно отдать признаки, реально влияющие на суть дела."
   ]
  },
  {
   "cell_type": "markdown",
   "metadata": {},
   "source": [
    "<div class=\"alert alert-block alert-info\">\n",
    "<b>Совет </b>  Советую обратить внимание на библиотеки sweetviz и pandas_profiling помогут в проведении более тщательного EDA анализа. Исследовательский анализ можно делать и с помощью ручного вызова функций дефолтных библиотек. Данные библиотеки хороши для максимизации комфорта презентации результатов анализа бизнес-пользователям. \n",
    "    \n",
    "Очень просты в использоовании, на вход кладется датафрейм: pandas_profiling.ProfileReport(df) \n",
    "    \n",
    "    \n",
    "    \n",
    "</div>\n"
   ]
  },
  {
   "cell_type": "markdown",
   "metadata": {},
   "source": [
    "## Исследование задачи"
   ]
  },
  {
   "cell_type": "markdown",
   "metadata": {},
   "source": [
    "Будем использовать следующие модели:\n",
    "\n",
    "* Логистическая регрессия\n",
    "* Случайный лес\n",
    "* Решающее дерево\n",
    "\n",
    "Разобъем данные по принципу 60/20/20."
   ]
  },
  {
   "cell_type": "code",
   "execution_count": null,
   "metadata": {},
   "outputs": [],
   "source": [
    "target = ohe_df['Exited']\n",
    "features = ohe_df.drop('Exited', axis=1)\n",
    "\n",
    "features_train, features_valid, target_train, target_valid = train_test_split(features, target, test_size=0.4, \n",
    "                                                                              random_state=12345)\n",
    "features_valid, features_test, target_valid, target_test = train_test_split(features_valid, target_valid, test_size=0.5, \n",
    "                                                                              random_state=12345 )\n",
    "print(features_train.shape, features_valid.shape, features_test.shape)\n",
    "print(target_train.shape, target_valid.shape, target_test.shape)"
   ]
  },
  {
   "cell_type": "code",
   "execution_count": null,
   "metadata": {},
   "outputs": [],
   "source": [
    "target.value_counts()"
   ]
  },
  {
   "cell_type": "markdown",
   "metadata": {},
   "source": [
    "<div class=\"alert alert-block alert-success\">\n",
    "<b>Успех:</b> Дисбаланс обнаружен\n"
   ]
  },
  {
   "cell_type": "markdown",
   "metadata": {},
   "source": [
    "Соотношение классов 1:4. Изучим модели без исправление баланса.\n",
    "\n",
    "\n",
    "Начнем с решающего дерева. Проведем исследование при разном значении max_depth."
   ]
  },
  {
   "cell_type": "code",
   "execution_count": null,
   "metadata": {
    "scrolled": true
   },
   "outputs": [],
   "source": [
    "%%time\n",
    "\n",
    "for depth in range(2, 30):\n",
    "    model = DecisionTreeClassifier(random_state=12345, max_depth=depth)\n",
    "    model.fit(features_train, target_train)\n",
    "    predicted_valid = model.predict(features_valid)\n",
    "    print('Max depth', depth,'F1-score', f1_score(target_valid, predicted_valid))"
   ]
  },
  {
   "cell_type": "markdown",
   "metadata": {},
   "source": [
    "Лучший результат был достигнут на глубине 9.\n",
    "\n",
    "Рассмотрим, как себя ведет случайный лес. И проведем исследование на разное количество деревьев."
   ]
  },
  {
   "cell_type": "code",
   "execution_count": null,
   "metadata": {
    "scrolled": true
   },
   "outputs": [],
   "source": [
    "%%time\n",
    "\n",
    "for estimator in range(50, 300, 10):\n",
    "    model =  RandomForestClassifier(random_state=12345, n_estimators=estimator)\n",
    "    model.fit(features_train, target_train)\n",
    "    predicted_valid = model.predict(features_valid)\n",
    "    print('N estimators', estimator,'F1', f1_score(target_valid, predicted_valid))"
   ]
  },
  {
   "cell_type": "markdown",
   "metadata": {},
   "source": [
    "Лучший результат был получен в районе 70 n_estimators. Сделаем исследование с шагом 1."
   ]
  },
  {
   "cell_type": "code",
   "execution_count": null,
   "metadata": {
    "scrolled": true
   },
   "outputs": [],
   "source": [
    "%%time\n",
    "\n",
    "for estimator in range(60, 80, 1):\n",
    "    model =  RandomForestClassifier(random_state=12345, n_estimators=estimator)\n",
    "    model.fit(features_train, target_train)\n",
    "    predicted_valid = model.predict(features_valid)\n",
    "    print('N estimators', estimator,'F1', f1_score(target_valid, predicted_valid))"
   ]
  },
  {
   "cell_type": "markdown",
   "metadata": {},
   "source": [
    "Лучший результат по гиперпараметру n_estimators достигнут на 63.\n",
    "\n",
    "Исследуем, как работает Логистическая регрессия на этих данных."
   ]
  },
  {
   "cell_type": "code",
   "execution_count": null,
   "metadata": {},
   "outputs": [],
   "source": [
    "%%time\n",
    "\n",
    "model =  LogisticRegression(random_state=12345, solver='liblinear')\n",
    "model.fit(features_train, target_train)\n",
    "predicted_valid = model.predict(features_valid)\n",
    "print('F1', f1_score(target_valid, predicted_valid))"
   ]
  },
  {
   "cell_type": "markdown",
   "metadata": {},
   "source": [
    "Результаты довольно низкие. Возможно precision или recall низкий и близок к 0.\n",
    "\n",
    "Проведем оценку accuracy, precision и recall, также покажем F-метрику."
   ]
  },
  {
   "cell_type": "code",
   "execution_count": null,
   "metadata": {},
   "outputs": [],
   "source": [
    "%%time\n",
    "\n",
    "model = DecisionTreeClassifier(random_state=12345, max_depth=9)\n",
    "model.fit(features_train, target_train)\n",
    "predicted_valid = model.predict(features_valid)\n",
    "print('Решающее дерево')\n",
    "print('Точность попадания по классам', accuracy_score(target_valid, predicted_valid))\n",
    "print('Precision', precision_score(target_valid, predicted_valid))\n",
    "print('Recall', recall_score(target_valid, predicted_valid))\n",
    "print('F1', f1_score(target_valid, predicted_valid))\n",
    "print()\n",
    "\n",
    "model = RandomForestClassifier(random_state=12345, n_estimators=63)\n",
    "model.fit(features_train, target_train)\n",
    "predicted_valid = model.predict(features_valid)\n",
    "print('Случайный лес')\n",
    "print('Точность попадания по классам', accuracy_score(target_valid, predicted_valid))\n",
    "print('Precision', precision_score(target_valid, predicted_valid))\n",
    "print('Recall', recall_score(target_valid, predicted_valid))\n",
    "print('F1', f1_score(target_valid, predicted_valid))\n",
    "print()\n",
    "\n",
    "model = LogisticRegression(random_state=12345, solver='liblinear')\n",
    "model.fit(features_train, target_train)\n",
    "predicted_valid = model.predict(features_valid)\n",
    "print('Логистическая регрессия')\n",
    "print('Точность попадания по классам', accuracy_score(target_valid, predicted_valid))\n",
    "print('Precision', precision_score(target_valid, predicted_valid))\n",
    "print('Recall', recall_score(target_valid, predicted_valid))\n",
    "print('F1', f1_score(target_valid, predicted_valid))\n",
    "print()"
   ]
  },
  {
   "cell_type": "markdown",
   "metadata": {},
   "source": [
    "Проведем построение ROC-кривой для кажддой модели. И выведем показатель AUC-ROC."
   ]
  },
  {
   "cell_type": "code",
   "execution_count": null,
   "metadata": {},
   "outputs": [],
   "source": [
    "plt.figure(figsize=[12,9])\n",
    "\n",
    "plt.plot([0, 1], [0, 1], linestyle='--', label='RandomModel')\n",
    "\n",
    "\n",
    "model = DecisionTreeClassifier(random_state=12345, max_depth=9)\n",
    "model.fit(features_train, target_train)\n",
    "probabilities_valid = model.predict_proba(features_valid)\n",
    "probabilities_one_valid = probabilities_valid[:, 1]\n",
    "fpr, tpr, thresholds = roc_curve(target_valid, probabilities_one_valid)\n",
    "auc_roc = roc_auc_score(target_valid, probabilities_one_valid)\n",
    "print('AUC-ROC DecisionTreeClassifier',auc_roc)\n",
    "plt.plot(fpr, tpr, label='DecisionTreeClassifier')\n",
    "\n",
    "model = RandomForestClassifier(random_state=12345, n_estimators=63)\n",
    "model.fit(features_train, target_train)\n",
    "probabilities_valid = model.predict_proba(features_valid)\n",
    "probabilities_one_valid = probabilities_valid[:, 1]\n",
    "fpr, tpr, thresholds = roc_curve(target_valid, probabilities_one_valid)\n",
    "auc_roc = roc_auc_score(target_valid, probabilities_one_valid)\n",
    "print('AUC-ROC RandomForestClassifier',auc_roc)\n",
    "plt.plot(fpr, tpr, label='RandomForestClassifier')\n",
    "\n",
    "model = LogisticRegression(random_state=12345, solver='liblinear')\n",
    "model.fit(features_train, target_train)\n",
    "probabilities_valid = model.predict_proba(features_valid)\n",
    "probabilities_one_valid = probabilities_valid[:, 1]\n",
    "fpr, tpr, thresholds = roc_curve(target_valid, probabilities_one_valid)\n",
    "auc_roc = roc_auc_score(target_valid, probabilities_one_valid)\n",
    "print('AUC-ROC LogisticRegression',auc_roc)\n",
    "plt.plot(fpr, tpr, label='LogisticRegression')\n",
    "\n",
    "plt.xlim([0,1])\n",
    "plt.ylim([0,1])\n",
    "\n",
    "plt.xlabel(\"False Positive Rate\")\n",
    "plt.ylabel(\"True Positive Rate\")\n",
    "\n",
    "plt.legend(loc='lower right', fontsize='x-large')\n",
    "\n",
    "plt.title(\"ROC-кривая\")\n",
    "plt.show()"
   ]
  },
  {
   "cell_type": "markdown",
   "metadata": {},
   "source": [
    "По полученным реззультатам можно заменить, что метрика f1 и AUC-ROC лучшая на случайном лесе."
   ]
  },
  {
   "cell_type": "markdown",
   "metadata": {},
   "source": [
    "### Вывод по шагу 2\n",
    "В данных сущестует дисбаланс классов в отношении 1:4.\n",
    "\n",
    "Возможно он влияет на качество изучаемых моделей.\n",
    "\n",
    "Все модели имеют recall ниже, чем percision, из-за перекоса данных, что влияет на F-меру."
   ]
  },
  {
   "cell_type": "markdown",
   "metadata": {},
   "source": [
    "<div class=\"alert alert-block alert-success\">\n",
    "<b>Успех:</b>  Шаг проделан хорошо, все метрики посчтианы корректно. Отлично, что уделено внимание метрика полноты и точности они очень ценны для бизнеса\n",
    "</div>\n"
   ]
  },
  {
   "cell_type": "markdown",
   "metadata": {},
   "source": [
    "<div class=\"alert alert-block alert-info\">\n",
    "<b>Совет:</b> Вычисление/вывод метрик и графиков можно было бы как-то вынести в функцию и избежать дублирования кода и сделать его лаконичнее\n",
    "</div>"
   ]
  },
  {
   "cell_type": "markdown",
   "metadata": {},
   "source": [
    "## Борьба с дисбалансом"
   ]
  },
  {
   "cell_type": "markdown",
   "metadata": {},
   "source": [
    "Для борьбы с дисбалансом выполним сравнение моделей:\n",
    "\n",
    "* С взвешенными классами\n",
    "* С уменьшенной выборкой\n",
    "* С увеличенной выборкой\n",
    "\n",
    "Изучим возможности моделей по взвешиванию классов."
   ]
  },
  {
   "cell_type": "code",
   "execution_count": null,
   "metadata": {},
   "outputs": [],
   "source": [
    "%%time\n",
    "\n",
    "model = DecisionTreeClassifier(random_state=12345, max_depth=9, class_weight='balanced')\n",
    "model.fit(features_train, target_train)\n",
    "predicted_valid = model.predict(features_valid)\n",
    "print('Решающее дерево')\n",
    "print('Точность попадания по классам', accuracy_score(target_valid, predicted_valid))\n",
    "print('Precision', precision_score(target_valid, predicted_valid))\n",
    "print('Recall', recall_score(target_valid, predicted_valid))\n",
    "print('F1', f1_score(target_valid, predicted_valid))\n",
    "print()\n",
    "\n",
    "model = RandomForestClassifier(random_state=12345, n_estimators=63, class_weight='balanced')\n",
    "model.fit(features_train, target_train)\n",
    "predicted_valid = model.predict(features_valid)\n",
    "print('Случайный лес')\n",
    "print('Точность попадания по классам', accuracy_score(target_valid, predicted_valid))\n",
    "print('Precision', precision_score(target_valid, predicted_valid))\n",
    "print('Recall', recall_score(target_valid, predicted_valid))\n",
    "print('F1', f1_score(target_valid, predicted_valid))\n",
    "print()\n",
    "\n",
    "model = LogisticRegression(random_state=12345, solver='liblinear', class_weight='balanced')\n",
    "model.fit(features_train, target_train)\n",
    "predicted_valid = model.predict(features_valid)\n",
    "print('Логистическая регрессия')\n",
    "print('Точность попадания по классам', accuracy_score(target_valid, predicted_valid))\n",
    "print('Precision', precision_score(target_valid, predicted_valid))\n",
    "print('Recall', recall_score(target_valid, predicted_valid))\n",
    "print('F1', f1_score(target_valid, predicted_valid))\n",
    "print()"
   ]
  },
  {
   "cell_type": "markdown",
   "metadata": {},
   "source": [
    "F-мера упала у решающего дерева (было 0.5786 стало 0.5338) и случайного леса (было 0.5923 стало 0.5644), но выросла в разы у логистической регресии (было 0.083 стало 0.4514).\n",
    "\n",
    "Исследуем способ уменьшения значений класса 0."
   ]
  },
  {
   "cell_type": "code",
   "execution_count": null,
   "metadata": {},
   "outputs": [],
   "source": [
    "def downsample(features, target, fraction):\n",
    "    features_zeros = features[target == 0]\n",
    "    features_ones = features[target == 1]\n",
    "    target_zeros = target[target == 0]\n",
    "    target_ones = target[target == 1]\n",
    "\n",
    "    features_downsampled = pd.concat(\n",
    "        [features_zeros.sample(frac=fraction, random_state=12345)] + [features_ones])\n",
    "    target_downsampled = pd.concat(\n",
    "        [target_zeros.sample(frac=fraction, random_state=12345)] + [target_ones])\n",
    "    \n",
    "    features_downsampled, target_downsampled = shuffle(\n",
    "        features_downsampled, target_downsampled, random_state=12345)\n",
    "    \n",
    "    return features_downsampled, target_downsampled\n",
    "\n",
    "features_downsampled, target_downsampled = downsample(features_train, target_train, 0.25)\n",
    "\n",
    "print(target_downsampled.value_counts())"
   ]
  },
  {
   "cell_type": "code",
   "execution_count": null,
   "metadata": {},
   "outputs": [],
   "source": [
    "%%time\n",
    "\n",
    "model = DecisionTreeClassifier(random_state=12345, max_depth=9)\n",
    "model.fit(features_downsampled, target_downsampled)\n",
    "predicted_valid = model.predict(features_valid)\n",
    "print('Решающее дерево')\n",
    "print('Точность попадания по классам', accuracy_score(target_valid, predicted_valid))\n",
    "print('Precision', precision_score(target_valid, predicted_valid))\n",
    "print('Recall', recall_score(target_valid, predicted_valid))\n",
    "print('F1', f1_score(target_valid, predicted_valid))\n",
    "print()\n",
    "\n",
    "model = RandomForestClassifier(random_state=12345, n_estimators=63)\n",
    "model.fit(features_downsampled, target_downsampled)\n",
    "predicted_valid = model.predict(features_valid)\n",
    "print('Случайный лес')\n",
    "print('Точность попадания по классам', accuracy_score(target_valid, predicted_valid))\n",
    "print('Precision', precision_score(target_valid, predicted_valid))\n",
    "print('Recall', recall_score(target_valid, predicted_valid))\n",
    "print('F1', f1_score(target_valid, predicted_valid))\n",
    "print()\n",
    "\n",
    "model = LogisticRegression(random_state=12345, solver='liblinear')\n",
    "model.fit(features_downsampled, target_downsampled)\n",
    "predicted_valid = model.predict(features_valid)\n",
    "print('Логистическая регрессия')\n",
    "print('Точность попадания по классам', accuracy_score(target_valid, predicted_valid))\n",
    "print('Precision', precision_score(target_valid, predicted_valid))\n",
    "print('Recall', recall_score(target_valid, predicted_valid))\n",
    "print('F1', f1_score(target_valid, predicted_valid))\n",
    "print()"
   ]
  },
  {
   "cell_type": "markdown",
   "metadata": {},
   "source": [
    "Показатели логистической регрессии (без борьбы с дисбалансом 0.083, class_weight='balanced': 0.4514, уменьшение значений класса 0: 0.4518) выросли. \n",
    "\n",
    "Решающее дерево (без борьбы с дисбалансом 0.5786, class_weight='balanced': 0.5338, уменьшение значений класса 0: 0.5360) и случайный лес (без борьбы с дисбалансом 0.5923, class_weight='balanced': 0.5644, уменьшение значений класса 0: 0.5810) показали себя хуже.\n",
    "\n",
    "\n",
    "Исследуем методы увеличения класса 1."
   ]
  },
  {
   "cell_type": "code",
   "execution_count": null,
   "metadata": {},
   "outputs": [],
   "source": [
    "def upsample(features, target, repeat):\n",
    "    features_zeros = features[target == 0]\n",
    "    features_ones = features[target == 1]\n",
    "    target_zeros = target[target == 0]\n",
    "    target_ones = target[target == 1]\n",
    "\n",
    "    features_upsampled = pd.concat([features_zeros] + [features_ones] * repeat)\n",
    "    target_upsampled = pd.concat([target_zeros] + [target_ones] * repeat)\n",
    "    \n",
    "    features_upsampled, target_upsampled = shuffle(\n",
    "        features_upsampled, target_upsampled, random_state=12345)\n",
    "    \n",
    "    return features_upsampled, target_upsampled\n",
    "\n",
    "features_upsampled, target_upsampled = upsample(features_train, target_train, 4)\n",
    "\n",
    "print(target_upsampled.value_counts())"
   ]
  },
  {
   "cell_type": "code",
   "execution_count": null,
   "metadata": {},
   "outputs": [],
   "source": [
    "%%time\n",
    "\n",
    "model = DecisionTreeClassifier(random_state=12345, max_depth=9)\n",
    "model.fit(features_upsampled, target_upsampled)\n",
    "predicted_valid = model.predict(features_valid)\n",
    "print('Решающее дерево')\n",
    "print('Точность попадания по классам', accuracy_score(target_valid, predicted_valid))\n",
    "print('Precision', precision_score(target_valid, predicted_valid))\n",
    "print('Recall', recall_score(target_valid, predicted_valid))\n",
    "print('F1', f1_score(target_valid, predicted_valid))\n",
    "print()\n",
    "\n",
    "model = RandomForestClassifier(random_state=12345, n_estimators=63)\n",
    "model.fit(features_upsampled, target_upsampled)\n",
    "predicted_valid = model.predict(features_valid)\n",
    "print('Случайный лес')\n",
    "print('Точность попадания по классам', accuracy_score(target_valid, predicted_valid))\n",
    "print('Precision', precision_score(target_valid, predicted_valid))\n",
    "print('Recall', recall_score(target_valid, predicted_valid))\n",
    "print('F1', f1_score(target_valid, predicted_valid))\n",
    "print()\n",
    "\n",
    "model = LogisticRegression(random_state=12345, solver='liblinear')\n",
    "model.fit(features_upsampled, target_upsampled)\n",
    "predicted_valid = model.predict(features_valid)\n",
    "print('Логистическая регрессия')\n",
    "print('Точность попадания по классам', accuracy_score(target_valid, predicted_valid))\n",
    "print('Precision', precision_score(target_valid, predicted_valid))\n",
    "print('Recall', recall_score(target_valid, predicted_valid))\n",
    "print('F1', f1_score(target_valid, predicted_valid))\n",
    "print()"
   ]
  },
  {
   "cell_type": "markdown",
   "metadata": {},
   "source": [
    "F-мера стала лучше у случайного леса (без борьбы с дисбалансом 0.5923, class_weight='balanced': 0.5644, уменьшение значений класса 0: 0.5810, улучшение значений класса 1: 0.5938), логистической регресии (без борьбы с дисбалансом 0.083, class_weight='balanced': 0.4514, уменьшение значений класса 0: 0.4518, улучшение значений класса 1: 0.4528) по сравнению с дисбалансными данными. \n",
    "У решающего дерева (без борьбы с дисбалансом 0.5786, class_weight='balanced': 0.5338, уменьшение значений класса 0: 0.5360, улучшение значений класса 1: 0.5304) при борьбе с дисбалансом значения f-меры только снижаются.\n",
    "\n",
    "Лучшей моделью по F-мере стал случайный лес (0.5938) с тренировочными данными, где увеличен класс 1.\n",
    "\n",
    "Выведем ROC-кривую и AUC-ROC для посленнего измененного баланса."
   ]
  },
  {
   "cell_type": "code",
   "execution_count": null,
   "metadata": {},
   "outputs": [],
   "source": [
    "plt.figure(figsize=[12,9])\n",
    "\n",
    "plt.plot([0, 1], [0, 1], linestyle='--', label='RandomModel')\n",
    "\n",
    "\n",
    "model = DecisionTreeClassifier(random_state=12345, max_depth=9)\n",
    "model.fit(features_upsampled, target_upsampled)\n",
    "probabilities_valid = model.predict_proba(features_valid)\n",
    "probabilities_one_valid = probabilities_valid[:, 1]\n",
    "fpr, tpr, thresholds = roc_curve(target_valid, probabilities_one_valid)\n",
    "auc_roc = roc_auc_score(target_valid, probabilities_one_valid)\n",
    "print('AUC-ROC DecisionTreeClassifier',auc_roc)\n",
    "plt.plot(fpr, tpr, label='DecisionTreeClassifier')\n",
    "\n",
    "model = RandomForestClassifier(random_state=12345, n_estimators=63)\n",
    "model.fit(features_upsampled, target_upsampled)\n",
    "probabilities_valid = model.predict_proba(features_valid)\n",
    "probabilities_one_valid = probabilities_valid[:, 1]\n",
    "fpr, tpr, thresholds = roc_curve(target_valid, probabilities_one_valid)\n",
    "auc_roc = roc_auc_score(target_valid, probabilities_one_valid)\n",
    "print('AUC-ROC RandomForestClassifier',auc_roc)\n",
    "plt.plot(fpr, tpr, label='RandomForestClassifier')\n",
    "\n",
    "model = LogisticRegression(random_state=12345, solver='liblinear')\n",
    "model.fit(features_upsampled, target_upsampled)\n",
    "probabilities_valid = model.predict_proba(features_valid)\n",
    "probabilities_one_valid = probabilities_valid[:, 1]\n",
    "fpr, tpr, thresholds = roc_curve(target_valid, probabilities_one_valid)\n",
    "auc_roc = roc_auc_score(target_valid, probabilities_one_valid)\n",
    "print('AUC-ROC LogisticRegression',auc_roc)\n",
    "plt.plot(fpr, tpr, label='LogisticRegression')\n",
    "\n",
    "plt.xlim([0,1])\n",
    "plt.ylim([0,1])\n",
    "\n",
    "plt.xlabel(\"False Positive Rate\")\n",
    "plt.ylabel(\"True Positive Rate\")\n",
    "\n",
    "plt.legend(loc='lower right', fontsize='x-large')\n",
    "\n",
    "plt.title(\"ROC-кривая\")\n",
    "plt.show()"
   ]
  },
  {
   "cell_type": "markdown",
   "metadata": {},
   "source": [
    "### Вывод по шагу 3\n",
    "Дисбаланс повлиял на модели в худшую сторону. Лучшим решением стало увеличение классов 1 в тренировочной выборке.\n",
    "\n",
    "Выравние классов в выборке привело к резкому росту параметра recall и небольшому понижению percison. Но в целом F-мера выросла."
   ]
  },
  {
   "cell_type": "markdown",
   "metadata": {},
   "source": [
    "<div class=\"alert alert-block alert-success\">\n",
    "<b>Успех:</b> Отличная работа с моделями машинного обучения. Радует, достаточное кол-во рассмотренных методов для борьбы с дисбалансом"
   ]
  },
  {
   "cell_type": "markdown",
   "metadata": {},
   "source": [
    "## Тестирование модели"
   ]
  },
  {
   "cell_type": "code",
   "execution_count": null,
   "metadata": {
    "scrolled": true
   },
   "outputs": [],
   "source": [
    "%%time\n",
    "\n",
    "for estimator in range(10, 500, 10):\n",
    "    model =  RandomForestClassifier(random_state=12345, n_estimators=estimator)\n",
    "    model.fit(features_upsampled, target_upsampled)\n",
    "    predicted_valid = model.predict(features_valid)\n",
    "    print('N estimators', estimator,'F1', f1_score(target_valid, predicted_valid))"
   ]
  },
  {
   "cell_type": "markdown",
   "metadata": {},
   "source": [
    "Лучший результат лежит в диапазоне 170-190."
   ]
  },
  {
   "cell_type": "code",
   "execution_count": null,
   "metadata": {},
   "outputs": [],
   "source": [
    "%%time\n",
    "\n",
    "for estimator in range(170, 190):\n",
    "    model =  RandomForestClassifier(random_state=12345, n_estimators=estimator)\n",
    "    model.fit(features_upsampled, target_upsampled)\n",
    "    predicted_valid = model.predict(features_valid)\n",
    "    print('N estimators', estimator,'F1', f1_score(target_valid, predicted_valid))"
   ]
  },
  {
   "cell_type": "markdown",
   "metadata": {},
   "source": [
    "Лучший F1 при n_estimators = 179"
   ]
  },
  {
   "cell_type": "code",
   "execution_count": null,
   "metadata": {},
   "outputs": [],
   "source": [
    "%%time\n",
    "\n",
    "model =  RandomForestClassifier(random_state=12345, n_estimators=179, criterion='entropy')\n",
    "model.fit(features_upsampled, target_upsampled)\n",
    "predicted_valid = model.predict(features_valid)\n",
    "print('F1', f1_score(target_valid, predicted_valid))"
   ]
  },
  {
   "cell_type": "code",
   "execution_count": null,
   "metadata": {},
   "outputs": [],
   "source": [
    "%%time\n",
    "\n",
    "for samples_split in range(1, 11):\n",
    "    model =  RandomForestClassifier(random_state=12345, n_estimators=179, min_samples_split=samples_split/10)\n",
    "    model.fit(features_upsampled, target_upsampled)\n",
    "    predicted_valid = model.predict(features_valid)\n",
    "    print('Samples_split', samples_split/10,'F1', f1_score(target_valid, predicted_valid))\n",
    "    \n",
    "for samples_split in range(2, 11):\n",
    "    model =  RandomForestClassifier(random_state=12345, n_estimators=179, min_samples_split=samples_split)\n",
    "    model.fit(features_upsampled, target_upsampled)\n",
    "    predicted_valid = model.predict(features_valid)\n",
    "    print('Samples_split', samples_split,'F1', f1_score(target_valid, predicted_valid))"
   ]
  },
  {
   "cell_type": "markdown",
   "metadata": {},
   "source": [
    "Лучший F1 получени при min_samples_split=9.\n",
    "\n",
    "Изменим гиперпараметр min_samples_leaf."
   ]
  },
  {
   "cell_type": "code",
   "execution_count": null,
   "metadata": {},
   "outputs": [],
   "source": [
    "%%time\n",
    "\n",
    "for samples_leaf in range(1, 6):\n",
    "    model =  RandomForestClassifier(random_state=12345, n_estimators=179, min_samples_split=9, \n",
    "                                    min_samples_leaf= samples_leaf/10)\n",
    "    model.fit(features_upsampled, target_upsampled)\n",
    "    predicted_valid = model.predict(features_valid)\n",
    "    print('Samples_leaf', samples_leaf/10,'F1', f1_score(target_valid, predicted_valid))\n",
    "    \n",
    "for samples_leaf in range(1, 11):\n",
    "    model =  RandomForestClassifier(random_state=12345, n_estimators=179, min_samples_split=9,\n",
    "                                   min_samples_leaf= samples_leaf)\n",
    "    model.fit(features_upsampled, target_upsampled)\n",
    "    predicted_valid = model.predict(features_valid)\n",
    "    print('Samples_leaf', samples_leaf,'F1', f1_score(target_valid, predicted_valid))"
   ]
  },
  {
   "cell_type": "markdown",
   "metadata": {},
   "source": [
    "<div class=\"alert alert-block alert-info\">\n",
    "<b>Совет </b>  Логически подбор параметров должна распологаться не в шаге с тестированием.\n",
    "    \n",
    "    \n",
    "    \n",
    "</div>\n"
   ]
  },
  {
   "cell_type": "markdown",
   "metadata": {},
   "source": [
    "Лучший показатель min_samples_leaf = 7\n",
    "\n",
    "Проверим на тестовой выборке четыре модели: на дисбалансных данных и сбалансированных: со взвешенными классами, усечением 0 класса и расширением класса 1."
   ]
  },
  {
   "cell_type": "code",
   "execution_count": null,
   "metadata": {},
   "outputs": [],
   "source": [
    "model = RandomForestClassifier(random_state=12345, n_estimators=179, min_samples_split=9,\n",
    "                                   min_samples_leaf=7)\n",
    "model.fit(features_train, target_train)\n",
    "predicted_test = model.predict(features_test)\n",
    "print('Случайный лес - дисбаланс классов')\n",
    "print('Точность попадания по классам', accuracy_score(target_test, predicted_test))\n",
    "print('Precision', precision_score(target_test, predicted_test))\n",
    "print('Recall', recall_score(target_test, predicted_test))\n",
    "print('F1', f1_score(target_test, predicted_test))\n",
    "print()\n",
    "\n",
    "model = RandomForestClassifier(random_state=12345, n_estimators=179, min_samples_split=9,\n",
    "                                   min_samples_leaf=7, class_weight='balanced')\n",
    "model.fit(features_train, target_train)\n",
    "predicted_test = model.predict(features_test)\n",
    "print('Случайный лес - взвешенные классы')\n",
    "print('Точность попадания по классам', accuracy_score(target_test, predicted_test))\n",
    "print('Precision', precision_score(target_test, predicted_test))\n",
    "print('Recall', recall_score(target_test, predicted_test))\n",
    "print('F1', f1_score(target_test, predicted_test))\n",
    "print()\n",
    "\n",
    "model = RandomForestClassifier(random_state=12345, n_estimators=179, min_samples_split=9,\n",
    "                                   min_samples_leaf=7)\n",
    "model.fit(features_downsampled, target_downsampled)\n",
    "predicted_test = model.predict(features_test)\n",
    "print('Случайный лес - уменьшенное количество классов 0')\n",
    "print('Точность попадания по классам', accuracy_score(target_test, predicted_test))\n",
    "print('Precision', precision_score(target_test, predicted_test))\n",
    "print('Recall', recall_score(target_test, predicted_test))\n",
    "print('F1', f1_score(target_test, predicted_test))\n",
    "print()\n",
    "\n",
    "model = RandomForestClassifier(random_state=12345, n_estimators=179, min_samples_split=9,\n",
    "                                   min_samples_leaf=7)\n",
    "model.fit(features_upsampled, target_upsampled)\n",
    "predicted_test = model.predict(features_test)\n",
    "print('Случайный лес - увеличенное количество классов 1')\n",
    "print('Точность попадания по классам', accuracy_score(target_test, predicted_test))\n",
    "print('Precision', precision_score(target_test, predicted_test))\n",
    "print('Recall', recall_score(target_test, predicted_test))\n",
    "print('F1', f1_score(target_test, predicted_test))\n",
    "print()"
   ]
  },
  {
   "cell_type": "code",
   "execution_count": null,
   "metadata": {},
   "outputs": [],
   "source": [
    "plt.figure(figsize=[12,9])\n",
    "\n",
    "plt.plot([0, 1], [0, 1], linestyle='--', label='RandomModel')\n",
    "\n",
    "\n",
    "model = RandomForestClassifier(random_state=12345, n_estimators=179, min_samples_split=9,\n",
    "                                   min_samples_leaf=7)\n",
    "model.fit(features_train, target_train)\n",
    "predicted_test = model.predict(features_test)\n",
    "probabilities_test = model.predict_proba(features_test)\n",
    "probabilities_one_test = probabilities_test[:, 1]\n",
    "fpr, tpr, thresholds = roc_curve(target_test, probabilities_one_test)\n",
    "auc_roc = roc_auc_score(target_test, probabilities_one_test)\n",
    "print('AUC-ROC RandomForestClassifier - disbalanced',auc_roc)\n",
    "plt.plot(fpr, tpr, label='RandomForestClassifier - disbalanced')\n",
    "\n",
    "model = RandomForestClassifier(random_state=12345, n_estimators=179, min_samples_split=9,\n",
    "                                   min_samples_leaf=7, class_weight='balanced')\n",
    "model.fit(features_train, target_train)\n",
    "predicted_test = model.predict(features_test)\n",
    "probabilities_test = model.predict_proba(features_test)\n",
    "probabilities_one_test = probabilities_test[:, 1]\n",
    "fpr, tpr, thresholds = roc_curve(target_test, probabilities_one_test)\n",
    "auc_roc = roc_auc_score(target_test, probabilities_one_test)\n",
    "print('AUC-ROC RandomForestClassifier - balanced by class weight',auc_roc)\n",
    "plt.plot(fpr, tpr, label='RandomForestClassifier - balanced by class weight')\n",
    "\n",
    "model = RandomForestClassifier(random_state=12345, n_estimators=179, min_samples_split=9,\n",
    "                                   min_samples_leaf=7)\n",
    "model.fit(features_downsampled, target_downsampled)\n",
    "predicted_test = model.predict(features_test)\n",
    "probabilities_test = model.predict_proba(features_test)\n",
    "probabilities_one_test = probabilities_test[:, 1]\n",
    "fpr, tpr, thresholds = roc_curve(target_test, probabilities_one_test)\n",
    "auc_roc = roc_auc_score(target_test, probabilities_one_test)\n",
    "print('AUC-ROC RandomForestClassifier - balanced by reduce 0 class',auc_roc)\n",
    "plt.plot(fpr, tpr, label='RandomForestClassifier - balanced by reduce 0 class')\n",
    "\n",
    "model = RandomForestClassifier(random_state=12345, n_estimators=179, min_samples_split=9,\n",
    "                                   min_samples_leaf=7)\n",
    "model.fit(features_upsampled, target_upsampled)\n",
    "predicted_test = model.predict(features_test)\n",
    "probabilities_test = model.predict_proba(features_test)\n",
    "probabilities_one_test = probabilities_test[:, 1]\n",
    "fpr, tpr, thresholds = roc_curve(target_test, probabilities_one_test)\n",
    "auc_roc = roc_auc_score(target_test, probabilities_one_test)\n",
    "print('AUC-ROC RandomForestClassifier - balanced by grow 1 class',auc_roc)\n",
    "plt.plot(fpr, tpr, label='RandomForestClassifier - balanced')\n",
    "\n",
    "plt.xlim([0,1])\n",
    "plt.ylim([0,1])\n",
    "\n",
    "plt.xlabel(\"False Positive Rate\")\n",
    "plt.ylabel(\"True Positive Rate\")\n",
    "\n",
    "plt.legend(loc='lower right', fontsize='x-large')\n",
    "\n",
    "plt.title(\"ROC-кривая\")\n",
    "plt.show()"
   ]
  },
  {
   "cell_type": "markdown",
   "metadata": {},
   "source": [
    "<div class=\"alert alert-block alert-success\">\n",
    "<b>Успех:</b>  С тестированием все в порядке! Тебе удалось достичь хороших показателей метрик на тесте. \n",
    "</div> "
   ]
  },
  {
   "cell_type": "markdown",
   "metadata": {},
   "source": [
    "### Вывод по шагу 4\n",
    "2 из 4 моделей достигли минимума F-меры на тестовых данных: модель случайного леса со взвешенными весами классов и модель с увеличенным количеством класса 1.\n",
    "\n",
    "Видно, что взвешивание классов дает результат лучше для данного набора данных. Percision падает, recall растет, и в целом F-мера имеет небольшой прирост. Баланс классов повышает охват необходимых данных.\n",
    "\n",
    "Оценивая адеватность модели можно заметить, что AUC-ROC дисбалансной модели и модели с весами примерно одинаково предсказывают вероятность ухода клиента.\n",
    "\n",
    "В результате исследования была получена модель с лучшими показателями как по F1-мере, так и по AUC-ROC - Случайный лес: взвешенные классы."
   ]
  },
  {
   "cell_type": "markdown",
   "metadata": {},
   "source": [
    "<div class=\"alert alert-block alert-info\">\n",
    "<b>Совет:</b> Для понимания, а какие в итоге факторы важны при моделировании, можно выводить их важность, использую feature_importances_, ну и график заодно. Это будет смотреться очнь здорово: результативная метрика и график важности факторов)))<br> Очень ВАЖНАЯ для аналитики штука. Ведь нам не просто модель с метрикой нужна, а ещё и причины понять высокой/низкой метрики. Т.е. понять с какой силой сами факторы влияют на целевую.\n",
    "    \n",
    "\n",
    "\n",
    "</div>\n",
    "\n"
   ]
  },
  {
   "cell_type": "markdown",
   "metadata": {},
   "source": [
    "## Итоговый вывод\n",
    "\n",
    "При работе с проектом было выполнено:\n",
    "\n",
    "* Изучены данные. Разбиты данные на тренировочную, валидационную и тестовую выборку.\n",
    "* Исследована задача. Проверены модели на данных без изменений.\n",
    "* Скоректирован балланс класса. Изменен вес класса.\n",
    "* Получена улученная модель. Проведен поиск гиперпараметров.\n",
    "* Проведен финальный тест.\n",
    "\n",
    "Обученная модель случайного леса со взвешенными классами имеет достаточную адекватность, подтвержденная ее значением AUC-ROC = 0.8577. Это лучше, чем случайная модель предсказывания (AUC-ROC = 0.5). Модель старается собрать больше данных, чем показать верную точность (recall > precision). Процент попадания в классы достаточно высокий."
   ]
  },
  {
   "cell_type": "markdown",
   "metadata": {},
   "source": [
    "## Чек-лист готовности проекта"
   ]
  },
  {
   "cell_type": "markdown",
   "metadata": {},
   "source": [
    "Поставьте 'x' в выполненных пунктах. Далее нажмите Shift+Enter."
   ]
  },
  {
   "cell_type": "markdown",
   "metadata": {},
   "source": [
    "- [x]  Jupyter Notebook открыт\n",
    "- [x]  Весь код выполняется без ошибок\n",
    "- [x]  Ячейки с кодом расположены в порядке исполнения\n",
    "- [x]  Выполнен шаг 1: данные подготовлены\n",
    "- [x]  Выполнен шаг 2: задача исследована\n",
    "    - [x]  Исследован баланс классов\n",
    "    - [x]  Изучены модели без учёта дисбаланса\n",
    "    - [x]  Написаны выводы по результатам исследования\n",
    "- [x]  Выполнен шаг 3: учтён дисбаланс\n",
    "    - [x]  Применено несколько способов борьбы с дисбалансом\n",
    "    - [x]  Написаны выводы по результатам исследования\n",
    "- [x]  Выполнен шаг 4: проведено тестирование\n",
    "- [x]  Удалось достичь *F1*-меры не менее 0.59\n",
    "- [x]  Исследована метрика *AUC-ROC*"
   ]
  },
  {
   "cell_type": "code",
   "execution_count": null,
   "metadata": {},
   "outputs": [],
   "source": []
  }
 ],
 "metadata": {
  "ExecuteTimeLog": [
   {
    "duration": 1426,
    "start_time": "2022-11-10T12:30:59.449Z"
   },
   {
    "duration": 81,
    "start_time": "2022-11-10T12:31:01.905Z"
   },
   {
    "duration": 51,
    "start_time": "2022-11-10T12:31:41.729Z"
   },
   {
    "duration": 61,
    "start_time": "2022-11-10T12:32:07.123Z"
   },
   {
    "duration": 7,
    "start_time": "2022-11-10T12:32:48.222Z"
   },
   {
    "duration": 6,
    "start_time": "2022-11-10T12:33:09.642Z"
   },
   {
    "duration": 6,
    "start_time": "2022-11-10T12:33:44.027Z"
   },
   {
    "duration": 18,
    "start_time": "2022-11-10T12:35:17.523Z"
   },
   {
    "duration": 52,
    "start_time": "2022-11-10T12:37:10.043Z"
   },
   {
    "duration": 50,
    "start_time": "2022-11-10T12:37:17.758Z"
   },
   {
    "duration": 1248,
    "start_time": "2022-11-10T12:37:30.793Z"
   },
   {
    "duration": 56,
    "start_time": "2022-11-10T12:37:32.043Z"
   },
   {
    "duration": 7,
    "start_time": "2022-11-10T12:37:32.100Z"
   },
   {
    "duration": 5,
    "start_time": "2022-11-10T12:37:32.109Z"
   },
   {
    "duration": 11,
    "start_time": "2022-11-10T12:37:32.115Z"
   },
   {
    "duration": 21,
    "start_time": "2022-11-10T12:37:32.128Z"
   },
   {
    "duration": 11,
    "start_time": "2022-11-10T12:45:13.064Z"
   },
   {
    "duration": 6,
    "start_time": "2022-11-10T12:45:28.817Z"
   },
   {
    "duration": 747,
    "start_time": "2022-11-10T12:45:44.940Z"
   },
   {
    "duration": 204,
    "start_time": "2022-11-10T12:46:08.925Z"
   },
   {
    "duration": 767,
    "start_time": "2022-11-10T12:46:13.525Z"
   },
   {
    "duration": 29852,
    "start_time": "2022-11-10T12:48:55.342Z"
   },
   {
    "duration": 9706,
    "start_time": "2022-11-10T12:50:56.962Z"
   },
   {
    "duration": 79,
    "start_time": "2022-11-10T12:52:44.301Z"
   },
   {
    "duration": 509,
    "start_time": "2022-11-10T12:56:30.585Z"
   },
   {
    "duration": 965,
    "start_time": "2022-11-10T12:58:07.769Z"
   },
   {
    "duration": 69,
    "start_time": "2022-11-10T12:58:40.449Z"
   },
   {
    "duration": 73,
    "start_time": "2022-11-10T12:58:53.158Z"
   },
   {
    "duration": 90,
    "start_time": "2022-11-10T13:03:12.374Z"
   },
   {
    "duration": 562,
    "start_time": "2022-11-10T13:04:11.921Z"
   },
   {
    "duration": 14,
    "start_time": "2022-11-10T13:08:43.310Z"
   },
   {
    "duration": 318,
    "start_time": "2022-11-10T13:09:22.462Z"
   },
   {
    "duration": 13,
    "start_time": "2022-11-10T13:15:18.732Z"
   },
   {
    "duration": 653,
    "start_time": "2022-11-10T13:15:37.032Z"
   },
   {
    "duration": 764,
    "start_time": "2022-11-10T13:21:03.222Z"
   },
   {
    "duration": 1069,
    "start_time": "2022-11-10T13:23:14.085Z"
   },
   {
    "duration": 115004,
    "start_time": "2022-11-10T13:24:34.707Z"
   },
   {
    "duration": 33581,
    "start_time": "2022-11-10T13:26:47.065Z"
   },
   {
    "duration": 2009,
    "start_time": "2022-11-10T13:31:32.241Z"
   },
   {
    "duration": 20024,
    "start_time": "2022-11-10T13:32:33.487Z"
   },
   {
    "duration": 18175,
    "start_time": "2022-11-10T13:33:52.118Z"
   },
   {
    "duration": 472,
    "start_time": "2022-11-10T13:35:09.571Z"
   },
   {
    "duration": 4504,
    "start_time": "2022-11-10T13:37:19.234Z"
   },
   {
    "duration": 19,
    "start_time": "2022-11-10T13:38:36.568Z"
   },
   {
    "duration": 4982,
    "start_time": "2022-11-10T13:38:46.105Z"
   },
   {
    "duration": 70,
    "start_time": "2022-11-10T13:40:33.319Z"
   },
   {
    "duration": 88,
    "start_time": "2022-11-10T13:40:40.080Z"
   },
   {
    "duration": 1401,
    "start_time": "2022-11-10T13:43:30.810Z"
   },
   {
    "duration": 61,
    "start_time": "2022-11-10T13:43:32.213Z"
   },
   {
    "duration": 9,
    "start_time": "2022-11-10T13:43:32.275Z"
   },
   {
    "duration": 16,
    "start_time": "2022-11-10T13:43:32.285Z"
   },
   {
    "duration": 6,
    "start_time": "2022-11-10T13:43:32.304Z"
   },
   {
    "duration": 30,
    "start_time": "2022-11-10T13:43:32.311Z"
   },
   {
    "duration": 11,
    "start_time": "2022-11-10T13:43:32.343Z"
   },
   {
    "duration": 6,
    "start_time": "2022-11-10T13:43:32.356Z"
   },
   {
    "duration": 820,
    "start_time": "2022-11-10T13:43:32.363Z"
   },
   {
    "duration": 30098,
    "start_time": "2022-11-10T13:43:33.185Z"
   },
   {
    "duration": 10109,
    "start_time": "2022-11-10T13:44:03.285Z"
   },
   {
    "duration": 85,
    "start_time": "2022-11-10T13:44:13.396Z"
   },
   {
    "duration": 699,
    "start_time": "2022-11-10T13:44:13.483Z"
   },
   {
    "duration": 1004,
    "start_time": "2022-11-10T13:44:14.186Z"
   },
   {
    "duration": 508,
    "start_time": "2022-11-10T13:44:15.192Z"
   },
   {
    "duration": 104,
    "start_time": "2022-11-10T13:44:15.779Z"
   },
   {
    "duration": 302,
    "start_time": "2022-11-10T13:44:15.885Z"
   },
   {
    "duration": 105,
    "start_time": "2022-11-10T13:44:16.280Z"
   },
   {
    "duration": 796,
    "start_time": "2022-11-10T13:44:16.387Z"
   },
   {
    "duration": 1157,
    "start_time": "2022-11-10T13:44:17.185Z"
   }
  ],
  "kernelspec": {
   "display_name": "Python 3 (ipykernel)",
   "language": "python",
   "name": "python3"
  },
  "language_info": {
   "codemirror_mode": {
    "name": "ipython",
    "version": 3
   },
   "file_extension": ".py",
   "mimetype": "text/x-python",
   "name": "python",
   "nbconvert_exporter": "python",
   "pygments_lexer": "ipython3",
   "version": "3.9.5"
  },
  "toc": {
   "base_numbering": 1,
   "nav_menu": {},
   "number_sections": true,
   "sideBar": true,
   "skip_h1_title": true,
   "title_cell": "Содержание",
   "title_sidebar": "Contents",
   "toc_cell": true,
   "toc_position": {},
   "toc_section_display": true,
   "toc_window_display": true
  }
 },
 "nbformat": 4,
 "nbformat_minor": 2
}
